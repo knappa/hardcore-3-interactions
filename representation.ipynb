{
 "cells": [
  {
   "cell_type": "markdown",
   "metadata": {
    "deletable": true,
    "editable": true
   },
   "source": [
    "# Representations of \"Traid groups\" (hardcore 3-interaction orbifold groups)\n",
    "\n",
    "The 3 stranded Traid group:\n",
    "$$ \\mathcal{T}_3 = \\left< t_1, t_2 \\mid t_1^2 = t_2^2 = 1\\right>$$\n",
    "The symmetric group on 3 letters:\n",
    "$$ S_3 = \\left< t_1, t_2 \\mid t_1^2 = t_2^2 = (t_2 t_1)^3= 1\\right>$$\n",
    "Note that $S_3$ has exactly one more relation and it corresponds exactly to the triple point.\n",
    "\n",
    "We want to look for a representation of $\\mathcal{T}_3$ into $U(8)$. Here I'm thinking that each of the 3 particles comes with a spin which can be either up or down. That attaches a $\\mathbb{C}^2$ tensor factor to each of the strands/particles. Hence we are acting on $\\mathbb{C}^2\\otimes \\mathbb{C}^2 \\otimes \\mathbb{C}^2 \\cong \\mathbb{C}^8$.\n",
    "\n",
    "We'll want this to generalize to a higher stranded groups, so I'm thinking that the $t_i$ should correspond to matrices which are \"local\" in the sense that they only act non-trivially on the $i^{th}$ and $(i+1)^{st}$ $\\mathbb{C}^2$ tensor factors. This has the advantage that it will give us the $t_i,t_j$, $|i-j|>1$ commutation relation for free in the higher stranded groups $\\mathcal{T}_n$.\n",
    "\n",
    "I'll also make the assumption that, when restricted to \"their\" summands, $t_i, t_j$ should act in the _same way_. That seems realistic when we are considering particles of the same type. That means that\n",
    "$$ \\rho(t_1) = M \\otimes I_2$$\n",
    "and $$\\rho(t_2) = I_2 \\otimes M$$ for some $M \\in U(\\mathbb{C}^2\\otimes\\mathbb{C}^2)$. For $n$-particles:\n",
    "$$ \\rho(t_i) = \\underbrace{I_2 \\otimes \\cdots \\otimes I_2}_{i-1} \\otimes M \\otimes \\underbrace{I_2 \\otimes \\cdots \\otimes I_2}_{n-i-1}.$$\n"
   ]
  },
  {
   "cell_type": "markdown",
   "metadata": {
    "deletable": true,
    "editable": true
   },
   "source": [
    "## What kind of matrices are these: Hermitian Unitary matrices\n",
    "\n",
    "Any unitary matrix rep. $M$ will have $M M^\\dagger=1$. As $t_i^2=1$ for all $i$, we must also have $M^2=1$ so $M=M^\\dagger$ by uniqueness of inverses. i.e. $M$ is both unitary and Hermitian.\n",
    "\n",
    "Two facts:\n",
    "1. Unitary matrices have a complete set of eigenvectors and eigenvalues which lie in $U(1)$.\n",
    "2. Hermitian matrices have complete set of eigenvectors and eigenvalues which are real.\n",
    "So any such matrix has eigenvalues equal to $\\pm 1$.\n",
    "\n",
    "Thus $M$ is of the form $$M = P S P^{-1}$$ where $S$ is a diagonal matrix with non-zero entries equal to $\\pm1$ and we can assume $P \\in SU(4)$.\n",
    "\n",
    "If $S=\\pm I$ then so is $M$, so we should exclude the cases that there are one or four negative eigenvalues as they are boring. "
   ]
  },
  {
   "cell_type": "markdown",
   "metadata": {
    "deletable": true,
    "editable": true
   },
   "source": [
    "## A first try for $M$\n",
    "\n",
    "There are some obvious choices for $P$'s and $S$'s which give the trivial and symmetric group representations. We could have $M$ be simply the matrix which swaps tensor factors. For reference, that one is\n",
    "$$ \\left(\\begin{matrix}\n",
    "1 & 0 & 0 & 0 \\\\\n",
    "0 & 0 & 1 & 0 \\\\\n",
    "0 & 1 & 0 & 0 \\\\\n",
    "0 & 0 & 0 & 1\n",
    "\\end{matrix}\\right). $$\n",
    "That is, if $e_1,e_2$ and $f_1,f_2$ are bases for the $\\mathbb{C}^2$s, then interchanging the $\\mathbb{C}^2$ factors leaves $e_1\\otimes f_1$ and $e_2\\otimes f_2$ alone and swaps $e_1\\otimes f_2$ and $e_2\\otimes f_1$.\n",
    "\n",
    "This corresponds to $P$ equal to\n",
    "$$ \\left(\\begin{matrix}\n",
    " 0 & 1 & 0 & 0 \\\\\n",
    " 1 & 0 & 1 & 0 \\\\\n",
    "-1 & 0 & 1 & 0 \\\\\n",
    " 0 & 0 & 0 & 1\n",
    "\\end{matrix}\\right)$$ and $S$ equal to\n",
    "$$ \\left(\\begin{matrix}\n",
    "-1 & 0 & 0 & 0 \\\\\n",
    " 0 & 1 & 0 & 0 \\\\\n",
    " 0 & 0 & 1 & 0 \\\\\n",
    " 0 & 0 & 0 & 1\n",
    "\\end{matrix}\\right).$$\n",
    "\n",
    "#### Such an $M$ gives a trivial representation to $\\gamma=(t_2 t_1)^3$."
   ]
  },
  {
   "cell_type": "code",
   "execution_count": 1,
   "metadata": {
    "collapsed": true,
    "deletable": true,
    "editable": true
   },
   "outputs": [],
   "source": [
    "import itertools"
   ]
  },
  {
   "cell_type": "code",
   "execution_count": 2,
   "metadata": {
    "collapsed": false,
    "deletable": true,
    "editable": true
   },
   "outputs": [],
   "source": [
    "M = matrix([[1,0,0,0],[0,0,1,0],[0,1,0,0],[0,0,0,1]])\n",
    "\n",
    "t1 = M.tensor_product(identity_matrix(2))\n",
    "t2 = identity_matrix(2).tensor_product(M)"
   ]
  },
  {
   "cell_type": "code",
   "execution_count": 3,
   "metadata": {
    "collapsed": false,
    "deletable": true,
    "editable": true
   },
   "outputs": [
    {
     "name": "stdout",
     "output_type": "stream",
     "text": [
      "passed check - this is a representation\n"
     ]
    }
   ],
   "source": [
    "# verify that this is really a rep.\n",
    "assert t1.conjugate_transpose() == t1\n",
    "assert t2.conjugate_transpose() == t2\n",
    "assert t1^2 == identity_matrix(8)\n",
    "assert t2^2 == identity_matrix(8)\n",
    "print \"passed check - this is a representation\"\n"
   ]
  },
  {
   "cell_type": "code",
   "execution_count": 4,
   "metadata": {
    "collapsed": false,
    "deletable": true,
    "editable": true
   },
   "outputs": [
    {
     "name": "stdout",
     "output_type": "stream",
     "text": [
      "trivial rep on gamma\n"
     ]
    }
   ],
   "source": [
    "gamma = (t2*t1)^3\n",
    "\n",
    "if gamma == identity_matrix(8):\n",
    "    print \"trivial rep on gamma\""
   ]
  },
  {
   "cell_type": "markdown",
   "metadata": {
    "deletable": true,
    "editable": true
   },
   "source": [
    "## So.. what if the center get's one of the other Pauli matrices?"
   ]
  },
  {
   "cell_type": "code",
   "execution_count": 11,
   "metadata": {
    "collapsed": true,
    "deletable": true,
    "editable": true
   },
   "outputs": [],
   "source": [
    "M = identity_matrix(1).block_sum(matrix([[0,i],[-i,0]])).block_sum(identity_matrix(1))\n",
    "\n",
    "t1 = M.tensor_product(identity_matrix(2))\n",
    "t2 = identity_matrix(2).tensor_product(M)"
   ]
  },
  {
   "cell_type": "code",
   "execution_count": 12,
   "metadata": {
    "collapsed": false,
    "deletable": true,
    "editable": true
   },
   "outputs": [
    {
     "name": "stdout",
     "output_type": "stream",
     "text": [
      "passed check - this is a representation\n"
     ]
    }
   ],
   "source": [
    "# verify that this is really a rep.\n",
    "assert t1.conjugate_transpose() == t1\n",
    "assert t2.conjugate_transpose() == t2\n",
    "assert t1^2 == identity_matrix(8)\n",
    "assert t2^2 == identity_matrix(8)\n",
    "print \"passed check - this is a representation\""
   ]
  },
  {
   "cell_type": "code",
   "execution_count": 14,
   "metadata": {
    "collapsed": false,
    "deletable": true,
    "editable": true
   },
   "outputs": [
    {
     "data": {
      "text/html": [
       "<html><script type=\"math/tex; mode=display\">\\newcommand{\\Bold}[1]{\\mathbf{#1}}\\left(\\begin{array}{rrrrrrrr}\n",
       "1 & 0 & 0 & 0 & 0 & 0 & 0 & 0 \\\\\n",
       "0 & 1 & 0 & 0 & 0 & 0 & 0 & 0 \\\\\n",
       "0 & 0 & 1 & 0 & 0 & 0 & 0 & 0 \\\\\n",
       "0 & 0 & 0 & 1 & 0 & 0 & 0 & 0 \\\\\n",
       "0 & 0 & 0 & 0 & 1 & 0 & 0 & 0 \\\\\n",
       "0 & 0 & 0 & 0 & 0 & 1 & 0 & 0 \\\\\n",
       "0 & 0 & 0 & 0 & 0 & 0 & 1 & 0 \\\\\n",
       "0 & 0 & 0 & 0 & 0 & 0 & 0 & 1\n",
       "\\end{array}\\right)</script></html>"
      ],
      "text/plain": [
       "[1 0 0 0 0 0 0 0]\n",
       "[0 1 0 0 0 0 0 0]\n",
       "[0 0 1 0 0 0 0 0]\n",
       "[0 0 0 1 0 0 0 0]\n",
       "[0 0 0 0 1 0 0 0]\n",
       "[0 0 0 0 0 1 0 0]\n",
       "[0 0 0 0 0 0 1 0]\n",
       "[0 0 0 0 0 0 0 1]"
      ]
     },
     "metadata": {},
     "output_type": "display_data"
    },
    {
     "name": "stdout",
     "output_type": "stream",
     "text": [
      "trivial rep on gamma\n"
     ]
    }
   ],
   "source": [
    "gamma = (t2*t1)^3\n",
    "\n",
    "if gamma == identity_matrix(8):\n",
    "    print \"trivial rep on gamma\""
   ]
  },
  {
   "cell_type": "markdown",
   "metadata": {
    "deletable": true,
    "editable": true
   },
   "source": [
    "### Nope, not that one. Try the other one"
   ]
  },
  {
   "cell_type": "code",
   "execution_count": 16,
   "metadata": {
    "collapsed": true,
    "deletable": true,
    "editable": true
   },
   "outputs": [],
   "source": [
    "M = identity_matrix(1).block_sum(matrix([[1,0],[0,-1]])).block_sum(identity_matrix(1))\n",
    "\n",
    "t1 = M.tensor_product(identity_matrix(2))\n",
    "t2 = identity_matrix(2).tensor_product(M)"
   ]
  },
  {
   "cell_type": "code",
   "execution_count": 17,
   "metadata": {
    "collapsed": false,
    "deletable": true,
    "editable": true
   },
   "outputs": [
    {
     "name": "stdout",
     "output_type": "stream",
     "text": [
      "passed check - this is a representation\n"
     ]
    }
   ],
   "source": [
    "# verify that this is really a rep.\n",
    "assert t1.conjugate_transpose() == t1\n",
    "assert t2.conjugate_transpose() == t2\n",
    "assert t1^2 == identity_matrix(8)\n",
    "assert t2^2 == identity_matrix(8)\n",
    "print \"passed check - this is a representation\""
   ]
  },
  {
   "cell_type": "code",
   "execution_count": 18,
   "metadata": {
    "collapsed": true,
    "deletable": true,
    "editable": true
   },
   "outputs": [],
   "source": [
    "gamma = (t2*t1)^3\n",
    "\n",
    "if gamma == identity_matrix(8):\n",
    "    print \"trivial rep on gamma\""
   ]
  },
  {
   "cell_type": "code",
   "execution_count": 19,
   "metadata": {
    "collapsed": false,
    "deletable": true,
    "editable": true
   },
   "outputs": [
    {
     "data": {
      "text/plain": [
       "[ 1  0  0  0  0  0  0  0]\n",
       "[ 0  1  0  0  0  0  0  0]\n",
       "[ 0  0 -1  0  0  0  0  0]\n",
       "[ 0  0  0  1  0  0  0  0]\n",
       "[ 0  0  0  0 -1  0  0  0]\n",
       "[ 0  0  0  0  0 -1  0  0]\n",
       "[ 0  0  0  0  0  0 -1  0]\n",
       "[ 0  0  0  0  0  0  0  1]"
      ]
     },
     "execution_count": 19,
     "metadata": {},
     "output_type": "execute_result"
    }
   ],
   "source": [
    "gamma"
   ]
  },
  {
   "cell_type": "code",
   "execution_count": 21,
   "metadata": {
    "collapsed": false,
    "deletable": true,
    "editable": true
   },
   "outputs": [
    {
     "data": {
      "text/plain": [
       "[ 1  0  0  0| 0  0  0  0]\n",
       "[ 0  1  0  0| 0  0  0  0]\n",
       "[ 0  0 -1  0| 0  0  0  0]\n",
       "[ 0  0  0  1| 0  0  0  0]\n",
       "[-----------+-----------]\n",
       "[ 0  0  0  0| 1  0  0  0]\n",
       "[ 0  0  0  0| 0  1  0  0]\n",
       "[ 0  0  0  0| 0  0 -1  0]\n",
       "[ 0  0  0  0| 0  0  0  1]"
      ]
     },
     "execution_count": 21,
     "metadata": {},
     "output_type": "execute_result"
    }
   ],
   "source": [
    "t2"
   ]
  },
  {
   "cell_type": "markdown",
   "metadata": {
    "deletable": true,
    "editable": true
   },
   "source": [
    "## Let's add a twist\n",
    "\n",
    "If we conjugate the swap matrix by an element of the form $I_2 \\otimes H$ or $H \\otimes I_2$ for $H\\in SU(2)$, then we simply get that action passed forward through that tensor factor. So let's conjugate the swap matrix by something which fiddles around with the mixed states. i.e. the middle two coordinates. \n",
    "\n",
    "This corresponds to conjugating the swap matrix by something of the form $I_1 \\otimes H \\otimes I_1$. Since the swap map is a reflection about the 45 degree diagonal, so this new map will be reflection about some other line."
   ]
  },
  {
   "cell_type": "code",
   "execution_count": 9,
   "metadata": {
    "collapsed": false,
    "deletable": true,
    "editable": true
   },
   "outputs": [
    {
     "name": "stdout",
     "output_type": "stream",
     "text": [
      "passed check - this is a representation\n"
     ]
    }
   ],
   "source": [
    "# verify that this is really a rep.\n",
    "assert t1.conjugate_transpose() == t1\n",
    "assert t2.conjugate_transpose() == t2\n",
    "assert t1*t1.conjugate_transpose() == identity_matrix(8)\n",
    "assert t2*t2.conjugate_transpose() == identity_matrix(8)\n",
    "assert t1^2 == identity_matrix(8)\n",
    "assert t2^2 == identity_matrix(8)\n",
    "print \"passed check - this is a representation\""
   ]
  },
  {
   "cell_type": "code",
   "execution_count": 10,
   "metadata": {
    "collapsed": false,
    "deletable": true,
    "editable": true
   },
   "outputs": [],
   "source": [
    "# gamma is the triple-point generator \n",
    "\n",
    "gamma = ((t2*t1)^3).simplify_full()\n",
    "\n",
    "# make it a function\n",
    "gamma_f = matrix([[element.function(theta) for element in row] for row in gamma])"
   ]
  },
  {
   "cell_type": "code",
   "execution_count": 11,
   "metadata": {
    "collapsed": false,
    "deletable": true,
    "editable": true
   },
   "outputs": [
    {
     "name": "stdout",
     "output_type": "stream",
     "text": [
      "passed double check\n"
     ]
    }
   ],
   "source": [
    "assert (gamma*gamma.conjugate_transpose()).simplify_full() == identity_matrix(8)\n",
    "print \"passed double check\""
   ]
  },
  {
   "cell_type": "code",
   "execution_count": null,
   "metadata": {
    "collapsed": true,
    "deletable": true,
    "editable": true
   },
   "outputs": [],
   "source": []
  },
  {
   "cell_type": "code",
   "execution_count": null,
   "metadata": {
    "collapsed": true,
    "deletable": true,
    "editable": true
   },
   "outputs": [],
   "source": []
  },
  {
   "cell_type": "code",
   "execution_count": null,
   "metadata": {
    "collapsed": true,
    "deletable": true,
    "editable": true
   },
   "outputs": [],
   "source": []
  },
  {
   "cell_type": "code",
   "execution_count": 1,
   "metadata": {
    "collapsed": false,
    "deletable": true,
    "editable": true
   },
   "outputs": [],
   "source": [
    "var('xi_1,xi_2,eta')\n",
    "assume(xi_1,'real')\n",
    "assume(xi_2,'real')\n",
    "assume(eta,'real')"
   ]
  },
  {
   "cell_type": "code",
   "execution_count": 2,
   "metadata": {
    "collapsed": false,
    "deletable": true,
    "editable": true
   },
   "outputs": [
    {
     "data": {
      "text/html": [
       "<html><script type=\"math/tex; mode=display\">\\newcommand{\\Bold}[1]{\\mathbf{#1}}\\left(\\begin{array}{rr}\n",
       "e^{\\left(i \\, \\xi_{1}\\right)} \\sin\\left(\\eta\\right) & -\\cos\\left(\\eta\\right) e^{\\left(-i \\, \\xi_{2}\\right)} \\\\\n",
       "\\cos\\left(\\eta\\right) e^{\\left(i \\, \\xi_{2}\\right)} & e^{\\left(-i \\, \\xi_{1}\\right)} \\sin\\left(\\eta\\right)\n",
       "\\end{array}\\right)</script></html>"
      ],
      "text/plain": [
       "[  e^(I*xi_1)*sin(eta) -cos(eta)*e^(-I*xi_2)]\n",
       "[  cos(eta)*e^(I*xi_2)  e^(-I*xi_1)*sin(eta)]"
      ]
     },
     "metadata": {},
     "output_type": "display_data"
    }
   ],
   "source": [
    "P = matrix([[exp(i*xi_1)*sin(eta),-exp(-i*xi_2)*cos(eta)],[exp(i*xi_2)*cos(eta),exp(-i*xi_1)*sin(eta)]])\n",
    "\n",
    "pretty_print( P )"
   ]
  },
  {
   "cell_type": "code",
   "execution_count": 3,
   "metadata": {
    "collapsed": false,
    "deletable": true,
    "editable": true
   },
   "outputs": [
    {
     "data": {
      "text/plain": [
       "[1 0]\n",
       "[0 1]"
      ]
     },
     "execution_count": 3,
     "metadata": {},
     "output_type": "execute_result"
    }
   ],
   "source": [
    "(P*P.conjugate_transpose()).simplify_full()"
   ]
  },
  {
   "cell_type": "code",
   "execution_count": 4,
   "metadata": {
    "collapsed": false,
    "deletable": true,
    "editable": true
   },
   "outputs": [
    {
     "data": {
      "text/html": [
       "<html><script type=\"math/tex; mode=display\">\\newcommand{\\Bold}[1]{\\mathbf{#1}}\\left(\\begin{array}{rr}\n",
       "\\cos\\left(\\eta\\right)^{2} - \\sin\\left(\\eta\\right)^{2} & -2 \\, \\cos\\left(\\eta\\right) e^{\\left(i \\, \\xi_{1} - i \\, \\xi_{2}\\right)} \\sin\\left(\\eta\\right) \\\\\n",
       "-2 \\, \\cos\\left(\\eta\\right) e^{\\left(-i \\, \\xi_{1} + i \\, \\xi_{2}\\right)} \\sin\\left(\\eta\\right) & -\\cos\\left(\\eta\\right)^{2} + \\sin\\left(\\eta\\right)^{2}\n",
       "\\end{array}\\right)</script></html>"
      ],
      "text/plain": [
       "[                  cos(eta)^2 - sin(eta)^2  -2*cos(eta)*e^(I*xi_1 - I*xi_2)*sin(eta)]\n",
       "[-2*cos(eta)*e^(-I*xi_1 + I*xi_2)*sin(eta)                  -cos(eta)^2 + sin(eta)^2]"
      ]
     },
     "metadata": {},
     "output_type": "display_data"
    }
   ],
   "source": [
    "H = P*diagonal_matrix([-1,1])*P.conjugate_transpose()\n",
    "pretty_print(H)"
   ]
  },
  {
   "cell_type": "code",
   "execution_count": 5,
   "metadata": {
    "collapsed": false,
    "deletable": true,
    "editable": true
   },
   "outputs": [
    {
     "data": {
      "text/html": [
       "<html><script type=\"math/tex; mode=display\">\\newcommand{\\Bold}[1]{\\mathbf{#1}}\\left(\\begin{array}{rrr}\n",
       "\\cos\\left(\\eta\\right)^{2} - \\sin\\left(\\eta\\right)^{2} & -2 \\, \\cos\\left(\\eta\\right) e^{\\left(i \\, \\xi_{1} - i \\, \\xi_{2}\\right)} \\sin\\left(\\eta\\right) & 0 \\\\\n",
       "-2 \\, \\cos\\left(\\eta\\right) e^{\\left(-i \\, \\xi_{1} + i \\, \\xi_{2}\\right)} \\sin\\left(\\eta\\right) & -\\cos\\left(\\eta\\right)^{2} + \\sin\\left(\\eta\\right)^{2} & 0 \\\\\n",
       "0 & 0 & 1\n",
       "\\end{array}\\right)</script></html>"
      ],
      "text/plain": [
       "[                  cos(eta)^2 - sin(eta)^2  -2*cos(eta)*e^(I*xi_1 - I*xi_2)*sin(eta)                                         0]\n",
       "[-2*cos(eta)*e^(-I*xi_1 + I*xi_2)*sin(eta)                  -cos(eta)^2 + sin(eta)^2                                         0]\n",
       "[                                        0                                         0                                         1]"
      ]
     },
     "metadata": {},
     "output_type": "display_data"
    },
    {
     "data": {
      "text/html": [
       "<html><script type=\"math/tex; mode=display\">\\newcommand{\\Bold}[1]{\\mathbf{#1}}\\left(\\begin{array}{rrr}\n",
       "1 & 0 & 0 \\\\\n",
       "0 & \\cos\\left(\\eta\\right)^{2} - \\sin\\left(\\eta\\right)^{2} & -2 \\, \\cos\\left(\\eta\\right) e^{\\left(i \\, \\xi_{1} - i \\, \\xi_{2}\\right)} \\sin\\left(\\eta\\right) \\\\\n",
       "0 & -2 \\, \\cos\\left(\\eta\\right) e^{\\left(-i \\, \\xi_{1} + i \\, \\xi_{2}\\right)} \\sin\\left(\\eta\\right) & -\\cos\\left(\\eta\\right)^{2} + \\sin\\left(\\eta\\right)^{2}\n",
       "\\end{array}\\right)</script></html>"
      ],
      "text/plain": [
       "[                                        1                                         0                                         0]\n",
       "[                                        0                   cos(eta)^2 - sin(eta)^2  -2*cos(eta)*e^(I*xi_1 - I*xi_2)*sin(eta)]\n",
       "[                                        0 -2*cos(eta)*e^(-I*xi_1 + I*xi_2)*sin(eta)                  -cos(eta)^2 + sin(eta)^2]"
      ]
     },
     "metadata": {},
     "output_type": "display_data"
    }
   ],
   "source": [
    "t1 = H.block_sum(identity_matrix(1))\n",
    "t2 = identity_matrix(1).block_sum(H)\n",
    "\n",
    "pretty_print(t1)\n",
    "pretty_print(t2)"
   ]
  },
  {
   "cell_type": "code",
   "execution_count": 6,
   "metadata": {
    "collapsed": false,
    "deletable": true,
    "editable": true
   },
   "outputs": [
    {
     "data": {
      "text/html": [
       "<html><script type=\"math/tex; mode=display\">\\newcommand{\\Bold}[1]{\\mathbf{#1}}\\left(1,\\,-\\frac{e^{\\left(-i \\, \\xi_{1} + i \\, \\xi_{2}\\right)} \\sin\\left(\\eta\\right)}{\\cos\\left(\\eta\\right)},\\,\\frac{e^{\\left(-2 i \\, \\xi_{1} + 2 i \\, \\xi_{2}\\right)} \\sin\\left(\\eta\\right)^{2}}{\\cos\\left(\\eta\\right)^{2}}\\right)</script></html>"
      ],
      "text/plain": [
       "(1, -e^(-I*xi_1 + I*xi_2)*sin(eta)/cos(eta), e^(-2*I*xi_1 + 2*I*xi_2)*sin(eta)^2/cos(eta)^2)"
      ]
     },
     "metadata": {},
     "output_type": "display_data"
    }
   ],
   "source": [
    "Q = matrix([[exp(i*xi_1)*sin(eta), exp(i*xi_2)*cos(eta),                    0],\n",
    "            [                   0, exp(i*xi_1)*sin(eta), exp(i*xi_2)*cos(eta)]])\n",
    "\n",
    "e3 = Q.right_kernel().basis()[0].conjugate()\n",
    "#e3 = e3/e3.norm()\n",
    "\n",
    "pretty_print(e3)"
   ]
  },
  {
   "cell_type": "code",
   "execution_count": 7,
   "metadata": {
    "collapsed": false,
    "deletable": true,
    "editable": true
   },
   "outputs": [
    {
     "data": {
      "text/html": [
       "<html><script type=\"math/tex; mode=display\">\\newcommand{\\Bold}[1]{\\mathbf{#1}}\\frac{\\cos\\left(\\eta\\right)^{4} - \\cos\\left(\\eta\\right)^{2} + 1}{\\cos\\left(\\eta\\right)^{4}}</script></html>"
      ],
      "text/plain": [
       "(cos(eta)^4 - cos(eta)^2 + 1)/cos(eta)^4"
      ]
     },
     "metadata": {},
     "output_type": "display_data"
    }
   ],
   "source": [
    "pretty_print( (e3*e3.conjugate()).simplify_full() )"
   ]
  },
  {
   "cell_type": "code",
   "execution_count": 8,
   "metadata": {
    "collapsed": false,
    "deletable": true,
    "editable": true
   },
   "outputs": [
    {
     "data": {
      "text/html": [
       "<html><script type=\"math/tex; mode=display\">\\newcommand{\\Bold}[1]{\\mathbf{#1}}\\frac{\\cos\\left(\\eta\\right)^{4} - \\cos\\left(\\eta\\right)^{2} + 1}{\\cos\\left(\\eta\\right)^{2} \\sin\\left(\\eta\\right)^{4}}</script></html>"
      ],
      "text/plain": [
       "(cos(eta)^4 - cos(eta)^2 + 1)/(cos(eta)^2*sin(eta)^4)"
      ]
     },
     "metadata": {},
     "output_type": "display_data"
    }
   ],
   "source": [
    "e1 = vector([exp(i*xi_1)*sin(eta), exp(i*xi_2)*cos(eta), 0])\n",
    "\n",
    "Q2 = matrix([e1,e3])\n",
    "\n",
    "e2 = ( Q2.right_kernel().basis()[0].conjugate() ).simplify_full()\n",
    "\n",
    "pretty_print( (e2*e2.conjugate()).expand().simplify_full() )"
   ]
  },
  {
   "cell_type": "code",
   "execution_count": 9,
   "metadata": {
    "collapsed": false,
    "deletable": true,
    "editable": true
   },
   "outputs": [
    {
     "name": "stdout",
     "output_type": "stream",
     "text": [
      "0\n",
      "0\n",
      "0\n",
      "1\n",
      "(cos(eta)^4 - cos(eta)^2 + 1)/(cos(eta)^2*sin(eta)^4)\n",
      "(cos(eta)^4 - cos(eta)^2 + 1)/cos(eta)^4\n"
     ]
    }
   ],
   "source": [
    "print( (e1*e2.conjugate()).simplify_full() )\n",
    "print( (e1*e3.conjugate()).simplify_full() )\n",
    "print( (e2*e3.conjugate()).simplify_full() )\n",
    "\n",
    "print( (e1*e1.conjugate()).simplify_full() )\n",
    "print( (e2*e2.conjugate()).simplify_full() )\n",
    "print( (e3*e3.conjugate()).simplify_full() )"
   ]
  },
  {
   "cell_type": "code",
   "execution_count": 10,
   "metadata": {
    "collapsed": false,
    "deletable": true,
    "editable": true
   },
   "outputs": [],
   "source": [
    "e2 = e2/e2.norm()"
   ]
  },
  {
   "cell_type": "code",
   "execution_count": 11,
   "metadata": {
    "collapsed": false,
    "deletable": true,
    "editable": true
   },
   "outputs": [
    {
     "data": {
      "text/html": [
       "<html><script type=\"math/tex; mode=display\">\\newcommand{\\Bold}[1]{\\mathbf{#1}}\\left(\\begin{array}{rrr}\n",
       "e^{\\left(i \\, \\xi_{1}\\right)} \\sin\\left(\\eta\\right) & \\frac{e^{\\left(-i \\, \\xi_{2}\\right)}}{\\sqrt{{\\left| \\frac{e^{\\left(-i \\, \\xi_{1} + i \\, \\xi_{2}\\right)} \\sin\\left(\\eta\\right)}{\\cos\\left(\\eta\\right)} \\right|}^{2} + {\\left| \\frac{e^{\\left(-2 i \\, \\xi_{1} + 2 i \\, \\xi_{2}\\right)}}{\\sin\\left(\\eta\\right)^{2}} \\right|}^{2} + 1}} & \\frac{e^{\\left(2 i \\, \\xi_{1} - 2 i \\, \\xi_{2}\\right)}}{\\sqrt{{\\left| \\frac{e^{\\left(-i \\, \\xi_{1} + i \\, \\xi_{2}\\right)} \\sin\\left(\\eta\\right)}{\\cos\\left(\\eta\\right)} \\right|}^{2} + {\\left| \\frac{e^{\\left(-2 i \\, \\xi_{1} + 2 i \\, \\xi_{2}\\right)} \\sin\\left(\\eta\\right)^{2}}{\\cos\\left(\\eta\\right)^{2}} \\right|}^{2} + 1}} \\\\\n",
       "\\cos\\left(\\eta\\right) e^{\\left(i \\, \\xi_{2}\\right)} & -\\frac{e^{\\left(-i \\, \\xi_{1}\\right)} \\sin\\left(\\eta\\right)}{\\sqrt{{\\left| \\frac{e^{\\left(-i \\, \\xi_{1} + i \\, \\xi_{2}\\right)} \\sin\\left(\\eta\\right)}{\\cos\\left(\\eta\\right)} \\right|}^{2} + {\\left| \\frac{e^{\\left(-2 i \\, \\xi_{1} + 2 i \\, \\xi_{2}\\right)}}{\\sin\\left(\\eta\\right)^{2}} \\right|}^{2} + 1} \\cos\\left(\\eta\\right)} & -\\frac{e^{\\left(i \\, \\xi_{1} - i \\, \\xi_{2}\\right)} \\sin\\left(\\eta\\right)}{\\sqrt{{\\left| \\frac{e^{\\left(-i \\, \\xi_{1} + i \\, \\xi_{2}\\right)} \\sin\\left(\\eta\\right)}{\\cos\\left(\\eta\\right)} \\right|}^{2} + {\\left| \\frac{e^{\\left(-2 i \\, \\xi_{1} + 2 i \\, \\xi_{2}\\right)} \\sin\\left(\\eta\\right)^{2}}{\\cos\\left(\\eta\\right)^{2}} \\right|}^{2} + 1} \\cos\\left(\\eta\\right)} \\\\\n",
       "0 & -\\frac{e^{\\left(-2 i \\, \\xi_{1} + i \\, \\xi_{2}\\right)}}{\\sqrt{{\\left| \\frac{e^{\\left(-i \\, \\xi_{1} + i \\, \\xi_{2}\\right)} \\sin\\left(\\eta\\right)}{\\cos\\left(\\eta\\right)} \\right|}^{2} + {\\left| \\frac{e^{\\left(-2 i \\, \\xi_{1} + 2 i \\, \\xi_{2}\\right)}}{\\sin\\left(\\eta\\right)^{2}} \\right|}^{2} + 1} \\sin\\left(\\eta\\right)^{2}} & \\frac{\\sin\\left(\\eta\\right)^{2}}{\\sqrt{{\\left| \\frac{e^{\\left(-i \\, \\xi_{1} + i \\, \\xi_{2}\\right)} \\sin\\left(\\eta\\right)}{\\cos\\left(\\eta\\right)} \\right|}^{2} + {\\left| \\frac{e^{\\left(-2 i \\, \\xi_{1} + 2 i \\, \\xi_{2}\\right)} \\sin\\left(\\eta\\right)^{2}}{\\cos\\left(\\eta\\right)^{2}} \\right|}^{2} + 1} \\cos\\left(\\eta\\right)^{2}}\n",
       "\\end{array}\\right)</script></html>"
      ],
      "text/plain": [
       "[                                                                                                                                     e^(I*xi_1)*sin(eta)                                         e^(-I*xi_2)/sqrt(abs(e^(-I*xi_1 + I*xi_2)*sin(eta)/cos(eta))^2 + abs(e^(-2*I*xi_1 + 2*I*xi_2)/sin(eta)^2)^2 + 1)                  e^(2*I*xi_1 - 2*I*xi_2)/sqrt(abs(e^(-I*xi_1 + I*xi_2)*sin(eta)/cos(eta))^2 + abs(e^(-2*I*xi_1 + 2*I*xi_2)*sin(eta)^2/cos(eta)^2)^2 + 1)]\n",
       "[                                                                                                                                     cos(eta)*e^(I*xi_2)                    -e^(-I*xi_1)*sin(eta)/(sqrt(abs(e^(-I*xi_1 + I*xi_2)*sin(eta)/cos(eta))^2 + abs(e^(-2*I*xi_1 + 2*I*xi_2)/sin(eta)^2)^2 + 1)*cos(eta)) -e^(I*xi_1 - I*xi_2)*sin(eta)/(sqrt(abs(e^(-I*xi_1 + I*xi_2)*sin(eta)/cos(eta))^2 + abs(e^(-2*I*xi_1 + 2*I*xi_2)*sin(eta)^2/cos(eta)^2)^2 + 1)*cos(eta))]\n",
       "[                                                                                                                                                       0                -e^(-2*I*xi_1 + I*xi_2)/(sqrt(abs(e^(-I*xi_1 + I*xi_2)*sin(eta)/cos(eta))^2 + abs(e^(-2*I*xi_1 + 2*I*xi_2)/sin(eta)^2)^2 + 1)*sin(eta)^2)                  sin(eta)^2/(sqrt(abs(e^(-I*xi_1 + I*xi_2)*sin(eta)/cos(eta))^2 + abs(e^(-2*I*xi_1 + 2*I*xi_2)*sin(eta)^2/cos(eta)^2)^2 + 1)*cos(eta)^2)]"
      ]
     },
     "metadata": {},
     "output_type": "display_data"
    }
   ],
   "source": [
    "Q = matrix([e1,e2*exp(-i*xi_2),e3/e3.norm()*exp(-2*i*(xi_2-xi_1))]).transpose()\n",
    "\n",
    "pretty_print(Q)"
   ]
  },
  {
   "cell_type": "markdown",
   "metadata": {},
   "source": [
    "The change of basis matrix $Q$ is in $SU(3)$. (or maybe $-1*SU(3)$) That's not obvious, sage can't automatically simplify the determinant. You can, however, simplify that mess by hand to see that you get $\\pm1$. A graph is included as a double check."
   ]
  },
  {
   "cell_type": "code",
   "execution_count": 12,
   "metadata": {
    "collapsed": false,
    "deletable": true,
    "editable": true
   },
   "outputs": [
    {
     "name": "stdout",
     "output_type": "stream",
     "text": [
      "[1 0 0]\n",
      "[0 1 0]\n",
      "[0 0 1]\n"
     ]
    },
    {
     "data": {
      "text/html": [
       "<html><script type=\"math/tex; mode=display\">\\newcommand{\\Bold}[1]{\\mathbf{#1}}-\\frac{\\cos\\left(\\eta\\right)^{4} - \\cos\\left(\\eta\\right)^{2} + 1}{\\sqrt{\\frac{\\cos\\left(\\eta\\right)^{4} + \\cos\\left(\\eta\\right)^{2} \\sin\\left(\\eta\\right)^{2} + \\sin\\left(\\eta\\right)^{4}}{\\cos\\left(\\eta\\right)^{4}}} \\sqrt{\\frac{\\cos\\left(\\eta\\right)^{2} \\sin\\left(\\eta\\right)^{4} + \\sin\\left(\\eta\\right)^{6} + \\cos\\left(\\eta\\right)^{2}}{\\cos\\left(\\eta\\right)^{2} \\sin\\left(\\eta\\right)^{4}}} \\cos\\left(\\eta\\right)^{3} \\sin\\left(\\eta\\right)^{2}}</script></html>"
      ],
      "text/plain": [
       "-(cos(eta)^4 - cos(eta)^2 + 1)/(sqrt((cos(eta)^4 + cos(eta)^2*sin(eta)^2 + sin(eta)^4)/cos(eta)^4)*sqrt((cos(eta)^2*sin(eta)^4 + sin(eta)^6 + cos(eta)^2)/(cos(eta)^2*sin(eta)^4))*cos(eta)^3*sin(eta)^2)"
      ]
     },
     "metadata": {},
     "output_type": "display_data"
    },
    {
     "data": {
      "image/png": "[encoded data removed]",
      "text/plain": [
       "Graphics object consisting of 1 graphics primitive"
      ]
     },
     "execution_count": 12,
     "metadata": {},
     "output_type": "execute_result"
    }
   ],
   "source": [
    "print (Q*Q.conjugate_transpose()).simplify_full()\n",
    "\n",
    "pretty_print( det(Q).simplify_full() )\n",
    "\n",
    "plot( det(Q).simplify_full()(eta=x), (x,0,2*pi), figsize=4)"
   ]
  },
  {
   "cell_type": "code",
   "execution_count": 13,
   "metadata": {
    "collapsed": false,
    "deletable": true,
    "editable": true
   },
   "outputs": [
    {
     "data": {
      "text/html": [
       "<html><script type=\"math/tex; mode=display\">\\newcommand{\\Bold}[1]{\\mathbf{#1}}\\left(\\begin{array}{rrr}\n",
       "-1 & 0 & 0 \\\\\n",
       "0 & 1 & 0 \\\\\n",
       "0 & 0 & 1\n",
       "\\end{array}\\right)</script></html>"
      ],
      "text/plain": [
       "[-1  0  0]\n",
       "[ 0  1  0]\n",
       "[ 0  0  1]"
      ]
     },
     "metadata": {},
     "output_type": "display_data"
    },
    {
     "data": {
      "text/html": [
       "<html><script type=\"math/tex; mode=display\">\\newcommand{\\Bold}[1]{\\mathbf{#1}}\\left(\\begin{array}{rr}\n",
       "-1 & 0 \\\\\n",
       "0 & 1\n",
       "\\end{array}\\right)</script></html>"
      ],
      "text/plain": [
       "[-1  0]\n",
       "[ 0  1]"
      ]
     },
     "metadata": {},
     "output_type": "display_data"
    }
   ],
   "source": [
    "t1_bf = (Q.conjugate_transpose() * t1 * Q).simplify_full()\n",
    "\n",
    "pretty_print( t1_bf )\n",
    "\n",
    "t1_b = t1_bf.submatrix(0,0,2,2)\n",
    "\n",
    "pretty_print( t1_b )"
   ]
  },
  {
   "cell_type": "code",
   "execution_count": 20,
   "metadata": {
    "collapsed": false,
    "deletable": true,
    "editable": true
   },
   "outputs": [
    {
     "data": {
      "text/html": [
       "<html><script type=\"math/tex; mode=display\">\\newcommand{\\Bold}[1]{\\mathbf{#1}}\\left(\\begin{array}{rrr}\n",
       "2 \\, \\cos\\left(\\eta\\right)^{4} - 2 \\, \\cos\\left(\\eta\\right)^{2} + 1 & \\frac{2 \\, {\\left(\\cos\\left(\\eta\\right)^{4} - \\cos\\left(\\eta\\right)^{2} + 1\\right)} e^{\\left(-i \\, \\xi_{1} - i \\, \\xi_{2}\\right)}}{\\sqrt{\\frac{\\cos\\left(\\eta\\right)^{2} \\sin\\left(\\eta\\right)^{4} + \\sin\\left(\\eta\\right)^{6} + \\cos\\left(\\eta\\right)^{2}}{\\cos\\left(\\eta\\right)^{2} \\sin\\left(\\eta\\right)^{4}}} \\sin\\left(\\eta\\right)} & 0 \\\\\n",
       "\\frac{2 \\, {\\left(\\cos\\left(\\eta\\right)^{4} - \\cos\\left(\\eta\\right)^{2} + 1\\right)} e^{\\left(i \\, \\xi_{1} + i \\, \\xi_{2}\\right)}}{\\sqrt{\\frac{\\cos\\left(\\eta\\right)^{2} \\sin\\left(\\eta\\right)^{4} + \\sin\\left(\\eta\\right)^{6} + \\cos\\left(\\eta\\right)^{2}}{\\cos\\left(\\eta\\right)^{2} \\sin\\left(\\eta\\right)^{4}}} \\sin\\left(\\eta\\right)} & -2 \\, \\cos\\left(\\eta\\right)^{4} + 2 \\, \\cos\\left(\\eta\\right)^{2} - 1 & 0 \\\\\n",
       "0 & 0 & 1\n",
       "\\end{array}\\right)</script></html>"
      ],
      "text/plain": [
       "[                                                                                                                2*cos(eta)^4 - 2*cos(eta)^2 + 1 2*(cos(eta)^4 - cos(eta)^2 + 1)*e^(-I*xi_1 - I*xi_2)/(sqrt((cos(eta)^2*sin(eta)^4 + sin(eta)^6 + cos(eta)^2)/(cos(eta)^2*sin(eta)^4))*sin(eta))                                                                                                                                               0]\n",
       "[ 2*(cos(eta)^4 - cos(eta)^2 + 1)*e^(I*xi_1 + I*xi_2)/(sqrt((cos(eta)^2*sin(eta)^4 + sin(eta)^6 + cos(eta)^2)/(cos(eta)^2*sin(eta)^4))*sin(eta))                                                                                                                -2*cos(eta)^4 + 2*cos(eta)^2 - 1                                                                                                                                               0]\n",
       "[                                                                                                                                              0                                                                                                                                               0                                                                                                                                               1]"
      ]
     },
     "metadata": {},
     "output_type": "display_data"
    },
    {
     "data": {
      "text/html": [
       "<html><script type=\"math/tex; mode=display\">\\newcommand{\\Bold}[1]{\\mathbf{#1}}\\left(\\begin{array}{rr}\n",
       "2 \\, \\cos\\left(\\eta\\right)^{4} - 2 \\, \\cos\\left(\\eta\\right)^{2} + 1 & \\frac{2 \\, {\\left(\\cos\\left(\\eta\\right)^{4} - \\cos\\left(\\eta\\right)^{2} + 1\\right)} e^{\\left(-i \\, \\xi_{1} - i \\, \\xi_{2}\\right)}}{\\sqrt{\\frac{\\cos\\left(\\eta\\right)^{2} \\sin\\left(\\eta\\right)^{4} + \\sin\\left(\\eta\\right)^{6} + \\cos\\left(\\eta\\right)^{2}}{\\cos\\left(\\eta\\right)^{2} \\sin\\left(\\eta\\right)^{4}}} \\sin\\left(\\eta\\right)} \\\\\n",
       "\\frac{2 \\, {\\left(\\cos\\left(\\eta\\right)^{4} - \\cos\\left(\\eta\\right)^{2} + 1\\right)} e^{\\left(i \\, \\xi_{1} + i \\, \\xi_{2}\\right)}}{\\sqrt{\\frac{\\cos\\left(\\eta\\right)^{2} \\sin\\left(\\eta\\right)^{4} + \\sin\\left(\\eta\\right)^{6} + \\cos\\left(\\eta\\right)^{2}}{\\cos\\left(\\eta\\right)^{2} \\sin\\left(\\eta\\right)^{4}}} \\sin\\left(\\eta\\right)} & -2 \\, \\cos\\left(\\eta\\right)^{4} + 2 \\, \\cos\\left(\\eta\\right)^{2} - 1\n",
       "\\end{array}\\right)</script></html>"
      ],
      "text/plain": [
       "[                                                                                                                2*cos(eta)^4 - 2*cos(eta)^2 + 1 2*(cos(eta)^4 - cos(eta)^2 + 1)*e^(-I*xi_1 - I*xi_2)/(sqrt((cos(eta)^2*sin(eta)^4 + sin(eta)^6 + cos(eta)^2)/(cos(eta)^2*sin(eta)^4))*sin(eta))]\n",
       "[ 2*(cos(eta)^4 - cos(eta)^2 + 1)*e^(I*xi_1 + I*xi_2)/(sqrt((cos(eta)^2*sin(eta)^4 + sin(eta)^6 + cos(eta)^2)/(cos(eta)^2*sin(eta)^4))*sin(eta))                                                                                                                -2*cos(eta)^4 + 2*cos(eta)^2 - 1]"
      ]
     },
     "metadata": {},
     "output_type": "display_data"
    },
    {
     "data": {
      "text/html": [
       "<html><script type=\"math/tex; mode=display\">\\newcommand{\\Bold}[1]{\\mathbf{#1}}-1</script></html>"
      ],
      "text/plain": [
       "-1"
      ]
     },
     "metadata": {},
     "output_type": "display_data"
    }
   ],
   "source": [
    "t2_bf = (Q.conjugate_transpose() * t2 * Q).simplify_full()\n",
    "\n",
    "pretty_print( t2_bf )\n",
    "\n",
    "t2_b = t2_bf.submatrix(0,0,2,2)\n",
    "\n",
    "pretty_print( t2_b )\n",
    "\n",
    "pretty_print( det(t2_b).simplify_full() )"
   ]
  },
  {
   "cell_type": "code",
   "execution_count": 96,
   "metadata": {
    "collapsed": false,
    "deletable": true,
    "editable": true
   },
   "outputs": [
    {
     "data": {
      "text/html": [
       "<html><script type=\"math/tex; mode=display\">\\newcommand{\\Bold}[1]{\\mathbf{#1}}\\frac{2 \\, {\\left(\\cos\\left(\\eta\\right)^{4} - \\cos\\left(\\eta\\right)^{2} + 1\\right)} e^{\\left(-i \\, \\xi_{1} - i \\, \\xi_{2}\\right)}}{\\sqrt{\\frac{\\cos\\left(\\eta\\right)^{2} \\sin\\left(\\eta\\right)^{4} + \\sin\\left(\\eta\\right)^{6} + \\cos\\left(\\eta\\right)^{2}}{\\cos\\left(\\eta\\right)^{2} \\sin\\left(\\eta\\right)^{4}}} \\sin\\left(\\eta\\right)}</script></html>"
      ],
      "text/plain": [
       "2*(cos(eta)^4 - cos(eta)^2 + 1)*e^(-I*xi_1 - I*xi_2)/(sqrt((cos(eta)^2*sin(eta)^4 + sin(eta)^6 + cos(eta)^2)/(cos(eta)^2*sin(eta)^4))*sin(eta))"
      ]
     },
     "metadata": {},
     "output_type": "display_data"
    },
    {
     "data": {
      "image/png": "[encoded data removed]",
      "text/plain": [
       "Graphics object consisting of 1 graphics primitive"
      ]
     },
     "execution_count": 96,
     "metadata": {},
     "output_type": "execute_result"
    }
   ],
   "source": [
    "pretty_print( t2_b[0,1] )\n",
    "plot( t2_b[0,1](xi_1=0,xi_2=0,eta=x), (x,0,2*pi) )"
   ]
  },
  {
   "cell_type": "code",
   "execution_count": 100,
   "metadata": {
    "collapsed": false
   },
   "outputs": [
    {
     "data": {
      "text/html": [
       "<html><script type=\"math/tex; mode=display\">\\newcommand{\\Bold}[1]{\\mathbf{#1}}-64 \\, \\cos\\left(\\eta\\right)^{12} + 192 \\, \\cos\\left(\\eta\\right)^{10} - 288 \\, \\cos\\left(\\eta\\right)^{8} + 256 \\, \\cos\\left(\\eta\\right)^{6} - 132 \\, \\cos\\left(\\eta\\right)^{4} + 36 \\, \\cos\\left(\\eta\\right)^{2} - 2</script></html>"
      ],
      "text/plain": [
       "-64*cos(eta)^12 + 192*cos(eta)^10 - 288*cos(eta)^8 + 256*cos(eta)^6 - 132*cos(eta)^4 + 36*cos(eta)^2 - 2"
      ]
     },
     "metadata": {},
     "output_type": "display_data"
    },
    {
     "data": {
      "image/png": "[encoded data removed]",
      "text/plain": [
       "Graphics object consisting of 1 graphics primitive"
      ]
     },
     "execution_count": 100,
     "metadata": {},
     "output_type": "execute_result"
    }
   ],
   "source": [
    "gamma_b = (t2_b*t1_b)^3\n",
    "\n",
    "trace_gamma = gamma_b.trace().simplify_full()\n",
    "pretty_print( trace_gamma )\n",
    "\n",
    "plot( trace_gamma(eta=x), (x,0,2*pi))gamma_b.trace().simplify_full()"
   ]
  },
  {
   "cell_type": "code",
   "execution_count": 23,
   "metadata": {
    "collapsed": false,
    "deletable": true,
    "editable": true
   },
   "outputs": [
    {
     "data": {
      "text/plain": [
       "z"
      ]
     },
     "execution_count": 23,
     "metadata": {},
     "output_type": "execute_result"
    }
   ],
   "source": [
    "var('z')"
   ]
  },
  {
   "cell_type": "code",
   "execution_count": 24,
   "metadata": {
    "collapsed": true
   },
   "outputs": [],
   "source": [
    "def moebius(mat,variable):\n",
    "    return (mat[0,0]*variable+mat[0,1])/(mat[1,0]*variable+mat[1,1])"
   ]
  },
  {
   "cell_type": "code",
   "execution_count": 92,
   "metadata": {
    "collapsed": false
   },
   "outputs": [
    {
     "data": {
      "text/html": [
       "<html><script type=\"math/tex; mode=display\">\\newcommand{\\Bold}[1]{\\mathbf{#1}}-z</script></html>"
      ],
      "text/plain": [
       "-z"
      ]
     },
     "metadata": {},
     "output_type": "display_data"
    },
    {
     "data": {
      "text/html": [
       "<html><script type=\"math/tex; mode=display\">\\newcommand{\\Bold}[1]{\\mathbf{#1}}\\frac{0.625000000000000 \\, z + 0.631538688817729 - 0.458839715506824i}{\\left(0.631538688817729 + 0.458839715506824i\\right) \\, z - 0.625000000000000}</script></html>"
      ],
      "text/plain": [
       "(0.625000000000000*z + 0.631538688817729 - 0.458839715506824*I)/((0.631538688817729 + 0.458839715506824*I)*z - 0.625000000000000)"
      ]
     },
     "metadata": {},
     "output_type": "display_data"
    },
    {
     "data": {
      "text/html": [
       "<html><script type=\"math/tex; mode=display\">\\newcommand{\\Bold}[1]{\\mathbf{#1}}\\frac{0.898437500000000 \\, z + 0.355240512459973 - 0.258097339972588i}{-\\left(0.355240512459973 + 0.258097339972588i\\right) \\, z + 0.898437500000000}</script></html>"
      ],
      "text/plain": [
       "(0.898437500000000*z + 0.355240512459973 - 0.258097339972588*I)/(-(0.355240512459973 + 0.258097339972588*I)*z + 0.898437500000000)"
      ]
     },
     "metadata": {},
     "output_type": "display_data"
    }
   ],
   "source": [
    "xi_1_p = 0\n",
    "xi_2_p = pi/5\n",
    "eta_p = pi/3\n",
    "\n",
    "mt1 = moebius(t1_b(xi_1=xi_1_p,xi_2=xi_2_p,eta=eta_p),z)\n",
    "mt2 = moebius(N(t2_b(xi_1=xi_1_p,xi_2=xi_2_p,eta=eta_p)),z)\n",
    "\n",
    "mgamma = moebius( N(((t2_b*t1_b)^3)(xi_1=xi_1_p,xi_2=xi_2_p,eta=eta_p)), z)\n",
    "\n",
    "pretty_print(mt1)\n",
    "pretty_print(mt2)\n",
    "pretty_print(mgamma)"
   ]
  },
  {
   "cell_type": "code",
   "execution_count": 93,
   "metadata": {
    "collapsed": false
   },
   "outputs": [
    {
     "data": {
      "image/png": "[encoded data removed]",
      "text/plain": [
       "Graphics object consisting of 101 graphics primitives"
      ]
     },
     "metadata": {},
     "output_type": "display_data"
    }
   ],
   "source": [
    "P = Graphics()\n",
    "\n",
    "iters = 50\n",
    "rbw = rainbow(2*iters)\n",
    "\n",
    "z_p = 0+i*0\n",
    "P += point2d( (z_p.real_part(),z_p.imag_part()), color='black', size=10)\n",
    "\n",
    "for n in range(iters):\n",
    "    z_p = mt2(z=z_p)\n",
    "    P += point2d( (z_p.real_part(),z_p.imag_part()), color=rbw[2*n], size=10)\n",
    "    z_p = mt1(z=z_p)\n",
    "    P += point2d( (z_p.real_part(),z_p.imag_part()), color=rbw[2*n+1], size=10)\n",
    "\n",
    "P.show(aspect_ratio=1,axes=False,figsize=6)"
   ]
  },
  {
   "cell_type": "code",
   "execution_count": 94,
   "metadata": {
    "collapsed": false
   },
   "outputs": [
    {
     "data": {
      "image/png": "[encoded data removed]",
      "text/plain": [
       "Graphics object consisting of 51 graphics primitives"
      ]
     },
     "metadata": {},
     "output_type": "display_data"
    }
   ],
   "source": [
    "P = Graphics()\n",
    "\n",
    "iters = 50\n",
    "rbw = rainbow(2*iters)\n",
    "\n",
    "z_p = 0+i*0\n",
    "P += point2d( (z_p.real_part(),z_p.imag_part()), color='black', size=10)\n",
    "\n",
    "for n in range(iters):\n",
    "    z_p = mgamma(z=z_p)\n",
    "    P += point2d( (z_p.real_part(),z_p.imag_part()), color=rbw[2*n], size=10)\n",
    "    \n",
    "P.show(aspect_ratio=1,axes=False,figsize=6)"
   ]
  },
  {
   "cell_type": "code",
   "execution_count": 95,
   "metadata": {
    "collapsed": false
   },
   "outputs": [
    {
     "data": {
      "image/png": "[encoded data removed]",
      "text/plain": [
       "Graphics object consisting of 2 graphics primitives"
      ]
     },
     "metadata": {},
     "output_type": "display_data"
    }
   ],
   "source": [
    "P = Graphics()\n",
    "\n",
    "iters = 100\n",
    "rbw = rainbow(2*iters)\n",
    "\n",
    "z_p = 0+i*0\n",
    "\n",
    "real_parts = [0]\n",
    "imag_parts = [0]\n",
    "\n",
    "for n in range(iters):\n",
    "    z_p = mgamma(z=z_p)\n",
    "    real_parts.append(z_p.real_part())\n",
    "    imag_parts.append(z_p.imag_part())\n",
    "    \n",
    "P += list_plot(real_parts,plotjoined=True,color='black')    \n",
    "P += list_plot(imag_parts,plotjoined=True,color='red')\n",
    "P.show(axes=False,figsize=6)"
   ]
  },
  {
   "cell_type": "code",
   "execution_count": null,
   "metadata": {
    "collapsed": true
   },
   "outputs": [],
   "source": []
  },
  {
   "cell_type": "code",
   "execution_count": null,
   "metadata": {
    "collapsed": true
   },
   "outputs": [],
   "source": []
  }
 ],
 "metadata": {
  "kernelspec": {
   "display_name": "SageMath 8.0",
   "language": "",
   "name": "sagemath"
  },
  "language_info": {
   "codemirror_mode": {
    "name": "ipython",
    "version": 2
   },
   "file_extension": ".py",
   "mimetype": "text/x-python",
   "name": "python",
   "nbconvert_exporter": "python",
   "pygments_lexer": "ipython2",
   "version": "2.7.14"
  }
 },
 "nbformat": 4,
 "nbformat_minor": 2
}
