{
 "cells": [
  {
   "cell_type": "markdown",
   "metadata": {},
   "source": [
    "# Representations of \"Traid groups\" (hardcore 3-interaction orbifold groups)\n",
    "\n",
    "The 3 stranded Traid group:\n",
    "$$ \\mathcal{T}_3 = \\left< t_1, t_2 \\mid t_1^2 = t_2^2 = 1\\right>$$\n",
    "The symmetric group on 3 letters:\n",
    "$$ S_3 = \\left< t_1, t_2 \\mid t_1^2 = t_2^2 = (t_2 t_1)^3= 1\\right>$$\n",
    "Note that $S_3$ has exactly one more relation and it corresponds exactly to the triple point.\n",
    "\n",
    "We want to look for a representation of $\\mathcal{T}_3$ into $U(8)$. Here I'm thinking that each of the 3 particles comes with a spin which can be either up or down. That attaches a $\\mathbb{C}^2$ tensor factor to each of the strands/particles. Hence we are acting on $\\mathbb{C}^2\\otimes \\mathbb{C}^2 \\otimes \\mathbb{C}^2 \\cong \\mathbb{C}^8$.\n",
    "\n",
    "We'll want this to generalize to a higher stranded groups, so I'm thinking that the $t_i$ should correspond to matrices which are \"local\" in the sense that they only act non-trivially on the $i^{th}$ and $(i+1)^{st}$ $\\mathbb{C}^2$ tensor factors. This has the advantage that it will give us the $t_i,t_j$, $|i-j|>1$ commutation relation for free in the higher stranded groups $\\mathcal{T}_n$.\n",
    "\n",
    "I'll also make the assumption that, when restricted to \"their\" summands, $t_i, t_j$ should act in the _same way_. That seems realistic when we are considering particles of the same type. That means that\n",
    "$$ \\rho(t_1) = M \\otimes I_2$$\n",
    "and $$\\rho(t_2) = I_2 \\otimes M$$ for some $M \\in U(\\mathbb{C}^2\\otimes\\mathbb{C}^2)$. For $n$-particles:\n",
    "$$ \\rho(t_i) = \\underbrace{I_2 \\otimes \\cdots \\otimes I_2}_{i-1} \\otimes M \\otimes \\underbrace{I_2 \\otimes \\cdots \\otimes I_2}_{n-i-1}.$$\n"
   ]
  },
  {
   "cell_type": "markdown",
   "metadata": {},
   "source": [
    "## What kind of matrices are these: Hermitian Unitary matrices\n",
    "\n",
    "Any unitary matrix rep. $M$ will have $M M^\\dagger=1$. As $t_i^2=1$ for all $i$, we must also have $M^2=1$ so $M=M^\\dagger$ by uniqueness of inverses. i.e. $M$ is both unitary and Hermitian.\n",
    "\n",
    "Two facts:\n",
    "1. Unitary matrices have a complete set of eigenvectors and eigenvalues which lie in $U(1)$.\n",
    "2. Hermitian matrices have complete set of eigenvectors and eigenvalues which are real.\n",
    "So any such matrix has eigenvalues equal to $\\pm 1$.\n",
    "\n",
    "Thus $M$ is of the form $$M = P S P^{-1}$$ where $S$ is a diagonal matrix with non-zero entries equal to $\\pm1$ and we can assume $P \\in SU(4)$.\n",
    "\n",
    "If $S=\\pm I$ then so is $M$, so we should exclude the cases that there are one or four negative eigenvalues as they are boring. "
   ]
  },
  {
   "cell_type": "markdown",
   "metadata": {},
   "source": [
    "## A first try for $M$\n",
    "\n",
    "There are some obvious choices for $P$'s and $S$'s which give the trivial and symmetric group representations. We could have $M$ be simply the matrix which swaps tensor factors. For reference, that one is\n",
    "$$ \\left(\\begin{matrix}\n",
    "1 & 0 & 0 & 0 \\\\\n",
    "0 & 0 & 1 & 0 \\\\\n",
    "0 & 1 & 0 & 0 \\\\\n",
    "0 & 0 & 0 & 1\n",
    "\\end{matrix}\\right). $$\n",
    "That is, if $e_1,e_2$ and $f_1,f_2$ are bases for the $\\mathbb{C}^2$s, then interchanging the $\\mathbb{C}^2$ factors leaves $e_1\\otimes f_1$ and $e_2\\otimes f_2$ alone and swaps $e_1\\otimes f_2$ and $e_2\\otimes f_1$.\n",
    "\n",
    "This corresponds to $P$ equal to\n",
    "$$ \\left(\\begin{matrix}\n",
    " 0 & 1 & 0 & 0 \\\\\n",
    " 1 & 0 & 1 & 0 \\\\\n",
    "-1 & 0 & 1 & 0 \\\\\n",
    " 0 & 0 & 0 & 1\n",
    "\\end{matrix}\\right)$$ and $S$ equal to\n",
    "$$ \\left(\\begin{matrix}\n",
    "-1 & 0 & 0 & 0 \\\\\n",
    " 0 & 1 & 0 & 0 \\\\\n",
    " 0 & 0 & 1 & 0 \\\\\n",
    " 0 & 0 & 0 & 1\n",
    "\\end{matrix}\\right).$$\n",
    "\n",
    "#### Such an $M$ gives a trivial representation to $\\gamma=(t_2 t_1)^3$."
   ]
  },
  {
   "cell_type": "code",
   "execution_count": 1,
   "metadata": {
    "collapsed": true
   },
   "outputs": [],
   "source": [
    "import itertools"
   ]
  },
  {
   "cell_type": "code",
   "execution_count": 2,
   "metadata": {
    "collapsed": true
   },
   "outputs": [],
   "source": [
    "M = matrix([[1,0,0,0],[0,0,1,0],[0,1,0,0],[0,0,0,1]])\n",
    "\n",
    "t1 = M.tensor_product(identity_matrix(2))\n",
    "t2 = identity_matrix(2).tensor_product(M)"
   ]
  },
  {
   "cell_type": "code",
   "execution_count": 3,
   "metadata": {},
   "outputs": [
    {
     "name": "stdout",
     "output_type": "stream",
     "text": [
      "passed check - this is a representation\n"
     ]
    }
   ],
   "source": [
    "# verify that this is really a rep.\n",
    "assert t1.conjugate_transpose() == t1\n",
    "assert t2.conjugate_transpose() == t2\n",
    "assert t1^2 == identity_matrix(8)\n",
    "assert t2^2 == identity_matrix(8)\n",
    "print \"passed check - this is a representation\"\n"
   ]
  },
  {
   "cell_type": "code",
   "execution_count": 4,
   "metadata": {},
   "outputs": [
    {
     "name": "stdout",
     "output_type": "stream",
     "text": [
      "trivial rep on gamma\n"
     ]
    }
   ],
   "source": [
    "gamma = (t2*t1)^3\n",
    "\n",
    "if gamma == identity_matrix(8):\n",
    "    print \"trivial rep on gamma\"\n",
    "else:\n",
    "    print \"non-trivial rep!\"    "
   ]
  },
  {
   "cell_type": "markdown",
   "metadata": {},
   "source": [
    "## So... what if the center get's one of the other Pauli matrices?"
   ]
  },
  {
   "cell_type": "code",
   "execution_count": 5,
   "metadata": {
    "collapsed": true
   },
   "outputs": [],
   "source": [
    "M = identity_matrix(1).block_sum(matrix([[0,i],[-i,0]])).block_sum(identity_matrix(1))\n",
    "\n",
    "t1 = M.tensor_product(identity_matrix(2))\n",
    "t2 = identity_matrix(2).tensor_product(M)"
   ]
  },
  {
   "cell_type": "code",
   "execution_count": 6,
   "metadata": {},
   "outputs": [
    {
     "name": "stdout",
     "output_type": "stream",
     "text": [
      "passed check - this is a representation\n"
     ]
    }
   ],
   "source": [
    "# verify that this is really a rep.\n",
    "assert t1.conjugate_transpose() == t1\n",
    "assert t2.conjugate_transpose() == t2\n",
    "assert t1^2 == identity_matrix(8)\n",
    "assert t2^2 == identity_matrix(8)\n",
    "print \"passed check - this is a representation\""
   ]
  },
  {
   "cell_type": "code",
   "execution_count": 7,
   "metadata": {},
   "outputs": [
    {
     "name": "stdout",
     "output_type": "stream",
     "text": [
      "trivial rep on gamma\n"
     ]
    }
   ],
   "source": [
    "gamma = (t2*t1)^3\n",
    "\n",
    "if gamma == identity_matrix(8):\n",
    "    print \"trivial rep on gamma\"\n",
    "else:\n",
    "    print \"non-trivial rep!\""
   ]
  },
  {
   "cell_type": "markdown",
   "metadata": {},
   "source": [
    "### Nope, not that one. Try the other one"
   ]
  },
  {
   "cell_type": "code",
   "execution_count": 8,
   "metadata": {
    "collapsed": true
   },
   "outputs": [],
   "source": [
    "M = identity_matrix(1).block_sum(matrix([[1,0],[0,-1]])).block_sum(identity_matrix(1))\n",
    "\n",
    "t1 = M.tensor_product(identity_matrix(2))\n",
    "t2 = identity_matrix(2).tensor_product(M)"
   ]
  },
  {
   "cell_type": "code",
   "execution_count": 9,
   "metadata": {},
   "outputs": [
    {
     "name": "stdout",
     "output_type": "stream",
     "text": [
      "passed check - this is a representation\n"
     ]
    }
   ],
   "source": [
    "# verify that this is really a rep.\n",
    "assert t1.conjugate_transpose() == t1\n",
    "assert t2.conjugate_transpose() == t2\n",
    "assert t1^2 == identity_matrix(8)\n",
    "assert t2^2 == identity_matrix(8)\n",
    "print \"passed check - this is a representation\""
   ]
  },
  {
   "cell_type": "code",
   "execution_count": 10,
   "metadata": {},
   "outputs": [
    {
     "name": "stdout",
     "output_type": "stream",
     "text": [
      "non-trivial rep!\n"
     ]
    }
   ],
   "source": [
    "gamma = (t2*t1)^3\n",
    "\n",
    "if gamma == identity_matrix(8):\n",
    "    print \"trivial rep on gamma\"\n",
    "else:\n",
    "    print \"non-trivial rep!\""
   ]
  },
  {
   "cell_type": "markdown",
   "metadata": {},
   "source": [
    "Ok, the rep was non-trivial, but it is not all that interesting as we see below:"
   ]
  },
  {
   "cell_type": "code",
   "execution_count": 11,
   "metadata": {},
   "outputs": [
    {
     "data": {
      "text/plain": [
       "[ 1  0  0  0  0  0  0  0]\n",
       "[ 0  1  0  0  0  0  0  0]\n",
       "[ 0  0 -1  0  0  0  0  0]\n",
       "[ 0  0  0  1  0  0  0  0]\n",
       "[ 0  0  0  0 -1  0  0  0]\n",
       "[ 0  0  0  0  0 -1  0  0]\n",
       "[ 0  0  0  0  0  0 -1  0]\n",
       "[ 0  0  0  0  0  0  0  1]"
      ]
     },
     "execution_count": 11,
     "metadata": {},
     "output_type": "execute_result"
    }
   ],
   "source": [
    "gamma"
   ]
  },
  {
   "cell_type": "markdown",
   "metadata": {},
   "source": [
    "# Generalizing and restricting\n",
    "\n",
    "Let's pare down the dimension of the vector space we are working on. Before, we were looking at $(\\mathbb{C}^2)^{\\otimes n}$. That corresponds to all combinations of spin-up and spin-down for each particle. Let's assume that the number of spin-up and spin-down particles is conserved. Then the big tensor product splits into a bunch of summands whose dimensions are given by the binomial theorem. \n",
    "\n",
    "In particular, let's restrict ourselves to the \"exactly one spin-up\" summand. That's a summand of $(\\mathbb{C}^2)^{\\otimes n}$ of $\\mathbb{C}$-dimension equal to $n$. The two particle case then becomes greatly restricted. Recall that $t_i^2=1$ plus unitarity implied that the matrix representative $M$ had eigenvalues $\\pm1$. Then the only _interesting_ possibility is that $M$ has both $+1$ and $-1$ as eigenvalues exactly once. That's a reflection! This means that we can specify $M$ completely by a choice of a unit vector in $\\mathbb{C}^2$, modulo phase.\n",
    "\n",
    "That is, $M$ is the matrix realization of $v \\to v-\\langle v, u \\rangle u$, for $u$ a unit vector. If we vary $u$ by $e^{i\\theta}$, then the map becomes $ v \\to v -\\langle v, e^{i\\theta} u \\rangle e^{i\\theta} u$ which is just the same as the original map as the inner-product is complex anti-linear in the second variable.\n",
    "\n",
    "If $$u= \\left[ \\begin{matrix} a \\\\ b \\end{matrix} \\right]$$, then $M$ has the form as $$M= \\left[ \\begin{matrix} 1-2\\overline{a}a & -2\\overline{b}a \\\\ -2\\overline{a}b & 1-2\\overline{b}b \\end{matrix} \\right].$$ Now, we know that the unit vectors in $\\mathbb{C}^2$ can be parameterized by $$u= \\left[ \\begin{matrix} e^{i \\xi_1} sin(\\eta) \\\\ e^{i \\xi_2} \\cos(\\eta) \\end{matrix} \\right]$$ so the formula for $M$ simplifies a bit with $\\xi=\\xi_2-\\xi_1$."
   ]
  },
  {
   "cell_type": "code",
   "execution_count": 1,
   "metadata": {
    "collapsed": true
   },
   "outputs": [],
   "source": [
    "var('xi,xi_1,xi_2,eta')\n",
    "assume(xi,'real')\n",
    "assume(xi_1,'real')\n",
    "assume(xi_2,'real')\n",
    "assume(eta,'real')"
   ]
  },
  {
   "cell_type": "code",
   "execution_count": 2,
   "metadata": {},
   "outputs": [
    {
     "data": {
      "text/html": [
       "<html><script type=\"math/tex; mode=display\">\\newcommand{\\Bold}[1]{\\mathbf{#1}}\\left(\\begin{array}{rr}\n",
       "-2 \\, \\sin\\left(\\eta\\right)^{2} + 1 & -2 \\, \\cos\\left(\\eta\\right) e^{\\left(-i \\, \\xi\\right)} \\sin\\left(\\eta\\right) \\\\\n",
       "-2 \\, \\cos\\left(\\eta\\right) e^{\\left(i \\, \\xi\\right)} \\sin\\left(\\eta\\right) & -2 \\, \\cos\\left(\\eta\\right)^{2} + 1\n",
       "\\end{array}\\right)</script></html>"
      ],
      "text/plain": [
       "[             -2*sin(eta)^2 + 1 -2*cos(eta)*e^(-I*xi)*sin(eta)]\n",
       "[ -2*cos(eta)*e^(I*xi)*sin(eta)              -2*cos(eta)^2 + 1]"
      ]
     },
     "metadata": {},
     "output_type": "display_data"
    },
    {
     "name": "stdout",
     "output_type": "stream",
     "text": [
      "-1\n"
     ]
    }
   ],
   "source": [
    "M = matrix([[1-2*sin(eta)^2,-2*exp(-i*xi)*sin(eta)*cos(eta)],\n",
    "            [-2*exp(i*xi)*sin(eta)*cos(eta),1-2*cos(eta)^2]])\n",
    "\n",
    "# unitary\n",
    "assert M*M.conjugate_transpose() == identity_matrix(2)\n",
    "\n",
    "pretty_print(M)\n",
    "print(det(M).simplify_full())"
   ]
  },
  {
   "cell_type": "code",
   "execution_count": 3,
   "metadata": {},
   "outputs": [
    {
     "data": {
      "text/html": [
       "<html><script type=\"math/tex; mode=display\">\\newcommand{\\Bold}[1]{\\mathbf{#1}}\\left(\\begin{array}{rrr}\n",
       "-2 \\, \\sin\\left(\\eta\\right)^{2} + 1 & -2 \\, \\cos\\left(\\eta\\right) e^{\\left(-i \\, \\xi\\right)} \\sin\\left(\\eta\\right) & 0 \\\\\n",
       "-2 \\, \\cos\\left(\\eta\\right) e^{\\left(i \\, \\xi\\right)} \\sin\\left(\\eta\\right) & -2 \\, \\cos\\left(\\eta\\right)^{2} + 1 & 0 \\\\\n",
       "0 & 0 & 1\n",
       "\\end{array}\\right)</script></html>"
      ],
      "text/plain": [
       "[             -2*sin(eta)^2 + 1 -2*cos(eta)*e^(-I*xi)*sin(eta)                              0]\n",
       "[ -2*cos(eta)*e^(I*xi)*sin(eta)              -2*cos(eta)^2 + 1                              0]\n",
       "[                             0                              0                              1]"
      ]
     },
     "metadata": {},
     "output_type": "display_data"
    },
    {
     "data": {
      "text/html": [
       "<html><script type=\"math/tex; mode=display\">\\newcommand{\\Bold}[1]{\\mathbf{#1}}\\left(\\begin{array}{rrr}\n",
       "1 & 0 & 0 \\\\\n",
       "0 & -2 \\, \\sin\\left(\\eta\\right)^{2} + 1 & -2 \\, \\cos\\left(\\eta\\right) e^{\\left(-i \\, \\xi\\right)} \\sin\\left(\\eta\\right) \\\\\n",
       "0 & -2 \\, \\cos\\left(\\eta\\right) e^{\\left(i \\, \\xi\\right)} \\sin\\left(\\eta\\right) & -2 \\, \\cos\\left(\\eta\\right)^{2} + 1\n",
       "\\end{array}\\right)</script></html>"
      ],
      "text/plain": [
       "[                             1                              0                              0]\n",
       "[                             0              -2*sin(eta)^2 + 1 -2*cos(eta)*e^(-I*xi)*sin(eta)]\n",
       "[                             0  -2*cos(eta)*e^(I*xi)*sin(eta)              -2*cos(eta)^2 + 1]"
      ]
     },
     "metadata": {},
     "output_type": "display_data"
    }
   ],
   "source": [
    "t1 = M.block_sum(identity_matrix(1))\n",
    "t2 = identity_matrix(1).block_sum(M)\n",
    "\n",
    "pretty_print(t1)\n",
    "pretty_print(t2)"
   ]
  },
  {
   "cell_type": "code",
   "execution_count": 4,
   "metadata": {},
   "outputs": [
    {
     "name": "stdout",
     "output_type": "stream",
     "text": [
      "passed check - this is a representation of T_3\n"
     ]
    }
   ],
   "source": [
    "# verify that this is really a rep.\n",
    "assert t1.conjugate_transpose() == t1\n",
    "assert t2.conjugate_transpose() == t2\n",
    "assert t1*t1.conjugate_transpose() == identity_matrix(3)\n",
    "assert t2*t2.conjugate_transpose() == identity_matrix(3)\n",
    "assert t1^2 == identity_matrix(3)\n",
    "assert t2^2 == identity_matrix(3)\n",
    "print \"passed check - this is a representation of T_3\""
   ]
  },
  {
   "cell_type": "markdown",
   "metadata": {
    "collapsed": true
   },
   "source": [
    "Now that we have a representation on $\\mathbb{C}^3$, let's get one on $\\mathbb{C}^2$: The matrices $t_1, t_2$ only operate non-trivially on the complex span of $$u_1= \\left[ \\begin{matrix} sin(\\eta) \\\\ e^{i \\xi} \\cos(\\eta) \\\\ 0 \\end{matrix} \\right], u_2= \\left[ \\begin{matrix} 0 \\\\ sin(\\eta) \\\\ e^{i \\xi} \\cos(\\eta) \\end{matrix} \\right]$$ There must be a 1-dimensional trivial representation in our $\\mathbb{C}^3$! Let's factor it out."
   ]
  },
  {
   "cell_type": "code",
   "execution_count": 5,
   "metadata": {},
   "outputs": [
    {
     "data": {
      "text/html": [
       "<html><script type=\"math/tex; mode=display\">\\newcommand{\\Bold}[1]{\\mathbf{#1}}\\left(1,\\,-\\frac{e^{\\left(i \\, \\xi\\right)} \\sin\\left(\\eta\\right)}{\\cos\\left(\\eta\\right)},\\,\\frac{e^{\\left(2 i \\, \\xi\\right)} \\sin\\left(\\eta\\right)^{2}}{\\cos\\left(\\eta\\right)^{2}}\\right)</script></html>"
      ],
      "text/plain": [
       "(1, -e^(I*xi)*sin(eta)/cos(eta), e^(2*I*xi)*sin(eta)^2/cos(eta)^2)"
      ]
     },
     "metadata": {},
     "output_type": "display_data"
    }
   ],
   "source": [
    "# Find vector spanning trivial summand \n",
    "Q = matrix([[sin(eta), exp(i*xi)*cos(eta),                  0],\n",
    "            [       0,           sin(eta), exp(i*xi)*cos(eta)]])\n",
    "\n",
    "e3 = Q.right_kernel().basis()[0].conjugate()\n",
    "#e3 = e3/e3.norm()\n",
    "\n",
    "pretty_print(e3)"
   ]
  },
  {
   "cell_type": "code",
   "execution_count": 6,
   "metadata": {},
   "outputs": [
    {
     "data": {
      "text/html": [
       "<html><script type=\"math/tex; mode=display\">\\newcommand{\\Bold}[1]{\\mathbf{#1}}\\frac{\\cos\\left(\\eta\\right)^{4} - \\cos\\left(\\eta\\right)^{2} + 1}{\\cos\\left(\\eta\\right)^{4}}</script></html>"
      ],
      "text/plain": [
       "(cos(eta)^4 - cos(eta)^2 + 1)/cos(eta)^4"
      ]
     },
     "metadata": {},
     "output_type": "display_data"
    }
   ],
   "source": [
    "# didn't get a unit vector. That's fine\n",
    "pretty_print( (e3*e3.conjugate()).simplify_full() )"
   ]
  },
  {
   "cell_type": "code",
   "execution_count": 7,
   "metadata": {},
   "outputs": [
    {
     "data": {
      "text/html": [
       "<html><script type=\"math/tex; mode=display\">\\newcommand{\\Bold}[1]{\\mathbf{#1}}\\frac{\\cos\\left(\\eta\\right)^{4} - \\cos\\left(\\eta\\right)^{2} + 1}{\\cos\\left(\\eta\\right)^{2} \\sin\\left(\\eta\\right)^{4}}</script></html>"
      ],
      "text/plain": [
       "(cos(eta)^4 - cos(eta)^2 + 1)/(cos(eta)^2*sin(eta)^4)"
      ]
     },
     "metadata": {},
     "output_type": "display_data"
    }
   ],
   "source": [
    "# one vector of the oher summand, we know for certain. \n",
    "e1 = vector([sin(eta), exp(i*xi)*cos(eta), 0])\n",
    "\n",
    "# Find another, _orthogonal_ to the first. (We had another which spanned, but not orthogonal.)\n",
    "Q2 = matrix([e1,e3])\n",
    "e2 = ( Q2.right_kernel().basis()[0].conjugate() ).simplify_full()\n",
    "\n",
    "# not a unit vector. That's fine for now.\n",
    "pretty_print( (e2*e2.conjugate()).expand().simplify_full() )"
   ]
  },
  {
   "cell_type": "code",
   "execution_count": 8,
   "metadata": {},
   "outputs": [
    {
     "name": "stdout",
     "output_type": "stream",
     "text": [
      "passed orthogonality check, squared norms:\n",
      "1\n",
      "(cos(eta)^4 - cos(eta)^2 + 1)/(cos(eta)^2*sin(eta)^4)\n",
      "(cos(eta)^4 - cos(eta)^2 + 1)/cos(eta)^4\n"
     ]
    }
   ],
   "source": [
    "# should be an orthogonal set\n",
    "assert (e1*e2.conjugate()).simplify_full() == 0\n",
    "assert (e1*e3.conjugate()).simplify_full() == 0\n",
    "assert (e2*e3.conjugate()).simplify_full() == 0\n",
    "\n",
    "print \"passed orthogonality check, squared norms:\"\n",
    "\n",
    "print( (e1*e1.conjugate()).simplify_full() )\n",
    "print( (e2*e2.conjugate()).simplify_full() )\n",
    "print( (e3*e3.conjugate()).simplify_full() )"
   ]
  },
  {
   "cell_type": "code",
   "execution_count": 9,
   "metadata": {
    "collapsed": true
   },
   "outputs": [],
   "source": [
    "# normalize e2\n",
    "e2 = e2/e2.norm()"
   ]
  },
  {
   "cell_type": "markdown",
   "metadata": {},
   "source": [
    "The change of basis matrix $Q$, below, is in $U(3)$."
   ]
  },
  {
   "cell_type": "code",
   "execution_count": 10,
   "metadata": {},
   "outputs": [
    {
     "data": {
      "text/html": [
       "<html><script type=\"math/tex; mode=display\">\\newcommand{\\Bold}[1]{\\mathbf{#1}}\\left(\\begin{array}{rrr}\n",
       "\\sin\\left(\\eta\\right) & \\frac{1}{\\sqrt{{\\left| \\frac{e^{\\left(i \\, \\xi\\right)} \\sin\\left(\\eta\\right)}{\\cos\\left(\\eta\\right)} \\right|}^{2} + {\\left| \\frac{e^{\\left(2 i \\, \\xi\\right)}}{\\sin\\left(\\eta\\right)^{2}} \\right|}^{2} + 1}} & \\frac{1}{\\sqrt{{\\left| \\frac{e^{\\left(i \\, \\xi\\right)} \\sin\\left(\\eta\\right)}{\\cos\\left(\\eta\\right)} \\right|}^{2} + {\\left| \\frac{e^{\\left(2 i \\, \\xi\\right)} \\sin\\left(\\eta\\right)^{2}}{\\cos\\left(\\eta\\right)^{2}} \\right|}^{2} + 1}} \\\\\n",
       "\\cos\\left(\\eta\\right) e^{\\left(i \\, \\xi\\right)} & -\\frac{e^{\\left(i \\, \\xi\\right)} \\sin\\left(\\eta\\right)}{\\sqrt{{\\left| \\frac{e^{\\left(i \\, \\xi\\right)} \\sin\\left(\\eta\\right)}{\\cos\\left(\\eta\\right)} \\right|}^{2} + {\\left| \\frac{e^{\\left(2 i \\, \\xi\\right)}}{\\sin\\left(\\eta\\right)^{2}} \\right|}^{2} + 1} \\cos\\left(\\eta\\right)} & -\\frac{e^{\\left(i \\, \\xi\\right)} \\sin\\left(\\eta\\right)}{\\sqrt{{\\left| \\frac{e^{\\left(i \\, \\xi\\right)} \\sin\\left(\\eta\\right)}{\\cos\\left(\\eta\\right)} \\right|}^{2} + {\\left| \\frac{e^{\\left(2 i \\, \\xi\\right)} \\sin\\left(\\eta\\right)^{2}}{\\cos\\left(\\eta\\right)^{2}} \\right|}^{2} + 1} \\cos\\left(\\eta\\right)} \\\\\n",
       "0 & -\\frac{e^{\\left(2 i \\, \\xi\\right)}}{\\sqrt{{\\left| \\frac{e^{\\left(i \\, \\xi\\right)} \\sin\\left(\\eta\\right)}{\\cos\\left(\\eta\\right)} \\right|}^{2} + {\\left| \\frac{e^{\\left(2 i \\, \\xi\\right)}}{\\sin\\left(\\eta\\right)^{2}} \\right|}^{2} + 1} \\sin\\left(\\eta\\right)^{2}} & \\frac{e^{\\left(2 i \\, \\xi\\right)} \\sin\\left(\\eta\\right)^{2}}{\\sqrt{{\\left| \\frac{e^{\\left(i \\, \\xi\\right)} \\sin\\left(\\eta\\right)}{\\cos\\left(\\eta\\right)} \\right|}^{2} + {\\left| \\frac{e^{\\left(2 i \\, \\xi\\right)} \\sin\\left(\\eta\\right)^{2}}{\\cos\\left(\\eta\\right)^{2}} \\right|}^{2} + 1} \\cos\\left(\\eta\\right)^{2}}\n",
       "\\end{array}\\right)</script></html>"
      ],
      "text/plain": [
       "[                                                                                                                sin(eta)                                             1/sqrt(abs(e^(I*xi)*sin(eta)/cos(eta))^2 + abs(e^(2*I*xi)/sin(eta)^2)^2 + 1)                                  1/sqrt(abs(e^(I*xi)*sin(eta)/cos(eta))^2 + abs(e^(2*I*xi)*sin(eta)^2/cos(eta)^2)^2 + 1)]\n",
       "[                                                                                                       cos(eta)*e^(I*xi)                 -e^(I*xi)*sin(eta)/(sqrt(abs(e^(I*xi)*sin(eta)/cos(eta))^2 + abs(e^(2*I*xi)/sin(eta)^2)^2 + 1)*cos(eta))      -e^(I*xi)*sin(eta)/(sqrt(abs(e^(I*xi)*sin(eta)/cos(eta))^2 + abs(e^(2*I*xi)*sin(eta)^2/cos(eta)^2)^2 + 1)*cos(eta))]\n",
       "[                                                                                                                       0                      -e^(2*I*xi)/(sqrt(abs(e^(I*xi)*sin(eta)/cos(eta))^2 + abs(e^(2*I*xi)/sin(eta)^2)^2 + 1)*sin(eta)^2) e^(2*I*xi)*sin(eta)^2/(sqrt(abs(e^(I*xi)*sin(eta)/cos(eta))^2 + abs(e^(2*I*xi)*sin(eta)^2/cos(eta)^2)^2 + 1)*cos(eta)^2)]"
      ]
     },
     "metadata": {},
     "output_type": "display_data"
    }
   ],
   "source": [
    "# Change of basis matrix\n",
    "Q = matrix([e1,e2,e3/e3.norm()]).transpose()\n",
    "\n",
    "# a bit of a mess, mostly resolves later\n",
    "pretty_print(Q)"
   ]
  },
  {
   "cell_type": "code",
   "execution_count": 11,
   "metadata": {},
   "outputs": [
    {
     "name": "stdout",
     "output_type": "stream",
     "text": [
      "passed unitarity check\n",
      "det(Q)=\n"
     ]
    },
    {
     "data": {
      "text/html": [
       "<html><script type=\"math/tex; mode=display\">\\newcommand{\\Bold}[1]{\\mathbf{#1}}-\\frac{{\\left(\\cos\\left(\\eta\\right)^{4} - \\cos\\left(\\eta\\right)^{2} + 1\\right)} {\\left| \\cos\\left(\\eta\\right) \\right|} e^{\\left(3 i \\, \\xi\\right)}}{\\sqrt{\\cos\\left(\\eta\\right)^{2} \\sin\\left(\\eta\\right)^{4} + \\sin\\left(\\eta\\right)^{6} + \\cos\\left(\\eta\\right)^{2}} \\sqrt{\\cos\\left(\\eta\\right)^{4} + \\cos\\left(\\eta\\right)^{2} \\sin\\left(\\eta\\right)^{2} + \\sin\\left(\\eta\\right)^{4}} \\cos\\left(\\eta\\right)}</script></html>"
      ],
      "text/plain": [
       "-(cos(eta)^4 - cos(eta)^2 + 1)*abs(cos(eta))*e^(3*I*xi)/(sqrt(cos(eta)^2*sin(eta)^4 + sin(eta)^6 + cos(eta)^2)*sqrt(cos(eta)^4 + cos(eta)^2*sin(eta)^2 + sin(eta)^4)*cos(eta))"
      ]
     },
     "metadata": {},
     "output_type": "display_data"
    },
    {
     "data": {
      "image/png": "[encoded data removed]",
      "text/plain": [
       "Graphics object consisting of 1 graphics primitive"
      ]
     },
     "execution_count": 11,
     "metadata": {},
     "output_type": "execute_result"
    }
   ],
   "source": [
    "assert (Q*Q.conjugate_transpose()).simplify_full() == identity_matrix(3)\n",
    "\n",
    "print(\"passed unitarity check\")\n",
    "\n",
    "print(\"det(Q)=\")\n",
    "pretty_print( det(Q).simplify_full() )\n",
    "\n",
    "plot( det(Q).simplify_full()(xi=0,eta=x), (x,0,2*pi), figsize=4)"
   ]
  },
  {
   "cell_type": "markdown",
   "metadata": {},
   "source": [
    "Rewrite the $t_i$ generators in the new basis and extract the non-trivial rep."
   ]
  },
  {
   "cell_type": "code",
   "execution_count": 12,
   "metadata": {},
   "outputs": [
    {
     "data": {
      "text/html": [
       "<html><script type=\"math/tex; mode=display\">\\newcommand{\\Bold}[1]{\\mathbf{#1}}\\left(\\begin{array}{rrr}\n",
       "-1 & 0 & 0 \\\\\n",
       "0 & 1 & 0 \\\\\n",
       "0 & 0 & 1\n",
       "\\end{array}\\right)</script></html>"
      ],
      "text/plain": [
       "[-1  0  0]\n",
       "[ 0  1  0]\n",
       "[ 0  0  1]"
      ]
     },
     "metadata": {},
     "output_type": "display_data"
    },
    {
     "data": {
      "text/html": [
       "<html><script type=\"math/tex; mode=display\">\\newcommand{\\Bold}[1]{\\mathbf{#1}}\\left(\\begin{array}{rr}\n",
       "-1 & 0 \\\\\n",
       "0 & 1\n",
       "\\end{array}\\right)</script></html>"
      ],
      "text/plain": [
       "[-1  0]\n",
       "[ 0  1]"
      ]
     },
     "metadata": {},
     "output_type": "display_data"
    }
   ],
   "source": [
    "t1_new_basis = (Q.conjugate_transpose() * t1 * Q).simplify_full()\n",
    "\n",
    "pretty_print( t1_new_basis )\n",
    "\n",
    "t1_red = t1_new_basis.submatrix(0,0,2,2)\n",
    "\n",
    "pretty_print( t1_red )\n",
    "\n",
    "# det is obviously -1"
   ]
  },
  {
   "cell_type": "markdown",
   "metadata": {},
   "source": [
    "Note that $t_1$ is then reflection about the $y$-axis. i.e. the $-1$-eigendirection is the $x$-axis"
   ]
  },
  {
   "cell_type": "code",
   "execution_count": 13,
   "metadata": {},
   "outputs": [
    {
     "data": {
      "text/html": [
       "<html><script type=\"math/tex; mode=display\">\\newcommand{\\Bold}[1]{\\mathbf{#1}}\\left(\\begin{array}{rrr}\n",
       "2 \\, \\cos\\left(\\eta\\right)^{4} - 2 \\, \\cos\\left(\\eta\\right)^{2} + 1 & \\frac{2 \\, {\\left(\\sin\\left(\\eta\\right)^{5} + \\cos\\left(\\eta\\right)^{2} \\sin\\left(\\eta\\right)\\right)} {\\left| \\cos\\left(\\eta\\right) \\right|}}{\\sqrt{\\cos\\left(\\eta\\right)^{2} \\sin\\left(\\eta\\right)^{4} + \\sin\\left(\\eta\\right)^{6} + \\cos\\left(\\eta\\right)^{2}}} & 0 \\\\\n",
       "\\frac{2 \\, {\\left(\\sin\\left(\\eta\\right)^{5} + \\cos\\left(\\eta\\right)^{2} \\sin\\left(\\eta\\right)\\right)} {\\left| \\cos\\left(\\eta\\right) \\right|}}{\\sqrt{\\cos\\left(\\eta\\right)^{2} \\sin\\left(\\eta\\right)^{4} + \\sin\\left(\\eta\\right)^{6} + \\cos\\left(\\eta\\right)^{2}}} & -2 \\, \\cos\\left(\\eta\\right)^{4} + 2 \\, \\cos\\left(\\eta\\right)^{2} - 1 & 0 \\\\\n",
       "0 & 0 & 1\n",
       "\\end{array}\\right)</script></html>"
      ],
      "text/plain": [
       "[                                                                         2*cos(eta)^4 - 2*cos(eta)^2 + 1 2*(sin(eta)^5 + cos(eta)^2*sin(eta))*abs(cos(eta))/sqrt(cos(eta)^2*sin(eta)^4 + sin(eta)^6 + cos(eta)^2)                                                                                                        0]\n",
       "[2*(sin(eta)^5 + cos(eta)^2*sin(eta))*abs(cos(eta))/sqrt(cos(eta)^2*sin(eta)^4 + sin(eta)^6 + cos(eta)^2)                                                                         -2*cos(eta)^4 + 2*cos(eta)^2 - 1                                                                                                        0]\n",
       "[                                                                                                       0                                                                                                        0                                                                                                        1]"
      ]
     },
     "metadata": {},
     "output_type": "display_data"
    },
    {
     "data": {
      "text/html": [
       "<html><script type=\"math/tex; mode=display\">\\newcommand{\\Bold}[1]{\\mathbf{#1}}\\left(\\begin{array}{rr}\n",
       "2 \\, \\cos\\left(\\eta\\right)^{4} - 2 \\, \\cos\\left(\\eta\\right)^{2} + 1 & \\frac{2 \\, {\\left(\\sin\\left(\\eta\\right)^{5} + \\cos\\left(\\eta\\right)^{2} \\sin\\left(\\eta\\right)\\right)} {\\left| \\cos\\left(\\eta\\right) \\right|}}{\\sqrt{\\cos\\left(\\eta\\right)^{2} \\sin\\left(\\eta\\right)^{4} + \\sin\\left(\\eta\\right)^{6} + \\cos\\left(\\eta\\right)^{2}}} \\\\\n",
       "\\frac{2 \\, {\\left(\\sin\\left(\\eta\\right)^{5} + \\cos\\left(\\eta\\right)^{2} \\sin\\left(\\eta\\right)\\right)} {\\left| \\cos\\left(\\eta\\right) \\right|}}{\\sqrt{\\cos\\left(\\eta\\right)^{2} \\sin\\left(\\eta\\right)^{4} + \\sin\\left(\\eta\\right)^{6} + \\cos\\left(\\eta\\right)^{2}}} & -2 \\, \\cos\\left(\\eta\\right)^{4} + 2 \\, \\cos\\left(\\eta\\right)^{2} - 1\n",
       "\\end{array}\\right)</script></html>"
      ],
      "text/plain": [
       "[                                                                         2*cos(eta)^4 - 2*cos(eta)^2 + 1 2*(sin(eta)^5 + cos(eta)^2*sin(eta))*abs(cos(eta))/sqrt(cos(eta)^2*sin(eta)^4 + sin(eta)^6 + cos(eta)^2)]\n",
       "[2*(sin(eta)^5 + cos(eta)^2*sin(eta))*abs(cos(eta))/sqrt(cos(eta)^2*sin(eta)^4 + sin(eta)^6 + cos(eta)^2)                                                                         -2*cos(eta)^4 + 2*cos(eta)^2 - 1]"
      ]
     },
     "metadata": {},
     "output_type": "display_data"
    },
    {
     "name": "stdout",
     "output_type": "stream",
     "text": [
      "passed det=-1 check\n"
     ]
    }
   ],
   "source": [
    "t2_new_basis = (Q.conjugate_transpose() * t2 * Q).simplify_full()\n",
    "\n",
    "pretty_print( t2_new_basis )\n",
    "\n",
    "t2_red = t2_new_basis.submatrix(0,0,2,2)\n",
    "\n",
    "pretty_print( t2_red )\n",
    "\n",
    "assert det(t2_red).simplify_full() == -1\n",
    "print(\"passed det=-1 check\")"
   ]
  },
  {
   "cell_type": "code",
   "execution_count": 14,
   "metadata": {},
   "outputs": [
    {
     "name": "stdout",
     "output_type": "stream",
     "text": [
      "passed check - this is a representation of T_3\n"
     ]
    }
   ],
   "source": [
    "# verify that this is really a rep.\n",
    "assert t1_red.conjugate_transpose() == t1_red\n",
    "assert t2_red.conjugate_transpose() == t2_red\n",
    "assert t1_red*t1_red.conjugate_transpose() == identity_matrix(2)\n",
    "assert t2_red*t2_red.conjugate_transpose() == identity_matrix(2)\n",
    "assert t1_red^2 == identity_matrix(2)\n",
    "assert t2_red^2 == identity_matrix(2)\n",
    "print \"passed check - this is a representation of T_3\""
   ]
  },
  {
   "cell_type": "markdown",
   "metadata": {},
   "source": [
    "**Interesting:** Reduced $t_2$ is real. \n",
    "\n",
    "For what follows, I've done a bit by hand. "
   ]
  },
  {
   "cell_type": "code",
   "execution_count": 26,
   "metadata": {},
   "outputs": [
    {
     "name": "stdout",
     "output_type": "stream",
     "text": [
      "t2_red is of the form [[a,b],[b,-a]] where a^2+b^2=1\n"
     ]
    }
   ],
   "source": [
    "assert t2_red[0,1] == t2_red[1,0]\n",
    "assert t2_red[0,0] == -t2_red[1,1]\n",
    "\n",
    "a = t2_red[0,0]\n",
    "b = t2_red[0,1]\n",
    "\n",
    "# on the unit circle\n",
    "assert ( a^2+b^2 ).simplify_full() == 1\n",
    "\n",
    "print(\"t2_red is of the form [[a,b],[b,-a]] where a^2+b^2=1\")"
   ]
  },
  {
   "cell_type": "markdown",
   "metadata": {},
   "source": [
    "If $a=\\pm 1$, then $t_2$ is $\\pm t_1$. \n",
    "\n",
    "Otherwise, the positive eigenspace is spanned by $\\left[ \\begin{matrix} b \\\\ 1-a \\end{matrix} \\right]$. The angle over horizontal for this is then $\\arctan\\left( \\frac{b}{1-a} \\right)$.\n",
    "\n",
    "Recall that the $t_1$'s positive eigenspace was the $y$-axis, so that makes an angle of $\\frac{\\pi}{2}-\\arctan\\left( \\frac{b}{1-a} \\right)$."
   ]
  },
  {
   "cell_type": "code",
   "execution_count": 42,
   "metadata": {},
   "outputs": [
    {
     "data": {
      "text/html": [
       "<html><script type=\"math/tex; mode=display\">\\newcommand{\\Bold}[1]{\\mathbf{#1}}\\arctan\\left(-\\frac{{\\left(\\sin\\left(\\eta\\right)^{5} + \\cos\\left(\\eta\\right)^{2} \\sin\\left(\\eta\\right)\\right)} {\\left| \\cos\\left(\\eta\\right) \\right|}}{\\sqrt{\\cos\\left(\\eta\\right)^{2} \\sin\\left(\\eta\\right)^{4} + \\sin\\left(\\eta\\right)^{6} + \\cos\\left(\\eta\\right)^{2}} {\\left(\\cos\\left(\\eta\\right)^{4} - \\cos\\left(\\eta\\right)^{2}\\right)}}\\right)</script></html>"
      ],
      "text/plain": [
       "arctan(-(sin(eta)^5 + cos(eta)^2*sin(eta))*abs(cos(eta))/(sqrt(cos(eta)^2*sin(eta)^4 + sin(eta)^6 + cos(eta)^2)*(cos(eta)^4 - cos(eta)^2)))"
      ]
     },
     "metadata": {},
     "output_type": "display_data"
    }
   ],
   "source": [
    "theta = arctan(b/(1-a))\n",
    "\n",
    "theta_p = pi/2-theta\n",
    "\n",
    "pretty_print(theta)"
   ]
  },
  {
   "cell_type": "code",
   "execution_count": 38,
   "metadata": {},
   "outputs": [
    {
     "data": {
      "image/png": "[encoded data removed]",
      "text/plain": [
       "Graphics object consisting of 2 graphics primitives"
      ]
     },
     "metadata": {},
     "output_type": "display_data"
    }
   ],
   "source": [
    "P  = plot( theta, (eta,0,pi), color='blue')\n",
    "P += plot( theta_p, (eta,0,pi), color='red')\n",
    "P.show(figsize=4)"
   ]
  },
  {
   "cell_type": "code",
   "execution_count": 28,
   "metadata": {},
   "outputs": [
    {
     "data": {
      "image/png": "[encoded data removed]",
      "text/plain": [
       "Graphics object consisting of 1 graphics primitive"
      ]
     },
     "metadata": {},
     "output_type": "display_data"
    }
   ],
   "source": [
    "# visualize range\n",
    "P = parametric_plot( (cos(theta), sin(theta)), (eta,0,pi/4))\n",
    "P.show(aspect_ratio=1, figsize=4, ymin=0, xmax=1)"
   ]
  },
  {
   "cell_type": "code",
   "execution_count": 29,
   "metadata": {},
   "outputs": [
    {
     "data": {
      "text/html": [
       "<html><script type=\"math/tex; mode=display\">\\newcommand{\\Bold}[1]{\\mathbf{#1}}-\\frac{2 \\, \\cos\\left(\\eta\\right)^{3} - \\cos\\left(\\eta\\right)}{\\sqrt{\\cos\\left(\\eta\\right)^{4} - \\cos\\left(\\eta\\right)^{2} + 1} {\\left| \\cos\\left(\\eta\\right) \\right|}}</script></html>"
      ],
      "text/plain": [
       "-(2*cos(eta)^3 - cos(eta))/(sqrt(cos(eta)^4 - cos(eta)^2 + 1)*abs(cos(eta)))"
      ]
     },
     "metadata": {},
     "output_type": "display_data"
    },
    {
     "data": {
      "text/plain": [
       "[eta == 3/4*pi, eta == 1/4*pi, eta == 1/2*pi]"
      ]
     },
     "execution_count": 29,
     "metadata": {},
     "output_type": "execute_result"
    }
   ],
   "source": [
    "# find those extreme values\n",
    "\n",
    "pretty_print( diff(theta.simplify_full(), eta).simplify_full() )\n",
    "\n",
    "solve( diff(theta.simplify_full(), eta).simplify_full() == 0, eta)\n",
    "# not really sure why office computer can't find eta=pi/4... \n",
    "# verified it by hand, so..."
   ]
  },
  {
   "cell_type": "markdown",
   "metadata": {},
   "source": [
    "The _largest_ _angle_ between the two positive eigenspaces is the one which occurs at $\\frac{\\pi}{4}$."
   ]
  },
  {
   "cell_type": "code",
   "execution_count": 32,
   "metadata": {},
   "outputs": [
    {
     "name": "stdout",
     "output_type": "stream",
     "text": [
      "maximum angle off vertical is pi/6\n"
     ]
    }
   ],
   "source": [
    "assert theta_p(eta=pi/4) == pi/6\n",
    "print(\"maximum angle between +1-eigenspaces is pi/6\")"
   ]
  },
  {
   "cell_type": "markdown",
   "metadata": {},
   "source": [
    "#### That maximum corresponds to a trivial rep. on the pure traid group."
   ]
  },
  {
   "cell_type": "code",
   "execution_count": 30,
   "metadata": {},
   "outputs": [
    {
     "data": {
      "text/html": [
       "<html><script type=\"math/tex; mode=display\">\\newcommand{\\Bold}[1]{\\mathbf{#1}}\\left(\\begin{array}{rr}\n",
       "\\frac{1}{2} & \\frac{1}{2} \\, \\sqrt{3} \\\\\n",
       "\\frac{1}{2} \\, \\sqrt{3} & -\\frac{1}{2}\n",
       "\\end{array}\\right)</script></html>"
      ],
      "text/plain": [
       "[        1/2 1/2*sqrt(3)]\n",
       "[1/2*sqrt(3)        -1/2]"
      ]
     },
     "metadata": {},
     "output_type": "display_data"
    },
    {
     "data": {
      "text/html": [
       "<html><script type=\"math/tex; mode=display\">\\newcommand{\\Bold}[1]{\\mathbf{#1}}\\left(\\begin{array}{rr}\n",
       "1 & 0 \\\\\n",
       "0 & 1\n",
       "\\end{array}\\right)</script></html>"
      ],
      "text/plain": [
       "[1 0]\n",
       "[0 1]"
      ]
     },
     "metadata": {},
     "output_type": "display_data"
    }
   ],
   "source": [
    "pretty_print( t2_red(eta=pi/4) )\n",
    "\n",
    "pretty_print( (t2_red(eta=pi/4)*t1_red)^3 )"
   ]
  },
  {
   "cell_type": "code",
   "execution_count": 39,
   "metadata": {},
   "outputs": [
    {
     "data": {
      "image/png": "[encoded data removed]",
      "text/plain": [
       "Graphics object consisting of 21 graphics primitives"
      ]
     },
     "metadata": {},
     "output_type": "display_data"
    }
   ],
   "source": [
    "# hexagon orbits\n",
    "\n",
    "P = Graphics()\n",
    "\n",
    "t2_red_eta_p = t2_red(eta=pi/4)\n",
    "\n",
    "v = vector([1.0,0.0])\n",
    "P += point(v,size=20,color='black')\n",
    "\n",
    "for n in range(10):\n",
    "    v = t1_red*v\n",
    "    P += point(v,size=20,color='black')\n",
    "    v = t2_red_eta_p*v\n",
    "    P += point(v,size=20,color='black')\n",
    "\n",
    "P.show(figsize=4,aspect_ratio=1)"
   ]
  },
  {
   "cell_type": "markdown",
   "metadata": {},
   "source": [
    "By hand, I was able to simplify the formula for $\\theta$ to \n",
    "$$ \\arctan\\left( \\pm \\frac{ \\sqrt{4-\\sin^2(2\\eta)}}{\\sin(2\\eta)} \\right)$$\n",
    "where the $\\pm$ depends on the sign of $\\cos(\\eta)$. That's a _lot_ nicer looking, but it still isn't obvious how to pick, for example, $\\eta$ for a decagon."
   ]
  },
  {
   "cell_type": "code",
   "execution_count": null,
   "metadata": {
    "collapsed": true
   },
   "outputs": [],
   "source": [
    "P = Graphics()\n",
    "\n",
    "t2_red_eta_p = t2_red(eta=pi/5)\n",
    "\n",
    "rot = (t2_red_eta_p*t1_red)^3\n",
    "\n",
    "v = vector([1.0,0.0])\n",
    "P += point(v,size=20,color='black')\n",
    "\n",
    "for n in range(20):\n",
    "    v = rot*v\n",
    "    P += point(v,size=20,color='black')\n",
    "    \n",
    "P.show(figsize=4,aspect_ratio=1)"
   ]
  },
  {
   "cell_type": "code",
   "execution_count": null,
   "metadata": {
    "collapsed": true
   },
   "outputs": [],
   "source": []
  },
  {
   "cell_type": "code",
   "execution_count": null,
   "metadata": {
    "collapsed": true
   },
   "outputs": [],
   "source": []
  },
  {
   "cell_type": "code",
   "execution_count": null,
   "metadata": {
    "collapsed": true
   },
   "outputs": [],
   "source": []
  }
 ],
 "metadata": {
  "kernelspec": {
   "display_name": "SageMath 8.2",
   "language": "",
   "name": "sagemath"
  },
  "language_info": {
   "codemirror_mode": {
    "name": "ipython",
    "version": 2
   },
   "file_extension": ".py",
   "mimetype": "text/x-python",
   "name": "python",
   "nbconvert_exporter": "python",
   "pygments_lexer": "ipython2",
   "version": "2.7.14"
  }
 },
 "nbformat": 4,
 "nbformat_minor": 2
}
