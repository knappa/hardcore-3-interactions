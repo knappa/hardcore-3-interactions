{
 "cells": [
  {
   "cell_type": "code",
   "execution_count": 1,
   "metadata": {},
   "outputs": [],
   "source": [
    "#%display plain\n",
    "%display latex"
   ]
  },
  {
   "cell_type": "code",
   "execution_count": 2,
   "metadata": {},
   "outputs": [],
   "source": [
    "from matplotlib import cm\n",
    "import numpy as np\n",
    "import itertools\n",
    "from itertools import combinations\n",
    "from __future__ import print_function"
   ]
  },
  {
   "cell_type": "code",
   "execution_count": 3,
   "metadata": {},
   "outputs": [],
   "source": [
    "real_vars = var('r,t,theta,phi,x,y,z')\n",
    "for rv in real_vars:\n",
    "    assume(rv, 'real')"
   ]
  },
  {
   "cell_type": "code",
   "execution_count": 4,
   "metadata": {},
   "outputs": [
    {
     "data": {
      "text/html": [
       "<html><script type=\"math/tex; mode=display\">\\newcommand{\\Bold}[1]{\\mathbf{#1}}\\left(\\left(x_{0}, x_{1}, x_{2}, x_{3}, x_{4}\\right), \\left(y_{0}, y_{1}, y_{2}, y_{3}\\right)\\right)</script></html>"
      ],
      "text/plain": [
       "((x0, x1, x2, x3, x4), (y0, y1, y2, y3))"
      ]
     },
     "execution_count": 4,
     "metadata": {},
     "output_type": "execute_result"
    }
   ],
   "source": [
    "xs = var(['x{}'.format(n) for n in range(5)])\n",
    "for xi in xs: assume(xi,'real')\n",
    "\n",
    "ys = var(['y{}'.format(n) for n in range(4)])\n",
    "for yi in ys: assume(yi,'real')\n",
    "\n",
    "xs, ys"
   ]
  },
  {
   "cell_type": "code",
   "execution_count": 5,
   "metadata": {},
   "outputs": [
    {
     "data": {
      "text/html": [
       "<html><script type=\"math/tex; mode=display\">\\newcommand{\\Bold}[1]{\\mathbf{#1}}\\left(x_{0} + x_{1} + x_{2} + x_{3} + x_{4}, x_{0}^{2} + x_{1}^{2} + x_{2}^{2} + x_{3}^{2} + x_{4}^{2}, x_{0}^{3} + x_{1}^{3} + x_{2}^{3} + x_{3}^{3} + x_{4}^{3}, x_{0}^{4} + x_{1}^{4} + x_{2}^{4} + x_{3}^{4} + x_{4}^{4}, x_{0}^{5} + x_{1}^{5} + x_{2}^{5} + x_{3}^{5} + x_{4}^{5}\\right)</script></html>"
      ],
      "text/plain": [
       "(x0 + x1 + x2 + x3 + x4,\n",
       " x0^2 + x1^2 + x2^2 + x3^2 + x4^2,\n",
       " x0^3 + x1^3 + x2^3 + x3^3 + x4^3,\n",
       " x0^4 + x1^4 + x2^4 + x3^4 + x4^4,\n",
       " x0^5 + x1^5 + x2^5 + x3^5 + x4^5)"
      ]
     },
     "execution_count": 5,
     "metadata": {},
     "output_type": "execute_result"
    }
   ],
   "source": [
    "p1 = sum([xi   for xi in xs])\n",
    "p2 = sum([xi^2 for xi in xs])\n",
    "p3 = sum([xi^3 for xi in xs])\n",
    "p4 = sum([xi^4 for xi in xs])\n",
    "p5 = sum([xi^5 for xi in xs])\n",
    "\n",
    "p1, p2, p3, p4, p5"
   ]
  },
  {
   "cell_type": "code",
   "execution_count": 6,
   "metadata": {},
   "outputs": [
    {
     "data": {
      "text/html": [
       "<html><script type=\"math/tex; mode=display\">\\newcommand{\\Bold}[1]{\\mathbf{#1}}\\left(x_{0} + x_{1} + x_{2} + x_{3} + x_{4}, x_{0} x_{1} + x_{0} x_{2} + x_{1} x_{2} + x_{0} x_{3} + x_{1} x_{3} + x_{2} x_{3} + x_{0} x_{4} + x_{1} x_{4} + x_{2} x_{4} + x_{3} x_{4}, x_{0} x_{1} x_{2} + x_{0} x_{1} x_{3} + x_{0} x_{2} x_{3} + x_{1} x_{2} x_{3} + x_{0} x_{1} x_{4} + x_{0} x_{2} x_{4} + x_{1} x_{2} x_{4} + x_{0} x_{3} x_{4} + x_{1} x_{3} x_{4} + x_{2} x_{3} x_{4}, x_{0} x_{1} x_{2} x_{3} + x_{0} x_{1} x_{2} x_{4} + x_{0} x_{1} x_{3} x_{4} + x_{0} x_{2} x_{3} x_{4} + x_{1} x_{2} x_{3} x_{4}, x_{0} x_{1} x_{2} x_{3} x_{4}\\right)</script></html>"
      ],
      "text/plain": [
       "(x0 + x1 + x2 + x3 + x4,\n",
       " x0*x1 + x0*x2 + x1*x2 + x0*x3 + x1*x3 + x2*x3 + x0*x4 + x1*x4 + x2*x4 + x3*x4,\n",
       " x0*x1*x2 + x0*x1*x3 + x0*x2*x3 + x1*x2*x3 + x0*x1*x4 + x0*x2*x4 + x1*x2*x4 + x0*x3*x4 + x1*x3*x4 + x2*x3*x4,\n",
       " x0*x1*x2*x3 + x0*x1*x2*x4 + x0*x1*x3*x4 + x0*x2*x3*x4 + x1*x2*x3*x4,\n",
       " x0*x1*x2*x3*x4)"
      ]
     },
     "execution_count": 6,
     "metadata": {},
     "output_type": "execute_result"
    }
   ],
   "source": [
    "e1 = sum([ xi             for (xi,           ) in combinations(xs,1)])\n",
    "e2 = sum([ xi*xj          for (xi,xj         ) in combinations(xs,2)])\n",
    "e3 = sum([ xi*xj*xk       for (xi,xj,xk      ) in combinations(xs,3)])\n",
    "e4 = sum([ xi*xj*xk*xl    for (xi,xj,xk,xl   ) in combinations(xs,4)])\n",
    "e5 = sum([ xi*xj*xk*xl*xm for (xi,xj,xk,xl,xm) in combinations(xs,5)])\n",
    "\n",
    "e1, e2, e3, e4, e5"
   ]
  },
  {
   "cell_type": "code",
   "execution_count": 7,
   "metadata": {},
   "outputs": [],
   "source": [
    "def inner_product(f,g,vrs):\n",
    "    ip = (f.conjugate()*g).expand()*exp(-sum([vi^2 for vi in vrs]))/(2*pi)^len(vrs)\n",
    "    # odd parts will integrate out, so remove them. makes this go quite a bit faster\n",
    "    for vi in vrs:\n",
    "        ip = ((ip+ip(vi=-vi))/2).simplify_full()\n",
    "    for vi in vrs:\n",
    "        ip = integrate(ip,vi,-oo,oo)\n",
    "    return ip"
   ]
  },
  {
   "cell_type": "code",
   "execution_count": 8,
   "metadata": {},
   "outputs": [],
   "source": [
    "com = vector([1,1,1,1,1])/sqrt(5) # center of mass\n",
    "\n",
    "j1 = vector(QQ,[1,0,0,0,0])\n",
    "j2 = vector(QQ,[0,1,0,0,0])\n",
    "j3 = vector(QQ,[0,0,1,0,0])\n",
    "j4 = vector(QQ,[0,0,0,1,0])\n",
    "\n",
    "j1 = j1 - (j1*com)*com/com.norm()^2\n",
    "j2 = j2 - (j2*com)*com/com.norm()^2\n",
    "j3 = j3 - (j3*com)*com/com.norm()^2\n",
    "j4 = j4 - (j4*com)*com/com.norm()^2\n",
    "\n",
    "j2 = j2 - (j2*j1)*j1/j1.norm()^2\n",
    "j3 = j3 - (j3*j1)*j1/j1.norm()^2\n",
    "j4 = j4 - (j4*j1)*j1/j1.norm()^2\n",
    "\n",
    "j3 = j3 - (j3*j2)*j2/j2.norm()^2\n",
    "j4 = j4 - (j4*j2)*j2/j2.norm()^2\n",
    "\n",
    "j4 = j4 - (j4*j3)*j3/j3.norm()^2\n",
    "\n",
    "j1 = j1/j1.norm()\n",
    "j2 = j2/j2.norm()\n",
    "j3 = j3/j3.norm()\n",
    "j4 = j4/j4.norm()"
   ]
  },
  {
   "cell_type": "code",
   "execution_count": 9,
   "metadata": {},
   "outputs": [],
   "source": [
    "Pm = matrix([com,j1,j2,j3,j4]).transpose()\n",
    "\n",
    "Qm = matrix([[0,0,0,0],\n",
    "             [1,0,0,0],\n",
    "             [0,1,0,0],\n",
    "             [0,0,1,0],\n",
    "             [0,0,0,1]])"
   ]
  },
  {
   "cell_type": "code",
   "execution_count": 10,
   "metadata": {},
   "outputs": [],
   "source": [
    "threebody_mats = [\n",
    "    # 012\n",
    "    matrix([[1, 1, 1, 1, 1],\n",
    "            [1,-1, 0, 0, 0],\n",
    "            [0, 1,-1, 0, 0]]),\n",
    "    # 013\n",
    "    matrix([[1, 1, 1, 1, 1],\n",
    "            [1,-1, 0, 0, 0],\n",
    "            [0, 1, 0,-1, 0]]),\n",
    "    # 014\n",
    "    matrix([[1, 1, 1, 1, 1],\n",
    "            [1,-1, 0, 0, 0],\n",
    "            [0, 1, 0, 0,-1]]),\n",
    "    # 023\n",
    "    matrix([[1, 1, 1, 1, 1],\n",
    "            [1, 0,-1, 0, 0],\n",
    "            [0, 0, 1,-1, 0]]),\n",
    "    # 024\n",
    "    matrix([[1, 1, 1, 1, 1],\n",
    "            [1, 0,-1, 0, 0],\n",
    "            [0, 0, 1, 0,-1]]),\n",
    "    # 034\n",
    "    matrix([[1, 1, 1, 1, 1],\n",
    "            [1, 0, 0,-1, 0],\n",
    "            [0, 0, 0, 1,-1]]),\n",
    "    # 123\n",
    "    matrix([[1, 1, 1, 1, 1],\n",
    "            [0, 1,-1, 0, 0],\n",
    "            [0, 0, 1,-1, 0]]),\n",
    "    # 124\n",
    "    matrix([[1, 1, 1, 1, 1],\n",
    "            [0, 1,-1, 0, 0],\n",
    "            [0, 0, 1, 0,-1]]),\n",
    "    # 134\n",
    "    matrix([[1, 1, 1, 1, 1],\n",
    "            [0, 1, 0,-1, 0],\n",
    "            [0, 0, 0, 1,-1]]),\n",
    "    # 234\n",
    "    matrix([[1, 1, 1, 1, 1],\n",
    "            [0, 0, 1,-1, 0],\n",
    "            [0, 0, 0, 1,-1]])\n",
    "]\n",
    "\n",
    "Pl = matrix([j1,j2,j3,j4]).transpose()\n",
    "\n",
    "def orthogonalize_rows(M):\n",
    "    rows = list(M)\n",
    "    for idx in range(len(rows)):\n",
    "        rows[idx] = (rows[idx]/rows[idx].norm()).simplify_full()\n",
    "        for idx2 in range(idx+1,len(rows)):\n",
    "            rows[idx2] = rows[idx2] - (rows[idx2]*rows[idx])*rows[idx]\n",
    "    return matrix(rows)\n",
    "    \n",
    "# the (5 choose 3) 3-body interations in 5 dimensions\n",
    "tbi5s = [ M.right_kernel().basis_matrix() for M in threebody_mats ]\n",
    "tbi5s = [ orthogonalize_rows(M) for M in tbi5s]\n",
    "\n",
    "# the (5 choose 3) 3-body interations in 4 dimensions\n",
    "tbi4s = [ (M*Pl).right_kernel().basis_matrix() for M in threebody_mats ]\n",
    "tbi4s = [ orthogonalize_rows(M) for M in tbi4s]"
   ]
  },
  {
   "cell_type": "code",
   "execution_count": 11,
   "metadata": {},
   "outputs": [
    {
     "data": {
      "text/html": [
       "<html><script type=\"math/tex; mode=display\">\\newcommand{\\Bold}[1]{\\mathbf{#1}}\\left(0, -\\frac{1}{2} \\, y_{0}^{2} - \\frac{1}{2} \\, y_{1}^{2} - \\frac{1}{2} \\, y_{2}^{2} - \\frac{1}{2} \\, y_{3}^{2}, \\frac{1}{180} \\, \\sqrt{2} {\\left(9 \\, \\sqrt{5} \\sqrt{2} y_{0}^{3} - 9 \\, \\sqrt{5} \\sqrt{2} y_{0} y_{1}^{2} + 10 \\, \\sqrt{3} \\sqrt{2} y_{1}^{3} + 10 \\, \\sqrt{3} y_{2}^{3} - 3 \\, {\\left(3 \\, \\sqrt{5} \\sqrt{2} y_{0} + 5 \\, \\sqrt{3} \\sqrt{2} y_{1}\\right)} y_{2}^{2} - 3 \\, {\\left(3 \\, \\sqrt{5} \\sqrt{2} y_{0} + 5 \\, \\sqrt{3} \\sqrt{2} y_{1} + 10 \\, \\sqrt{3} y_{2}\\right)} y_{3}^{2}\\right)}, -\\frac{1}{3600} \\, \\sqrt{5} \\sqrt{3} {\\left(9 \\, \\sqrt{5} \\sqrt{3} y_{0}^{4} - 42 \\, \\sqrt{5} \\sqrt{3} y_{0}^{2} y_{1}^{2} + 5 \\, \\sqrt{5} \\sqrt{3} y_{1}^{4} - 120 \\, y_{0} y_{1}^{3} - 20 \\, {\\left(\\sqrt{5} \\sqrt{3} \\sqrt{2} y_{1} + 3 \\, \\sqrt{2} y_{0}\\right)} y_{2}^{3} - 6 \\, {\\left(7 \\, \\sqrt{5} \\sqrt{3} y_{0}^{2} + 5 \\, \\sqrt{5} \\sqrt{3} y_{1}^{2} - 30 \\, y_{0} y_{1}\\right)} y_{2}^{2} - 6 \\, {\\left(7 \\, \\sqrt{5} \\sqrt{3} y_{0}^{2} + 5 \\, \\sqrt{5} \\sqrt{3} y_{1}^{2} - 30 \\, y_{0} y_{1} - 10 \\, {\\left(\\sqrt{5} \\sqrt{3} \\sqrt{2} y_{1} + 3 \\, \\sqrt{2} y_{0}\\right)} y_{2}\\right)} y_{3}^{2}\\right)}, -\\frac{1}{9000} \\, \\sqrt{5} {\\left(40 \\, \\sqrt{5} \\sqrt{3} y_{0}^{2} y_{1}^{3} - 9 \\, y_{0}^{5} + 90 \\, y_{0}^{3} y_{1}^{2} + 75 \\, y_{0} y_{1}^{4} + 20 \\, {\\left(\\sqrt{5} \\sqrt{3} \\sqrt{2} y_{0}^{2} - 15 \\, \\sqrt{2} y_{0} y_{1}\\right)} y_{2}^{3} - 30 \\, {\\left(2 \\, \\sqrt{5} \\sqrt{3} y_{0}^{2} y_{1} - 3 \\, y_{0}^{3} + 15 \\, y_{0} y_{1}^{2}\\right)} y_{2}^{2} - 30 \\, {\\left(2 \\, \\sqrt{5} \\sqrt{3} y_{0}^{2} y_{1} - 3 \\, y_{0}^{3} + 15 \\, y_{0} y_{1}^{2} + 2 \\, {\\left(\\sqrt{5} \\sqrt{3} \\sqrt{2} y_{0}^{2} - 15 \\, \\sqrt{2} y_{0} y_{1}\\right)} y_{2}\\right)} y_{3}^{2}\\right)}\\right)</script></html>"
      ],
      "text/plain": [
       "(0,\n",
       " -1/2*y0^2 - 1/2*y1^2 - 1/2*y2^2 - 1/2*y3^2,\n",
       " 1/180*sqrt(2)*(9*sqrt(5)*sqrt(2)*y0^3 - 9*sqrt(5)*sqrt(2)*y0*y1^2 + 10*sqrt(3)*sqrt(2)*y1^3 + 10*sqrt(3)*y2^3 - 3*(3*sqrt(5)*sqrt(2)*y0 + 5*sqrt(3)*sqrt(2)*y1)*y2^2 - 3*(3*sqrt(5)*sqrt(2)*y0 + 5*sqrt(3)*sqrt(2)*y1 + 10*sqrt(3)*y2)*y3^2),\n",
       " -1/3600*sqrt(5)*sqrt(3)*(9*sqrt(5)*sqrt(3)*y0^4 - 42*sqrt(5)*sqrt(3)*y0^2*y1^2 + 5*sqrt(5)*sqrt(3)*y1^4 - 120*y0*y1^3 - 20*(sqrt(5)*sqrt(3)*sqrt(2)*y1 + 3*sqrt(2)*y0)*y2^3 - 6*(7*sqrt(5)*sqrt(3)*y0^2 + 5*sqrt(5)*sqrt(3)*y1^2 - 30*y0*y1)*y2^2 - 6*(7*sqrt(5)*sqrt(3)*y0^2 + 5*sqrt(5)*sqrt(3)*y1^2 - 30*y0*y1 - 10*(sqrt(5)*sqrt(3)*sqrt(2)*y1 + 3*sqrt(2)*y0)*y2)*y3^2),\n",
       " -1/9000*sqrt(5)*(40*sqrt(5)*sqrt(3)*y0^2*y1^3 - 9*y0^5 + 90*y0^3*y1^2 + 75*y0*y1^4 + 20*(sqrt(5)*sqrt(3)*sqrt(2)*y0^2 - 15*sqrt(2)*y0*y1)*y2^3 - 30*(2*sqrt(5)*sqrt(3)*y0^2*y1 - 3*y0^3 + 15*y0*y1^2)*y2^2 - 30*(2*sqrt(5)*sqrt(3)*y0^2*y1 - 3*y0^3 + 15*y0*y1^2 + 2*(sqrt(5)*sqrt(3)*sqrt(2)*y0^2 - 15*sqrt(2)*y0*y1)*y2)*y3^2))"
      ]
     },
     "execution_count": 11,
     "metadata": {},
     "output_type": "execute_result"
    }
   ],
   "source": [
    "f1 = e1(*(Pm*Qm*vector(ys))).simplify_full()\n",
    "f2 = e2(*(Pm*Qm*vector(ys))).simplify_full()\n",
    "f3 = e3(*(Pm*Qm*vector(ys))).simplify_full()\n",
    "f4 = e4(*(Pm*Qm*vector(ys))).simplify_full()\n",
    "f5 = e5(*(Pm*Qm*vector(ys))).simplify_full()\n",
    "\n",
    "f1, f2, f3, f4, f5"
   ]
  },
  {
   "cell_type": "code",
   "execution_count": 12,
   "metadata": {},
   "outputs": [],
   "source": [
    "def stereographic_proj(v):\n",
    "    \"\"\" Standard Stereographic projection with possible pre-rotation about X, Y and Z axis\"\"\"\n",
    "    w = vector(v)\n",
    "    return (w[0]/(1-w[2]),w[1]/(1-w[2]))\n",
    "\n",
    "def to_iso_spherical_coords(v):\n",
    "    x, y, z = v\n",
    "    r = sqrt(x^2+y^2+z^2)\n",
    "    theta = arccos(z/r)\n",
    "    phi = atan2(y,x)\n",
    "    return (r,theta,phi)\n",
    "\n",
    "def to_iso_sphere_coords(v):\n",
    "    r, theta, phi = to_iso_spherical_coords(v)\n",
    "    return (phi, theta) #(theta, phi)"
   ]
  },
  {
   "cell_type": "code",
   "execution_count": 13,
   "metadata": {},
   "outputs": [],
   "source": [
    "def legendre_poly(n):\n",
    "    return diff( (x^2-1)^n, x, n)/(2^n*factorial(n))\n",
    "\n",
    "def assoc_legendre_poly(m,l):\n",
    "    if m >= 0:\n",
    "        return (-1)^m * (1-x^2)^(m/2) *diff(legendre_poly(l),x,m)\n",
    "    else:\n",
    "        return (-1)^m * factorial(l-m) /factorial(l+m) * assoc_legendre_poly(-m,l)\n",
    "\n",
    "def real_sh(m,l):\n",
    "    return r^(l)*cos(m*phi)*assoc_legendre_poly(m,l)(x=cos(theta))\n",
    "\n",
    "def imag_sh(m,l):\n",
    "    return r^(l)*sin(m*phi)*assoc_legendre_poly(m,l)(x=cos(theta))\n",
    "\n",
    "def polar_to_euclid(f):\n",
    "    return ( f(theta=arccos(y2/r)) )(r=sqrt(y0^2+y1^2+y2^2), phi=atan2(y1,y0))\n",
    "\n",
    "def euclid_real(m,l):\n",
    "    return polar_to_euclid(real_sh(m,l)).simplify()\n",
    "\n",
    "def euclid_imag(m,l):\n",
    "    return polar_to_euclid(imag_sh(m,l)).simplify()\n",
    "\n",
    "def euclid_to_sphere(f):\n",
    "    return f(y0=r*sin(theta)*cos(phi),y1=r*sin(theta)*sin(phi),y2=r*cos(theta))"
   ]
  },
  {
   "cell_type": "code",
   "execution_count": 14,
   "metadata": {},
   "outputs": [],
   "source": [
    "def lap(f,vrs):\n",
    "    \"\"\" laplacian \"\"\"\n",
    "    return sum([diff(f,vi,2) for vi in vrs])\n",
    "\n",
    "def rep_lap(f,k,vrs):\n",
    "    \"\"\" repeated laplacian  \"\"\"\n",
    "    if k <= 0:\n",
    "        return f\n",
    "    elif k == 1:\n",
    "        return lap(f,vrs)\n",
    "    else:\n",
    "        return lap(rep_lap(f,k-1,vrs),vrs)\n",
    "    \n",
    "def semi_factorial(n):\n",
    "    \"\"\" product: n*(n-2)*(n-4)*...*1 \"\"\"\n",
    "    if n <= 1:\n",
    "        return 1\n",
    "    else:\n",
    "        return n*semi_factorial(n-2)\n",
    "    \n",
    "def harmonic_leading_term(f,n,vrs):\n",
    "    \"\"\" as in (1-33), pg 8 of Avery's Hyperspherical Harmonics, Applications in Quantu Theory \"\"\"\n",
    "    r_sq = sum([vi^2 for vi in vrs])\n",
    "    d = len(vrs)\n",
    "    return sum([ ((-1)^k)*semi_factorial(d+2*n-2*k-4) \\\n",
    "                / ( semi_factorial(2*k) * semi_factorial(d+2*n-4) ) \\\n",
    "                * (r_sq^k) * rep_lap(f,k,vrs) for k in range(floor(n/2)+1)])"
   ]
  },
  {
   "cell_type": "code",
   "execution_count": 15,
   "metadata": {},
   "outputs": [],
   "source": [
    "def rotation_matrix(theta):\n",
    "    return matrix([[cos(theta), -sin(theta)],\n",
    "                   [sin(theta),  cos(theta)]])"
   ]
  },
  {
   "cell_type": "code",
   "execution_count": 16,
   "metadata": {},
   "outputs": [
    {
     "data": {
      "text/html": [
       "<html><script type=\"math/tex; mode=display\">\\newcommand{\\Bold}[1]{\\mathbf{#1}}10 \\, x_{0}^{3} - \\frac{15}{2} \\, x_{0}^{2} x_{1} - \\frac{15}{2} \\, x_{0} x_{1}^{2} + 10 \\, x_{1}^{3} - \\frac{15}{2} \\, x_{0}^{2} x_{2} - \\frac{15}{2} \\, x_{1}^{2} x_{2} - \\frac{15}{2} \\, x_{0} x_{2}^{2} - \\frac{15}{2} \\, x_{1} x_{2}^{2} + 10 \\, x_{2}^{3} - \\frac{15}{2} \\, x_{0}^{2} x_{3} - \\frac{15}{2} \\, x_{1}^{2} x_{3} - \\frac{15}{2} \\, x_{2}^{2} x_{3} - \\frac{15}{2} \\, x_{0} x_{3}^{2} - \\frac{15}{2} \\, x_{1} x_{3}^{2} - \\frac{15}{2} \\, x_{2} x_{3}^{2} + 10 \\, x_{3}^{3} - \\frac{15}{2} \\, x_{0}^{2} x_{4} - \\frac{15}{2} \\, x_{1}^{2} x_{4} - \\frac{15}{2} \\, x_{2}^{2} x_{4} - \\frac{15}{2} \\, x_{3}^{2} x_{4} - \\frac{15}{2} \\, x_{0} x_{4}^{2} - \\frac{15}{2} \\, x_{1} x_{4}^{2} - \\frac{15}{2} \\, x_{2} x_{4}^{2} - \\frac{15}{2} \\, x_{3} x_{4}^{2} + 10 \\, x_{4}^{3}</script></html>"
      ],
      "text/plain": [
       "10*x0^3 - 15/2*x0^2*x1 - 15/2*x0*x1^2 + 10*x1^3 - 15/2*x0^2*x2 - 15/2*x1^2*x2 - 15/2*x0*x2^2 - 15/2*x1*x2^2 + 10*x2^3 - 15/2*x0^2*x3 - 15/2*x1^2*x3 - 15/2*x2^2*x3 - 15/2*x0*x3^2 - 15/2*x1*x3^2 - 15/2*x2*x3^2 + 10*x3^3 - 15/2*x0^2*x4 - 15/2*x1^2*x4 - 15/2*x2^2*x4 - 15/2*x3^2*x4 - 15/2*x0*x4^2 - 15/2*x1*x4^2 - 15/2*x2*x4^2 - 15/2*x3*x4^2 + 10*x4^3"
      ]
     },
     "execution_count": 16,
     "metadata": {},
     "output_type": "execute_result"
    }
   ],
   "source": [
    "# a harmonic symmetric function of degree 3 in 5 variables\n",
    "sym_fn_3 = 0\n",
    "ell = 3\n",
    "for vec in list(identity_matrix(5)):\n",
    "    sym_fn_3 += (r^ell*gegenbauer(ell,5/2-1,\n",
    "                                  (vec/norm(vec))*(vector(xs)/norm(vector(xs)))))\\\n",
    "    (r=sqrt(sum([xi^2 for xi in xs]))).simplify_full()\n",
    "\n",
    "# check symmetry\n",
    "assert (sym_fn_3(x0=x1,x1=x0)-sym_fn_3).expand() == 0\n",
    "assert (sym_fn_3(x0=x2,x2=x0)-sym_fn_3).expand() == 0\n",
    "assert (sym_fn_3(x0=x3,x3=x0)-sym_fn_3).expand() == 0\n",
    "assert (sym_fn_3(x0=x4,x4=x0)-sym_fn_3).expand() == 0\n",
    "\n",
    "# is harmonic\n",
    "assert lap(sym_fn_3,xs).simplify_full() == 0\n",
    "\n",
    "sym_fn_3.expand()"
   ]
  },
  {
   "cell_type": "code",
   "execution_count": 17,
   "metadata": {},
   "outputs": [
    {
     "name": "stdout",
     "output_type": "stream",
     "text": [
      "-35/6*sqrt(3)*x^3 - 21/4*sqrt(5)*x^2*y + 21/4*sqrt(5)*y^3\n",
      "-35/6*sqrt(3)*x^3 - 21/4*sqrt(5)*x^2*y + 21/4*sqrt(5)*y^3\n",
      "-35/6*sqrt(3)*x^3 - 21/4*sqrt(5)*x^2*y + 21/4*sqrt(5)*y^3\n",
      "-35/6*sqrt(3)*x^3 - 21/4*sqrt(5)*x^2*y + 21/4*sqrt(5)*y^3\n",
      "-35/6*sqrt(3)*x^3 - 21/4*sqrt(5)*x^2*y + 21/4*sqrt(5)*y^3\n",
      "-35/6*sqrt(3)*x^3 - 21/4*sqrt(5)*x^2*y + 21/4*sqrt(5)*y^3\n",
      "-21/4*sqrt(15)*sqrt(2)*x^2*y - 7/12*sqrt(15)*sqrt(2)*y^3\n",
      "-21/4*sqrt(15)*sqrt(2)*x^2*y - 7/12*sqrt(15)*sqrt(2)*y^3\n",
      "-21/4*sqrt(15)*sqrt(2)*x^2*y - 7/12*sqrt(15)*sqrt(2)*y^3\n",
      "63/32*sqrt(15)*sqrt(2)*x^2*y - 119/96*sqrt(15)*sqrt(2)*y^3 + 105/32*sqrt(2)*x^3 + 525/32*sqrt(2)*x*y^2\n"
     ]
    }
   ],
   "source": [
    "# does not vanish on the 3 body coincidences\n",
    "for tbi in tbi5s:\n",
    "    print( sym_fn_3(*(vector([x,y])*tbi)).expand() )"
   ]
  },
  {
   "cell_type": "code",
   "execution_count": 18,
   "metadata": {},
   "outputs": [
    {
     "name": "stdout",
     "output_type": "stream",
     "text": [
      "2.22985436262 0.0 4.96506923553\n"
     ]
    },
    {
     "data": {
      "image/png": "[encoded data removed]",
      "text/plain": [
       "Graphics object consisting of 3 graphics primitives"
      ]
     },
     "metadata": {},
     "output_type": "display_data"
    }
   ],
   "source": [
    "# all the cubics appear to be rotations of each other, though the algebraic values of the angles are not yet known\n",
    "theta1 = find_root(sym_fn_3(*(vector([1,0])*rotation_matrix(theta)*tbi5s[0])).simplify_full(),  0,   pi)\n",
    "theta2 = find_root(sym_fn_3(*(vector([1,0])*rotation_matrix(theta)*tbi5s[6])).simplify_full(),  0,   pi)\n",
    "theta3 = find_root(sym_fn_3(*(vector([1,0])*rotation_matrix(theta)*tbi5s[9])).simplify_full(), pi, 2*pi)\n",
    "\n",
    "print(theta1,theta2,theta3)\n",
    "\n",
    "P  = plot( sym_fn_3(*(vector([1,0])*rotation_matrix(theta+theta1)*tbi5s[0])), (theta,0,2*pi) )\n",
    "P += plot( sym_fn_3(*(vector([1,0])*rotation_matrix(theta+theta2)*tbi5s[6])), (theta,0,2*pi), color='green' )\n",
    "P += plot( sym_fn_3(*(vector([1,0])*rotation_matrix(theta+theta3)*tbi5s[9])), (theta,0,2*pi), color='red' )\n",
    "\n",
    "P.show()"
   ]
  },
  {
   "cell_type": "code",
   "execution_count": 19,
   "metadata": {},
   "outputs": [
    {
     "data": {
      "text/html": [
       "<html><script type=\"math/tex; mode=display\">\\newcommand{\\Bold}[1]{\\mathbf{#1}}\\frac{45}{2} \\, x_{0}^{4} - \\frac{135}{4} \\, x_{0}^{2} x_{1}^{2} + \\frac{45}{2} \\, x_{1}^{4} - \\frac{135}{4} \\, x_{0}^{2} x_{2}^{2} - \\frac{135}{4} \\, x_{1}^{2} x_{2}^{2} + \\frac{45}{2} \\, x_{2}^{4} - \\frac{135}{4} \\, x_{0}^{2} x_{3}^{2} - \\frac{135}{4} \\, x_{1}^{2} x_{3}^{2} - \\frac{135}{4} \\, x_{2}^{2} x_{3}^{2} + \\frac{45}{2} \\, x_{3}^{4} - \\frac{135}{4} \\, x_{0}^{2} x_{4}^{2} - \\frac{135}{4} \\, x_{1}^{2} x_{4}^{2} - \\frac{135}{4} \\, x_{2}^{2} x_{4}^{2} - \\frac{135}{4} \\, x_{3}^{2} x_{4}^{2} + \\frac{45}{2} \\, x_{4}^{4}</script></html>"
      ],
      "text/plain": [
       "45/2*x0^4 - 135/4*x0^2*x1^2 + 45/2*x1^4 - 135/4*x0^2*x2^2 - 135/4*x1^2*x2^2 + 45/2*x2^4 - 135/4*x0^2*x3^2 - 135/4*x1^2*x3^2 - 135/4*x2^2*x3^2 + 45/2*x3^4 - 135/4*x0^2*x4^2 - 135/4*x1^2*x4^2 - 135/4*x2^2*x4^2 - 135/4*x3^2*x4^2 + 45/2*x4^4"
      ]
     },
     "execution_count": 19,
     "metadata": {},
     "output_type": "execute_result"
    }
   ],
   "source": [
    "# a harmonic symmetric function of degree 4 in 5 variables\n",
    "sym_fn_4 = 0\n",
    "ell = 4\n",
    "for vec in list(identity_matrix(5)):\n",
    "    sym_fn_4 += (r^ell*gegenbauer(ell,5/2-1,\n",
    "                                  (vec/norm(vec))*(vector(xs)/norm(vector(xs)))))\\\n",
    "    (r=sqrt(sum([xi^2 for xi in xs]))).simplify_full()\n",
    "\n",
    "# check symmetry\n",
    "assert (sym_fn_4(x0=x1,x1=x0)-sym_fn_4).expand() == 0\n",
    "assert (sym_fn_4(x0=x2,x2=x0)-sym_fn_4).expand() == 0\n",
    "assert (sym_fn_4(x0=x3,x3=x0)-sym_fn_4).expand() == 0\n",
    "assert (sym_fn_4(x0=x4,x4=x0)-sym_fn_4).expand() == 0\n",
    "\n",
    "# is harmonic\n",
    "assert lap(sym_fn_4,xs).simplify_full() == 0\n",
    "\n",
    "sym_fn_4.expand()"
   ]
  },
  {
   "cell_type": "code",
   "execution_count": 20,
   "metadata": {},
   "outputs": [
    {
     "name": "stdout",
     "output_type": "stream",
     "text": [
      "21/4*sqrt(5)*sqrt(3)*x^3*y + 195/32*x^4 - 351/16*x^2*y^2 + 279/32*y^4\n",
      "21/4*sqrt(5)*sqrt(3)*x^3*y + 195/32*x^4 - 351/16*x^2*y^2 + 279/32*y^4\n",
      "21/4*sqrt(5)*sqrt(3)*x^3*y + 195/32*x^4 - 351/16*x^2*y^2 + 279/32*y^4\n",
      "21/4*sqrt(5)*sqrt(3)*x^3*y + 195/32*x^4 - 351/16*x^2*y^2 + 279/32*y^4\n",
      "21/4*sqrt(5)*sqrt(3)*x^3*y + 195/32*x^4 - 351/16*x^2*y^2 + 279/32*y^4\n",
      "21/4*sqrt(5)*sqrt(3)*x^3*y + 195/32*x^4 - 351/16*x^2*y^2 + 279/32*y^4\n",
      "45/16*x^4 + 297/8*x^2*y^2 - 123/16*y^4\n",
      "45/16*x^4 + 297/8*x^2*y^2 - 123/16*y^4\n",
      "45/16*x^4 + 297/8*x^2*y^2 - 123/16*y^4\n",
      "189/32*sqrt(15)*x^3*y - 105/32*sqrt(15)*x*y^3 - 585/128*x^4 + 1431/64*x^2*y^2 + 591/128*y^4\n"
     ]
    }
   ],
   "source": [
    "# does not vanish on the 3 body coincidences\n",
    "for tbi in tbi5s:\n",
    "    print( sym_fn_4(*(vector([x,y])*tbi)).expand() )"
   ]
  },
  {
   "cell_type": "code",
   "execution_count": 21,
   "metadata": {},
   "outputs": [
    {
     "name": "stdout",
     "output_type": "stream",
     "text": [
      "1.0832213821 1.99495967307 0.676843601413\n"
     ]
    },
    {
     "data": {
      "image/png": "[encoded data removed]",
      "text/plain": [
       "Graphics object consisting of 3 graphics primitives"
      ]
     },
     "metadata": {},
     "output_type": "display_data"
    }
   ],
   "source": [
    "# all the cubics appear to be rotations of each other, though the algebraic values of the angles are not yet known\n",
    "theta1 = find_root(sym_fn_4(*(vector([1,0])*rotation_matrix(theta)*tbi5s[0])).simplify_full(),  0,   pi)\n",
    "theta2 = find_root(sym_fn_4(*(vector([1,0])*rotation_matrix(theta)*tbi5s[6])).simplify_full(),  0,   pi)\n",
    "theta3 = find_root(sym_fn_4(*(vector([1,0])*rotation_matrix(theta)*tbi5s[9])).simplify_full(),  0, pi/2)\n",
    "\n",
    "print(theta1,theta2,theta3)\n",
    "\n",
    "P  = plot( sym_fn_4(*(vector([1,0])*rotation_matrix(theta+theta1)*tbi5s[0])), (theta,0,2*pi) )\n",
    "P += plot( sym_fn_4(*(vector([1,0])*rotation_matrix(theta+theta2)*tbi5s[6])), (theta,0,2*pi), color='green' )\n",
    "P += plot( sym_fn_4(*(vector([1,0])*rotation_matrix(theta+theta3)*tbi5s[9])), (theta,0,2*pi), color='red' )\n",
    "\n",
    "P.show()"
   ]
  },
  {
   "cell_type": "code",
   "execution_count": 22,
   "metadata": {},
   "outputs": [
    {
     "data": {
      "text/html": [
       "<html><script type=\"math/tex; mode=display\">\\newcommand{\\Bold}[1]{\\mathbf{#1}}21 \\, x_{0}^{5} + \\frac{105}{8} \\, x_{0}^{4} x_{1} - \\frac{105}{2} \\, x_{0}^{3} x_{1}^{2} - \\frac{105}{2} \\, x_{0}^{2} x_{1}^{3} + \\frac{105}{8} \\, x_{0} x_{1}^{4} + 21 \\, x_{1}^{5} + \\frac{105}{8} \\, x_{0}^{4} x_{2} + \\frac{105}{4} \\, x_{0}^{2} x_{1}^{2} x_{2} + \\frac{105}{8} \\, x_{1}^{4} x_{2} - \\frac{105}{2} \\, x_{0}^{3} x_{2}^{2} + \\frac{105}{4} \\, x_{0}^{2} x_{1} x_{2}^{2} + \\frac{105}{4} \\, x_{0} x_{1}^{2} x_{2}^{2} - \\frac{105}{2} \\, x_{1}^{3} x_{2}^{2} - \\frac{105}{2} \\, x_{0}^{2} x_{2}^{3} - \\frac{105}{2} \\, x_{1}^{2} x_{2}^{3} + \\frac{105}{8} \\, x_{0} x_{2}^{4} + \\frac{105}{8} \\, x_{1} x_{2}^{4} + 21 \\, x_{2}^{5} + \\frac{105}{8} \\, x_{0}^{4} x_{3} + \\frac{105}{4} \\, x_{0}^{2} x_{1}^{2} x_{3} + \\frac{105}{8} \\, x_{1}^{4} x_{3} + \\frac{105}{4} \\, x_{0}^{2} x_{2}^{2} x_{3} + \\frac{105}{4} \\, x_{1}^{2} x_{2}^{2} x_{3} + \\frac{105}{8} \\, x_{2}^{4} x_{3} - \\frac{105}{2} \\, x_{0}^{3} x_{3}^{2} + \\frac{105}{4} \\, x_{0}^{2} x_{1} x_{3}^{2} + \\frac{105}{4} \\, x_{0} x_{1}^{2} x_{3}^{2} - \\frac{105}{2} \\, x_{1}^{3} x_{3}^{2} + \\frac{105}{4} \\, x_{0}^{2} x_{2} x_{3}^{2} + \\frac{105}{4} \\, x_{1}^{2} x_{2} x_{3}^{2} + \\frac{105}{4} \\, x_{0} x_{2}^{2} x_{3}^{2} + \\frac{105}{4} \\, x_{1} x_{2}^{2} x_{3}^{2} - \\frac{105}{2} \\, x_{2}^{3} x_{3}^{2} - \\frac{105}{2} \\, x_{0}^{2} x_{3}^{3} - \\frac{105}{2} \\, x_{1}^{2} x_{3}^{3} - \\frac{105}{2} \\, x_{2}^{2} x_{3}^{3} + \\frac{105}{8} \\, x_{0} x_{3}^{4} + \\frac{105}{8} \\, x_{1} x_{3}^{4} + \\frac{105}{8} \\, x_{2} x_{3}^{4} + 21 \\, x_{3}^{5} + \\frac{105}{8} \\, x_{0}^{4} x_{4} + \\frac{105}{4} \\, x_{0}^{2} x_{1}^{2} x_{4} + \\frac{105}{8} \\, x_{1}^{4} x_{4} + \\frac{105}{4} \\, x_{0}^{2} x_{2}^{2} x_{4} + \\frac{105}{4} \\, x_{1}^{2} x_{2}^{2} x_{4} + \\frac{105}{8} \\, x_{2}^{4} x_{4} + \\frac{105}{4} \\, x_{0}^{2} x_{3}^{2} x_{4} + \\frac{105}{4} \\, x_{1}^{2} x_{3}^{2} x_{4} + \\frac{105}{4} \\, x_{2}^{2} x_{3}^{2} x_{4} + \\frac{105}{8} \\, x_{3}^{4} x_{4} - \\frac{105}{2} \\, x_{0}^{3} x_{4}^{2} + \\frac{105}{4} \\, x_{0}^{2} x_{1} x_{4}^{2} + \\frac{105}{4} \\, x_{0} x_{1}^{2} x_{4}^{2} - \\frac{105}{2} \\, x_{1}^{3} x_{4}^{2} + \\frac{105}{4} \\, x_{0}^{2} x_{2} x_{4}^{2} + \\frac{105}{4} \\, x_{1}^{2} x_{2} x_{4}^{2} + \\frac{105}{4} \\, x_{0} x_{2}^{2} x_{4}^{2} + \\frac{105}{4} \\, x_{1} x_{2}^{2} x_{4}^{2} - \\frac{105}{2} \\, x_{2}^{3} x_{4}^{2} + \\frac{105}{4} \\, x_{0}^{2} x_{3} x_{4}^{2} + \\frac{105}{4} \\, x_{1}^{2} x_{3} x_{4}^{2} + \\frac{105}{4} \\, x_{2}^{2} x_{3} x_{4}^{2} + \\frac{105}{4} \\, x_{0} x_{3}^{2} x_{4}^{2} + \\frac{105}{4} \\, x_{1} x_{3}^{2} x_{4}^{2} + \\frac{105}{4} \\, x_{2} x_{3}^{2} x_{4}^{2} - \\frac{105}{2} \\, x_{3}^{3} x_{4}^{2} - \\frac{105}{2} \\, x_{0}^{2} x_{4}^{3} - \\frac{105}{2} \\, x_{1}^{2} x_{4}^{3} - \\frac{105}{2} \\, x_{2}^{2} x_{4}^{3} - \\frac{105}{2} \\, x_{3}^{2} x_{4}^{3} + \\frac{105}{8} \\, x_{0} x_{4}^{4} + \\frac{105}{8} \\, x_{1} x_{4}^{4} + \\frac{105}{8} \\, x_{2} x_{4}^{4} + \\frac{105}{8} \\, x_{3} x_{4}^{4} + 21 \\, x_{4}^{5}</script></html>"
      ],
      "text/plain": [
       "21*x0^5 + 105/8*x0^4*x1 - 105/2*x0^3*x1^2 - 105/2*x0^2*x1^3 + 105/8*x0*x1^4 + 21*x1^5 + 105/8*x0^4*x2 + 105/4*x0^2*x1^2*x2 + 105/8*x1^4*x2 - 105/2*x0^3*x2^2 + 105/4*x0^2*x1*x2^2 + 105/4*x0*x1^2*x2^2 - 105/2*x1^3*x2^2 - 105/2*x0^2*x2^3 - 105/2*x1^2*x2^3 + 105/8*x0*x2^4 + 105/8*x1*x2^4 + 21*x2^5 + 105/8*x0^4*x3 + 105/4*x0^2*x1^2*x3 + 105/8*x1^4*x3 + 105/4*x0^2*x2^2*x3 + 105/4*x1^2*x2^2*x3 + 105/8*x2^4*x3 - 105/2*x0^3*x3^2 + 105/4*x0^2*x1*x3^2 + 105/4*x0*x1^2*x3^2 - 105/2*x1^3*x3^2 + 105/4*x0^2*x2*x3^2 + 105/4*x1^2*x2*x3^2 + 105/4*x0*x2^2*x3^2 + 105/4*x1*x2^2*x3^2 - 105/2*x2^3*x3^2 - 105/2*x0^2*x3^3 - 105/2*x1^2*x3^3 - 105/2*x2^2*x3^3 + 105/8*x0*x3^4 + 105/8*x1*x3^4 + 105/8*x2*x3^4 + 21*x3^5 + 105/8*x0^4*x4 + 105/4*x0^2*x1^2*x4 + 105/8*x1^4*x4 + 105/4*x0^2*x2^2*x4 + 105/4*x1^2*x2^2*x4 + 105/8*x2^4*x4 + 105/4*x0^2*x3^2*x4 + 105/4*x1^2*x3^2*x4 + 105/4*x2^2*x3^2*x4 + 105/8*x3^4*x4 - 105/2*x0^3*x4^2 + 105/4*x0^2*x1*x4^2 + 105/4*x0*x1^2*x4^2 - 105/2*x1^3*x4^2 + 105/4*x0^2*x2*x4^2 + 105/4*x1^2*x2*x4^2 + 105/4*x0*x2^2*x4^2 + 105/4*x1*x2^2*x4^2 - 105/2*x2^3*x4^2 + 105/4*x0^2*x3*x4^2 + 105/4*x1^2*x3*x4^2 + 105/4*x2^2*x3*x4^2 + 105/4*x0*x3^2*x4^2 + 105/4*x1*x3^2*x4^2 + 105/4*x2*x3^2*x4^2 - 105/2*x3^3*x4^2 - 105/2*x0^2*x4^3 - 105/2*x1^2*x4^3 - 105/2*x2^2*x4^3 - 105/2*x3^2*x4^3 + 105/8*x0*x4^4 + 105/8*x1*x4^4 + 105/8*x2*x4^4 + 105/8*x3*x4^4 + 21*x4^5"
      ]
     },
     "execution_count": 22,
     "metadata": {},
     "output_type": "execute_result"
    }
   ],
   "source": [
    "# a harmonic symmetric function of degree 5 in 5 variables\n",
    "sym_fn_5 = 0\n",
    "ell = 5\n",
    "for vec in list(identity_matrix(5)):\n",
    "    sym_fn_5 += (r^ell*gegenbauer(ell,5/2-1,\n",
    "                                  (vec/norm(vec))*(vector(xs)/norm(vector(xs)))))\\\n",
    "    (r=sqrt(sum([xi^2 for xi in xs]))).simplify_full()\n",
    "\n",
    "# check symmetry\n",
    "assert (sym_fn_5(x0=x1,x1=x0)-sym_fn_5).expand() == 0\n",
    "assert (sym_fn_5(x0=x2,x2=x0)-sym_fn_5).expand() == 0\n",
    "assert (sym_fn_5(x0=x3,x3=x0)-sym_fn_5).expand() == 0\n",
    "assert (sym_fn_5(x0=x4,x4=x0)-sym_fn_5).expand() == 0\n",
    "\n",
    "# is harmonic\n",
    "assert lap(sym_fn_5,xs).simplify_full() == 0\n",
    "\n",
    "sym_fn_5.expand()"
   ]
  },
  {
   "cell_type": "code",
   "execution_count": 23,
   "metadata": {},
   "outputs": [
    {
     "name": "stdout",
     "output_type": "stream",
     "text": [
      "35/16*sqrt(3)*x^5 - 105/64*sqrt(5)*x^4*y + 189/16*sqrt(3)*x^3*y^2 - 693/160*sqrt(5)*x^2*y^3 - 2457/1600*sqrt(5)*y^5\n",
      "35/16*sqrt(3)*x^5 - 105/64*sqrt(5)*x^4*y + 189/16*sqrt(3)*x^3*y^2 - 693/160*sqrt(5)*x^2*y^3 - 2457/1600*sqrt(5)*y^5\n",
      "35/16*sqrt(3)*x^5 - 105/64*sqrt(5)*x^4*y + 189/16*sqrt(3)*x^3*y^2 - 693/160*sqrt(5)*x^2*y^3 - 2457/1600*sqrt(5)*y^5\n",
      "35/16*sqrt(3)*x^5 - 105/64*sqrt(5)*x^4*y + 189/16*sqrt(3)*x^3*y^2 - 693/160*sqrt(5)*x^2*y^3 - 2457/1600*sqrt(5)*y^5\n",
      "35/16*sqrt(3)*x^5 - 105/64*sqrt(5)*x^4*y + 189/16*sqrt(3)*x^3*y^2 - 693/160*sqrt(5)*x^2*y^3 - 2457/1600*sqrt(5)*y^5\n",
      "35/16*sqrt(3)*x^5 - 105/64*sqrt(5)*x^4*y + 189/16*sqrt(3)*x^3*y^2 - 693/160*sqrt(5)*x^2*y^3 - 2457/1600*sqrt(5)*y^5\n",
      "63/32*sqrt(15)*sqrt(2)*x^4*y + 21/80*sqrt(15)*sqrt(2)*x^2*y^3 + 1099/800*sqrt(15)*sqrt(2)*y^5\n",
      "63/32*sqrt(15)*sqrt(2)*x^4*y + 21/80*sqrt(15)*sqrt(2)*x^2*y^3 + 1099/800*sqrt(15)*sqrt(2)*y^5\n",
      "63/32*sqrt(15)*sqrt(2)*x^4*y + 21/80*sqrt(15)*sqrt(2)*x^2*y^3 + 1099/800*sqrt(15)*sqrt(2)*y^5\n",
      "1323/1024*sqrt(15)*sqrt(2)*x^4*y - 3087/2560*sqrt(15)*sqrt(2)*x^2*y^3 + 11207/25600*sqrt(15)*sqrt(2)*y^5 - 4725/1024*sqrt(2)*x^5 - 3087/512*sqrt(2)*x^3*y^2 - 5145/1024*sqrt(2)*x*y^4\n"
     ]
    }
   ],
   "source": [
    "# does not vanish on the 3 body coincidences\n",
    "for tbi in tbi5s:\n",
    "    print( sym_fn_5(*(vector([x,y])*tbi)).expand() )"
   ]
  },
  {
   "cell_type": "code",
   "execution_count": 24,
   "metadata": {},
   "outputs": [
    {
     "name": "stdout",
     "output_type": "stream",
     "text": [
      "2.22985436262 0.0 4.96506923553\n"
     ]
    },
    {
     "data": {
      "image/png": "[encoded data removed]",
      "text/plain": [
       "Graphics object consisting of 3 graphics primitives"
      ]
     },
     "metadata": {},
     "output_type": "display_data"
    }
   ],
   "source": [
    "# all the cubics appear to be rotations of each other, though the algebraic values of the angles are not yet known\n",
    "theta1 = find_root(sym_fn_5(*(vector([1,0])*rotation_matrix(theta)*tbi5s[0])).simplify_full(),  0,   pi)\n",
    "theta2 = find_root(sym_fn_5(*(vector([1,0])*rotation_matrix(theta)*tbi5s[6])).simplify_full(),  0,   pi)\n",
    "theta3 = find_root(sym_fn_5(*(vector([1,0])*rotation_matrix(theta)*tbi5s[9])).simplify_full(), pi, 2*pi)\n",
    "\n",
    "print(theta1,theta2,theta3)\n",
    "\n",
    "P  = plot( sym_fn_5(*(vector([1,0])*rotation_matrix(theta+theta1)*tbi5s[0])), (theta,0,2*pi) )\n",
    "P += plot( sym_fn_5(*(vector([1,0])*rotation_matrix(theta+theta2)*tbi5s[6])), (theta,0,2*pi), color='green' )\n",
    "P += plot( sym_fn_5(*(vector([1,0])*rotation_matrix(theta+theta3)*tbi5s[9])), (theta,0,2*pi), color='red' )\n",
    "\n",
    "P.show()"
   ]
  },
  {
   "cell_type": "code",
   "execution_count": null,
   "metadata": {},
   "outputs": [],
   "source": []
  },
  {
   "cell_type": "code",
   "execution_count": 25,
   "metadata": {},
   "outputs": [
    {
     "name": "stdout",
     "output_type": "stream",
     "text": [
      "0 \t 1\n",
      "1 \t 0\n",
      "2 \t 0\n",
      "3 \t 1\n",
      "4 \t 1\n",
      "5 \t 1\n",
      "6 \t 1\n",
      "7 \t 1\n",
      "8 \t 2\n",
      "9 \t 2\n",
      "10 \t 2\n",
      "11 \t 2\n",
      "12 \t 3\n",
      "13 \t 3\n",
      "14 \t 3\n",
      "15 \t 4\n",
      "16 \t 4\n",
      "17 \t 4\n",
      "18 \t 5\n",
      "19 \t 5\n",
      "20 \t 6\n",
      "21 \t 6\n",
      "22 \t 6\n",
      "23 \t 7\n",
      "24 \t 8\n",
      "25 \t 8\n",
      "26 \t 8\n",
      "27 \t 9\n",
      "28 \t 10\n",
      "29 \t 10\n",
      "30 \t 11\n"
     ]
    }
   ],
   "source": [
    "def num_partitions(n,coins):\n",
    "    counts = [0]*(n+1)\n",
    "    for v in itertools.product(range(n+1),repeat=len(coins)):\n",
    "        value = vector(v) * vector(coins)\n",
    "        if value <= n:\n",
    "            counts[value] += 1\n",
    "    return counts\n",
    "\n",
    "for count in enumerate(num_partitions(30,coins=[3,4,5])):\n",
    "    print( count[0], '\\t', count[1] )"
   ]
  },
  {
   "cell_type": "code",
   "execution_count": 26,
   "metadata": {},
   "outputs": [],
   "source": [
    "wv_8_a = harmonic_leading_term(sym_fn_3*sym_fn_5,8,xs)\n",
    "wv_8_b = harmonic_leading_term(sym_fn_4^2,8,xs)"
   ]
  },
  {
   "cell_type": "code",
   "execution_count": 27,
   "metadata": {},
   "outputs": [],
   "source": [
    "circ_a = (wv_8_a(*(vector([1,0])*rotation_matrix(theta)*tbi5s[6]))).expand()\n",
    "circ_b = (wv_8_b(*(vector([1,0])*rotation_matrix(theta)*tbi5s[6]))).expand()"
   ]
  },
  {
   "cell_type": "code",
   "execution_count": 28,
   "metadata": {},
   "outputs": [
    {
     "data": {
      "image/png": "[encoded data removed]",
      "text/plain": [
       "Graphics object consisting of 2 graphics primitives"
      ]
     },
     "metadata": {},
     "output_type": "display_data"
    }
   ],
   "source": [
    "P  = plot( circ_a, (theta,0,2*pi), color='red' )\n",
    "P += plot( circ_b, (theta,0,2*pi), color='green' )\n",
    "\n",
    "P.show()"
   ]
  },
  {
   "cell_type": "code",
   "execution_count": 29,
   "metadata": {},
   "outputs": [],
   "source": [
    "circ_a /= circ_a(pi)\n",
    "circ_b /= circ_b(pi)"
   ]
  },
  {
   "cell_type": "code",
   "execution_count": 30,
   "metadata": {},
   "outputs": [
    {
     "data": {
      "image/png": "[encoded data removed]",
      "text/plain": [
       "Graphics object consisting of 3 graphics primitives"
      ]
     },
     "metadata": {},
     "output_type": "display_data"
    }
   ],
   "source": [
    "P  = plot( circ_a, (theta,0,2*pi), color='red' )\n",
    "P += plot( circ_b, (theta,0,2*pi), color='green' )\n",
    "P += plot( circ_b - circ_a, (theta,0,2*pi), color='blue' )\n",
    "\n",
    "P.show()"
   ]
  },
  {
   "cell_type": "code",
   "execution_count": 31,
   "metadata": {},
   "outputs": [
    {
     "data": {
      "text/html": [
       "<html><script type=\"math/tex; mode=display\">\\newcommand{\\Bold}[1]{\\mathbf{#1}}-\\frac{47498}{154775} \\, \\cos\\left(8 \\, \\theta\\right) - \\frac{237248}{1392975} \\, \\cos\\left(6 \\, \\theta\\right) - \\frac{716023}{928650} \\, \\cos\\left(4 \\, \\theta\\right) - \\frac{637307}{928650} \\, \\cos\\left(2 \\, \\theta\\right) + \\frac{2629}{1359}</script></html>"
      ],
      "text/plain": [
       "-47498/154775*cos(8*theta) - 237248/1392975*cos(6*theta) - 716023/928650*cos(4*theta) - 637307/928650*cos(2*theta) + 2629/1359"
      ]
     },
     "execution_count": 31,
     "metadata": {},
     "output_type": "execute_result"
    }
   ],
   "source": [
    "(circ_b - circ_a).trig_reduce()"
   ]
  },
  {
   "cell_type": "code",
   "execution_count": null,
   "metadata": {},
   "outputs": [],
   "source": []
  },
  {
   "cell_type": "code",
   "execution_count": null,
   "metadata": {},
   "outputs": [],
   "source": []
  },
  {
   "cell_type": "code",
   "execution_count": null,
   "metadata": {},
   "outputs": [],
   "source": []
  },
  {
   "cell_type": "code",
   "execution_count": null,
   "metadata": {},
   "outputs": [],
   "source": []
  },
  {
   "cell_type": "code",
   "execution_count": 32,
   "metadata": {},
   "outputs": [],
   "source": [
    "wv_12_a = harmonic_leading_term(sym_fn_3^4,8,xs).expand()\n",
    "wv_12_b = harmonic_leading_term(sym_fn_4^3,8,xs).expand()\n",
    "wv_12_c = harmonic_leading_term(sym_fn_3*sym_fn_4*sym_fn_5,8,xs).expand()"
   ]
  },
  {
   "cell_type": "code",
   "execution_count": 33,
   "metadata": {},
   "outputs": [
    {
     "data": {
      "text/html": [
       "<html><script type=\"math/tex; mode=display\">\\newcommand{\\Bold}[1]{\\mathbf{#1}}-\\frac{11319}{1280} \\, \\cos\\left(12 \\, \\theta\\right) - \\frac{264453}{4352} \\, \\cos\\left(10 \\, \\theta\\right) + \\frac{289443}{87040} \\, \\cos\\left(8 \\, \\theta\\right) - \\frac{40719}{35360} \\, \\cos\\left(6 \\, \\theta\\right) + \\frac{1853226711}{24893440} \\, \\cos\\left(4 \\, \\theta\\right) + \\frac{2097621729}{24893440} \\, \\cos\\left(2 \\, \\theta\\right) + \\frac{203994693}{1244672}</script></html>"
      ],
      "text/plain": [
       "-11319/1280*cos(12*theta) - 264453/4352*cos(10*theta) + 289443/87040*cos(8*theta) - 40719/35360*cos(6*theta) + 1853226711/24893440*cos(4*theta) + 2097621729/24893440*cos(2*theta) + 203994693/1244672"
      ]
     },
     "execution_count": 33,
     "metadata": {},
     "output_type": "execute_result"
    }
   ],
   "source": [
    "(wv_12_c(*(vector([1,0])*rotation_matrix(theta)*tbi5s[6]))).trig_reduce()"
   ]
  },
  {
   "cell_type": "code",
   "execution_count": 34,
   "metadata": {},
   "outputs": [],
   "source": [
    "circ12_a = (wv_12_a(*(vector([1,0])*rotation_matrix(theta)*tbi5s[6]))).trig_reduce()\n",
    "circ12_b = (wv_12_b(*(vector([1,0])*rotation_matrix(theta)*tbi5s[6]))).trig_reduce()\n",
    "circ12_c = (wv_12_c(*(vector([1,0])*rotation_matrix(theta)*tbi5s[6]))).trig_reduce()"
   ]
  },
  {
   "cell_type": "code",
   "execution_count": 35,
   "metadata": {},
   "outputs": [
    {
     "data": {
      "image/png": "[encoded data removed]",
      "text/plain": [
       "Graphics object consisting of 3 graphics primitives"
      ]
     },
     "metadata": {},
     "output_type": "display_data"
    }
   ],
   "source": [
    "P  = plot( circ12_a, (theta,0,2*pi), color='red' )\n",
    "P += plot( circ12_b, (theta,0,2*pi), color='green' )\n",
    "P += plot( circ12_c, (theta,0,2*pi), color='blue' )\n",
    "\n",
    "P.show()"
   ]
  },
  {
   "cell_type": "code",
   "execution_count": 36,
   "metadata": {},
   "outputs": [
    {
     "data": {
      "text/html": [
       "<html><script type=\"math/tex; mode=display\">\\newcommand{\\Bold}[1]{\\mathbf{#1}}\\left[c_{0} = -\\frac{11324445683337}{68190135764080} \\, r_{1}, c_{1} = \\frac{11440854082408}{23014170820377} \\, r_{1}, c_{2} = r_{1}\\right]</script></html>"
      ],
      "text/plain": [
       "[c0 == -11324445683337/68190135764080*r1,\n",
       " c1 == 11440854082408/23014170820377*r1,\n",
       " c2 == r1]"
      ]
     },
     "execution_count": 36,
     "metadata": {},
     "output_type": "execute_result"
    }
   ],
   "source": [
    "coeffs = var(['c{}'.format(n) for n in range(3)])\n",
    "\n",
    "solve( [coeffs[0]*circ12_a(pi) + coeffs[1]*circ12_b(pi) + coeffs[2]*circ12_c(pi)==0,\n",
    "        coeffs[0]*circ12_a(pi/2) + coeffs[1]*circ12_b(pi/2) + coeffs[2]*circ12_c(pi/2)==0], coeffs)[0]\n"
   ]
  },
  {
   "cell_type": "code",
   "execution_count": 37,
   "metadata": {},
   "outputs": [
    {
     "data": {
      "text/html": [
       "<html><script type=\"math/tex; mode=display\">\\newcommand{\\Bold}[1]{\\mathbf{#1}}\\frac{60025}{288} \\, c_{0} \\cos\\left(12 \\, \\theta\\right) - \\frac{9261}{256} \\, c_{1} \\cos\\left(12 \\, \\theta\\right) - \\frac{11319}{1280} \\, c_{2} \\cos\\left(12 \\, \\theta\\right) - \\frac{60025}{816} \\, c_{0} \\cos\\left(10 \\, \\theta\\right) - \\frac{639009}{4352} \\, c_{1} \\cos\\left(10 \\, \\theta\\right) - \\frac{264453}{4352} \\, c_{2} \\cos\\left(10 \\, \\theta\\right) + \\frac{780325}{3264} \\, c_{0} \\cos\\left(8 \\, \\theta\\right) - \\frac{964467}{43520} \\, c_{1} \\cos\\left(8 \\, \\theta\\right) + \\frac{289443}{87040} \\, c_{2} \\cos\\left(8 \\, \\theta\\right) + \\frac{48338255}{127296} \\, c_{0} \\cos\\left(6 \\, \\theta\\right) + \\frac{8733123}{282880} \\, c_{1} \\cos\\left(6 \\, \\theta\\right) - \\frac{40719}{35360} \\, c_{2} \\cos\\left(6 \\, \\theta\\right) + \\frac{491106175}{1244672} \\, c_{0} \\cos\\left(4 \\, \\theta\\right) + \\frac{2876980113}{12446720} \\, c_{1} \\cos\\left(4 \\, \\theta\\right) + \\frac{1853226711}{24893440} \\, c_{2} \\cos\\left(4 \\, \\theta\\right) + \\frac{37935065}{311168} \\, c_{0} \\cos\\left(2 \\, \\theta\\right) + \\frac{204906429}{957440} \\, c_{1} \\cos\\left(2 \\, \\theta\\right) + \\frac{2097621729}{24893440} \\, c_{2} \\cos\\left(2 \\, \\theta\\right) + \\frac{565784155}{287232} \\, c_{0} + \\frac{174658923}{585728} \\, c_{1} + \\frac{203994693}{1244672} \\, c_{2}</script></html>"
      ],
      "text/plain": [
       "60025/288*c0*cos(12*theta) - 9261/256*c1*cos(12*theta) - 11319/1280*c2*cos(12*theta) - 60025/816*c0*cos(10*theta) - 639009/4352*c1*cos(10*theta) - 264453/4352*c2*cos(10*theta) + 780325/3264*c0*cos(8*theta) - 964467/43520*c1*cos(8*theta) + 289443/87040*c2*cos(8*theta) + 48338255/127296*c0*cos(6*theta) + 8733123/282880*c1*cos(6*theta) - 40719/35360*c2*cos(6*theta) + 491106175/1244672*c0*cos(4*theta) + 2876980113/12446720*c1*cos(4*theta) + 1853226711/24893440*c2*cos(4*theta) + 37935065/311168*c0*cos(2*theta) + 204906429/957440*c1*cos(2*theta) + 2097621729/24893440*c2*cos(2*theta) + 565784155/287232*c0 + 174658923/585728*c1 + 203994693/1244672*c2"
      ]
     },
     "execution_count": 37,
     "metadata": {},
     "output_type": "execute_result"
    }
   ],
   "source": [
    "(coeffs[0]*circ12_a + coeffs[1]*circ12_b + coeffs[2]*circ12_c).trig_reduce()"
   ]
  },
  {
   "cell_type": "code",
   "execution_count": 38,
   "metadata": {},
   "outputs": [
    {
     "data": {
      "text/html": [
       "<html><script type=\"math/tex; mode=display\">\\newcommand{\\Bold}[1]{\\mathbf{#1}}\\left[\\left[c_{0} = 0, c_{1} = 0, c_{2} = 0\\right]\\right]</script></html>"
      ],
      "text/plain": [
       "[[c0 == 0, c1 == 0, c2 == 0]]"
      ]
     },
     "execution_count": 38,
     "metadata": {},
     "output_type": "execute_result"
    }
   ],
   "source": [
    "solve([491106175/1244672*c0 + 2876980113/12446720*c1 + 1853226711/24893440*c2 == 0,\n",
    "       37935065/311168*c0 + 204906429/957440*c1 + 2097621729/24893440*c2 == 0,\n",
    "       565784155/287232*c0 + 174658923/585728*c1 + 203994693/1244672*c2 ==0], [c0,c1,c2])"
   ]
  },
  {
   "cell_type": "code",
   "execution_count": null,
   "metadata": {},
   "outputs": [],
   "source": []
  },
  {
   "cell_type": "code",
   "execution_count": 39,
   "metadata": {},
   "outputs": [],
   "source": [
    "R.<x0p,x1p,x2p,x3p,x4p> = PolynomialRing(AA)\n",
    "xps = [x0p,x1p,x2p,x3p,x4p]\n",
    "a_e1 = R(e1(x0=x0p,x1=x1p,x2=x2p,x3=x3p,x4=x4p))\n",
    "a_e2 = R(e2(x0=x0p,x1=x1p,x2=x2p,x3=x3p,x4=x4p))\n",
    "a_e3 = R(e3(x0=x0p,x1=x1p,x2=x2p,x3=x3p,x4=x4p))\n",
    "a_e4 = R(e4(x0=x0p,x1=x1p,x2=x2p,x3=x3p,x4=x4p))\n",
    "a_e5 = R(e5(x0=x0p,x1=x1p,x2=x2p,x3=x3p,x4=x4p))\n",
    "a_p1 = R(p1(x0=x0p,x1=x1p,x2=x2p,x3=x3p,x4=x4p))\n",
    "a_p2 = R(p2(x0=x0p,x1=x1p,x2=x2p,x3=x3p,x4=x4p))\n",
    "a_p3 = R(p3(x0=x0p,x1=x1p,x2=x2p,x3=x3p,x4=x4p))\n",
    "a_p4 = R(p4(x0=x0p,x1=x1p,x2=x2p,x3=x3p,x4=x4p))\n",
    "a_p5 = R(p5(x0=x0p,x1=x1p,x2=x2p,x3=x3p,x4=x4p))"
   ]
  },
  {
   "cell_type": "code",
   "execution_count": null,
   "metadata": {},
   "outputs": [],
   "source": [
    "degree = 3*4*5\n",
    "\n",
    "exponents = [ (i,j,k) for i,j,k in itertools.product(range(degree/3),repeat=3) if 3*i + 4*j + 5*k == degree ]\n",
    "\n",
    "sym_polys = ( (a_e3^i * a_e4^j * a_e5^k) for i,j,k in exponents )\n",
    "\n",
    "harm_polys = [ harmonic_leading_term(p,degree,xps) for p in sym_polys ]\n",
    "\n",
    "coeffs = var(['c{}'.format(n) for n in range(len(harm_polys))])"
   ]
  },
  {
   "cell_type": "code",
   "execution_count": null,
   "metadata": {},
   "outputs": [],
   "source": [
    "circs_gen1 = ( (hp(*(vector([1,0])*rotation_matrix(theta)*tbi5s[6]))) for hp in harm_polys )\n",
    "circs_gen2 = ( f.trig_reduce() for f in circs )\n",
    "circs      = [ f.expand()      for f in circs]"
   ]
  },
  {
   "cell_type": "code",
   "execution_count": null,
   "metadata": {},
   "outputs": [],
   "source": [
    "def half_ass_ft(f, degree):\n",
    "    cos_series = [ integrate( f*cos(n*theta)/pi, (theta,0,2*pi)) for n in range(  degree+1) ]\n",
    "    sin_series = [ integrate( f*sin(n*theta)/pi, (theta,0,2*pi)) for n in range(1,degree+1) ]\n",
    "    return vector(cos_series + sin_series)"
   ]
  },
  {
   "cell_type": "code",
   "execution_count": null,
   "metadata": {},
   "outputs": [],
   "source": [
    "p_vecs = [ half_ass_ft(fn, degree) for fn in circs ]\n",
    "\n",
    "len(harm_polys) - matrix(p_vecs).rank()"
   ]
  },
  {
   "cell_type": "code",
   "execution_count": null,
   "metadata": {},
   "outputs": [],
   "source": [
    "soln = solve([ row == 0 for row in vector(coeffs)*matrix(p_vecs)], coeffs)\n",
    "\n",
    "soln"
   ]
  },
  {
   "cell_type": "code",
   "execution_count": null,
   "metadata": {},
   "outputs": [],
   "source": [
    "vrs = list(set().union(*[ s.rhs().variables() for s in soln ]))\n",
    "vrs"
   ]
  },
  {
   "cell_type": "code",
   "execution_count": null,
   "metadata": {},
   "outputs": [],
   "source": [
    "soln_a = vector([ eqn(r42=1,r43=0).rhs() for eqn in soln ])\n",
    "\n",
    "soln_a"
   ]
  },
  {
   "cell_type": "code",
   "execution_count": null,
   "metadata": {},
   "outputs": [],
   "source": [
    "lap(harm30_polys[0],[x0p,x1p,x2p,x3p,x4p])"
   ]
  },
  {
   "cell_type": "code",
   "execution_count": null,
   "metadata": {},
   "outputs": [],
   "source": []
  },
  {
   "cell_type": "code",
   "execution_count": null,
   "metadata": {},
   "outputs": [],
   "source": []
  },
  {
   "cell_type": "code",
   "execution_count": 126,
   "metadata": {},
   "outputs": [
    {
     "data": {
      "text/html": [
       "<html><script type=\"math/tex; mode=display\">\\newcommand{\\Bold}[1]{\\mathbf{#1}}\\left(3125,\\,-\\frac{4096}{81},\\,\\frac{6400}{27},\\,-250,\\,0,\\,0,\\,-\\frac{1}{3},\\,1,\\,0,\\,0\\right)</script></html>"
      ],
      "text/plain": [
       "(3125, -4096/81, 6400/27, -250, 0, 0, -1/3, 1, 0, 0)"
      ]
     },
     "execution_count": 126,
     "metadata": {},
     "output_type": "execute_result"
    }
   ],
   "source": [
    "soln_b = vector([ eqn(r42=0,r43=1).rhs() for eqn in soln ])\n",
    "\n",
    "soln_b"
   ]
  },
  {
   "cell_type": "code",
   "execution_count": null,
   "metadata": {},
   "outputs": [],
   "source": []
  },
  {
   "cell_type": "code",
   "execution_count": null,
   "metadata": {},
   "outputs": [],
   "source": []
  },
  {
   "cell_type": "code",
   "execution_count": null,
   "metadata": {},
   "outputs": [],
   "source": []
  },
  {
   "cell_type": "code",
   "execution_count": 73,
   "metadata": {},
   "outputs": [
    {
     "data": {
      "text/plain": [
       "-2097152/600677490234375*x^30 + 524288/13348388671875*x^28 - 2719744/13348388671875*x^26 + 25870336/40045166015625*x^24 - 747008/533935546875*x^22 + 146187904/66741943359375*x^20 - 102474808/40045166015625*x^18 + 30302248/13348388671875*x^16 - 20565664/13348388671875*x^14 + 19209632/24027099609375*x^12 - 20989424/66741943359375*x^10 + 409616/4449462890625*x^8 - 86368/4449462890625*x^6 + 1376/494384765625*x^4 - 8/32958984375*x^2 + 8/823974609375"
      ]
     },
     "execution_count": 73,
     "metadata": {},
     "output_type": "execute_result"
    }
   ],
   "source": [
    "circ30s[0](theta=arccos(x)).simplify_full()"
   ]
  },
  {
   "cell_type": "code",
   "execution_count": null,
   "metadata": {},
   "outputs": [],
   "source": []
  },
  {
   "cell_type": "code",
   "execution_count": null,
   "metadata": {},
   "outputs": [],
   "source": []
  },
  {
   "cell_type": "code",
   "execution_count": null,
   "metadata": {},
   "outputs": [],
   "source": []
  },
  {
   "cell_type": "code",
   "execution_count": null,
   "metadata": {},
   "outputs": [],
   "source": []
  },
  {
   "cell_type": "code",
   "execution_count": null,
   "metadata": {},
   "outputs": [],
   "source": []
  },
  {
   "cell_type": "code",
   "execution_count": null,
   "metadata": {},
   "outputs": [],
   "source": []
  },
  {
   "cell_type": "code",
   "execution_count": null,
   "metadata": {},
   "outputs": [],
   "source": []
  },
  {
   "cell_type": "code",
   "execution_count": null,
   "metadata": {},
   "outputs": [],
   "source": []
  },
  {
   "cell_type": "code",
   "execution_count": null,
   "metadata": {},
   "outputs": [],
   "source": []
  },
  {
   "cell_type": "code",
   "execution_count": null,
   "metadata": {},
   "outputs": [],
   "source": []
  },
  {
   "cell_type": "code",
   "execution_count": null,
   "metadata": {},
   "outputs": [],
   "source": []
  },
  {
   "cell_type": "code",
   "execution_count": null,
   "metadata": {},
   "outputs": [],
   "source": []
  },
  {
   "cell_type": "code",
   "execution_count": null,
   "metadata": {},
   "outputs": [],
   "source": []
  },
  {
   "cell_type": "code",
   "execution_count": null,
   "metadata": {},
   "outputs": [],
   "source": [
    "# two more degree 12 harmonic polynomials, corresponding to the harmonic degree 3 and 4 polys to the 4th and 3rd, respectively\n",
    "\n",
    "sym_fn_3_4 = harmonic_leading_term(sym_fn_3^4,12,xs).simplify().expand()\n",
    "\n",
    "assert lap(sym_fn_3_4, xs).simplify_full() == 0\n",
    "\n",
    "sym_fn_4_3 = harmonic_leading_term(sym_fn_4^3,12,xs).simplify().expand()\n",
    "\n",
    "assert lap(sym_fn_4_3, xs).simplify_full() == 0"
   ]
  },
  {
   "cell_type": "code",
   "execution_count": null,
   "metadata": {},
   "outputs": [],
   "source": [
    "# a symmetric, harmonic polynomial of degree 12 which vanishes at the 3 body coincidences\n",
    "\n",
    "sym_fn_12p = (((sym_fn_3_4)/(sym_fn_3_4)(x0=tbi4_1[0],x1=tbi4_1[1],x2=tbi4_1[2],x3=tbi4_1[3])) - \\\n",
    "              (sym_fn_4_3)/(sym_fn_4_3)(x0=tbi4_1[0],x1=tbi4_1[1],x2=tbi4_1[2],x3=tbi4_1[3])).expand()\n",
    "\n",
    "for tbi4 in signed_tbi4s:\n",
    "    assert sym_fn_12p(x0=t*tbi4[0],x1=t*tbi4[1],x2=t*tbi4[2],x3=t*tbi4[3]) == 0\n",
    "    \n",
    "assert lap(sym_fn_12p,xs).simplify() == 0"
   ]
  },
  {
   "cell_type": "code",
   "execution_count": null,
   "metadata": {},
   "outputs": [],
   "source": [
    "# in spherical coordinates\n",
    "sphere_wv = euclid_to_sphere(wv).simplify_full()(r=1).simplify_full()\n",
    "\n",
    "# normalized\n",
    "sphere_wv = sphere_wv/sqrt(integrate(integrate(sphere_wv^2,phi,-pi,pi)*sin(theta),theta,0,pi))"
   ]
  },
  {
   "cell_type": "code",
   "execution_count": null,
   "metadata": {},
   "outputs": [],
   "source": [
    "poly_degree = 8\n",
    "\n",
    "def get_monomials(degree=12):\n",
    "    powers = [(exp1,exp2,exp3,exp4)\n",
    "              for exp1, exp2, exp3, exp4 in itertools.product(range(0,degree+1),repeat=4)\n",
    "              if 1*exp1 + 2*exp2 + 3*exp3 + 4*exp4 == degree]\n",
    "    monomials = set()\n",
    "    for (exp1,exp2,exp3,exp4) in powers:\n",
    "        monomials = monomials.union((a_e1^exp1 * a_e2^exp2 * a_e3^exp3 * a_e4^exp4).dict().keys())\n",
    "    monomials = list(monomials)\n",
    "    monomials.sort()\n",
    "    basis_dict = { mon: n for n, mon in enumerate(monomials)}\n",
    "    rev_basis_dict = { n: mon for n, mon in enumerate(monomials)}\n",
    "    return basis_dict, rev_basis_dict\n",
    "    \n",
    "basis_dict, rev_basis_dict = get_monomials(degree=poly_degree)\n",
    "\n",
    "def poly_to_vec(p):\n",
    "    dp = p.dict()\n",
    "    return vector([ dp[monomial] if monomial in dp else 0 for monomial in basis_dict.keys()])\n",
    "        \n",
    "def get_sym_matrix(degree=12):\n",
    "    powers = [(exp1,exp2,exp3,exp4) \n",
    "              for exp1, exp2, exp3, exp4 in itertools.product(range(0,degree+1),repeat=4)\n",
    "              if 1*exp1 + 2*exp2 + 3*exp3 + 4*exp4 == degree]\n",
    "    return matrix([poly_to_vec(a_e1^exp1 * a_e2^exp2 * a_e3^exp3 * a_e4^exp4) \n",
    "                   for (exp1,exp2,exp3,exp4) in powers ])\n",
    "\n",
    "rows, cols = get_sym_matrix(degree=poly_degree).dimensions()\n",
    "\n",
    "mat = get_sym_matrix(degree=poly_degree)"
   ]
  },
  {
   "cell_type": "code",
   "execution_count": null,
   "metadata": {},
   "outputs": [],
   "source": [
    "efs = var(['ef{}'.format(n) for n in range(rows)])\n",
    "\n",
    "vefs = vector(efs)"
   ]
  },
  {
   "cell_type": "code",
   "execution_count": null,
   "metadata": {},
   "outputs": [],
   "source": [
    "a_wavef4 = R(g_8_harm(x0=x0p,x1=x1p,x2=x2p,x3=x3p))\n",
    "v_wavef4 = poly_to_vec(a_wavef4)"
   ]
  },
  {
   "cell_type": "code",
   "execution_count": null,
   "metadata": {},
   "outputs": [],
   "source": [
    "solve(list(vefs*mat - v_wavef4), list(efs))"
   ]
  },
  {
   "cell_type": "code",
   "execution_count": null,
   "metadata": {},
   "outputs": [],
   "source": [
    "import itertools\n",
    "for eqn in zip(solve(list(vefs*mat - v_wavef4), list(efs))[0], \n",
    "               [(exp1,exp2,exp3,exp4) \n",
    "                for exp1, exp2, exp3, exp4 in itertools.product(range(0,poly_degree+1),repeat=4)\n",
    "                if 1*exp1 + 2*exp2 + 3*exp3 + 4*exp4 == poly_degree]):\n",
    "    print(*eqn)"
   ]
  },
  {
   "cell_type": "code",
   "execution_count": null,
   "metadata": {},
   "outputs": [],
   "source": []
  },
  {
   "cell_type": "code",
   "execution_count": null,
   "metadata": {},
   "outputs": [],
   "source": [
    "g_8 = product(xs[i]^2+xs[j]^2+xs[k]^2-xs[i]*xs[j]-xs[i]*xs[k]-xs[j]*xs[k] for i, j, k in combinations(range(4),3) )\n",
    "\n",
    "g_8_harm = harmonic_leading_term(g_8,8,xs).simplify().expand()\n",
    "\n",
    "g_8_harm"
   ]
  },
  {
   "cell_type": "code",
   "execution_count": null,
   "metadata": {},
   "outputs": [],
   "source": []
  },
  {
   "cell_type": "code",
   "execution_count": null,
   "metadata": {},
   "outputs": [],
   "source": [
    "wv = g_8_harm(*(Pm*Qm*vector(ys))).simplify_full().expand()\n",
    "\n",
    "for tbi3 in signed_tbi3s:\n",
    "    pretty_print( wv(y0=t*tbi3[0],y1=t*tbi3[1],y2=t*tbi3[2]) )\n",
    "\n",
    "sphere_wv = euclid_to_sphere(wv).simplify_full()(r=1).simplify_full()\n",
    "\n",
    "sphere_wv"
   ]
  },
  {
   "cell_type": "code",
   "execution_count": null,
   "metadata": {},
   "outputs": [],
   "source": [
    "Pmag = density_plot(abs(sphere_wv)^2, (phi,-pi,pi), (theta,0,pi), cmap=cm.viridis,\n",
    "                    plot_points=200,aspect_ratio=1,axes=False)\n",
    "\n",
    "Pmag + P_twocurves"
   ]
  },
  {
   "cell_type": "code",
   "execution_count": null,
   "metadata": {},
   "outputs": [],
   "source": []
  }
 ],
 "metadata": {
  "kernelspec": {
   "display_name": "SageMath 8.8",
   "language": "sage",
   "name": "sagemath"
  },
  "language_info": {
   "codemirror_mode": {
    "name": "ipython",
    "version": 2
   },
   "file_extension": ".py",
   "mimetype": "text/x-python",
   "name": "python",
   "nbconvert_exporter": "python",
   "pygments_lexer": "ipython2",
   "version": "2.7.15"
  }
 },
 "nbformat": 4,
 "nbformat_minor": 4
}
