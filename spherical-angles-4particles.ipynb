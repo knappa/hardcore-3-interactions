{
 "cells": [
  {
   "cell_type": "markdown",
   "metadata": {},
   "source": [
    "# Setup"
   ]
  },
  {
   "cell_type": "code",
   "execution_count": 1,
   "metadata": {},
   "outputs": [],
   "source": [
    "t = var('t')"
   ]
  },
  {
   "cell_type": "code",
   "execution_count": 2,
   "metadata": {},
   "outputs": [
    {
     "data": {
      "text/html": [
       "<html><script type=\"math/tex; mode=display\">\\newcommand{\\Bold}[1]{\\mathbf{#1}}\\left(\\frac{1}{2},\\,\\frac{1}{2},\\,\\frac{1}{2},\\,\\frac{1}{2}\\right)</script></html>"
      ],
      "text/latex": [
       "$$\\newcommand{\\Bold}[1]{\\mathbf{#1}}\\left(\\frac{1}{2},\\,\\frac{1}{2},\\,\\frac{1}{2},\\,\\frac{1}{2}\\right)$$"
      ],
      "text/plain": [
       "(1/2, 1/2, 1/2, 1/2)"
      ]
     },
     "metadata": {},
     "output_type": "display_data"
    },
    {
     "data": {
      "text/html": [
       "<html><script type=\"math/tex; mode=display\">\\newcommand{\\Bold}[1]{\\mathbf{#1}}\\left(\\frac{1}{2} \\, \\sqrt{3},\\,-\\frac{1}{6} \\, \\sqrt{3},\\,-\\frac{1}{6} \\, \\sqrt{3},\\,-\\frac{1}{6} \\, \\sqrt{3}\\right)</script></html>"
      ],
      "text/latex": [
       "$$\\newcommand{\\Bold}[1]{\\mathbf{#1}}\\left(\\frac{1}{2} \\, \\sqrt{3},\\,-\\frac{1}{6} \\, \\sqrt{3},\\,-\\frac{1}{6} \\, \\sqrt{3},\\,-\\frac{1}{6} \\, \\sqrt{3}\\right)$$"
      ],
      "text/plain": [
       "(1/2*sqrt(3), -1/6*sqrt(3), -1/6*sqrt(3), -1/6*sqrt(3))"
      ]
     },
     "metadata": {},
     "output_type": "display_data"
    },
    {
     "data": {
      "text/html": [
       "<html><script type=\"math/tex; mode=display\">\\newcommand{\\Bold}[1]{\\mathbf{#1}}\\left(0,\\,\\sqrt{\\frac{2}{3}},\\,-\\frac{1}{2} \\, \\sqrt{\\frac{2}{3}},\\,-\\frac{1}{2} \\, \\sqrt{\\frac{2}{3}}\\right)</script></html>"
      ],
      "text/latex": [
       "$$\\newcommand{\\Bold}[1]{\\mathbf{#1}}\\left(0,\\,\\sqrt{\\frac{2}{3}},\\,-\\frac{1}{2} \\, \\sqrt{\\frac{2}{3}},\\,-\\frac{1}{2} \\, \\sqrt{\\frac{2}{3}}\\right)$$"
      ],
      "text/plain": [
       "(0, sqrt(2/3), -1/2*sqrt(2/3), -1/2*sqrt(2/3))"
      ]
     },
     "metadata": {},
     "output_type": "display_data"
    },
    {
     "data": {
      "text/html": [
       "<html><script type=\"math/tex; mode=display\">\\newcommand{\\Bold}[1]{\\mathbf{#1}}\\left(0,\\,0,\\,\\sqrt{\\frac{1}{2}},\\,-\\sqrt{\\frac{1}{2}}\\right)</script></html>"
      ],
      "text/latex": [
       "$$\\newcommand{\\Bold}[1]{\\mathbf{#1}}\\left(0,\\,0,\\,\\sqrt{\\frac{1}{2}},\\,-\\sqrt{\\frac{1}{2}}\\right)$$"
      ],
      "text/plain": [
       "(0, 0, sqrt(1/2), -sqrt(1/2))"
      ]
     },
     "metadata": {},
     "output_type": "display_data"
    }
   ],
   "source": [
    "u = vector([1,1,1,1])\n",
    "\n",
    "\n",
    "v1 = vector([1,0,0,0])\n",
    "v2 = vector([0,1,0,0])\n",
    "v3 = vector([0,0,1,0])\n",
    "\n",
    "v1 = v1 - (v1*u)*u/u.norm()^2\n",
    "v2 = v2 - (v2*u)*u/u.norm()^2\n",
    "v3 = v3 - (v3*u)*u/u.norm()^2\n",
    "\n",
    "v2 = v2 - (v2*v1)*v1/v1.norm()^2\n",
    "v3 = v3 - (v3*v1)*v1/v1.norm()^2\n",
    "\n",
    "v3 = v3 - (v3*v2)*v2/v2.norm()^2\n",
    "\n",
    "u = u/u.norm()\n",
    "v1 = v1/v1.norm()\n",
    "v2 = v2/v2.norm()\n",
    "v3 = v3/v3.norm()\n",
    "\n",
    "pretty_print(u)\n",
    "pretty_print(v1)\n",
    "pretty_print(v2)\n",
    "pretty_print(v3)"
   ]
  },
  {
   "cell_type": "markdown",
   "metadata": {},
   "source": [
    "The four matrices, can then be rewritten in terms of the 3-space spanned by $v_1, v_2, v_3$."
   ]
  },
  {
   "cell_type": "code",
   "execution_count": 3,
   "metadata": {},
   "outputs": [],
   "source": [
    "M123 = matrix([[1,-1,0,0],[0,1,-1,0]])\n",
    "M124 = matrix([[1,-1,0,0],[0,1,0,-1]])\n",
    "M134 = matrix([[1,0,-1,0],[0,0,1,-1]])\n",
    "M234 = matrix([[0,1,-1,0],[0,0,1,-1]])\n",
    "\n",
    "Pl = matrix([v1,v2,v3]).transpose()\n",
    "\n",
    "N123 = M123*Pl\n",
    "N124 = M124*Pl\n",
    "N134 = M134*Pl\n",
    "N234 = M234*Pl\n",
    "\n",
    "w123 = N123.right_kernel().basis_matrix()[0]\n",
    "w124 = N124.right_kernel().basis_matrix()[0]\n",
    "w134 = N134.right_kernel().basis_matrix()[0]\n",
    "w234 = N234.right_kernel().basis_matrix()[0]\n",
    "\n",
    "w123 = (w123/w123.norm()).simplify_full()\n",
    "w124 = (w124/w124.norm()).simplify_full()\n",
    "w134 = (w134/w134.norm()).simplify_full()\n",
    "w234 = (w234/w234.norm()).simplify_full()"
   ]
  },
  {
   "cell_type": "code",
   "execution_count": 4,
   "metadata": {},
   "outputs": [
    {
     "data": {
      "text/html": [
       "<html><script type=\"math/tex; mode=display\">\\newcommand{\\Bold}[1]{\\mathbf{#1}}\\left(\\frac{1}{3} \\, \\sqrt{3},\\,\\frac{1}{3} \\, \\sqrt{3} \\sqrt{2},\\,0\\right) \\left(\\frac{1}{3} \\, \\sqrt{3},\\,-\\frac{1}{6} \\, \\sqrt{3} \\sqrt{2},\\,\\frac{1}{2} \\, \\sqrt{2}\\right) \\left(\\frac{1}{3} \\, \\sqrt{3},\\,-\\frac{1}{6} \\, \\sqrt{3} \\sqrt{2},\\,-\\frac{1}{2} \\, \\sqrt{2}\\right)</script></html>"
      ],
      "text/latex": [
       "$$\\newcommand{\\Bold}[1]{\\mathbf{#1}}\\left(\\frac{1}{3} \\, \\sqrt{3},\\,\\frac{1}{3} \\, \\sqrt{3} \\sqrt{2},\\,0\\right) \\left(\\frac{1}{3} \\, \\sqrt{3},\\,-\\frac{1}{6} \\, \\sqrt{3} \\sqrt{2},\\,\\frac{1}{2} \\, \\sqrt{2}\\right) \\left(\\frac{1}{3} \\, \\sqrt{3},\\,-\\frac{1}{6} \\, \\sqrt{3} \\sqrt{2},\\,-\\frac{1}{2} \\, \\sqrt{2}\\right)$$"
      ],
      "text/plain": [
       "(1/3*sqrt(3), 1/3*sqrt(3)*sqrt(2), 0) (1/3*sqrt(3), -1/6*sqrt(3)*sqrt(2), 1/2*sqrt(2)) (1/3*sqrt(3), -1/6*sqrt(3)*sqrt(2), -1/2*sqrt(2))"
      ]
     },
     "metadata": {},
     "output_type": "display_data"
    }
   ],
   "source": [
    "M12_34 = matrix([[1,-1,0,0],[0,0,1,-1]])\n",
    "M13_24 = matrix([[1,0,-1,0],[0,1,0,-1]])\n",
    "M14_23 = matrix([[1,0,0,-1],[0,1,-1,0]])\n",
    "\n",
    "Pl = matrix([v1,v2,v3]).transpose()\n",
    "\n",
    "N12_34 = M12_34*Pl\n",
    "N13_24 = M13_24*Pl\n",
    "N14_23 = M14_23*Pl\n",
    "\n",
    "w12_34 = N12_34.right_kernel().basis_matrix()[0]\n",
    "w13_24 = N13_24.right_kernel().basis_matrix()[0]\n",
    "w14_23 = N14_23.right_kernel().basis_matrix()[0]\n",
    "\n",
    "w12_34 = (w12_34/w12_34.norm()).simplify_full()\n",
    "w13_24 = (w13_24/w13_24.norm()).simplify_full()\n",
    "w14_23 = (w14_23/w14_23.norm()).simplify_full()\n",
    "\n",
    "pretty_print(w12_34, w13_24, w14_23)"
   ]
  },
  {
   "cell_type": "code",
   "execution_count": 5,
   "metadata": {},
   "outputs": [
    {
     "data": {
      "image/png": "[encoded data removed]",
      "text/plain": [
       "Graphics3d Object"
      ]
     },
     "metadata": {},
     "output_type": "display_data"
    }
   ],
   "source": [
    "P  = parametric_plot3d( t*w123, (t,-1.5,1.5),thickness=4,color='black')\n",
    "P += parametric_plot3d( t*w124, (t,-1.5,1.5),thickness=4,color='black')\n",
    "P += parametric_plot3d( t*w134, (t,-1.5,1.5),thickness=4,color='black')\n",
    "P += parametric_plot3d( t*w234, (t,-1.5,1.5),thickness=4,color='black')\n",
    "\n",
    "\n",
    "P += parametric_plot3d( t*w12_34, (t,-1.5,1.5),thickness=4,color='red')\n",
    "P += parametric_plot3d( t*w13_24, (t,-1.5,1.5),thickness=4,color='red')\n",
    "P += parametric_plot3d( t*w14_23, (t,-1.5,1.5),thickness=4,color='red')\n",
    "\n",
    "\n",
    "# just for visualization\n",
    "x,y,z = var('x,y,z')\n",
    "from sage.plot.colors import chocolate\n",
    "P += implicit_plot3d( x^2+y^2+z^2 ==1, \n",
    "                     (x,-1.1,1.1),\n",
    "                     (y,-1.1,1.1),\n",
    "                     (z,-1.1,1.1),\n",
    "                     color=chocolate.darker(),\n",
    "                     opacity=0.7)\n",
    "\n",
    "#P.show(viewer='threejs',aspect_ratio=1)\n",
    "P.show(viewer='tachyon',aspect_ratio=1,figsize=10,axes=False,frame=False)"
   ]
  },
  {
   "cell_type": "markdown",
   "metadata": {},
   "source": [
    "# draw just a few, to see the corners of one of the triangles"
   ]
  },
  {
   "cell_type": "code",
   "execution_count": 6,
   "metadata": {},
   "outputs": [
    {
     "data": {
      "image/png": "[encoded data removed]",
      "text/plain": [
       "Graphics3d Object"
      ]
     },
     "metadata": {},
     "output_type": "display_data"
    }
   ],
   "source": [
    "P  = parametric_plot3d( t*w123, (t,0,1.5),thickness=4,color='black')\n",
    "#P += parametric_plot3d( t*w124, (t,0,1.5),thickness=4,color='black')\n",
    "#P += parametric_plot3d( t*w134, (t,0,1.5),thickness=4,color='black')\n",
    "P += parametric_plot3d( t*w234, (t,0,1.5),thickness=4,color='black')\n",
    "\n",
    "\n",
    "P += parametric_plot3d( t*w12_34, (t,0,1.5),thickness=4,color='red')\n",
    "#P += parametric_plot3d( t*w13_24, (t,0,1.5),thickness=4,color='red')\n",
    "#P += parametric_plot3d( t*w14_23, (t,0,1.5),thickness=4,color='red')\n",
    "\n",
    "\n",
    "# just for visualization\n",
    "x,y,z = var('x,y,z')\n",
    "from sage.plot.colors import chocolate\n",
    "P += implicit_plot3d( x^2+y^2+z^2 ==1, \n",
    "                     (x,-1.1,1.1),\n",
    "                     (y,-1.1,1.1),\n",
    "                     (z,-1.1,1.1),\n",
    "                     color=chocolate.darker(),\n",
    "                     opacity=0.7)\n",
    "\n",
    "#P.show(viewer='threejs',aspect_ratio=1)\n",
    "P.show(viewer='tachyon',aspect_ratio=1,figsize=10,axes=False,frame=False)"
   ]
  },
  {
   "cell_type": "code",
   "execution_count": 7,
   "metadata": {},
   "outputs": [
    {
     "data": {
      "text/html": [
       "<html><script type=\"math/tex; mode=display\">\\newcommand{\\Bold}[1]{\\mathbf{#1}}\\verb|w123=| \\left(\\frac{1}{3},\\,\\frac{1}{3} \\, \\sqrt{2},\\,\\frac{1}{3} \\, \\sqrt{3} \\sqrt{2}\\right)</script></html>"
      ],
      "text/latex": [
       "$$\\newcommand{\\Bold}[1]{\\mathbf{#1}}\\verb|w123=| \\left(\\frac{1}{3},\\,\\frac{1}{3} \\, \\sqrt{2},\\,\\frac{1}{3} \\, \\sqrt{3} \\sqrt{2}\\right)$$"
      ],
      "text/plain": [
       "'w123=' (1/3, 1/3*sqrt(2), 1/3*sqrt(3)*sqrt(2))"
      ]
     },
     "metadata": {},
     "output_type": "display_data"
    },
    {
     "data": {
      "text/html": [
       "<html><script type=\"math/tex; mode=display\">\\newcommand{\\Bold}[1]{\\mathbf{#1}}\\verb|w234=| \\left(1,\\,0,\\,0\\right)</script></html>"
      ],
      "text/latex": [
       "$$\\newcommand{\\Bold}[1]{\\mathbf{#1}}\\verb|w234=| \\left(1,\\,0,\\,0\\right)$$"
      ],
      "text/plain": [
       "'w234=' (1, 0, 0)"
      ]
     },
     "metadata": {},
     "output_type": "display_data"
    },
    {
     "data": {
      "text/html": [
       "<html><script type=\"math/tex; mode=display\">\\newcommand{\\Bold}[1]{\\mathbf{#1}}\\verb|w12_34=| \\left(\\frac{1}{3} \\, \\sqrt{3},\\,\\frac{1}{3} \\, \\sqrt{3} \\sqrt{2},\\,0\\right)</script></html>"
      ],
      "text/latex": [
       "$$\\newcommand{\\Bold}[1]{\\mathbf{#1}}\\verb|w12_34=| \\left(\\frac{1}{3} \\, \\sqrt{3},\\,\\frac{1}{3} \\, \\sqrt{3} \\sqrt{2},\\,0\\right)$$"
      ],
      "text/plain": [
       "'w12_34=' (1/3*sqrt(3), 1/3*sqrt(3)*sqrt(2), 0)"
      ]
     },
     "metadata": {},
     "output_type": "display_data"
    },
    {
     "data": {
      "text/html": [
       "<html><script type=\"math/tex; mode=display\">\\newcommand{\\Bold}[1]{\\mathbf{#1}}\\verb|w123|\\verb| |\\verb|*|\\verb| |\\verb|w234=| \\frac{1}{3}</script></html>"
      ],
      "text/latex": [
       "$$\\newcommand{\\Bold}[1]{\\mathbf{#1}}\\verb|w123|\\verb| |\\verb|*|\\verb| |\\verb|w234=| \\frac{1}{3}$$"
      ],
      "text/plain": [
       "'w123 * w234=' 1/3"
      ]
     },
     "metadata": {},
     "output_type": "display_data"
    },
    {
     "data": {
      "text/html": [
       "<html><script type=\"math/tex; mode=display\">\\newcommand{\\Bold}[1]{\\mathbf{#1}}\\verb|w123|\\verb| |\\verb|*|\\verb| |\\verb|w12_34=| \\frac{1}{3} \\, \\sqrt{3}</script></html>"
      ],
      "text/latex": [
       "$$\\newcommand{\\Bold}[1]{\\mathbf{#1}}\\verb|w123|\\verb| |\\verb|*|\\verb| |\\verb|w12_34=| \\frac{1}{3} \\, \\sqrt{3}$$"
      ],
      "text/plain": [
       "'w123 * w12_34=' 1/3*sqrt(3)"
      ]
     },
     "metadata": {},
     "output_type": "display_data"
    },
    {
     "data": {
      "text/html": [
       "<html><script type=\"math/tex; mode=display\">\\newcommand{\\Bold}[1]{\\mathbf{#1}}\\verb|w234|\\verb| |\\verb|*|\\verb| |\\verb|w12_34=| \\frac{1}{3} \\, \\sqrt{3}</script></html>"
      ],
      "text/latex": [
       "$$\\newcommand{\\Bold}[1]{\\mathbf{#1}}\\verb|w234|\\verb| |\\verb|*|\\verb| |\\verb|w12_34=| \\frac{1}{3} \\, \\sqrt{3}$$"
      ],
      "text/plain": [
       "'w234 * w12_34=' 1/3*sqrt(3)"
      ]
     },
     "metadata": {},
     "output_type": "display_data"
    }
   ],
   "source": [
    "pretty_print('w123=', w123)\n",
    "pretty_print('w234=', w234)\n",
    "pretty_print('w12_34=', w12_34)\n",
    "\n",
    "pretty_print('w123 * w234=', w123 * w234)\n",
    "pretty_print('w123 * w12_34=', w123 * w12_34)\n",
    "pretty_print('w234 * w12_34=', w234 * w12_34)"
   ]
  },
  {
   "cell_type": "markdown",
   "metadata": {},
   "source": [
    "I'm having a difficult time seeing an obvious way to draw the 8 generating loops based at a common point. Maybe if I stereographically project?"
   ]
  },
  {
   "cell_type": "code",
   "execution_count": 8,
   "metadata": {},
   "outputs": [
    {
     "ename": "NameError",
     "evalue": "name 'w1' is not defined",
     "output_type": "error",
     "traceback": [
      "\u001b[1;31m---------------------------------------------------------------------------\u001b[0m",
      "\u001b[1;31mNameError\u001b[0m                                 Traceback (most recent call last)",
      "Input \u001b[1;32mIn [8]\u001b[0m, in \u001b[0;36m<cell line: 10>\u001b[1;34m()\u001b[0m\n\u001b[0;32m      7\u001b[0m     w \u001b[38;5;241m=\u001b[39m mat_rotZ\u001b[38;5;241m*\u001b[39mmat_rotY\u001b[38;5;241m*\u001b[39mmat_rotX\u001b[38;5;241m*\u001b[39mw\n\u001b[0;32m      8\u001b[0m     \u001b[38;5;28;01mreturn\u001b[39;00m (w[Integer(\u001b[38;5;241m0\u001b[39m)]\u001b[38;5;241m/\u001b[39m(Integer(\u001b[38;5;241m1\u001b[39m)\u001b[38;5;241m-\u001b[39mw[Integer(\u001b[38;5;241m2\u001b[39m)]),w[Integer(\u001b[38;5;241m1\u001b[39m)]\u001b[38;5;241m/\u001b[39m(Integer(\u001b[38;5;241m1\u001b[39m)\u001b[38;5;241m-\u001b[39mw[Integer(\u001b[38;5;241m2\u001b[39m)]))\n\u001b[1;32m---> 10\u001b[0m P  \u001b[38;5;241m=\u001b[39m point(stereographic_proj( w1), size\u001b[38;5;241m=\u001b[39mInteger(\u001b[38;5;241m40\u001b[39m), color\u001b[38;5;241m=\u001b[39m\u001b[38;5;124m'\u001b[39m\u001b[38;5;124mred\u001b[39m\u001b[38;5;124m'\u001b[39m)\n\u001b[0;32m     11\u001b[0m P \u001b[38;5;241m+\u001b[39m\u001b[38;5;241m=\u001b[39m point(stereographic_proj(\u001b[38;5;241m-\u001b[39mw1), size\u001b[38;5;241m=\u001b[39mInteger(\u001b[38;5;241m40\u001b[39m), color\u001b[38;5;241m=\u001b[39m\u001b[38;5;124m'\u001b[39m\u001b[38;5;124mred\u001b[39m\u001b[38;5;124m'\u001b[39m)\n\u001b[0;32m     13\u001b[0m P \u001b[38;5;241m+\u001b[39m\u001b[38;5;241m=\u001b[39m point(stereographic_proj( w2), size\u001b[38;5;241m=\u001b[39mInteger(\u001b[38;5;241m40\u001b[39m), color\u001b[38;5;241m=\u001b[39m\u001b[38;5;124m'\u001b[39m\u001b[38;5;124mgreen\u001b[39m\u001b[38;5;124m'\u001b[39m)\n",
      "\u001b[1;31mNameError\u001b[0m: name 'w1' is not defined"
     ]
    }
   ],
   "source": [
    "def stereographic_proj(v,rotX=0,rotY=0,rotZ=0):\n",
    "    \"\"\" Standard Stereographic projection with possible pre-rotation about X, Y and Z axis\"\"\"\n",
    "    w = vector(v)\n",
    "    mat_rotX = matrix([[1,0,0],[0,cos(rotX),-sin(rotX)],[0,sin(rotX),cos(rotX)]])\n",
    "    mat_rotY = matrix([[cos(rotY),0,-sin(rotY)],[0,1,0],[sin(rotX),0,cos(rotX)]])\n",
    "    mat_rotZ = matrix([[cos(rotZ),-sin(rotZ),0],[sin(rotZ),cos(rotZ),0],[0,0,1]])\n",
    "    w = mat_rotZ*mat_rotY*mat_rotX*w\n",
    "    return (w[0]/(1-w[2]),w[1]/(1-w[2]))\n",
    "\n",
    "P  = point(stereographic_proj( w1), size=40, color='red')\n",
    "P += point(stereographic_proj(-w1), size=40, color='red')\n",
    "\n",
    "P += point(stereographic_proj( w2), size=40, color='green')\n",
    "P += point(stereographic_proj(-w2), size=40, color='green')\n",
    "\n",
    "P += point(stereographic_proj( w3), size=40, color='blue')\n",
    "P += point(stereographic_proj(-w3), size=40, color='blue')\n",
    "\n",
    "P += point(stereographic_proj( w4), size=40, color='purple')\n",
    "P += point(stereographic_proj(-w4), size=40, color='purple')\n",
    "\n",
    "# a nice generic point as a base point\n",
    "pt = vector([0,1,2,3])\n",
    "bp = vector(stereographic_proj(Pl.transpose()*pt))\n",
    "P += point(bp, size=40, color='black')\n",
    "\n",
    "P.show(aspect_ratio=1)"
   ]
  },
  {
   "cell_type": "markdown",
   "metadata": {},
   "source": [
    "A set of loops going through the base point, representing generators."
   ]
  },
  {
   "cell_type": "markdown",
   "metadata": {},
   "source": [
    "Bring those loops back up to the sphere!"
   ]
  },
  {
   "cell_type": "code",
   "execution_count": null,
   "metadata": {},
   "outputs": [],
   "source": [
    "def un_stereographic_proj(v):\n",
    "    norm_squared = v[0]^2+v[1]^2\n",
    "    return vector([2*v[0]/(1+norm_squared),2*v[1]/(1+norm_squared),(-1+norm_squared)/(1+norm_squared)])\n"
   ]
  },
  {
   "cell_type": "markdown",
   "metadata": {},
   "source": [
    "Now bring them back up to 4-space and draw them as components!"
   ]
  },
  {
   "cell_type": "markdown",
   "metadata": {},
   "source": [
    "## Which of the 2 interations are really necessary? Let's graph their locus"
   ]
  },
  {
   "cell_type": "code",
   "execution_count": null,
   "metadata": {},
   "outputs": [],
   "source": [
    "import itertools as it"
   ]
  },
  {
   "cell_type": "code",
   "execution_count": null,
   "metadata": {},
   "outputs": [],
   "source": [
    "two_interactions = [ matrix([[1 if index == a else -1 if index == b else 0 for index in range(4)]]) \\\n",
    "                    for (a,b) in it.combinations(range(4),2)]\n",
    "\n",
    "pretty_print( two_interactions )\n",
    "\n",
    "two_interactions_Pl = [ M*Pl for M in two_interactions]\n",
    "\n",
    "pretty_print( two_interactions_Pl )"
   ]
  },
  {
   "cell_type": "code",
   "execution_count": null,
   "metadata": {},
   "outputs": [],
   "source": [
    "P = Graphics()\n",
    "#P += parametric_plot3d( t*w1, (t,-1.5,1.5),thickness=4,color='black')\n",
    "#P += parametric_plot3d( t*w2, (t,-1.5,1.5),thickness=4,color='black')\n",
    "#P += parametric_plot3d( t*w3, (t,-1.5,1.5),thickness=4,color='black')\n",
    "#P += parametric_plot3d( t*w4, (t,-1.5,1.5),thickness=4,color='black')\n",
    "\n",
    "# just for visualization\n",
    "x,y,z = var('x,y,z')\n",
    "from sage.plot.colors import chocolate\n",
    "P += implicit_plot3d( x^2+y^2+z^2 ==1, \n",
    "                     (x,-1.1,1.1),\n",
    "                     (y,-1.1,1.1),\n",
    "                     (z,-1.1,1.1),\n",
    "                     color=chocolate.darker(),\n",
    "                     opacity=0.7)\n",
    "\n",
    "for index, Nk in enumerate(two_interactions_Pl):\n",
    "    basis_matrix = Nk.right_kernel().basis_matrix()\n",
    "    vv1 = basis_matrix[0]\n",
    "    vv2 = basis_matrix[1]\n",
    "    \n",
    "    vv2 = vv2 - (vv2*vv1)*vv1/vv1.norm()^2\n",
    "    \n",
    "    vv1 = (vv1/vv1.norm()).simplify_full()\n",
    "    vv2 = (vv2/vv2.norm()).simplify_full()\n",
    "    \n",
    "    P += parametric_plot3d(cos(t)*vv1+sin(t)*vv2, \n",
    "                           (t,0,2*pi),\n",
    "                           thickness=4,\n",
    "                           color=rainbow(6)[index],\n",
    "                           plot_points=800)\n",
    "\n",
    "    \n",
    "#P.show(viewer='threejs',aspect_ratio=1)\n",
    "P.show(viewer='tachyon',aspect_ratio=1,figsize=10,axes=False,frame=False)"
   ]
  },
  {
   "cell_type": "code",
   "execution_count": null,
   "metadata": {},
   "outputs": [],
   "source": [
    "P = Graphics()\n",
    "\n",
    "x,y,z = var('x,y,z')\n",
    "from sage.plot.colors import chocolate\n",
    "P += implicit_plot3d( x^2+y^2+z^2 ==1, \n",
    "                     (x,-1.1,1.1),\n",
    "                     (y,-1.1,1.1),\n",
    "                     (z,-1.1,1.1),\n",
    "                     color=chocolate.darker(),\n",
    "                     opacity=0.7)\n",
    "\n",
    "for (wi, wj) in [(-w1,-w2),(-w1,-w3),(-w1,w4),(-w2,-w3),(-w2,w4),(-w3,w4)]:\n",
    "    three_curve = cos(t)*wi+sin(t)*wj\n",
    "    three_curve = three_curve/three_curve.norm()\n",
    "    P += parametric_plot(three_curve,\n",
    "                         (t,0,pi/2),\n",
    "                         thickness=2,\n",
    "                         color=rainbow(3)[0])\n",
    "    P += parametric_plot(three_curve,\n",
    "                         (t,pi/2,pi),\n",
    "                         thickness=2,\n",
    "                         color=rainbow(3)[1])\n",
    "    P += parametric_plot(three_curve,\n",
    "                         (t,pi,3*pi/2),\n",
    "                         thickness=2,\n",
    "                         color=rainbow(3)[2])\n",
    "    P += parametric_plot(three_curve,\n",
    "                         (t,3*pi/2,2*pi),\n",
    "                         thickness=2,\n",
    "                         color=rainbow(3)[1])\n",
    "\n",
    "#P.show(viewer='jmol',aspect_ratio=1)\n",
    "P.show(viewer='threejs',aspect_ratio=1)\n",
    "#P.show(viewer='tachyon',aspect_ratio=1,figsize=10,axes=False,frame=False)"
   ]
  },
  {
   "cell_type": "markdown",
   "metadata": {},
   "source": [
    "## maybe it's more clear in the projection\n",
    "\n",
    "note that there are _pairs_ of intersections which do not give rise to a triple point. "
   ]
  },
  {
   "cell_type": "code",
   "execution_count": null,
   "metadata": {},
   "outputs": [],
   "source": [
    "P = Graphics()\n",
    "\n",
    "# the 2-interations\n",
    "for index, Nk in enumerate(two_interactions_Pl):\n",
    "    basis_matrix = Nk.right_kernel().basis_matrix()\n",
    "    vv1 = basis_matrix[0]\n",
    "    vv2 = basis_matrix[1]\n",
    "    \n",
    "    vv2 = vv2 - (vv2*vv1)*vv1/vv1.norm()^2\n",
    "    \n",
    "    vv1 = (vv1/vv1.norm()).simplify_full()\n",
    "    vv2 = (vv2/vv2.norm()).simplify_full()\n",
    "    \n",
    "    if index != 0:\n",
    "        P += parametric_plot(stereographic_proj(cos(t)*vv1+sin(t)*vv2),\n",
    "                             (t,0,2*pi),\n",
    "                             thickness=2,\n",
    "                             color=rainbow(6)[index])\n",
    "    else:\n",
    "        P += parametric_plot(stereographic_proj(cos(t)*vv1+sin(t)*vv2),\n",
    "                             (t,-4.3,1.1),\n",
    "                             thickness=2,\n",
    "                             color=rainbow(6)[index])\n",
    "\n",
    "P += point(stereographic_proj( w1), size=120, color='black')\n",
    "P[-1].set_zorder(10)\n",
    "P += point(stereographic_proj(-w1), size=120, color='black')\n",
    "P[-1].set_zorder(10)\n",
    "\n",
    "P += point(stereographic_proj( w2), size=120, color='black')\n",
    "P[-1].set_zorder(10)\n",
    "P += point(stereographic_proj(-w2), size=120, color='black')\n",
    "P[-1].set_zorder(10)\n",
    "\n",
    "P += point(stereographic_proj( w3), size=120, color='black')\n",
    "P[-1].set_zorder(10)\n",
    "P += point(stereographic_proj(-w3), size=120, color='black')\n",
    "P[-1].set_zorder(10)\n",
    "\n",
    "P += point(stereographic_proj( w4), size=120, color='black')\n",
    "P[-1].set_zorder(10)\n",
    "P += point(stereographic_proj(-w4), size=120, color='black')\n",
    "P[-1].set_zorder(10)\n",
    "\n",
    "# a nice generic point as a base point\n",
    "#pt = vector([-3,-1,1,3])\n",
    "#bp = vector(stereographic_proj(Pl.transpose()*pt))\n",
    "#P += point(bp, size=40, color='black')\n",
    "\n",
    "P.show(aspect_ratio=1,axes=False)\n",
    "#P.save('/home/knappa/2-interactions.svg',axes=False)"
   ]
  },
  {
   "cell_type": "code",
   "execution_count": null,
   "metadata": {},
   "outputs": [],
   "source": []
  },
  {
   "cell_type": "code",
   "execution_count": null,
   "metadata": {},
   "outputs": [],
   "source": [
    "P = Graphics()\n",
    "\n",
    "from itertools import combinations\n",
    "\n",
    "# the 2-interations\n",
    "for (wi, wj) in [(-w1,-w2),(-w1,-w3),(-w1,w4),(-w2,-w3),(-w2,w4),(-w3,w4)]:\n",
    "    three_curve = cos(t)*wi+sin(t)*wj\n",
    "    three_curve = three_curve/three_curve.norm()\n",
    "    two_curve = vector(stereographic_proj(three_curve)).simplify()\n",
    "    P += parametric_plot(two_curve,\n",
    "                         (t,0,pi/2),\n",
    "                         thickness=2,\n",
    "                         color=rainbow(3)[0])\n",
    "    if wi == -w1 and wj == -w2:\n",
    "        P +=  parametric_plot(two_curve,\n",
    "                             (t,pi/2,pi/2+pi/16),\n",
    "                             thickness=2,\n",
    "                             color=rainbow(3)[1])\n",
    "        P +=  parametric_plot(two_curve,\n",
    "                             (t,pi-pi/16,pi),\n",
    "                             thickness=2,\n",
    "                             color=rainbow(3)[1])\n",
    "    else:\n",
    "        P += parametric_plot(two_curve,\n",
    "                             (t,pi/2,pi),\n",
    "                             thickness=2,\n",
    "                             color=rainbow(3)[1])\n",
    "    P += parametric_plot(two_curve,\n",
    "                         (t,pi,3*pi/2),\n",
    "                         thickness=2,\n",
    "                         color=rainbow(3)[2])\n",
    "    P += parametric_plot(two_curve,\n",
    "                         (t,3*pi/2,2*pi),\n",
    "                         thickness=2,\n",
    "                         color=rainbow(3)[1])    \n",
    "\n",
    "\n",
    "P += point(stereographic_proj( w1), size=120, color='black')\n",
    "P[-1].set_zorder(10)\n",
    "P += point(stereographic_proj(-w1), size=120, color='black')\n",
    "P[-1].set_zorder(10)\n",
    "\n",
    "P += point(stereographic_proj( w2), size=120, color='black')\n",
    "P[-1].set_zorder(10)\n",
    "P += point(stereographic_proj(-w2), size=120, color='black')\n",
    "P[-1].set_zorder(10)\n",
    "\n",
    "P += point(stereographic_proj( w3), size=120, color='black')\n",
    "P[-1].set_zorder(10)\n",
    "P += point(stereographic_proj(-w3), size=120, color='black')\n",
    "P[-1].set_zorder(10)\n",
    "\n",
    "P += point(stereographic_proj( w4), size=120, color='black')\n",
    "P[-1].set_zorder(10)\n",
    "P += point(stereographic_proj(-w4), size=120, color='black')\n",
    "P[-1].set_zorder(10)\n",
    "\n",
    "P.show(aspect_ratio=1,axes=False,figsize=12)\n",
    "P.save('/home/knappa/2-interactions-colored-by-traid-group.svg',axes=False)"
   ]
  },
  {
   "cell_type": "markdown",
   "metadata": {},
   "source": [
    "## curve 8 looks like the most fundamental"
   ]
  },
  {
   "cell_type": "code",
   "execution_count": null,
   "metadata": {},
   "outputs": [],
   "source": [
    "P = Graphics()\n",
    "\n",
    "# the 2-interations\n",
    "for index, Nk in enumerate(two_interactions_Pl):\n",
    "    basis_matrix = Nk.right_kernel().basis_matrix()\n",
    "    vv1 = basis_matrix[0]\n",
    "    vv2 = basis_matrix[1]\n",
    "    \n",
    "    vv2 = vv2 - (vv2*vv1)*vv1/vv1.norm()^2\n",
    "    \n",
    "    vv1 = (vv1/vv1.norm()).simplify_full()\n",
    "    vv2 = (vv2/vv2.norm()).simplify_full()\n",
    "    \n",
    "    if index != 0:\n",
    "        P += parametric_plot( stereographic_proj(cos(t)*vv1+sin(t)*vv2), (t,0,2*pi), thickness=2, color=rainbow(6)[index])\n",
    "    else:\n",
    "        P += parametric_plot( stereographic_proj(cos(t)*vv1+sin(t)*vv2), (t,-4.3,1.1), thickness=2, color=rainbow(6)[index])\n",
    "\n",
    "P += point(stereographic_proj( w1), size=80, color='red')\n",
    "P += point(stereographic_proj(-w1), size=80, color='red')\n",
    "\n",
    "P += point(stereographic_proj( w2), size=80, color='green')\n",
    "P += point(stereographic_proj(-w2), size=80, color='green')\n",
    "\n",
    "P += point(stereographic_proj( w3), size=80, color='blue')\n",
    "P += point(stereographic_proj(-w3), size=80, color='blue')\n",
    "\n",
    "P += point(stereographic_proj( w4), size=80, color='purple')\n",
    "P += point(stereographic_proj(-w4), size=80, color='purple')\n",
    "\n",
    "# a nice generic point as a base point\n",
    "pt = vector([-1,-1/2,1/2,1])\n",
    "bp = vector(stereographic_proj(Pl.transpose()*pt))\n",
    "P += point(bp, size=40, color='black')\n",
    "\n",
    "\n",
    "maj_axis = (bp-vector(stereographic_proj(-w4)))/2\n",
    "min_axis = vector([-maj_axis[1],maj_axis[0]])\n",
    "min_axis = 0.2*min_axis/min_axis.norm()\n",
    "center = (bp+vector(stereographic_proj(-w4)))/2\n",
    "curve8 = cos(theta)*1.1*maj_axis+sin(theta)*min_axis + center - 0.1*maj_axis\n",
    "P += parametric_plot( curve8 ,(theta,0,2*pi))\n",
    "\n",
    "\n",
    "P.show(aspect_ratio=1,axes=False)"
   ]
  },
  {
   "cell_type": "code",
   "execution_count": null,
   "metadata": {},
   "outputs": [],
   "source": [
    "mode8 = Pl*un_stereographic_proj(curve8)\n",
    "\n",
    "a = mode8[0]\n",
    "b = mode8[1]\n",
    "c = mode8[2]\n",
    "d = mode8[3]\n",
    "\n",
    "P  = parametric_plot((a,theta),(theta,0,2*pi),color=rainbow(4)[0])\n",
    "P += parametric_plot((b,theta),(theta,0,2*pi),color=rainbow(4)[1])\n",
    "P += parametric_plot((c,theta),(theta,0,2*pi),color=rainbow(4)[2])\n",
    "P += parametric_plot((d,theta),(theta,0,2*pi),color=rainbow(4)[3])\n",
    "\n",
    "P.show(axes=False,figsize=8)"
   ]
  },
  {
   "cell_type": "markdown",
   "metadata": {},
   "source": [
    "### Below, we have the product of all of the generators \n",
    "\n",
    "Approximately, anyway, since we don't connect to the base point."
   ]
  },
  {
   "cell_type": "code",
   "execution_count": null,
   "metadata": {},
   "outputs": [],
   "source": [
    "P = Graphics()\n",
    "\n",
    "# the 2-interations\n",
    "for index, Nk in enumerate(two_interactions_Pl):\n",
    "    basis_matrix = Nk.right_kernel().basis_matrix()\n",
    "    vv1 = basis_matrix[0]\n",
    "    vv2 = basis_matrix[1]\n",
    "    \n",
    "    vv2 = vv2 - (vv2*vv1)*vv1/vv1.norm()^2\n",
    "    \n",
    "    vv1 = (vv1/vv1.norm()).simplify_full()\n",
    "    vv2 = (vv2/vv2.norm()).simplify_full()\n",
    "    \n",
    "    if index != 0:\n",
    "        P += parametric_plot( stereographic_proj(cos(t)*vv1+sin(t)*vv2), (t,0,2*pi), thickness=2, color=rainbow(6)[index])\n",
    "    else:\n",
    "        P += parametric_plot( stereographic_proj(cos(t)*vv1+sin(t)*vv2), (t,-4.3,1.1), thickness=2, color=rainbow(6)[index])\n",
    "\n",
    "P += point(stereographic_proj( w1), size=80, color='red')\n",
    "P += point(stereographic_proj(-w1), size=80, color='red')\n",
    "\n",
    "P += point(stereographic_proj( w2), size=80, color='green')\n",
    "P += point(stereographic_proj(-w2), size=80, color='green')\n",
    "\n",
    "P += point(stereographic_proj( w3), size=80, color='blue')\n",
    "P += point(stereographic_proj(-w3), size=80, color='blue')\n",
    "\n",
    "P += point(stereographic_proj( w4), size=80, color='purple')\n",
    "P += point(stereographic_proj(-w4), size=80, color='purple')\n",
    "\n",
    "maj_axis = 1.1*vector(stereographic_proj(w1))\n",
    "min_axis = vector([-maj_axis[1],maj_axis[0]])\n",
    "min_axis = 0.9*min_axis/min_axis.norm()\n",
    "center = vector([0,0])\n",
    "trivial_curve = cos(theta)*1.1*maj_axis+sin(theta)*min_axis\n",
    "P += parametric_plot( trivial_curve ,(theta,0,2*pi))\n",
    "\n",
    "#P += point(trivial_curve(theta=-0.3) ,size=100)\n",
    "\n",
    "P.show(aspect_ratio=1,axes=False)"
   ]
  },
  {
   "cell_type": "markdown",
   "metadata": {},
   "source": [
    "For kicks, let's look at an animation of the curve simplifying."
   ]
  },
  {
   "cell_type": "code",
   "execution_count": null,
   "metadata": {},
   "outputs": [],
   "source": [
    "anivec = []\n",
    "\n",
    "for scale in srange(1.0,4.0,0.25):\n",
    "    maj_axis = N(scale*1.1)*vector(stereographic_proj(w1))\n",
    "    min_axis = vector([-maj_axis[1],maj_axis[0]])\n",
    "    min_axis = 2*scale*0.9*min_axis/min_axis.norm()\n",
    "    trivial_curve = cos(theta)*1.1*maj_axis+sin(theta)*min_axis\n",
    "\n",
    "    trivial_mode = Pl*un_stereographic_proj(trivial_curve)\n",
    "\n",
    "    a = trivial_mode[0]\n",
    "    b = trivial_mode[1]\n",
    "    c = trivial_mode[2]\n",
    "    d = trivial_mode[3]\n",
    "\n",
    "    P  = parametric_plot((a,theta),(theta,-0.3,2*pi-0.3),color=rainbow(4)[0],axes=False)\n",
    "    P += parametric_plot((b,theta),(theta,-0.3,2*pi-0.3),color=rainbow(4)[1],axes=False)\n",
    "    P += parametric_plot((c,theta),(theta,-0.3,2*pi-0.3),color=rainbow(4)[2],axes=False)\n",
    "    P += parametric_plot((d,theta),(theta,-0.3,2*pi-0.3),color=rainbow(4)[3],axes=False)\n",
    "\n",
    "    anivec += [P]\n",
    "    \n",
    "a = animate(anivec)\n"
   ]
  },
  {
   "cell_type": "code",
   "execution_count": null,
   "metadata": {},
   "outputs": [],
   "source": [
    "a.show()"
   ]
  },
  {
   "cell_type": "markdown",
   "metadata": {},
   "source": [
    "# Next case, 5 particles in $\\mathbb{R}$\n",
    "\n",
    "Now we have ${5 \\choose 3} = 10$ disallowed configurations, each of which give a pair of equations which we'll encode as matrices $M_1, \\ldots, M_{10}$.\n",
    "\n",
    "### Important note: Whenever you intersect any two of the 3-alike configurations, you get the all-alike configuration. This is important for getting the projection below. It will no longer be true when we have 6-particles.\n",
    "\n",
    "Again, though, there is an \"all equal\" vector $u$ which is parallel to all of the 3-planes determined by the above equations. Let's set up some coordinates so that we can easily project the whole thing out."
   ]
  },
  {
   "cell_type": "code",
   "execution_count": null,
   "metadata": {},
   "outputs": [],
   "source": [
    "u = vector([1,1,1,1,1])\n",
    "\n",
    "\n",
    "v1 = vector([1,0,0,0,0])\n",
    "v2 = vector([0,1,0,0,0])\n",
    "v3 = vector([0,0,1,0,0])\n",
    "v4 = vector([0,0,0,1,0])\n",
    "\n",
    "v1 = v1 - (v1*u)*u/u.norm()^2\n",
    "v2 = v2 - (v2*u)*u/u.norm()^2\n",
    "v3 = v3 - (v3*u)*u/u.norm()^2\n",
    "v4 = v4 - (v4*u)*u/u.norm()^2\n",
    "\n",
    "v2 = v2 - (v2*v1)*v1/v1.norm()^2\n",
    "v3 = v3 - (v3*v1)*v1/v1.norm()^2\n",
    "v4 = v4 - (v4*v1)*v1/v1.norm()^2\n",
    "\n",
    "v3 = v3 - (v3*v2)*v2/v2.norm()^2\n",
    "v4 = v4 - (v4*v2)*v2/v2.norm()^2\n",
    "\n",
    "v4 = v4 - (v4*v1)*v1/v1.norm()^2\n",
    "\n",
    "u = u/u.norm()\n",
    "v1 = v1/v1.norm()\n",
    "v2 = v2/v2.norm()\n",
    "v3 = v3/v3.norm()\n",
    "v4 = v4/v4.norm()\n",
    "\n",
    "print(u)\n",
    "print(v1)\n",
    "print(v2)\n",
    "print(v3)\n",
    "print(v4)"
   ]
  },
  {
   "cell_type": "code",
   "execution_count": null,
   "metadata": {},
   "outputs": [],
   "source": [
    "M_x = [matrix([[1,-1,0, 0,0],[0,1,-1, 0, 0]]),\n",
    "       matrix([[1,-1,0, 0,0],[0,1, 0,-1, 0]]),\n",
    "       matrix([[1,-1,0, 0,0],[0,1, 0, 0,-1]]),\n",
    "       matrix([[1,0,-1, 0,0],[0,0, 1,-1, 0]]),\n",
    "       matrix([[1,0,-1, 0,0],[0,0, 1, 0,-1]]),\n",
    "       matrix([[1,0, 0,-1,0],[0,0, 0, 1,-1]]),\n",
    "       matrix([[0,1,-1, 0,0],[0,0, 1,-1, 0]]),\n",
    "       matrix([[0,1,-1, 0,0],[0,0, 1, 0,-1]]),\n",
    "       matrix([[0,1, 0,-1,0],[0,0, 0, 1,-1]]),\n",
    "       matrix([[0,0, 1,-1,0],[0,0, 0, 1,-1]])]\n",
    "\n",
    "Pl = matrix([v1,v2,v3,v4]).transpose()\n",
    "\n",
    "N_x = [ Np*Pl for Np in M_x ]"
   ]
  },
  {
   "cell_type": "code",
   "execution_count": null,
   "metadata": {},
   "outputs": [],
   "source": [
    "def stereographic_proj(v):\n",
    "    return (v[0]/(1-v[3]),v[1]/(1-v[3]),v[2]/(1-v[3]))\n",
    "\n",
    "P = Graphics()\n",
    "\n",
    "epsilon = pi/6 # part of curve going off to oo to exclude\n",
    "\n",
    "var('t')\n",
    "\n",
    "for index, Nn in enumerate(N_x):\n",
    "    kern = Nn.right_kernel().basis_matrix()\n",
    "    w1 = kern[0]\n",
    "    w2 = kern[1]\n",
    "    \n",
    "    w2 = w2 - (w2*w1)*w1/w1.norm()^2\n",
    "    \n",
    "    w1 = (w1/w1.norm()).simplify_full()\n",
    "    w2 = (w2/w2.norm()).simplify_full()\n",
    "    \n",
    "    curve = cos(t)*w1 + sin(t)*w2\n",
    "    \n",
    "    tmin = 0\n",
    "    tmax = 2*pi\n",
    "    \n",
    "    # deal with going off to oo\n",
    "    #if w1[3] != 0:\n",
    "    #    t_bad = arctan(w2[3]/w1[3])\n",
    "    #    if curve(t=t_bad)[3] < 0:\n",
    "    #        t_bad += pi\n",
    "    #    tmin = t_bad + epsilon\n",
    "    #    tmax = tmin + 2*pi - 2*epsilon\n",
    "    #elif w2[3] != 0:\n",
    "    #    # so w1[3] == 0\n",
    "    #    t_bad = pi/2\n",
    "    #    if curve(t=t_bad)[3] < 0:\n",
    "    #        t_bad += pi\n",
    "    #    tmin = t_bad + epsilon\n",
    "    #    tmax = tmin + 2*pi - 2*epsilon\n",
    "    \n",
    "    P += parametric_plot3d( stereographic_proj(curve),\n",
    "                           (t,tmin,tmax),\n",
    "                           thickness=4, \n",
    "                           plot_points=150,\n",
    "                           color=rainbow(10)[index])\n",
    "    \n",
    "\n",
    "#P.show(viewer='threejs',size=30)\n",
    "P.show(aspect_ratio=1)"
   ]
  },
  {
   "cell_type": "code",
   "execution_count": null,
   "metadata": {},
   "outputs": [],
   "source": [
    "P.show(viewer='tachyon',aspect_ratio=1)"
   ]
  },
  {
   "cell_type": "markdown",
   "metadata": {},
   "source": [
    "# Computing the homology for 5 particles\n",
    "\n",
    "Looking at the above graphs, we see that in the excluded locus, $X$, there are ${5 \\choose 3}=10$ copies of $S^1$, each of which is divided into 4 intervals by the ${5 \\choose 4}=5$ copies of $S^1$ corresponding to the locus of 4-particle interactions.\n",
    "\n",
    "This gives us a cell complex for $X$ with 40 1-chains and 10 0-chains. The chain complex for $X$ is then\n",
    "$$ 0 \\to \\mathbb{Z}^{40} \\to \\mathbb{Z}^{10} \\to 0$$\n",
    "Since we know that $H_0(X)=\\mathbb{Z}$, the rank of $\\partial_1$ is 9 so the only possibility for $H_1(X)$ is $\\mathbb{Z}^{31}$.\n",
    "\n",
    "Now, by Alexander duality, $H^1(S^3\\setminus X) = H_1(X) = \\mathbb{Z}^{31}$.\n"
   ]
  },
  {
   "cell_type": "markdown",
   "metadata": {},
   "source": [
    "See the following computation of the homology groups for a higher number of particles: [The Homology of \"k-Equal\" Manifolds and Related Partition Lattices _Bjorner A., Welker V._][1]\n",
    "\n",
    "In particular, when they get to 6 particles, you pick up 2nd homology. When you get 9 particles, you get 3rd homology. Next 12 and 4th homology. This seems to be related to commutation relations from 3-interactions which involve disjoint sets of particles. i.e. 6 particles split as (012)(345), 9 particles as (012)(345)(678), etc. \n",
    "\n",
    "This indicates that these higher homology classes should be representable as tori of the appropriate dimension.\n",
    "\n",
    "[1]: http://www.sciencedirect.com/science/article/pii/S0001870885710122?via%3Dihub"
   ]
  },
  {
   "cell_type": "code",
   "execution_count": null,
   "metadata": {
    "collapsed": true,
    "jupyter": {
     "outputs_hidden": true
    }
   },
   "outputs": [],
   "source": []
  }
 ],
 "metadata": {
  "kernelspec": {
   "display_name": "SageMath 9.5",
   "language": "sage",
   "name": "sagemath"
  },
  "language_info": {
   "codemirror_mode": {
    "name": "ipython",
    "version": 3
   },
   "file_extension": ".py",
   "mimetype": "text/x-python",
   "name": "python",
   "nbconvert_exporter": "python",
   "pygments_lexer": "ipython3",
   "version": "3.10.7"
  }
 },
 "nbformat": 4,
 "nbformat_minor": 4
}
