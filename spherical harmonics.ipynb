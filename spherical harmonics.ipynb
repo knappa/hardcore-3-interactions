{
 "cells": [
  {
   "cell_type": "code",
   "execution_count": 1,
   "metadata": {},
   "outputs": [],
   "source": [
    "from matplotlib import cm\n",
    "from itertools import product"
   ]
  },
  {
   "cell_type": "code",
   "execution_count": 2,
   "metadata": {},
   "outputs": [],
   "source": [
    "var('r,t,theta,phi,x,y,z')\n",
    "assume(x,'real')\n",
    "assume(y,'real')\n",
    "assume(z,'real')\n",
    "assume(r,'real')\n",
    "assume(t,'real')\n",
    "assume(theta,'real')\n",
    "assume(phi,'real')"
   ]
  },
  {
   "cell_type": "code",
   "execution_count": 3,
   "metadata": {},
   "outputs": [],
   "source": [
    "m1 = matrix([[0,1,0,0],\n",
    "             [1,0,0,0],\n",
    "             [0,0,1,0],\n",
    "             [0,0,0,1]])\n",
    "\n",
    "m2 = matrix([[0,1,0,0],\n",
    "             [0,0,1,0],\n",
    "             [1,0,0,0],\n",
    "             [0,0,0,1]])\n",
    "\n",
    "m3 = matrix([[0,1,0,0],\n",
    "             [0,0,1,0],\n",
    "             [0,0,0,1],\n",
    "             [1,0,0,0]])\n",
    "\n",
    "refl = matrix([[-1, 0, 0,0],\n",
    "               [ 0,-1, 0, 0],\n",
    "               [ 0, 0,-1, 0],\n",
    "               [ 0, 0, 0,-1]])"
   ]
  },
  {
   "cell_type": "code",
   "execution_count": 4,
   "metadata": {},
   "outputs": [],
   "source": [
    "com = vector([1,1,1,1])/sqrt(4)\n",
    "\n",
    "u = vector(QQ,[1,0,0,0])\n",
    "v = vector(QQ,[0,1,0,0])\n",
    "w = vector(QQ,[0,0,1,0])\n",
    "\n",
    "u = u - (u*com)*com/com.norm()^2\n",
    "v = v - (v*com)*com/com.norm()^2\n",
    "w = w - (w*com)*com/com.norm()^2\n",
    "\n",
    "v = v - (v*u)*u/u.norm()^2\n",
    "w = w - (w*u)*u/u.norm()^2\n",
    "\n",
    "w = w - (w*v)*v/v.norm()^2\n",
    "\n",
    "u = u/u.norm()\n",
    "v = v/v.norm()\n",
    "w = w/w.norm()\n"
   ]
  },
  {
   "cell_type": "code",
   "execution_count": 5,
   "metadata": {},
   "outputs": [],
   "source": [
    "Pm = matrix([com,u,v,w]).transpose()\n",
    "\n",
    "Qm = matrix([[0,0,0],\n",
    "             [1,0,0],\n",
    "             [0,1,0],\n",
    "             [0,0,1]])\n",
    "\n",
    "s1 = Qm.transpose()*Pm^-1*m1*Pm*Qm\n",
    "s2 = Qm.transpose()*Pm^-1*m2*Pm*Qm\n",
    "s3 = Qm.transpose()*Pm^-1*m3*Pm*Qm\n",
    "srefl = Qm.transpose()*Pm^-1*refl*Pm*Qm\n",
    "\n",
    "assert s1^2 == identity_matrix(3)\n",
    "assert s2^3 == identity_matrix(3)\n",
    "assert s3^4 == identity_matrix(3)"
   ]
  },
  {
   "cell_type": "code",
   "execution_count": 6,
   "metadata": {},
   "outputs": [
    {
     "name": "stdout",
     "output_type": "stream",
     "text": [
      "24\n",
      "48\n"
     ]
    }
   ],
   "source": [
    "S4 = [s1^i * s2^j * s3^k for (i,j,k) in product(range(2),range(3),range(4)) ]\n",
    "\n",
    "S4ext = S4 + [ m*srefl for m in S4]\n",
    "\n",
    "for m in S4ext:\n",
    "    m.set_immutable()\n",
    "\n",
    "print(len(set(m for m in S4)))\n",
    "print(len(set(m for m in S4ext)))"
   ]
  },
  {
   "cell_type": "code",
   "execution_count": 7,
   "metadata": {},
   "outputs": [],
   "source": [
    "M1 = matrix([[1,-1,0,0],[0,1,-1,0]])\n",
    "M2 = matrix([[1,-1,0,0],[0,1,0,-1]])\n",
    "M3 = matrix([[1,0,-1,0],[0,0,1,-1]])\n",
    "M4 = matrix([[0,1,-1,0],[0,0,1,-1]])\n",
    "\n",
    "#pretty_print(M1,M2,M3,M4)\n",
    "\n",
    "Pl = matrix([u,v,w]).transpose()\n",
    "\n",
    "#pretty_print(Pl)\n",
    "\n",
    "N1 = M1*Pl\n",
    "N2 = M2*Pl\n",
    "N3 = M3*Pl\n",
    "N4 = M4*Pl\n",
    "\n",
    "w1 = N1.right_kernel().basis_matrix()[0]\n",
    "w2 = N2.right_kernel().basis_matrix()[0]\n",
    "w3 = N3.right_kernel().basis_matrix()[0]\n",
    "w4 = N4.right_kernel().basis_matrix()[0]\n",
    "\n",
    "w1 = (w1/w1.norm()).simplify_full()\n",
    "w2 = (w2/w2.norm()).simplify_full()\n",
    "w3 = (w3/w3.norm()).simplify_full()\n",
    "w4 = (w4/w4.norm()).simplify_full()"
   ]
  },
  {
   "cell_type": "code",
   "execution_count": 8,
   "metadata": {},
   "outputs": [],
   "source": [
    "def legendre_poly(n):\n",
    "    return diff( (x^2-1)^n, x, n)/(2^n*factorial(n))\n",
    "\n",
    "def assoc_legendre_poly(m,l):\n",
    "    if m >= 0:\n",
    "        return (-1)^m * (1-x^2)^(m/2) *diff(legendre_poly(l),x,m)\n",
    "    else:\n",
    "        return (-1)^m * factorial(l-m) /factorial(l+m) * assoc_legendre_poly(-m,l)\n",
    "\n",
    "def real_sh(m,l):\n",
    "    return r^(-1-l)*cos(m*phi)*assoc_legendre_poly(m,l)(x=cos(theta))\n",
    "\n",
    "def imag_sh(m,l):\n",
    "    return r^(-1-l)*sin(m*phi)*assoc_legendre_poly(m,l)(x=cos(theta))"
   ]
  },
  {
   "cell_type": "code",
   "execution_count": 9,
   "metadata": {},
   "outputs": [],
   "source": [
    "def S4ext_average(f):\n",
    "    params = [ m^-1 * vector([x, y, z]) for m in S4ext ]\n",
    "    f_ave = sum([ f(x=Nm[0],y=Nm[1],z=Nm[2]) for Nm in params ])\n",
    "    return f_ave / len(S4ext)"
   ]
  },
  {
   "cell_type": "code",
   "execution_count": 10,
   "metadata": {},
   "outputs": [
    {
     "name": "stdout",
     "output_type": "stream",
     "text": [
      "0 0\n",
      "1 1\n",
      "2 2\n",
      "3 2\n",
      "4 3\n",
      "5 3\n",
      "6 4\n",
      "7 4\n",
      "8 4\n",
      "9 4\n",
      "10 4\n",
      "11 4\n",
      "12 4\n"
     ]
    }
   ],
   "source": [
    "for l in range(13):\n",
    "    print l, matrix([vector([real_sh(m,l)(r=1,theta=arccos(z),phi=atan2(y,x))(x=wi[0],y=wi[1],z=wi[2]).simplify()\n",
    "                             for wi in [w1,-w1,w2,-w2,w3,-w3,w4,-w4]])\n",
    "                     for m in range(-l+1,l)]).rank()"
   ]
  },
  {
   "cell_type": "code",
   "execution_count": 55,
   "metadata": {},
   "outputs": [
    {
     "ename": "RuntimeError",
     "evalue": "ECL says: Console interrupt.",
     "output_type": "error",
     "traceback": [
      "\u001b[1;31m---------------------------------------------------------------------------\u001b[0m",
      "\u001b[1;31mRuntimeError\u001b[0m                              Traceback (most recent call last)",
      "\u001b[1;32m<ipython-input-55-7e2781ac8c25>\u001b[0m in \u001b[0;36m<module>\u001b[1;34m()\u001b[0m\n\u001b[0;32m      1\u001b[0m matrix([[integrate(integrate(g*f,phi,-pi,pi)*sin(theta),theta,Integer(0),pi) \n\u001b[0;32m      2\u001b[0m          for f in [ real_sh(m,Integer(4))(r=Integer(1)) for m in range(-Integer(3),Integer(4)) ] ]\n\u001b[1;32m----> 3\u001b[1;33m         for g in [ S4ext_average(real_sh(m,Integer(4))(r=Integer(1),theta=arccos(z),phi=atan2(y,x)))(x=sin(theta)*cos(phi),y=sin(theta)*sin(phi),z=cos(theta)) for m in range(-Integer(3),Integer(4)) ] ])\n\u001b[0m",
      "\u001b[1;32m/usr/local/sage/local/lib/python2.7/site-packages/sage/misc/functional.pyc\u001b[0m in \u001b[0;36mintegral\u001b[1;34m(x, *args, **kwds)\u001b[0m\n\u001b[0;32m    751\u001b[0m     \"\"\"\n\u001b[0;32m    752\u001b[0m     \u001b[1;32mif\u001b[0m \u001b[0mhasattr\u001b[0m\u001b[1;33m(\u001b[0m\u001b[0mx\u001b[0m\u001b[1;33m,\u001b[0m \u001b[1;34m'integral'\u001b[0m\u001b[1;33m)\u001b[0m\u001b[1;33m:\u001b[0m\u001b[1;33m\u001b[0m\u001b[0m\n\u001b[1;32m--> 753\u001b[1;33m         \u001b[1;32mreturn\u001b[0m \u001b[0mx\u001b[0m\u001b[1;33m.\u001b[0m\u001b[0mintegral\u001b[0m\u001b[1;33m(\u001b[0m\u001b[1;33m*\u001b[0m\u001b[0margs\u001b[0m\u001b[1;33m,\u001b[0m \u001b[1;33m**\u001b[0m\u001b[0mkwds\u001b[0m\u001b[1;33m)\u001b[0m\u001b[1;33m\u001b[0m\u001b[0m\n\u001b[0m\u001b[0;32m    754\u001b[0m     \u001b[1;32melse\u001b[0m\u001b[1;33m:\u001b[0m\u001b[1;33m\u001b[0m\u001b[0m\n\u001b[0;32m    755\u001b[0m         \u001b[1;32mfrom\u001b[0m \u001b[0msage\u001b[0m\u001b[1;33m.\u001b[0m\u001b[0msymbolic\u001b[0m\u001b[1;33m.\u001b[0m\u001b[0mring\u001b[0m \u001b[1;32mimport\u001b[0m \u001b[0mSR\u001b[0m\u001b[1;33m\u001b[0m\u001b[0m\n",
      "\u001b[1;32m/usr/local/sage/local/lib/python2.7/site-packages/sage/symbolic/expression.pyx\u001b[0m in \u001b[0;36msage.symbolic.expression.Expression.integral (build/cythonized/sage/symbolic/expression.cpp:63599)\u001b[1;34m()\u001b[0m\n\u001b[0;32m  12359\u001b[0m                     \u001b[0mR\u001b[0m \u001b[1;33m=\u001b[0m \u001b[0mring\u001b[0m\u001b[1;33m.\u001b[0m\u001b[0mSR\u001b[0m\u001b[1;33m\u001b[0m\u001b[0m\n\u001b[0;32m  12360\u001b[0m             \u001b[1;32mreturn\u001b[0m \u001b[0mR\u001b[0m\u001b[1;33m(\u001b[0m\u001b[0mintegral\u001b[0m\u001b[1;33m(\u001b[0m\u001b[0mf\u001b[0m\u001b[1;33m,\u001b[0m \u001b[0mv\u001b[0m\u001b[1;33m,\u001b[0m \u001b[0ma\u001b[0m\u001b[1;33m,\u001b[0m \u001b[0mb\u001b[0m\u001b[1;33m,\u001b[0m \u001b[1;33m**\u001b[0m\u001b[0mkwds\u001b[0m\u001b[1;33m)\u001b[0m\u001b[1;33m)\u001b[0m\u001b[1;33m\u001b[0m\u001b[0m\n\u001b[1;32m> 12361\u001b[1;33m         \u001b[1;32mreturn\u001b[0m \u001b[0mintegral\u001b[0m\u001b[1;33m(\u001b[0m\u001b[0mself\u001b[0m\u001b[1;33m,\u001b[0m \u001b[1;33m*\u001b[0m\u001b[0margs\u001b[0m\u001b[1;33m,\u001b[0m \u001b[1;33m**\u001b[0m\u001b[0mkwds\u001b[0m\u001b[1;33m)\u001b[0m\u001b[1;33m\u001b[0m\u001b[0m\n\u001b[0m\u001b[0;32m  12362\u001b[0m \u001b[1;33m\u001b[0m\u001b[0m\n\u001b[0;32m  12363\u001b[0m     \u001b[0mintegrate\u001b[0m \u001b[1;33m=\u001b[0m \u001b[0mintegral\u001b[0m\u001b[1;33m\u001b[0m\u001b[0m\n",
      "\u001b[1;32m/usr/local/sage/local/lib/python2.7/site-packages/sage/symbolic/integration/integral.pyc\u001b[0m in \u001b[0;36mintegrate\u001b[1;34m(expression, v, a, b, algorithm, hold)\u001b[0m\n\u001b[0;32m    815\u001b[0m         \u001b[1;32mreturn\u001b[0m \u001b[0mindefinite_integral\u001b[0m\u001b[1;33m(\u001b[0m\u001b[0mexpression\u001b[0m\u001b[1;33m,\u001b[0m \u001b[0mv\u001b[0m\u001b[1;33m,\u001b[0m \u001b[0mhold\u001b[0m\u001b[1;33m=\u001b[0m\u001b[0mhold\u001b[0m\u001b[1;33m)\u001b[0m\u001b[1;33m\u001b[0m\u001b[0m\n\u001b[0;32m    816\u001b[0m     \u001b[1;32melse\u001b[0m\u001b[1;33m:\u001b[0m\u001b[1;33m\u001b[0m\u001b[0m\n\u001b[1;32m--> 817\u001b[1;33m         \u001b[1;32mreturn\u001b[0m \u001b[0mdefinite_integral\u001b[0m\u001b[1;33m(\u001b[0m\u001b[0mexpression\u001b[0m\u001b[1;33m,\u001b[0m \u001b[0mv\u001b[0m\u001b[1;33m,\u001b[0m \u001b[0ma\u001b[0m\u001b[1;33m,\u001b[0m \u001b[0mb\u001b[0m\u001b[1;33m,\u001b[0m \u001b[0mhold\u001b[0m\u001b[1;33m=\u001b[0m\u001b[0mhold\u001b[0m\u001b[1;33m)\u001b[0m\u001b[1;33m\u001b[0m\u001b[0m\n\u001b[0m\u001b[0;32m    818\u001b[0m \u001b[1;33m\u001b[0m\u001b[0m\n\u001b[0;32m    819\u001b[0m \u001b[1;33m\u001b[0m\u001b[0m\n",
      "\u001b[1;32m/usr/local/sage/local/lib/python2.7/site-packages/sage/symbolic/function.pyx\u001b[0m in \u001b[0;36msage.symbolic.function.BuiltinFunction.__call__ (build/cythonized/sage/symbolic/function.cpp:11841)\u001b[1;34m()\u001b[0m\n\u001b[0;32m    996\u001b[0m             \u001b[0mres\u001b[0m \u001b[1;33m=\u001b[0m \u001b[0mself\u001b[0m\u001b[1;33m.\u001b[0m\u001b[0m_evalf_try_\u001b[0m\u001b[1;33m(\u001b[0m\u001b[1;33m*\u001b[0m\u001b[0margs\u001b[0m\u001b[1;33m)\u001b[0m\u001b[1;33m\u001b[0m\u001b[0m\n\u001b[0;32m    997\u001b[0m             \u001b[1;32mif\u001b[0m \u001b[0mres\u001b[0m \u001b[1;32mis\u001b[0m \u001b[0mNone\u001b[0m\u001b[1;33m:\u001b[0m\u001b[1;33m\u001b[0m\u001b[0m\n\u001b[1;32m--> 998\u001b[1;33m                 res = super(BuiltinFunction, self).__call__(\n\u001b[0m\u001b[0;32m    999\u001b[0m                         *args, coerce=coerce, hold=hold)\n\u001b[0;32m   1000\u001b[0m \u001b[1;33m\u001b[0m\u001b[0m\n",
      "\u001b[1;32m/usr/local/sage/local/lib/python2.7/site-packages/sage/symbolic/function.pyx\u001b[0m in \u001b[0;36msage.symbolic.function.Function.__call__ (build/cythonized/sage/symbolic/function.cpp:6820)\u001b[1;34m()\u001b[0m\n\u001b[0;32m    485\u001b[0m             \u001b[1;32mfor\u001b[0m \u001b[0mi\u001b[0m \u001b[1;32mfrom\u001b[0m \u001b[1;36m0\u001b[0m \u001b[1;33m<=\u001b[0m \u001b[0mi\u001b[0m \u001b[1;33m<\u001b[0m \u001b[0mlen\u001b[0m\u001b[1;33m(\u001b[0m\u001b[0margs\u001b[0m\u001b[1;33m)\u001b[0m\u001b[1;33m:\u001b[0m\u001b[1;33m\u001b[0m\u001b[0m\n\u001b[0;32m    486\u001b[0m                 \u001b[0mvec\u001b[0m\u001b[1;33m.\u001b[0m\u001b[0mpush_back\u001b[0m\u001b[1;33m(\u001b[0m\u001b[1;33m(\u001b[0m\u001b[1;33m<\u001b[0m\u001b[0mExpression\u001b[0m\u001b[1;33m>\u001b[0m\u001b[0margs\u001b[0m\u001b[1;33m[\u001b[0m\u001b[0mi\u001b[0m\u001b[1;33m]\u001b[0m\u001b[1;33m)\u001b[0m\u001b[1;33m.\u001b[0m\u001b[0m_gobj\u001b[0m\u001b[1;33m)\u001b[0m\u001b[1;33m\u001b[0m\u001b[0m\n\u001b[1;32m--> 487\u001b[1;33m             \u001b[0mres\u001b[0m \u001b[1;33m=\u001b[0m \u001b[0mg_function_evalv\u001b[0m\u001b[1;33m(\u001b[0m\u001b[0mself\u001b[0m\u001b[1;33m.\u001b[0m\u001b[0m_serial\u001b[0m\u001b[1;33m,\u001b[0m \u001b[0mvec\u001b[0m\u001b[1;33m,\u001b[0m \u001b[0mhold\u001b[0m\u001b[1;33m)\u001b[0m\u001b[1;33m\u001b[0m\u001b[0m\n\u001b[0m\u001b[0;32m    488\u001b[0m         \u001b[1;32melif\u001b[0m \u001b[0mself\u001b[0m\u001b[1;33m.\u001b[0m\u001b[0m_nargs\u001b[0m \u001b[1;33m==\u001b[0m \u001b[1;36m1\u001b[0m\u001b[1;33m:\u001b[0m\u001b[1;33m\u001b[0m\u001b[0m\n\u001b[0;32m    489\u001b[0m             res = g_function_eval1(self._serial,\n",
      "\u001b[1;32m/usr/local/sage/local/lib/python2.7/site-packages/sage/symbolic/function.pyx\u001b[0m in \u001b[0;36msage.symbolic.function.BuiltinFunction._evalf_or_eval_ (build/cythonized/sage/symbolic/function.cpp:12980)\u001b[1;34m()\u001b[0m\n\u001b[0;32m   1084\u001b[0m         \u001b[0mres\u001b[0m \u001b[1;33m=\u001b[0m \u001b[0mself\u001b[0m\u001b[1;33m.\u001b[0m\u001b[0m_evalf_try_\u001b[0m\u001b[1;33m(\u001b[0m\u001b[1;33m*\u001b[0m\u001b[0margs\u001b[0m\u001b[1;33m)\u001b[0m\u001b[1;33m\u001b[0m\u001b[0m\n\u001b[0;32m   1085\u001b[0m         \u001b[1;32mif\u001b[0m \u001b[0mres\u001b[0m \u001b[1;32mis\u001b[0m \u001b[0mNone\u001b[0m\u001b[1;33m:\u001b[0m\u001b[1;33m\u001b[0m\u001b[0m\n\u001b[1;32m-> 1086\u001b[1;33m             \u001b[1;32mreturn\u001b[0m \u001b[0mself\u001b[0m\u001b[1;33m.\u001b[0m\u001b[0m_eval0_\u001b[0m\u001b[1;33m(\u001b[0m\u001b[1;33m*\u001b[0m\u001b[0margs\u001b[0m\u001b[1;33m)\u001b[0m\u001b[1;33m\u001b[0m\u001b[0m\n\u001b[0m\u001b[0;32m   1087\u001b[0m         \u001b[1;32melse\u001b[0m\u001b[1;33m:\u001b[0m\u001b[1;33m\u001b[0m\u001b[0m\n\u001b[0;32m   1088\u001b[0m             \u001b[1;32mreturn\u001b[0m \u001b[0mres\u001b[0m\u001b[1;33m\u001b[0m\u001b[0m\n",
      "\u001b[1;32m/usr/local/sage/local/lib/python2.7/site-packages/sage/symbolic/integration/integral.pyc\u001b[0m in \u001b[0;36m_eval_\u001b[1;34m(self, f, x, a, b)\u001b[0m\n\u001b[0;32m    181\u001b[0m         \u001b[1;32mfor\u001b[0m \u001b[0mintegrator\u001b[0m \u001b[1;32min\u001b[0m \u001b[0mself\u001b[0m\u001b[1;33m.\u001b[0m\u001b[0mintegrators\u001b[0m\u001b[1;33m:\u001b[0m\u001b[1;33m\u001b[0m\u001b[0m\n\u001b[0;32m    182\u001b[0m             \u001b[1;32mtry\u001b[0m\u001b[1;33m:\u001b[0m\u001b[1;33m\u001b[0m\u001b[0m\n\u001b[1;32m--> 183\u001b[1;33m                 \u001b[1;32mreturn\u001b[0m \u001b[0mintegrator\u001b[0m\u001b[1;33m(\u001b[0m\u001b[1;33m*\u001b[0m\u001b[0margs\u001b[0m\u001b[1;33m)\u001b[0m\u001b[1;33m\u001b[0m\u001b[0m\n\u001b[0m\u001b[0;32m    184\u001b[0m             \u001b[1;32mexcept\u001b[0m \u001b[0mNotImplementedError\u001b[0m\u001b[1;33m:\u001b[0m\u001b[1;33m\u001b[0m\u001b[0m\n\u001b[0;32m    185\u001b[0m                 \u001b[1;32mpass\u001b[0m\u001b[1;33m\u001b[0m\u001b[0m\n",
      "\u001b[1;32m/usr/local/sage/local/lib/python2.7/site-packages/sage/symbolic/integration/external.pyc\u001b[0m in \u001b[0;36mmaxima_integrator\u001b[1;34m(expression, v, a, b)\u001b[0m\n\u001b[0;32m     32\u001b[0m         \u001b[0mresult\u001b[0m \u001b[1;33m=\u001b[0m \u001b[0mmaxima\u001b[0m\u001b[1;33m.\u001b[0m\u001b[0msr_integral\u001b[0m\u001b[1;33m(\u001b[0m\u001b[0mexpression\u001b[0m\u001b[1;33m,\u001b[0m\u001b[0mv\u001b[0m\u001b[1;33m)\u001b[0m\u001b[1;33m\u001b[0m\u001b[0m\n\u001b[0;32m     33\u001b[0m     \u001b[1;32melse\u001b[0m\u001b[1;33m:\u001b[0m\u001b[1;33m\u001b[0m\u001b[0m\n\u001b[1;32m---> 34\u001b[1;33m         \u001b[0mresult\u001b[0m \u001b[1;33m=\u001b[0m \u001b[0mmaxima\u001b[0m\u001b[1;33m.\u001b[0m\u001b[0msr_integral\u001b[0m\u001b[1;33m(\u001b[0m\u001b[0mexpression\u001b[0m\u001b[1;33m,\u001b[0m \u001b[0mv\u001b[0m\u001b[1;33m,\u001b[0m \u001b[0ma\u001b[0m\u001b[1;33m,\u001b[0m \u001b[0mb\u001b[0m\u001b[1;33m)\u001b[0m\u001b[1;33m\u001b[0m\u001b[0m\n\u001b[0m\u001b[0;32m     35\u001b[0m     \u001b[1;32mreturn\u001b[0m \u001b[0mresult\u001b[0m\u001b[1;33m.\u001b[0m\u001b[0m_sage_\u001b[0m\u001b[1;33m(\u001b[0m\u001b[1;33m)\u001b[0m\u001b[1;33m\u001b[0m\u001b[0m\n\u001b[0;32m     36\u001b[0m \u001b[1;33m\u001b[0m\u001b[0m\n",
      "\u001b[1;32m/usr/local/sage/local/lib/python2.7/site-packages/sage/interfaces/maxima_lib.pyc\u001b[0m in \u001b[0;36msr_integral\u001b[1;34m(self, *args)\u001b[0m\n\u001b[0;32m    807\u001b[0m         \"\"\"\n\u001b[0;32m    808\u001b[0m         \u001b[1;32mtry\u001b[0m\u001b[1;33m:\u001b[0m\u001b[1;33m\u001b[0m\u001b[0m\n\u001b[1;32m--> 809\u001b[1;33m             \u001b[1;32mreturn\u001b[0m \u001b[0mmax_to_sr\u001b[0m\u001b[1;33m(\u001b[0m\u001b[0mmaxima_eval\u001b[0m\u001b[1;33m(\u001b[0m\u001b[1;33m(\u001b[0m\u001b[1;33m[\u001b[0m\u001b[0mmax_integrate\u001b[0m\u001b[1;33m]\u001b[0m\u001b[1;33m,\u001b[0m\u001b[1;33m[\u001b[0m\u001b[0msr_to_max\u001b[0m\u001b[1;33m(\u001b[0m\u001b[0mSR\u001b[0m\u001b[1;33m(\u001b[0m\u001b[0ma\u001b[0m\u001b[1;33m)\u001b[0m\u001b[1;33m)\u001b[0m \u001b[1;32mfor\u001b[0m \u001b[0ma\u001b[0m \u001b[1;32min\u001b[0m \u001b[0margs\u001b[0m\u001b[1;33m]\u001b[0m\u001b[1;33m)\u001b[0m\u001b[1;33m)\u001b[0m\u001b[1;33m)\u001b[0m\u001b[1;33m\u001b[0m\u001b[0m\n\u001b[0m\u001b[0;32m    810\u001b[0m         \u001b[1;32mexcept\u001b[0m \u001b[0mRuntimeError\u001b[0m \u001b[1;32mas\u001b[0m \u001b[0merror\u001b[0m\u001b[1;33m:\u001b[0m\u001b[1;33m\u001b[0m\u001b[0m\n\u001b[0;32m    811\u001b[0m             \u001b[0ms\u001b[0m \u001b[1;33m=\u001b[0m \u001b[0mstr\u001b[0m\u001b[1;33m(\u001b[0m\u001b[0merror\u001b[0m\u001b[1;33m)\u001b[0m\u001b[1;33m\u001b[0m\u001b[0m\n",
      "\u001b[1;32m/usr/local/sage/local/lib/python2.7/site-packages/sage/libs/ecl.pyx\u001b[0m in \u001b[0;36msage.libs.ecl.EclObject.__call__ (build/cythonized/sage/libs/ecl.c:7789)\u001b[1;34m()\u001b[0m\n\u001b[0;32m    804\u001b[0m         \"\"\"\n\u001b[0;32m    805\u001b[0m         \u001b[0mlispargs\u001b[0m \u001b[1;33m=\u001b[0m \u001b[0mEclObject\u001b[0m\u001b[1;33m(\u001b[0m\u001b[0mlist\u001b[0m\u001b[1;33m(\u001b[0m\u001b[0margs\u001b[0m\u001b[1;33m)\u001b[0m\u001b[1;33m)\u001b[0m\u001b[1;33m\u001b[0m\u001b[0m\n\u001b[1;32m--> 806\u001b[1;33m         \u001b[1;32mreturn\u001b[0m \u001b[0mecl_wrap\u001b[0m\u001b[1;33m(\u001b[0m\u001b[0mecl_safe_apply\u001b[0m\u001b[1;33m(\u001b[0m\u001b[0mself\u001b[0m\u001b[1;33m.\u001b[0m\u001b[0mobj\u001b[0m\u001b[1;33m,\u001b[0m\u001b[1;33m(\u001b[0m\u001b[1;33m<\u001b[0m\u001b[0mEclObject\u001b[0m\u001b[1;33m>\u001b[0m\u001b[0mlispargs\u001b[0m\u001b[1;33m)\u001b[0m\u001b[1;33m.\u001b[0m\u001b[0mobj\u001b[0m\u001b[1;33m)\u001b[0m\u001b[1;33m)\u001b[0m\u001b[1;33m\u001b[0m\u001b[0m\n\u001b[0m\u001b[0;32m    807\u001b[0m \u001b[1;33m\u001b[0m\u001b[0m\n\u001b[0;32m    808\u001b[0m     \u001b[1;32mdef\u001b[0m \u001b[0m__richcmp__\u001b[0m\u001b[1;33m(\u001b[0m\u001b[0mleft\u001b[0m\u001b[1;33m,\u001b[0m \u001b[0mright\u001b[0m\u001b[1;33m,\u001b[0m \u001b[0mint\u001b[0m \u001b[0mop\u001b[0m\u001b[1;33m)\u001b[0m\u001b[1;33m:\u001b[0m\u001b[1;33m\u001b[0m\u001b[0m\n",
      "\u001b[1;32m/usr/local/sage/local/lib/python2.7/site-packages/sage/libs/ecl.pyx\u001b[0m in \u001b[0;36msage.libs.ecl.ecl_safe_apply (build/cythonized/sage/libs/ecl.c:5451)\u001b[1;34m()\u001b[0m\n\u001b[0;32m    376\u001b[0m     \u001b[1;32mif\u001b[0m \u001b[0mecl_nvalues\u001b[0m \u001b[1;33m>\u001b[0m \u001b[1;36m1\u001b[0m\u001b[1;33m:\u001b[0m\u001b[1;33m\u001b[0m\u001b[0m\n\u001b[0;32m    377\u001b[0m         \u001b[0ms\u001b[0m \u001b[1;33m=\u001b[0m \u001b[0msi_coerce_to_base_string\u001b[0m\u001b[1;33m(\u001b[0m\u001b[0mecl_values\u001b[0m\u001b[1;33m(\u001b[0m\u001b[1;36m1\u001b[0m\u001b[1;33m)\u001b[0m\u001b[1;33m)\u001b[0m\u001b[1;33m\u001b[0m\u001b[0m\n\u001b[1;32m--> 378\u001b[1;33m         raise RuntimeError(\"ECL says: {}\".format(\n\u001b[0m\u001b[0;32m    379\u001b[0m             char_to_str(ecl_base_string_pointer_safe(s))))\n\u001b[0;32m    380\u001b[0m     \u001b[1;32melse\u001b[0m\u001b[1;33m:\u001b[0m\u001b[1;33m\u001b[0m\u001b[0m\n",
      "\u001b[1;31mRuntimeError\u001b[0m: ECL says: Console interrupt."
     ]
    }
   ],
   "source": [
    "matrix([[integrate(integrate(g*f,phi,-pi,pi)*sin(theta),theta,0,pi) \n",
    "         for f in [ real_sh(m,4)(r=1) for m in range(-3,4) ] ]\n",
    "        for g in [ S4ext_average(real_sh(m,4)(r=1,theta=arccos(z),phi=atan2(y,x)))(x=sin(theta)*cos(phi),y=sin(theta)*sin(phi),z=cos(theta)) for m in range(-3,4) ] ])"
   ]
  },
  {
   "cell_type": "code",
   "execution_count": null,
   "metadata": {},
   "outputs": [],
   "source": [
    "for m in range(-3,4):\n",
    "    g = S4ext_average(real_sh(m,4)(r=1,theta=arccos(z),phi=atan2(y,x)))(x=sin(theta)*cos(phi),y=sin(theta)*sin(phi),z=cos(theta))\n",
    "    print [ integrate(integrate(g*f,phi,-pi,pi)*sin(theta),theta,0,pi) for f in [ real_sh(m,4)(r=1) for m in range(-3,4) ]]"
   ]
  },
  {
   "cell_type": "code",
   "execution_count": 45,
   "metadata": {},
   "outputs": [
    {
     "name": "stdout",
     "output_type": "stream",
     "text": [
      "(0, 1) 0 0\n",
      "(-1, 2) 0 0\n",
      "(0, 2) 0 0\n",
      "(1, 2) 0 0\n",
      "(-2, 3) 0 0\n",
      "(-1, 3) 0 0\n",
      "(0, 3) 0 0\n",
      "(1, 3) 0 0\n",
      "(2, 3) 0 0\n",
      "(-3, 4) 0 0\n",
      "(-2, 4) -33600 -67200*sqrt(2)\n",
      "(-1, 4) 0 0\n",
      "(0, 4) 14/3 0\n",
      "(1, 4) 0 0\n",
      "(2, 4) -280/3 560/3*sqrt(2)\n",
      "(3, 4) 0 0\n",
      "(-4, 5) 0 0\n",
      "(-3, 5) 0 0\n",
      "(-2, 5) 0 0\n",
      "(-1, 5) 0 0\n",
      "(0, 5) 0 0\n",
      "(1, 5) 0 0\n",
      "(2, 5) 0 0\n",
      "(3, 5) 0 0\n",
      "(4, 5) 0 0\n",
      "(-5, 6) 0 0\n",
      "(-4, 6) -23708160000 13547520000*sqrt(2)\n",
      "(-3, 6) 0 0\n",
      "(-2, 6) -156800 -313600*sqrt(2)\n",
      "(-1, 6) 0 0\n",
      "(0, 6) -52/3 0\n",
      "(1, 6) 0 0\n",
      "(2, 6) -280/3 560/3*sqrt(2)\n",
      "(3, 6) 0 0\n",
      "(4, 6) -39200/3 -22400/3*sqrt(2)\n",
      "(5, 6) 0 0\n",
      "(-6, 7) 0 0\n",
      "(-5, 7) 0 0\n",
      "(-4, 7) 0 0\n",
      "(-3, 7) 0 0\n",
      "(-2, 7) 0 0\n",
      "(-1, 7) 0 0\n",
      "(0, 7) 0 0\n",
      "(1, 7) 0 0\n",
      "(2, 7) 0 0\n",
      "(3, 7) 0 0\n",
      "(4, 7) 0 0\n",
      "(5, 7) 0 0\n",
      "(6, 7) 0 0\n",
      "(-7, 8) 0 0\n",
      "(-6, 8) -31221645751296000 -13574628587520000*sqrt(2)\n",
      "(-5, 8) 0 0\n",
      "(-4, 8) -298821600000 170755200000*sqrt(2)\n",
      "(-3, 8) 0 0\n",
      "(-2, 8) -215600 -431200*sqrt(2)\n",
      "(-1, 8) 0 0\n",
      "(0, 8) 33/8 0\n",
      "(1, 8) 0 0\n",
      "(2, 8) -385/9 770/9*sqrt(2)\n",
      "(3, 8) 0 0\n",
      "(4, 8) -134750/9 -77000/9*sqrt(2)\n",
      "(5, 8) 0 0\n",
      "(6, 8) -6446440/9 2802800/9*sqrt(2)\n",
      "(7, 8) 0 0\n",
      "(-8, 9) 0 0\n",
      "(-7, 9) 0 0\n",
      "(-6, 9) 0 0\n",
      "(-5, 9) 0 0\n",
      "(-4, 9) 0 0\n",
      "(-3, 9) 0 0\n",
      "(-2, 9) 0 0\n",
      "(-1, 9) 0 0\n",
      "(0, 9) 0 0\n",
      "(1, 9) 0 0\n",
      "(2, 9) 0 0\n",
      "(3, 9) 0 0\n",
      "(4, 9) 0 0\n",
      "(5, 9) 0 0\n",
      "(6, 9) 0 0\n",
      "(7, 9) 0 0\n",
      "(8, 9) 0 0\n",
      "(-9, 10) 0 0\n",
      "(-8, 10) -18292704068704665600000 60258319285144780800000*sqrt(2)\n",
      "(-7, 10) 0 0\n",
      "(-6, 10) 8226655864627200000 3576806897664000000*sqrt(2)\n",
      "(-5, 10) 0 0\n",
      "(-4, 10) -38964211686400/3 22265263820800/3*sqrt(2)\n",
      "(-3, 10) 0 0\n",
      "(-2, 10) 4089800 8179600*sqrt(2)\n",
      "(-1, 10) 0 0\n",
      "(0, 10) 65/162 0\n",
      "(1, 10) 0 0\n",
      "(2, 10) 9295/27 -18590/27*sqrt(2)\n",
      "(3, 10) 0 0\n",
      "(4, 10) -8688680/81 -4964960/81*sqrt(2)\n",
      "(5, 10) 0 0\n",
      "(6, 10) 764363600/81 -332332000/81*sqrt(2)\n",
      "(7, 10) 0 0\n",
      "(8, 10) -462862400/81 -1524723200/81*sqrt(2)\n",
      "(9, 10) 0 0\n",
      "(-10, 11) 0 0\n",
      "(-9, 11) 0 0\n",
      "(-8, 11) 0 0\n",
      "(-7, 11) 0 0\n",
      "(-6, 11) 0 0\n",
      "(-5, 11) 0 0\n",
      "(-4, 11) 0 0\n",
      "(-3, 11) 0 0\n",
      "(-2, 11) 0 0\n",
      "(-1, 11) 0 0\n",
      "(0, 11) 0 0\n",
      "(1, 11) 0 0\n",
      "(2, 11) 0 0\n",
      "(3, 11) 0 0\n",
      "(4, 11) 0 0\n",
      "(5, 11) 0 0\n",
      "(6, 11) 0 0\n",
      "(7, 11) 0 0\n",
      "(8, 11) 0 0\n",
      "(9, 11) 0 0\n",
      "(10, 11) 0 0\n",
      "(-11, 12) 0 0\n",
      "(-10, 12) -96629732037136156102852608000000 8820971389282138731380736000000*sqrt(2)\n",
      "(-9, 12) 0 0\n",
      "(-8, 12) 31757214040942021632000000 -104611999193691365376000000*sqrt(2)\n",
      "(-7, 12) 0 0\n",
      "(-6, 12) 86721590145974784000 37705039193902080000*sqrt(2)\n",
      "(-5, 12) 0 0\n",
      "(-4, 12) 37903693828000 -21659253616000*sqrt(2)\n",
      "(-3, 12) 0 0\n",
      "(-2, 12) 612222611/162 612222611/81*sqrt(2)\n",
      "(-1, 12) 0 0\n",
      "(0, 12) 174899/15552 0\n",
      "(1, 12) 0 0\n",
      "(2, 12) 611611/3888 -611611/1944*sqrt(2)\n",
      "(3, 12) 0 0\n",
      "(4, 12) 47332285/648 6761755/162*sqrt(2)\n",
      "(5, 12) 0 0\n",
      "(6, 12) 2369872505/243 -1030379350/243*sqrt(2)\n",
      "(7, 12) 0 0\n",
      "(8, 12) 76126400350/243 250769318800/243*sqrt(2)\n",
      "(9, 12) 0 0\n",
      "(10, 12) -41781156016600/243 -3814047437200/243*sqrt(2)\n",
      "(11, 12) 0 0\n"
     ]
    }
   ],
   "source": [
    "for l in range(13):\n",
    "    for m in range(-l+1,l):\n",
    "        f_r = real_sh(m,l)(r=1,theta=arccos(z),phi=atan2(y,x)).simplify()\n",
    "        g_r = lambda (x,y,z): f_r(x=x,y=y,z=z)\n",
    "        val_r = sum([ g_r(mat^-1*w1) for mat in S4ext]).simplify_full()\n",
    "        \n",
    "        f_i = imag_sh(m,l)(r=1,theta=arccos(z),phi=atan2(y,x)).simplify()\n",
    "        g_i = lambda (x,y,z): f_i(x=x,y=y,z=z)\n",
    "        val_i = sum([ g_i(mat^-1*w1) for mat in S4ext]).simplify_full()\n",
    "        \n",
    "        print (m,l), val_r, val_i"
   ]
  },
  {
   "cell_type": "code",
   "execution_count": null,
   "metadata": {},
   "outputs": [],
   "source": [
    "f0 = (real_sh(0,4)/(14/3)-imag_sh(2,4)/(560/3*sqrt(2)))(r=1,theta=arccos(z),phi=atan2(y,x)).simplify_full()\n",
    "g0 = imag_sh(0,4)(r=1,theta=arccos(z),phi=atan2(y,x)).simplify_full()\n",
    "\n",
    "print(f0)\n",
    "print(g0)"
   ]
  },
  {
   "cell_type": "code",
   "execution_count": null,
   "metadata": {},
   "outputs": [],
   "source": [
    "harmonic_r = 0\n",
    "harmonic_i = 0\n",
    "for m in S4ext:\n",
    "    Nm = m^-1 * vector([x, y, z])\n",
    "    #harmonic += det(Mm)*f0(x=Nm[0],y=Nm[1],z=Nm[2])\n",
    "    harmonic_r += f0(x=Nm[0],y=Nm[1],z=Nm[2])\n",
    "    harmonic_i += g0(x=Nm[0],y=Nm[1],z=Nm[2])\n",
    "    \n",
    "    \n",
    "if harmonic_r == 0:\n",
    "    print \"harmonic_r==0\"\n",
    "    \n",
    "if harmonic_i == 0:\n",
    "    print \"harmonic_i==0\"\n",
    "    \n",
    "#print(harmonic_r)\n",
    "#print(harmonic_i)"
   ]
  },
  {
   "cell_type": "code",
   "execution_count": null,
   "metadata": {},
   "outputs": [],
   "source": [
    "for n, wi in enumerate([w1,-w1,w2,-w2,w3,-w3,w4,-w4]):\n",
    "    val = harmonic_r(x=wi[0],y=wi[1],z=wi[2]).simplify()\n",
    "    assert val == 0, (n, val)\n",
    "    \n",
    "for wi in [w1,-w1,w2,-w2,w3,-w3,w4,-w4]:\n",
    "    val = harmonic_i(x=wi[0],y=wi[1],z=wi[2]).simplify()\n",
    "    assert val == 0    "
   ]
  },
  {
   "cell_type": "code",
   "execution_count": null,
   "metadata": {},
   "outputs": [],
   "source": [
    "wv_r = harmonic_r(x=sin(theta)*cos(phi),y=sin(theta)*sin(phi),z=cos(theta)).simplify_trig()\n",
    "wv_i = harmonic_i(x=sin(theta)*cos(phi),y=sin(theta)*sin(phi),z=cos(theta)).simplify_trig()"
   ]
  },
  {
   "cell_type": "code",
   "execution_count": null,
   "metadata": {},
   "outputs": [],
   "source": [
    "Pmag_r = density_plot(abs(wv_r), (theta,0,pi), (phi,-pi,pi), cmap=cm.viridis,\n",
    "                    plot_points=200,aspect_ratio=1,axes=False)\n",
    "\n",
    "Pmag_r.show()"
   ]
  },
  {
   "cell_type": "code",
   "execution_count": null,
   "metadata": {},
   "outputs": [],
   "source": [
    "Pmag_i = density_plot(abs(wv_i), (theta,0,pi), (phi,-pi,pi), cmap=cm.viridis,\n",
    "                    plot_points=200,aspect_ratio=1,axes=False)\n",
    "\n",
    "Pmag_i.show()"
   ]
  },
  {
   "cell_type": "code",
   "execution_count": null,
   "metadata": {},
   "outputs": [],
   "source": [
    "def stereographic_proj(v):\n",
    "    \"\"\" Standard Stereographic projection with possible pre-rotation about X, Y and Z axis\"\"\"\n",
    "    w = vector(v)\n",
    "    return (w[0]/(1-w[2]),w[1]/(1-w[2]))\n",
    "\n",
    "def to_iso_spherical_coords(v):\n",
    "    x, y, z = v\n",
    "    r = sqrt(x^2+y^2+z^2)\n",
    "    theta = arccos(z/r)\n",
    "    phi = atan2(y,x)\n",
    "    return (r,theta,phi)\n",
    "\n",
    "def to_iso_sphere_coords(v):\n",
    "    r, theta, phi = to_iso_spherical_coords(v)\n",
    "    return (theta,phi)"
   ]
  },
  {
   "cell_type": "code",
   "execution_count": null,
   "metadata": {},
   "outputs": [],
   "source": [
    "P = Graphics()\n",
    "\n",
    "var('t')\n",
    "\n",
    "from itertools import combinations\n",
    "\n",
    "# (-w2,-w3), (-w1,-w3)\n",
    "\n",
    "# the 2-interations\n",
    "for (wi, wj) in [(-w1,-w2),(-w1,-w3),(-w1,w4),(-w2,-w3),(-w2,w4),(-w3,w4)]:\n",
    "    three_curve = cos(t)*wi+sin(t)*wj\n",
    "    three_curve = three_curve/three_curve.norm()\n",
    "    #two_curve = vector(stereographic_proj(three_curve)).simplify()\n",
    "    two_curve = vector(to_iso_sphere_coords(three_curve)).simplify()\n",
    "    if (wi == -w1 or wi == -w2) and wj == -w3:\n",
    "        P += parametric_plot(two_curve,\n",
    "                             (t,0,arctan(1/2)-0.01),\n",
    "                             thickness=2,\n",
    "                             color=rainbow(3)[0])\n",
    "        P += parametric_plot(two_curve,\n",
    "                             (t,arctan(1/2)+0.01,pi/2),\n",
    "                             thickness=2,\n",
    "                             color=rainbow(3)[0])\n",
    "    else:\n",
    "        P += parametric_plot(two_curve,\n",
    "                             (t,0,pi/2),\n",
    "                             thickness=2,\n",
    "                             color=rainbow(3)[0])\n",
    "        \n",
    "    P += parametric_plot(two_curve,\n",
    "                         (t,pi/2,pi),\n",
    "                         thickness=2,\n",
    "                         color=rainbow(3)[1])\n",
    "    P += parametric_plot(two_curve,\n",
    "                         (t,pi,3*pi/2),\n",
    "                         thickness=2,\n",
    "                         color=rainbow(3)[2])\n",
    "    P += parametric_plot(two_curve,\n",
    "                         (t,3*pi/2+0.01,2*pi-0.01),\n",
    "                         thickness=2,\n",
    "                         color=rainbow(3)[1])    \n",
    "\n",
    "\n",
    "P += point(to_iso_sphere_coords( w1), size=120, color='black')\n",
    "P[-1].set_zorder(10)\n",
    "P += point(to_iso_sphere_coords(-w1), size=120, color='black')\n",
    "P[-1].set_zorder(10)\n",
    "\n",
    "P += point(to_iso_sphere_coords( w2), size=120, color='black')\n",
    "P[-1].set_zorder(10)\n",
    "P += point(to_iso_sphere_coords(-w2), size=120, color='black')\n",
    "P[-1].set_zorder(10)\n",
    "\n",
    "P += point(to_iso_sphere_coords( w3), size=120, color='black')\n",
    "P[-1].set_zorder(10)\n",
    "P += point(to_iso_sphere_coords(-w3), size=120, color='black')\n",
    "P[-1].set_zorder(10)\n",
    "\n",
    "P += point(to_iso_sphere_coords( w4), size=120, color='black')\n",
    "P[-1].set_zorder(10)\n",
    "P += point(to_iso_sphere_coords(-w4), size=120, color='black')\n",
    "P[-1].set_zorder(10)\n",
    "\n",
    "#P.show(aspect_ratio=1,axes=False)"
   ]
  },
  {
   "cell_type": "code",
   "execution_count": null,
   "metadata": {},
   "outputs": [],
   "source": [
    "Q_r = P + Pmag_r\n",
    "Q_r.show(aspect_ratio=1,axes=False, figsize=12)"
   ]
  },
  {
   "cell_type": "code",
   "execution_count": null,
   "metadata": {},
   "outputs": [],
   "source": [
    "Q_r.save('/home/knappa/wv_r.pdf',aspect_ratio=1,axes=False, figsize=12)"
   ]
  },
  {
   "cell_type": "code",
   "execution_count": null,
   "metadata": {},
   "outputs": [],
   "source": [
    "Q_i = P + Pmag_i\n",
    "Q_i.show(aspect_ratio=1,axes=False, figsize=12)"
   ]
  },
  {
   "cell_type": "code",
   "execution_count": null,
   "metadata": {},
   "outputs": [],
   "source": [
    "Q_i.save('/home/knappa/wv_i.pdf',aspect_ratio=1,axes=False, figsize=12)"
   ]
  },
  {
   "cell_type": "code",
   "execution_count": null,
   "metadata": {},
   "outputs": [],
   "source": []
  },
  {
   "cell_type": "code",
   "execution_count": null,
   "metadata": {},
   "outputs": [],
   "source": []
  }
 ],
 "metadata": {
  "kernelspec": {
   "display_name": "SageMath 8.7",
   "language": "",
   "name": "sagemath"
  },
  "language_info": {
   "codemirror_mode": {
    "name": "ipython",
    "version": 2
   },
   "file_extension": ".py",
   "mimetype": "text/x-python",
   "name": "python",
   "nbconvert_exporter": "python",
   "pygments_lexer": "ipython2",
   "version": "2.7.15"
  }
 },
 "nbformat": 4,
 "nbformat_minor": 2
}
