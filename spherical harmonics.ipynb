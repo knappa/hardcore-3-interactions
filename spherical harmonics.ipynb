{
 "cells": [
  {
   "cell_type": "code",
   "execution_count": null,
   "metadata": {},
   "outputs": [],
   "source": [
    "from matplotlib import cm\n",
    "from itertools import product"
   ]
  },
  {
   "cell_type": "code",
   "execution_count": null,
   "metadata": {},
   "outputs": [],
   "source": [
    "var('r,t,theta,phi,x,y,z')\n",
    "assume(x,'real')\n",
    "assume(y,'real')\n",
    "assume(z,'real')\n",
    "assume(r,'real')\n",
    "assume(t,'real')\n",
    "assume(theta,'real')\n",
    "assume(phi,'real')"
   ]
  },
  {
   "cell_type": "code",
   "execution_count": null,
   "metadata": {},
   "outputs": [],
   "source": [
    "m1 = matrix([[0,1,0,0],\n",
    "             [1,0,0,0],\n",
    "             [0,0,1,0],\n",
    "             [0,0,0,1]])\n",
    "\n",
    "m2 = matrix([[0,1,0,0],\n",
    "             [0,0,1,0],\n",
    "             [1,0,0,0],\n",
    "             [0,0,0,1]])\n",
    "\n",
    "m3 = matrix([[0,1,0,0],\n",
    "             [0,0,1,0],\n",
    "             [0,0,0,1],\n",
    "             [1,0,0,0]])\n",
    "\n",
    "refl = matrix([[-1, 0, 0,0],\n",
    "               [ 0,-1, 0, 0],\n",
    "               [ 0, 0,-1, 0],\n",
    "               [ 0, 0, 0,-1]])"
   ]
  },
  {
   "cell_type": "code",
   "execution_count": null,
   "metadata": {},
   "outputs": [],
   "source": [
    "com = vector([1,1,1,1])/sqrt(4)\n",
    "\n",
    "u = vector(QQ,[1,0,0,0])\n",
    "v = vector(QQ,[0,1,0,0])\n",
    "w = vector(QQ,[0,0,1,0])\n",
    "\n",
    "u = u - (u*com)*com/com.norm()^2\n",
    "v = v - (v*com)*com/com.norm()^2\n",
    "w = w - (w*com)*com/com.norm()^2\n",
    "\n",
    "v = v - (v*u)*u/u.norm()^2\n",
    "w = w - (w*u)*u/u.norm()^2\n",
    "\n",
    "w = w - (w*v)*v/v.norm()^2\n",
    "\n",
    "u = u/u.norm()\n",
    "v = v/v.norm()\n",
    "w = w/w.norm()\n"
   ]
  },
  {
   "cell_type": "code",
   "execution_count": null,
   "metadata": {},
   "outputs": [],
   "source": [
    "Pm = matrix([com,u,v,w]).transpose()\n",
    "\n",
    "Qm = matrix([[0,0,0],\n",
    "             [1,0,0],\n",
    "             [0,1,0],\n",
    "             [0,0,1]])\n",
    "\n",
    "s1 = Qm.transpose()*Pm^-1*m1*Pm*Qm\n",
    "s2 = Qm.transpose()*Pm^-1*m2*Pm*Qm\n",
    "s3 = Qm.transpose()*Pm^-1*m3*Pm*Qm\n",
    "srefl = Qm.transpose()*Pm^-1*refl*Pm*Qm\n",
    "\n",
    "assert s1^2 == identity_matrix(3)\n",
    "assert s2^3 == identity_matrix(3)\n",
    "assert s3^4 == identity_matrix(3)"
   ]
  },
  {
   "cell_type": "code",
   "execution_count": null,
   "metadata": {},
   "outputs": [],
   "source": [
    "S4 = [s1^i * s2^j * s3^k for (i,j,k) in product(range(2),range(3),range(4)) ]\n",
    "\n",
    "S4ext = S4 + [ m*srefl for m in S4]\n",
    "\n",
    "for m in S4ext:\n",
    "    m.set_immutable()\n",
    "\n",
    "print(len(set(m for m in S4)))\n",
    "print(len(set(m for m in S4ext)))"
   ]
  },
  {
   "cell_type": "code",
   "execution_count": null,
   "metadata": {},
   "outputs": [],
   "source": [
    "M1 = matrix([[1,-1,0,0],[0,1,-1,0]])\n",
    "M2 = matrix([[1,-1,0,0],[0,1,0,-1]])\n",
    "M3 = matrix([[1,0,-1,0],[0,0,1,-1]])\n",
    "M4 = matrix([[0,1,-1,0],[0,0,1,-1]])\n",
    "\n",
    "#pretty_print(M1,M2,M3,M4)\n",
    "\n",
    "Pl = matrix([u,v,w]).transpose()\n",
    "\n",
    "#pretty_print(Pl)\n",
    "\n",
    "N1 = M1*Pl\n",
    "N2 = M2*Pl\n",
    "N3 = M3*Pl\n",
    "N4 = M4*Pl\n",
    "\n",
    "w1 = N1.right_kernel().basis_matrix()[0]\n",
    "w2 = N2.right_kernel().basis_matrix()[0]\n",
    "w3 = N3.right_kernel().basis_matrix()[0]\n",
    "w4 = N4.right_kernel().basis_matrix()[0]\n",
    "\n",
    "w1 = (w1/w1.norm()).simplify_full()\n",
    "w2 = (w2/w2.norm()).simplify_full()\n",
    "w3 = (w3/w3.norm()).simplify_full()\n",
    "w4 = (w4/w4.norm()).simplify_full()"
   ]
  },
  {
   "cell_type": "code",
   "execution_count": null,
   "metadata": {},
   "outputs": [],
   "source": [
    "def legendre_poly(n):\n",
    "    return diff( (x^2-1)^n, x, n)/(2^n*factorial(n))\n",
    "\n",
    "def assoc_legendre_poly(m,l):\n",
    "    if m >= 0:\n",
    "        return (-1)^m * (1-x^2)^(m/2) *diff(legendre_poly(l),x,m)\n",
    "    else:\n",
    "        return (-1)^m * factorial(l-m) /factorial(l+m) * assoc_legendre_poly(-m,l)\n",
    "\n",
    "def real_sh(m,l):\n",
    "    return r^(-1-l)*cos(m*phi)*assoc_legendre_poly(m,l)(x=cos(theta))\n",
    "\n",
    "def imag_sh(m,l):\n",
    "    return r^(-1-l)*sin(m*phi)*assoc_legendre_poly(m,l)(x=cos(theta))"
   ]
  },
  {
   "cell_type": "code",
   "execution_count": null,
   "metadata": {},
   "outputs": [],
   "source": [
    "def S4ext_average(f):\n",
    "    params = [ m^-1 * vector([x, y, z]) for m in S4ext ]\n",
    "    f_ave = sum([ f(x=Nm[0],y=Nm[1],z=Nm[2]) for Nm in params ])\n",
    "    return f_ave / len(S4ext)"
   ]
  },
  {
   "cell_type": "code",
   "execution_count": null,
   "metadata": {},
   "outputs": [],
   "source": [
    "for l in range(13):\n",
    "    print l, matrix([vector([real_sh(m,l)(r=1,theta=arccos(z),phi=atan2(y,x))(x=wi[0],y=wi[1],z=wi[2]).simplify()\n",
    "                             for wi in [w1,-w1,w2,-w2,w3,-w3,w4,-w4]])\n",
    "                     for m in range(-l+1,l)]).rank()"
   ]
  },
  {
   "cell_type": "code",
   "execution_count": null,
   "metadata": {},
   "outputs": [],
   "source": [
    "matrix([[integrate(integrate(g*f,phi,-pi,pi)*sin(theta),theta,0,pi) \n",
    "         for f in [ real_sh(n,4)(r=1) for n in range(-3,4) ] ]\n",
    "        for g in [ S4ext_average(real_sh(m,4)(r=1,theta=arccos(z),phi=atan2(y,x)))(x=sin(theta)*cos(phi),y=sin(theta)*sin(phi),z=cos(theta)) for m in range(-3,4) ] ])"
   ]
  },
  {
   "cell_type": "code",
   "execution_count": null,
   "metadata": {},
   "outputs": [],
   "source": [
    "for mp in range(-3,4):\n",
    "    g = S4ext_average(real_sh(mp,4)(r=1,theta=arccos(z),phi=atan2(y,x)))(x=sin(theta)*cos(phi),y=sin(theta)*sin(phi),z=cos(theta))\n",
    "    print [ integrate(integrate(g*f,phi,-pi,pi)*sin(theta),theta,0,pi) for f in [ real_sh(m,4)(r=1) for m in range(-3,4) ]]"
   ]
  },
  {
   "cell_type": "code",
   "execution_count": null,
   "metadata": {},
   "outputs": [],
   "source": [
    "for l in range(13):\n",
    "    for m in range(-l+1,l):\n",
    "        f_r = real_sh(m,l)(r=1,theta=arccos(z),phi=atan2(y,x)).simplify()\n",
    "        g_r = lambda (x,y,z): f_r(x=x,y=y,z=z)\n",
    "        val_r = sum([ g_r(mat^-1*w1) for mat in S4ext]).simplify_full()\n",
    "        \n",
    "        f_i = imag_sh(m,l)(r=1,theta=arccos(z),phi=atan2(y,x)).simplify()\n",
    "        g_i = lambda (x,y,z): f_i(x=x,y=y,z=z)\n",
    "        val_i = sum([ g_i(mat^-1*w1) for mat in S4ext]).simplify_full()\n",
    "        \n",
    "        print (m,l), val_r, val_i"
   ]
  },
  {
   "cell_type": "code",
   "execution_count": null,
   "metadata": {},
   "outputs": [],
   "source": [
    "f0 = (real_sh(0,4)/(14/3)-imag_sh(2,4)/(560/3*sqrt(2)))(r=1,theta=arccos(z),phi=atan2(y,x)).simplify_full()\n",
    "g0 = imag_sh(0,4)(r=1,theta=arccos(z),phi=atan2(y,x)).simplify_full()\n",
    "\n",
    "print(f0)\n",
    "print(g0)"
   ]
  },
  {
   "cell_type": "code",
   "execution_count": null,
   "metadata": {},
   "outputs": [],
   "source": [
    "harmonic_r = 0\n",
    "harmonic_i = 0\n",
    "for m in S4ext:\n",
    "    Nm = m^-1 * vector([x, y, z])\n",
    "    #harmonic += det(Mm)*f0(x=Nm[0],y=Nm[1],z=Nm[2])\n",
    "    harmonic_r += f0(x=Nm[0],y=Nm[1],z=Nm[2])\n",
    "    harmonic_i += g0(x=Nm[0],y=Nm[1],z=Nm[2])\n",
    "    \n",
    "    \n",
    "if harmonic_r == 0:\n",
    "    print \"harmonic_r==0\"\n",
    "    \n",
    "if harmonic_i == 0:\n",
    "    print \"harmonic_i==0\"\n",
    "    \n",
    "#print(harmonic_r)\n",
    "#print(harmonic_i)"
   ]
  },
  {
   "cell_type": "code",
   "execution_count": null,
   "metadata": {},
   "outputs": [],
   "source": [
    "for n, wi in enumerate([w1,-w1,w2,-w2,w3,-w3,w4,-w4]):\n",
    "    val = harmonic_r(x=wi[0],y=wi[1],z=wi[2]).simplify()\n",
    "    assert val == 0, (n, val)\n",
    "    \n",
    "for wi in [w1,-w1,w2,-w2,w3,-w3,w4,-w4]:\n",
    "    val = harmonic_i(x=wi[0],y=wi[1],z=wi[2]).simplify()\n",
    "    assert val == 0    "
   ]
  },
  {
   "cell_type": "code",
   "execution_count": null,
   "metadata": {},
   "outputs": [],
   "source": [
    "wv_r = harmonic_r(x=sin(theta)*cos(phi),y=sin(theta)*sin(phi),z=cos(theta)).simplify_trig()\n",
    "wv_i = harmonic_i(x=sin(theta)*cos(phi),y=sin(theta)*sin(phi),z=cos(theta)).simplify_trig()"
   ]
  },
  {
   "cell_type": "code",
   "execution_count": null,
   "metadata": {},
   "outputs": [],
   "source": [
    "Pmag_r = density_plot(abs(wv_r), (theta,0,pi), (phi,-pi,pi), cmap=cm.viridis,\n",
    "                    plot_points=200,aspect_ratio=1,axes=False)\n",
    "\n",
    "Pmag_r.show()"
   ]
  },
  {
   "cell_type": "code",
   "execution_count": null,
   "metadata": {},
   "outputs": [],
   "source": [
    "Pmag_i = density_plot(abs(wv_i), (theta,0,pi), (phi,-pi,pi), cmap=cm.viridis,\n",
    "                    plot_points=200,aspect_ratio=1,axes=False)\n",
    "\n",
    "Pmag_i.show()"
   ]
  },
  {
   "cell_type": "code",
   "execution_count": null,
   "metadata": {},
   "outputs": [],
   "source": [
    "def stereographic_proj(v):\n",
    "    \"\"\" Standard Stereographic projection with possible pre-rotation about X, Y and Z axis\"\"\"\n",
    "    w = vector(v)\n",
    "    return (w[0]/(1-w[2]),w[1]/(1-w[2]))\n",
    "\n",
    "def to_iso_spherical_coords(v):\n",
    "    x, y, z = v\n",
    "    r = sqrt(x^2+y^2+z^2)\n",
    "    theta = arccos(z/r)\n",
    "    phi = atan2(y,x)\n",
    "    return (r,theta,phi)\n",
    "\n",
    "def to_iso_sphere_coords(v):\n",
    "    r, theta, phi = to_iso_spherical_coords(v)\n",
    "    return (theta,phi)"
   ]
  },
  {
   "cell_type": "code",
   "execution_count": null,
   "metadata": {},
   "outputs": [],
   "source": [
    "P = Graphics()\n",
    "\n",
    "var('t')\n",
    "\n",
    "from itertools import combinations\n",
    "\n",
    "# (-w2,-w3), (-w1,-w3)\n",
    "\n",
    "# the 2-interations\n",
    "for (wi, wj) in [(-w1,-w2),(-w1,-w3),(-w1,w4),(-w2,-w3),(-w2,w4),(-w3,w4)]:\n",
    "    three_curve = cos(t)*wi+sin(t)*wj\n",
    "    three_curve = three_curve/three_curve.norm()\n",
    "    #two_curve = vector(stereographic_proj(three_curve)).simplify()\n",
    "    two_curve = vector(to_iso_sphere_coords(three_curve)).simplify()\n",
    "    if (wi == -w1 or wi == -w2) and wj == -w3:\n",
    "        P += parametric_plot(two_curve,\n",
    "                             (t,0,arctan(1/2)-0.01),\n",
    "                             thickness=2,\n",
    "                             color=rainbow(3)[0])\n",
    "        P += parametric_plot(two_curve,\n",
    "                             (t,arctan(1/2)+0.01,pi/2),\n",
    "                             thickness=2,\n",
    "                             color=rainbow(3)[0])\n",
    "    else:\n",
    "        P += parametric_plot(two_curve,\n",
    "                             (t,0,pi/2),\n",
    "                             thickness=2,\n",
    "                             color=rainbow(3)[0])\n",
    "        \n",
    "    P += parametric_plot(two_curve,\n",
    "                         (t,pi/2,pi),\n",
    "                         thickness=2,\n",
    "                         color=rainbow(3)[1])\n",
    "    P += parametric_plot(two_curve,\n",
    "                         (t,pi,3*pi/2),\n",
    "                         thickness=2,\n",
    "                         color=rainbow(3)[2])\n",
    "    P += parametric_plot(two_curve,\n",
    "                         (t,3*pi/2+0.01,2*pi-0.01),\n",
    "                         thickness=2,\n",
    "                         color=rainbow(3)[1])    \n",
    "\n",
    "\n",
    "P += point(to_iso_sphere_coords( w1), size=120, color='black')\n",
    "P[-1].set_zorder(10)\n",
    "P += point(to_iso_sphere_coords(-w1), size=120, color='black')\n",
    "P[-1].set_zorder(10)\n",
    "\n",
    "P += point(to_iso_sphere_coords( w2), size=120, color='black')\n",
    "P[-1].set_zorder(10)\n",
    "P += point(to_iso_sphere_coords(-w2), size=120, color='black')\n",
    "P[-1].set_zorder(10)\n",
    "\n",
    "P += point(to_iso_sphere_coords( w3), size=120, color='black')\n",
    "P[-1].set_zorder(10)\n",
    "P += point(to_iso_sphere_coords(-w3), size=120, color='black')\n",
    "P[-1].set_zorder(10)\n",
    "\n",
    "P += point(to_iso_sphere_coords( w4), size=120, color='black')\n",
    "P[-1].set_zorder(10)\n",
    "P += point(to_iso_sphere_coords(-w4), size=120, color='black')\n",
    "P[-1].set_zorder(10)\n",
    "\n",
    "#P.show(aspect_ratio=1,axes=False)"
   ]
  },
  {
   "cell_type": "code",
   "execution_count": null,
   "metadata": {},
   "outputs": [],
   "source": [
    "Q_r = P + Pmag_r\n",
    "Q_r.show(aspect_ratio=1,axes=False, figsize=12)"
   ]
  },
  {
   "cell_type": "code",
   "execution_count": null,
   "metadata": {},
   "outputs": [],
   "source": [
    "Q_r.save('/home/knappa/wv_r.pdf',aspect_ratio=1,axes=False, figsize=12)"
   ]
  },
  {
   "cell_type": "code",
   "execution_count": null,
   "metadata": {},
   "outputs": [],
   "source": [
    "Q_i = P + Pmag_i\n",
    "Q_i.show(aspect_ratio=1,axes=False, figsize=12)"
   ]
  },
  {
   "cell_type": "code",
   "execution_count": null,
   "metadata": {},
   "outputs": [],
   "source": [
    "Q_i.save('/home/knappa/wv_i.pdf',aspect_ratio=1,axes=False, figsize=12)"
   ]
  },
  {
   "cell_type": "code",
   "execution_count": null,
   "metadata": {},
   "outputs": [],
   "source": []
  },
  {
   "cell_type": "code",
   "execution_count": null,
   "metadata": {},
   "outputs": [],
   "source": []
  }
 ],
 "metadata": {
  "kernelspec": {
   "display_name": "SageMath 8.7",
   "language": "",
   "name": "sagemath"
  },
  "language_info": {
   "codemirror_mode": {
    "name": "ipython",
    "version": 2
   },
   "file_extension": ".py",
   "mimetype": "text/x-python",
   "name": "python",
   "nbconvert_exporter": "python",
   "pygments_lexer": "ipython2",
   "version": "2.7.15"
  }
 },
 "nbformat": 4,
 "nbformat_minor": 2
}
