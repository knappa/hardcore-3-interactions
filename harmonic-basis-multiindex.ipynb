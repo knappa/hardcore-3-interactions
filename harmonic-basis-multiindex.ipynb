{
 "cells": [
  {
   "cell_type": "code",
   "execution_count": 28,
   "metadata": {},
   "outputs": [],
   "source": [
    "#%display plain\n",
    "%display latex"
   ]
  },
  {
   "cell_type": "code",
   "execution_count": 2,
   "metadata": {},
   "outputs": [],
   "source": [
    "from matplotlib import cm\n",
    "import numpy as np\n",
    "import itertools\n",
    "from itertools import combinations\n",
    "from __future__ import print_function"
   ]
  },
  {
   "cell_type": "code",
   "execution_count": 3,
   "metadata": {},
   "outputs": [],
   "source": [
    "real_vars = var('r,t,theta,phi,x,y,z')\n",
    "for rv in real_vars:\n",
    "    assume(rv, 'real')\n",
    "    \n",
    "    \n",
    "xs = var(['x{}'.format(n) for n in range(5)])\n",
    "for xi in xs: assume(xi,'real')\n",
    "\n",
    "ys = var(['y{}'.format(n) for n in range(4)])\n",
    "for yi in ys: assume(yi,'real')\n",
    "    \n",
    "    \n",
    "p1 = sum([xi   for xi in xs])\n",
    "p2 = sum([xi^2 for xi in xs])\n",
    "p3 = sum([xi^3 for xi in xs])\n",
    "p4 = sum([xi^4 for xi in xs])\n",
    "p5 = sum([xi^5 for xi in xs])\n",
    "\n",
    "    \n",
    "e1 = sum([ xi             for (xi,           ) in combinations(xs,1)])\n",
    "e2 = sum([ xi*xj          for (xi,xj         ) in combinations(xs,2)])\n",
    "e3 = sum([ xi*xj*xk       for (xi,xj,xk      ) in combinations(xs,3)])\n",
    "e4 = sum([ xi*xj*xk*xl    for (xi,xj,xk,xl   ) in combinations(xs,4)])    \n",
    "e5 = sum([ xi*xj*xk*xl*xm for (xi,xj,xk,xl,xm) in combinations(xs,5)])"
   ]
  },
  {
   "cell_type": "code",
   "execution_count": 4,
   "metadata": {},
   "outputs": [
    {
     "data": {
      "text/plain": [
       "[   2*sqrt(1/5)              0              0              0]\n",
       "[-1/2*sqrt(1/5)    1/2*sqrt(3)              0              0]\n",
       "[-1/2*sqrt(1/5)   -1/6*sqrt(3)      sqrt(2/3)              0]\n",
       "[-1/2*sqrt(1/5)   -1/6*sqrt(3) -1/2*sqrt(2/3)      sqrt(1/2)]\n",
       "[-1/2*sqrt(1/5)   -1/6*sqrt(3) -1/2*sqrt(2/3)     -sqrt(1/2)]"
      ]
     },
     "execution_count": 4,
     "metadata": {},
     "output_type": "execute_result"
    }
   ],
   "source": [
    "com = vector([1,1,1,1,1])/sqrt(5) # center of mass\n",
    "\n",
    "j1 = vector(QQ,[1,0,0,0,0])\n",
    "j2 = vector(QQ,[0,1,0,0,0])\n",
    "j3 = vector(QQ,[0,0,1,0,0])\n",
    "j4 = vector(QQ,[0,0,0,1,0])\n",
    "\n",
    "j1 = j1 - (j1*com)*com/com.norm()^2\n",
    "j2 = j2 - (j2*com)*com/com.norm()^2\n",
    "j3 = j3 - (j3*com)*com/com.norm()^2\n",
    "j4 = j4 - (j4*com)*com/com.norm()^2\n",
    "\n",
    "j2 = j2 - (j2*j1)*j1/j1.norm()^2\n",
    "j3 = j3 - (j3*j1)*j1/j1.norm()^2\n",
    "j4 = j4 - (j4*j1)*j1/j1.norm()^2\n",
    "\n",
    "j3 = j3 - (j3*j2)*j2/j2.norm()^2\n",
    "j4 = j4 - (j4*j2)*j2/j2.norm()^2\n",
    "\n",
    "j4 = j4 - (j4*j3)*j3/j3.norm()^2\n",
    "\n",
    "j1 = j1/j1.norm()\n",
    "j2 = j2/j2.norm()\n",
    "j3 = j3/j3.norm()\n",
    "j4 = j4/j4.norm()\n",
    "\n",
    "matrix([j1, j2, j3, j4]).transpose() # display as column vecs"
   ]
  },
  {
   "cell_type": "code",
   "execution_count": 5,
   "metadata": {},
   "outputs": [],
   "source": [
    "Pm = matrix([com,j1,j2,j3,j4]).transpose()\n",
    "\n",
    "Pl = matrix([j1,j2,j3,j4]).transpose()\n",
    "\n",
    "Qm = matrix([[0,0,0,0],\n",
    "             [1,0,0,0],\n",
    "             [0,1,0,0],\n",
    "             [0,0,1,0],\n",
    "             [0,0,0,1]])"
   ]
  },
  {
   "cell_type": "code",
   "execution_count": 6,
   "metadata": {},
   "outputs": [],
   "source": [
    "# the (5 choose 3) 3-body interations in 4 dimensions\n",
    "three_coincidences = [ matrix([[1, 1, 1, 1, 1],\n",
    "                               [1,-1, 0, 0, 0],\n",
    "                               [0, 1,-1, 0, 0]]),\n",
    "                       matrix([[1, 1, 1, 1, 1],\n",
    "                               [1,-1, 0, 0, 0],\n",
    "                               [0, 1, 0,-1, 0]]),\n",
    "                       matrix([[1, 1, 1, 1, 1],\n",
    "                               [1,-1, 0, 0, 0],\n",
    "                               [0, 1, 0, 0,-1]]),\n",
    "                       matrix([[1, 1, 1, 1, 1],\n",
    "                               [1, 0,-1, 0, 0],\n",
    "                               [0, 0, 1,-1, 0]]),\n",
    "                       matrix([[1, 1, 1, 1, 1],\n",
    "                               [1, 0,-1, 0, 0],\n",
    "                               [0, 0, 1, 0,-1]]),\n",
    "                       matrix([[1, 1, 1, 1, 1],\n",
    "                               [1, 0, 0,-1, 0],\n",
    "                               [0, 0, 0, 1,-1]]),\n",
    "                       matrix([[1, 1, 1, 1, 1],\n",
    "                               [0, 1,-1, 0, 0],\n",
    "                               [0, 0, 1,-1, 0]]),\n",
    "                       matrix([[1, 1, 1, 1, 1],\n",
    "                               [0, 1,-1, 0, 0],\n",
    "                               [0, 0, 1, 0,-1]]),\n",
    "                       matrix([[1, 1, 1, 1, 1],\n",
    "                               [0, 1, 0,-1, 0],\n",
    "                               [0, 0, 0, 1,-1]]),\n",
    "                       matrix([[1, 1, 1, 1, 1],\n",
    "                               [0, 0, 1,-1, 0],\n",
    "                               [0, 0, 0, 1,-1]]) ]\n",
    "\n",
    "three_body_4d = [ (M*Pl).right_kernel().basis_matrix() for M in three_coincidences ]\n",
    "three_body_4d = [ (M[0]/M[0].norm(),M[1]/M[1].norm()) for M in three_body_4d ]\n",
    "\n",
    "# the (5 choose 4) 4-body interations in 4 dimensions\n",
    "four_coincidences = [ matrix([[ 1, 1, 1, 1, 1],\n",
    "                              [ 1,-1, 0, 0, 0],\n",
    "                              [ 0, 1,-1, 0, 0],\n",
    "                              [ 0, 0, 1,-1, 0]]),\n",
    "                      matrix([[ 1, 1, 1, 1, 1],\n",
    "                              [ 1,-1, 0, 0, 0],\n",
    "                              [ 0, 1,-1, 0, 0],\n",
    "                              [ 0, 0, 1, 0,-1]]),\n",
    "                      matrix([[ 1, 1, 1, 1, 1],\n",
    "                              [ 1,-1, 0, 0, 0],\n",
    "                              [ 0, 1, 0,-1, 0],\n",
    "                              [ 0, 0, 0, 1,-1]]),\n",
    "                      matrix([[ 1, 1, 1, 1, 1],\n",
    "                              [ 1, 0,-1, 0, 0],\n",
    "                              [ 0, 0, 1,-1, 0],\n",
    "                              [ 0, 0, 0, 1,-1]]),\n",
    "                      matrix([[ 1, 1, 1, 1, 1],\n",
    "                              [ 0, 1,-1, 0, 0],\n",
    "                              [ 0, 0, 1,-1, 0],\n",
    "                              [ 0, 0, 0, 1,-1]]) ]\n",
    "\n",
    "four_body_4d = [ (M*Pl).right_kernel().basis_matrix()[0] for M in four_coincidences ]\n",
    "four_body_4d = [ (v/v.norm()).simplify_full() for v in four_body_4d ]"
   ]
  },
  {
   "cell_type": "code",
   "execution_count": 7,
   "metadata": {},
   "outputs": [],
   "source": [
    "# the (5 choose 3) 3-body interations in 5 dimensions \n",
    "# (there is another dimension for each, in the \"total coincidence\" direction)\n",
    "\n",
    "three_body_5d = [ M.right_kernel().basis_matrix() for M in three_coincidences ]\n",
    "three_body_5d = [ ((M[0]/M[0].norm()).simplify_full(),(M[1]/M[1].norm()).simplify_full()) for M in three_body_5d ]\n",
    "\n",
    "four_body_5d = [ M.right_kernel().basis_matrix()[0] for M in four_coincidences ]\n",
    "four_body_5d = [ (v/v.norm()).simplify_full() for v in four_body_5d ]"
   ]
  },
  {
   "cell_type": "code",
   "execution_count": 8,
   "metadata": {},
   "outputs": [
    {
     "data": {
      "text/plain": [
       "0"
      ]
     },
     "metadata": {},
     "output_type": "display_data"
    },
    {
     "data": {
      "text/plain": [
       "-1/2*y0^2 - 1/2*y1^2 - 1/2*y2^2 - 1/2*y3^2"
      ]
     },
     "metadata": {},
     "output_type": "display_data"
    },
    {
     "data": {
      "text/plain": [
       "1/18*sqrt(3)*sqrt(2)*y2^3 - 1/6*sqrt(3)*sqrt(2)*y2*y3^2 + 1/10*sqrt(5)*y0^3 - 1/10*sqrt(5)*y0*y1^2 + 1/9*sqrt(3)*y1^3 - 1/10*sqrt(5)*y0*y2^2 - 1/6*sqrt(3)*y1*y2^2 - 1/10*sqrt(5)*y0*y3^2 - 1/6*sqrt(3)*y1*y3^2"
      ]
     },
     "metadata": {},
     "output_type": "display_data"
    },
    {
     "data": {
      "text/plain": [
       "1/60*sqrt(5)*sqrt(3)*sqrt(2)*y0*y2^3 - 1/20*sqrt(5)*sqrt(3)*sqrt(2)*y0*y2*y3^2 + 1/30*sqrt(5)*sqrt(3)*y0*y1^3 - 1/20*sqrt(5)*sqrt(3)*y0*y1*y2^2 - 1/20*sqrt(5)*sqrt(3)*y0*y1*y3^2 + 1/12*sqrt(2)*y1*y2^3 - 1/4*sqrt(2)*y1*y2*y3^2 - 3/80*y0^4 + 7/40*y0^2*y1^2 - 1/48*y1^4 + 7/40*y0^2*y2^2 + 1/8*y1^2*y2^2 + 7/40*y0^2*y3^2 + 1/8*y1^2*y3^2"
      ]
     },
     "metadata": {},
     "output_type": "display_data"
    },
    {
     "data": {
      "text/plain": [
       "-1/90*sqrt(3)*sqrt(2)*y0^2*y2^3 + 1/30*sqrt(5)*sqrt(2)*y0*y1*y2^3 + 1/30*sqrt(3)*sqrt(2)*y0^2*y2*y3^2 - 1/10*sqrt(5)*sqrt(2)*y0*y1*y2*y3^2 + 1/1000*sqrt(5)*y0^5 - 1/100*sqrt(5)*y0^3*y1^2 - 1/45*sqrt(3)*y0^2*y1^3 - 1/120*sqrt(5)*y0*y1^4 - 1/100*sqrt(5)*y0^3*y2^2 + 1/30*sqrt(3)*y0^2*y1*y2^2 + 1/20*sqrt(5)*y0*y1^2*y2^2 - 1/100*sqrt(5)*y0^3*y3^2 + 1/30*sqrt(3)*y0^2*y1*y3^2 + 1/20*sqrt(5)*y0*y1^2*y3^2"
      ]
     },
     "metadata": {},
     "output_type": "display_data"
    }
   ],
   "source": [
    "f1 = e1(*(Pm*Qm*vector(ys))).simplify_full().expand()\n",
    "f2 = e2(*(Pm*Qm*vector(ys))).simplify_full().expand()\n",
    "f3 = e3(*(Pm*Qm*vector(ys))).simplify_full().expand()\n",
    "f4 = e4(*(Pm*Qm*vector(ys))).simplify_full().expand()\n",
    "f5 = e5(*(Pm*Qm*vector(ys))).simplify_full().expand()\n",
    "\n",
    "pretty_print(f1)\n",
    "pretty_print(f2)\n",
    "pretty_print(f3)\n",
    "pretty_print(f4)\n",
    "pretty_print(f5)"
   ]
  },
  {
   "cell_type": "code",
   "execution_count": null,
   "metadata": {},
   "outputs": [],
   "source": [
    "def kelvin_transform(f, vrs):\n",
    "    vr_vec = vector(vrs)\n",
    "    sphere_inverted = vr_vec/vr_vec.norm()**2\n",
    "    return f(**dict(zip(map(str,vrs),sphere_inverted)))*vr_vec.norm()**(2-len(vrs))"
   ]
  },
  {
   "cell_type": "code",
   "execution_count": 87,
   "metadata": {},
   "outputs": [],
   "source": [
    "def symmetrize(f, vrs):\n",
    "    if len(vrs) <= 1:\n",
    "        return f\n",
    "    other_vrs = vrs[1:]\n",
    "    sym_f = f\n",
    "    for vr in other_vrs:\n",
    "        perm = dict(zip(map(str,vrs),vrs))\n",
    "        perm[str(vrs[0])] = vr\n",
    "        perm[str(vr)] = vrs[0]\n",
    "        sym_f += f(**perm)\n",
    "    return f/len(vrs)"
   ]
  },
  {
   "cell_type": "code",
   "execution_count": 173,
   "metadata": {},
   "outputs": [],
   "source": [
    "def fourier_trans(f, degree):\n",
    "    return vector([integrate(f*cos(t*n)/(2*pi), (t,0,2*pi)) for n in range(-degree,degree+1)])"
   ]
  },
  {
   "cell_type": "code",
   "execution_count": 174,
   "metadata": {},
   "outputs": [],
   "source": [
    "def multi_index_gen(n, degree):\n",
    "    for multi_index in multi_index_gen_helper(n, degree, degree):\n",
    "        yield multi_index\n",
    "\n",
    "def multi_index_gen_helper(n, degree, max_degree):\n",
    "    if degree == 0:\n",
    "        yield (0,)*n\n",
    "    elif degree < 0:\n",
    "        pass\n",
    "    elif n == 1:\n",
    "        if 0 <= degree <= max_degree:\n",
    "            yield (degree,)\n",
    "        else:\n",
    "            pass\n",
    "    else:\n",
    "        for idx1 in range(max_degree,(degree//n)-1,-1):\n",
    "            for multi_idx in multi_index_gen_helper(n-1,degree-idx1,idx1):\n",
    "                yield (idx1,) + multi_idx"
   ]
  },
  {
   "cell_type": "code",
   "execution_count": 175,
   "metadata": {},
   "outputs": [],
   "source": [
    "tbc_a, tbc_b = three_body_4d[0]\n",
    "\n",
    "tbc = cos(t)*vector(SR,tbc_a) + sin(t)*vector(SR,tbc_b)"
   ]
  },
  {
   "cell_type": "code",
   "execution_count": 177,
   "metadata": {},
   "outputs": [
    {
     "name": "stdout",
     "output_type": "stream",
     "text": [
      "0\n"
     ]
    },
    {
     "ename": "TypeError",
     "evalue": "ECL says: Console interrupt.",
     "output_type": "error",
     "traceback": [
      "\u001b[1;31m---------------------------------------------------------------------------\u001b[0m",
      "\u001b[1;31mTypeError\u001b[0m                                 Traceback (most recent call last)",
      "\u001b[1;32m<ipython-input-177-94092d5af89f>\u001b[0m in \u001b[0;36m<module>\u001b[1;34m()\u001b[0m\n\u001b[0;32m     16\u001b[0m \u001b[1;33m\u001b[0m\u001b[0m\n\u001b[0;32m     17\u001b[0m     \u001b[1;31m#plot( har_fn(*tbc).simplify_trig().reduce_trig(), (t,0,2*pi)).show()\u001b[0m\u001b[1;33m\u001b[0m\u001b[1;33m\u001b[0m\u001b[0m\n\u001b[1;32m---> 18\u001b[1;33m     \u001b[0mfts\u001b[0m\u001b[1;33m.\u001b[0m\u001b[0mappend\u001b[0m\u001b[1;33m(\u001b[0m\u001b[0mfourier_trans\u001b[0m\u001b[1;33m(\u001b[0m\u001b[0mhar_fn\u001b[0m\u001b[1;33m(\u001b[0m\u001b[1;33m*\u001b[0m\u001b[0mtbc\u001b[0m\u001b[1;33m)\u001b[0m\u001b[1;33m.\u001b[0m\u001b[0msimplify_trig\u001b[0m\u001b[1;33m(\u001b[0m\u001b[1;33m)\u001b[0m\u001b[1;33m.\u001b[0m\u001b[0mreduce_trig\u001b[0m\u001b[1;33m(\u001b[0m\u001b[1;33m)\u001b[0m\u001b[1;33m,\u001b[0m \u001b[0mInteger\u001b[0m\u001b[1;33m(\u001b[0m\u001b[1;36m60\u001b[0m\u001b[1;33m)\u001b[0m\u001b[1;33m)\u001b[0m\u001b[1;33m)\u001b[0m\u001b[1;33m\u001b[0m\u001b[0m\n\u001b[0m\u001b[0;32m     19\u001b[0m     \u001b[1;32mprint\u001b[0m\u001b[1;33m(\u001b[0m\u001b[0mcount\u001b[0m\u001b[1;33m)\u001b[0m\u001b[1;33m\u001b[0m\u001b[0m\n\u001b[0;32m     20\u001b[0m \u001b[1;33m\u001b[0m\u001b[0m\n",
      "\u001b[1;32m/usr/local/sage/local/lib/python2.7/site-packages/sage/symbolic/expression.pyx\u001b[0m in \u001b[0;36msage.symbolic.expression.Expression.reduce_trig (build/cythonized/sage/symbolic/expression.cpp:29292)\u001b[1;34m()\u001b[0m\n\u001b[0;32m   4842\u001b[0m         \u001b[1;32melse\u001b[0m\u001b[1;33m:\u001b[0m\u001b[1;33m\u001b[0m\u001b[0m\n\u001b[0;32m   4843\u001b[0m             \u001b[0mcmd\u001b[0m \u001b[1;33m=\u001b[0m \u001b[1;34m'trigreduce(%s,%s)'\u001b[0m\u001b[1;33m%\u001b[0m\u001b[1;33m(\u001b[0m\u001b[0mM\u001b[0m\u001b[1;33m.\u001b[0m\u001b[0mname\u001b[0m\u001b[1;33m(\u001b[0m\u001b[1;33m)\u001b[0m\u001b[1;33m,\u001b[0m\u001b[1;34m'_SAGE_VAR_'\u001b[0m\u001b[1;33m+\u001b[0m\u001b[0mstr\u001b[0m\u001b[1;33m(\u001b[0m\u001b[0mvar\u001b[0m\u001b[1;33m)\u001b[0m\u001b[1;33m)\u001b[0m\u001b[1;33m\u001b[0m\u001b[0m\n\u001b[1;32m-> 4844\u001b[1;33m         \u001b[0mans\u001b[0m \u001b[1;33m=\u001b[0m \u001b[0mP\u001b[0m\u001b[1;33m(\u001b[0m\u001b[0mcmd\u001b[0m\u001b[1;33m)\u001b[0m\u001b[1;33m\u001b[0m\u001b[0m\n\u001b[0m\u001b[0;32m   4845\u001b[0m         \u001b[1;32mreturn\u001b[0m \u001b[0mself\u001b[0m\u001b[1;33m.\u001b[0m\u001b[0mparent\u001b[0m\u001b[1;33m(\u001b[0m\u001b[1;33m)\u001b[0m\u001b[1;33m(\u001b[0m\u001b[0mans\u001b[0m\u001b[1;33m)\u001b[0m\u001b[1;33m\u001b[0m\u001b[0m\n\u001b[0;32m   4846\u001b[0m \u001b[1;33m\u001b[0m\u001b[0m\n",
      "\u001b[1;32m/usr/local/sage/local/lib/python2.7/site-packages/sage/interfaces/interface.pyc\u001b[0m in \u001b[0;36m__call__\u001b[1;34m(self, x, name)\u001b[0m\n\u001b[0;32m    286\u001b[0m \u001b[1;33m\u001b[0m\u001b[0m\n\u001b[0;32m    287\u001b[0m         \u001b[1;32mif\u001b[0m \u001b[0misinstance\u001b[0m\u001b[1;33m(\u001b[0m\u001b[0mx\u001b[0m\u001b[1;33m,\u001b[0m \u001b[0mstring_types\u001b[0m\u001b[1;33m)\u001b[0m\u001b[1;33m:\u001b[0m\u001b[1;33m\u001b[0m\u001b[0m\n\u001b[1;32m--> 288\u001b[1;33m             \u001b[1;32mreturn\u001b[0m \u001b[0mcls\u001b[0m\u001b[1;33m(\u001b[0m\u001b[0mself\u001b[0m\u001b[1;33m,\u001b[0m \u001b[0mx\u001b[0m\u001b[1;33m,\u001b[0m \u001b[0mname\u001b[0m\u001b[1;33m=\u001b[0m\u001b[0mname\u001b[0m\u001b[1;33m)\u001b[0m\u001b[1;33m\u001b[0m\u001b[0m\n\u001b[0m\u001b[0;32m    289\u001b[0m         \u001b[1;32mtry\u001b[0m\u001b[1;33m:\u001b[0m\u001b[1;33m\u001b[0m\u001b[0m\n\u001b[0;32m    290\u001b[0m             \u001b[1;32mreturn\u001b[0m \u001b[0mself\u001b[0m\u001b[1;33m.\u001b[0m\u001b[0m_coerce_from_special_method\u001b[0m\u001b[1;33m(\u001b[0m\u001b[0mx\u001b[0m\u001b[1;33m)\u001b[0m\u001b[1;33m\u001b[0m\u001b[0m\n",
      "\u001b[1;32m/usr/local/sage/local/lib/python2.7/site-packages/sage/interfaces/interface.pyc\u001b[0m in \u001b[0;36m__init__\u001b[1;34m(self, parent, value, is_name, name)\u001b[0m\n\u001b[0;32m    701\u001b[0m                 \u001b[0mself\u001b[0m\u001b[1;33m.\u001b[0m\u001b[0m_name\u001b[0m \u001b[1;33m=\u001b[0m \u001b[0mparent\u001b[0m\u001b[1;33m.\u001b[0m\u001b[0m_create\u001b[0m\u001b[1;33m(\u001b[0m\u001b[0mvalue\u001b[0m\u001b[1;33m,\u001b[0m \u001b[0mname\u001b[0m\u001b[1;33m=\u001b[0m\u001b[0mname\u001b[0m\u001b[1;33m)\u001b[0m\u001b[1;33m\u001b[0m\u001b[0m\n\u001b[0;32m    702\u001b[0m             \u001b[1;32mexcept\u001b[0m \u001b[1;33m(\u001b[0m\u001b[0mTypeError\u001b[0m\u001b[1;33m,\u001b[0m \u001b[0mRuntimeError\u001b[0m\u001b[1;33m,\u001b[0m \u001b[0mValueError\u001b[0m\u001b[1;33m)\u001b[0m \u001b[1;32mas\u001b[0m \u001b[0mx\u001b[0m\u001b[1;33m:\u001b[0m\u001b[1;33m\u001b[0m\u001b[0m\n\u001b[1;32m--> 703\u001b[1;33m                 \u001b[1;32mraise\u001b[0m \u001b[0mTypeError\u001b[0m\u001b[1;33m(\u001b[0m\u001b[0mx\u001b[0m\u001b[1;33m)\u001b[0m\u001b[1;33m\u001b[0m\u001b[0m\n\u001b[0m\u001b[0;32m    704\u001b[0m \u001b[1;33m\u001b[0m\u001b[0m\n\u001b[0;32m    705\u001b[0m     \u001b[1;32mdef\u001b[0m \u001b[0m_latex_\u001b[0m\u001b[1;33m(\u001b[0m\u001b[0mself\u001b[0m\u001b[1;33m)\u001b[0m\u001b[1;33m:\u001b[0m\u001b[1;33m\u001b[0m\u001b[0m\n",
      "\u001b[1;31mTypeError\u001b[0m: ECL says: Console interrupt."
     ]
    }
   ],
   "source": [
    "n = 4\n",
    "degree = 60\n",
    "\n",
    "fts = []\n",
    "\n",
    "for count, multi_index in enumerate(multi_index_gen(n, degree)):\n",
    "    assert len(multi_index) == n and sum(multi_index) == degree and all([idx >=0 for idx in multi_index])\n",
    "\n",
    "    har_fn = vector(ys).norm()**(2-n)\n",
    "    for vr, idx in zip(ys, multi_index):\n",
    "        har_fn = diff(har_fn, vr, idx)\n",
    "\n",
    "    har_fn = kelvin_transform(har_fn, ys) #.simplify_full()    \n",
    "\n",
    "    har_fn = symmetrize(har_fn, ys)\n",
    "    \n",
    "    #plot( har_fn(*tbc).simplify_trig().reduce_trig(), (t,0,2*pi)).show()\n",
    "    fts.append(fourier_trans(har_fn(*tbc).simplify_trig().reduce_trig(), 60))\n",
    "    print(count)\n",
    "    \n",
    "#har_fn"
   ]
  },
  {
   "cell_type": "code",
   "execution_count": null,
   "metadata": {},
   "outputs": [],
   "source": []
  },
  {
   "cell_type": "code",
   "execution_count": null,
   "metadata": {},
   "outputs": [],
   "source": []
  },
  {
   "cell_type": "code",
   "execution_count": null,
   "metadata": {},
   "outputs": [],
   "source": []
  },
  {
   "cell_type": "code",
   "execution_count": null,
   "metadata": {},
   "outputs": [],
   "source": []
  }
 ],
 "metadata": {
  "kernelspec": {
   "display_name": "SageMath 8.8",
   "language": "sage",
   "name": "sagemath"
  },
  "language_info": {
   "codemirror_mode": {
    "name": "ipython",
    "version": 2
   },
   "file_extension": ".py",
   "mimetype": "text/x-python",
   "name": "python",
   "nbconvert_exporter": "python",
   "pygments_lexer": "ipython2",
   "version": "2.7.15"
  }
 },
 "nbformat": 4,
 "nbformat_minor": 4
}
