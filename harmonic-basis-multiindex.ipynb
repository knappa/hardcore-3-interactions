{
 "cells": [
  {
   "cell_type": "code",
   "execution_count": 1,
   "metadata": {},
   "outputs": [],
   "source": [
    "#%display plain\n",
    "%display latex"
   ]
  },
  {
   "cell_type": "code",
   "execution_count": 2,
   "metadata": {},
   "outputs": [],
   "source": [
    "from matplotlib import cm\n",
    "import numpy as np\n",
    "import itertools\n",
    "from itertools import combinations\n",
    "from __future__ import print_function"
   ]
  },
  {
   "cell_type": "code",
   "execution_count": 3,
   "metadata": {},
   "outputs": [],
   "source": [
    "real_vars = var('r,t,theta,phi,x,y,z')\n",
    "for rv in real_vars:\n",
    "    assume(rv, 'real')\n",
    "    \n",
    "    \n",
    "xs = var(['x{}'.format(n) for n in range(5)])\n",
    "for xi in xs: assume(xi,'real')\n",
    "\n",
    "ys = var(['y{}'.format(n) for n in range(4)])\n",
    "for yi in ys: assume(yi,'real')\n",
    "    \n",
    "    \n",
    "p1 = sum([xi   for xi in xs])\n",
    "p2 = sum([xi^2 for xi in xs])\n",
    "p3 = sum([xi^3 for xi in xs])\n",
    "p4 = sum([xi^4 for xi in xs])\n",
    "p5 = sum([xi^5 for xi in xs])\n",
    "\n",
    "    \n",
    "e1 = sum([ xi             for (xi,           ) in combinations(xs,1)])\n",
    "e2 = sum([ xi*xj          for (xi,xj         ) in combinations(xs,2)])\n",
    "e3 = sum([ xi*xj*xk       for (xi,xj,xk      ) in combinations(xs,3)])\n",
    "e4 = sum([ xi*xj*xk*xl    for (xi,xj,xk,xl   ) in combinations(xs,4)])    \n",
    "e5 = sum([ xi*xj*xk*xl*xm for (xi,xj,xk,xl,xm) in combinations(xs,5)])"
   ]
  },
  {
   "cell_type": "code",
   "execution_count": 4,
   "metadata": {},
   "outputs": [
    {
     "data": {
      "text/html": [
       "<html><script type=\"math/tex; mode=display\">\\newcommand{\\Bold}[1]{\\mathbf{#1}}\\left(\\begin{array}{rrrr}\n",
       "2 \\, \\sqrt{\\frac{1}{5}} & 0 & 0 & 0 \\\\\n",
       "-\\frac{1}{2} \\, \\sqrt{\\frac{1}{5}} & \\frac{1}{2} \\, \\sqrt{3} & 0 & 0 \\\\\n",
       "-\\frac{1}{2} \\, \\sqrt{\\frac{1}{5}} & -\\frac{1}{6} \\, \\sqrt{3} & \\sqrt{\\frac{2}{3}} & 0 \\\\\n",
       "-\\frac{1}{2} \\, \\sqrt{\\frac{1}{5}} & -\\frac{1}{6} \\, \\sqrt{3} & -\\frac{1}{2} \\, \\sqrt{\\frac{2}{3}} & \\sqrt{\\frac{1}{2}} \\\\\n",
       "-\\frac{1}{2} \\, \\sqrt{\\frac{1}{5}} & -\\frac{1}{6} \\, \\sqrt{3} & -\\frac{1}{2} \\, \\sqrt{\\frac{2}{3}} & -\\sqrt{\\frac{1}{2}}\n",
       "\\end{array}\\right)</script></html>"
      ],
      "text/plain": [
       "[   2*sqrt(1/5)              0              0              0]\n",
       "[-1/2*sqrt(1/5)    1/2*sqrt(3)              0              0]\n",
       "[-1/2*sqrt(1/5)   -1/6*sqrt(3)      sqrt(2/3)              0]\n",
       "[-1/2*sqrt(1/5)   -1/6*sqrt(3) -1/2*sqrt(2/3)      sqrt(1/2)]\n",
       "[-1/2*sqrt(1/5)   -1/6*sqrt(3) -1/2*sqrt(2/3)     -sqrt(1/2)]"
      ]
     },
     "execution_count": 4,
     "metadata": {},
     "output_type": "execute_result"
    }
   ],
   "source": [
    "com = vector([1,1,1,1,1])/sqrt(5) # center of mass\n",
    "\n",
    "j1 = vector(QQ,[1,0,0,0,0])\n",
    "j2 = vector(QQ,[0,1,0,0,0])\n",
    "j3 = vector(QQ,[0,0,1,0,0])\n",
    "j4 = vector(QQ,[0,0,0,1,0])\n",
    "\n",
    "j1 = j1 - (j1*com)*com/com.norm()^2\n",
    "j2 = j2 - (j2*com)*com/com.norm()^2\n",
    "j3 = j3 - (j3*com)*com/com.norm()^2\n",
    "j4 = j4 - (j4*com)*com/com.norm()^2\n",
    "\n",
    "j2 = j2 - (j2*j1)*j1/j1.norm()^2\n",
    "j3 = j3 - (j3*j1)*j1/j1.norm()^2\n",
    "j4 = j4 - (j4*j1)*j1/j1.norm()^2\n",
    "\n",
    "j3 = j3 - (j3*j2)*j2/j2.norm()^2\n",
    "j4 = j4 - (j4*j2)*j2/j2.norm()^2\n",
    "\n",
    "j4 = j4 - (j4*j3)*j3/j3.norm()^2\n",
    "\n",
    "j1 = j1/j1.norm()\n",
    "j2 = j2/j2.norm()\n",
    "j3 = j3/j3.norm()\n",
    "j4 = j4/j4.norm()\n",
    "\n",
    "matrix([j1, j2, j3, j4]).transpose() # display as column vecs"
   ]
  },
  {
   "cell_type": "code",
   "execution_count": 5,
   "metadata": {},
   "outputs": [],
   "source": [
    "Pm = matrix([com,j1,j2,j3,j4]).transpose()\n",
    "\n",
    "Pl = matrix([j1,j2,j3,j4]).transpose()\n",
    "\n",
    "Qm = matrix([[0,0,0,0],\n",
    "             [1,0,0,0],\n",
    "             [0,1,0,0],\n",
    "             [0,0,1,0],\n",
    "             [0,0,0,1]])"
   ]
  },
  {
   "cell_type": "code",
   "execution_count": 6,
   "metadata": {},
   "outputs": [],
   "source": [
    "# the (5 choose 3) 3-body interations in 4 dimensions\n",
    "three_coincidences = [ matrix([[1, 1, 1, 1, 1],\n",
    "                               [1,-1, 0, 0, 0],\n",
    "                               [0, 1,-1, 0, 0]]),\n",
    "                       matrix([[1, 1, 1, 1, 1],\n",
    "                               [1,-1, 0, 0, 0],\n",
    "                               [0, 1, 0,-1, 0]]),\n",
    "                       matrix([[1, 1, 1, 1, 1],\n",
    "                               [1,-1, 0, 0, 0],\n",
    "                               [0, 1, 0, 0,-1]]),\n",
    "                       matrix([[1, 1, 1, 1, 1],\n",
    "                               [1, 0,-1, 0, 0],\n",
    "                               [0, 0, 1,-1, 0]]),\n",
    "                       matrix([[1, 1, 1, 1, 1],\n",
    "                               [1, 0,-1, 0, 0],\n",
    "                               [0, 0, 1, 0,-1]]),\n",
    "                       matrix([[1, 1, 1, 1, 1],\n",
    "                               [1, 0, 0,-1, 0],\n",
    "                               [0, 0, 0, 1,-1]]),\n",
    "                       matrix([[1, 1, 1, 1, 1],\n",
    "                               [0, 1,-1, 0, 0],\n",
    "                               [0, 0, 1,-1, 0]]),\n",
    "                       matrix([[1, 1, 1, 1, 1],\n",
    "                               [0, 1,-1, 0, 0],\n",
    "                               [0, 0, 1, 0,-1]]),\n",
    "                       matrix([[1, 1, 1, 1, 1],\n",
    "                               [0, 1, 0,-1, 0],\n",
    "                               [0, 0, 0, 1,-1]]),\n",
    "                       matrix([[1, 1, 1, 1, 1],\n",
    "                               [0, 0, 1,-1, 0],\n",
    "                               [0, 0, 0, 1,-1]]) ]\n",
    "\n",
    "three_body_4d = [ (M*Pl).right_kernel().basis_matrix() for M in three_coincidences ]\n",
    "three_body_4d = [ (M[0]/M[0].norm(),M[1]/M[1].norm()) for M in three_body_4d ]\n",
    "\n",
    "# the (5 choose 4) 4-body interations in 4 dimensions\n",
    "four_coincidences = [ matrix([[ 1, 1, 1, 1, 1],\n",
    "                              [ 1,-1, 0, 0, 0],\n",
    "                              [ 0, 1,-1, 0, 0],\n",
    "                              [ 0, 0, 1,-1, 0]]),\n",
    "                      matrix([[ 1, 1, 1, 1, 1],\n",
    "                              [ 1,-1, 0, 0, 0],\n",
    "                              [ 0, 1,-1, 0, 0],\n",
    "                              [ 0, 0, 1, 0,-1]]),\n",
    "                      matrix([[ 1, 1, 1, 1, 1],\n",
    "                              [ 1,-1, 0, 0, 0],\n",
    "                              [ 0, 1, 0,-1, 0],\n",
    "                              [ 0, 0, 0, 1,-1]]),\n",
    "                      matrix([[ 1, 1, 1, 1, 1],\n",
    "                              [ 1, 0,-1, 0, 0],\n",
    "                              [ 0, 0, 1,-1, 0],\n",
    "                              [ 0, 0, 0, 1,-1]]),\n",
    "                      matrix([[ 1, 1, 1, 1, 1],\n",
    "                              [ 0, 1,-1, 0, 0],\n",
    "                              [ 0, 0, 1,-1, 0],\n",
    "                              [ 0, 0, 0, 1,-1]]) ]\n",
    "\n",
    "four_body_4d = [ (M*Pl).right_kernel().basis_matrix()[0] for M in four_coincidences ]\n",
    "four_body_4d = [ (v/v.norm()).simplify_full() for v in four_body_4d ]"
   ]
  },
  {
   "cell_type": "code",
   "execution_count": 7,
   "metadata": {},
   "outputs": [],
   "source": [
    "# the (5 choose 3) 3-body interations in 5 dimensions \n",
    "# (there is another dimension for each, in the \"total coincidence\" direction)\n",
    "\n",
    "three_body_5d = [ M.right_kernel().basis_matrix() for M in three_coincidences ]\n",
    "three_body_5d = [ ((M[0]/M[0].norm()).simplify_full(),(M[1]/M[1].norm()).simplify_full()) for M in three_body_5d ]\n",
    "\n",
    "four_body_5d = [ M.right_kernel().basis_matrix()[0] for M in four_coincidences ]\n",
    "four_body_5d = [ (v/v.norm()).simplify_full() for v in four_body_5d ]"
   ]
  },
  {
   "cell_type": "code",
   "execution_count": 8,
   "metadata": {},
   "outputs": [
    {
     "data": {
      "text/html": [
       "<html><script type=\"math/tex; mode=display\">\\newcommand{\\Bold}[1]{\\mathbf{#1}}0</script></html>"
      ],
      "text/plain": [
       "0"
      ]
     },
     "metadata": {},
     "output_type": "display_data"
    },
    {
     "data": {
      "text/html": [
       "<html><script type=\"math/tex; mode=display\">\\newcommand{\\Bold}[1]{\\mathbf{#1}}-\\frac{1}{2} \\, y_{0}^{2} - \\frac{1}{2} \\, y_{1}^{2} - \\frac{1}{2} \\, y_{2}^{2} - \\frac{1}{2} \\, y_{3}^{2}</script></html>"
      ],
      "text/plain": [
       "-1/2*y0^2 - 1/2*y1^2 - 1/2*y2^2 - 1/2*y3^2"
      ]
     },
     "metadata": {},
     "output_type": "display_data"
    },
    {
     "data": {
      "text/html": [
       "<html><script type=\"math/tex; mode=display\">\\newcommand{\\Bold}[1]{\\mathbf{#1}}\\frac{1}{18} \\, \\sqrt{3} \\sqrt{2} y_{2}^{3} - \\frac{1}{6} \\, \\sqrt{3} \\sqrt{2} y_{2} y_{3}^{2} + \\frac{1}{10} \\, \\sqrt{5} y_{0}^{3} - \\frac{1}{10} \\, \\sqrt{5} y_{0} y_{1}^{2} + \\frac{1}{9} \\, \\sqrt{3} y_{1}^{3} - \\frac{1}{10} \\, \\sqrt{5} y_{0} y_{2}^{2} - \\frac{1}{6} \\, \\sqrt{3} y_{1} y_{2}^{2} - \\frac{1}{10} \\, \\sqrt{5} y_{0} y_{3}^{2} - \\frac{1}{6} \\, \\sqrt{3} y_{1} y_{3}^{2}</script></html>"
      ],
      "text/plain": [
       "1/18*sqrt(3)*sqrt(2)*y2^3 - 1/6*sqrt(3)*sqrt(2)*y2*y3^2 + 1/10*sqrt(5)*y0^3 - 1/10*sqrt(5)*y0*y1^2 + 1/9*sqrt(3)*y1^3 - 1/10*sqrt(5)*y0*y2^2 - 1/6*sqrt(3)*y1*y2^2 - 1/10*sqrt(5)*y0*y3^2 - 1/6*sqrt(3)*y1*y3^2"
      ]
     },
     "metadata": {},
     "output_type": "display_data"
    },
    {
     "data": {
      "text/html": [
       "<html><script type=\"math/tex; mode=display\">\\newcommand{\\Bold}[1]{\\mathbf{#1}}\\frac{1}{60} \\, \\sqrt{5} \\sqrt{3} \\sqrt{2} y_{0} y_{2}^{3} - \\frac{1}{20} \\, \\sqrt{5} \\sqrt{3} \\sqrt{2} y_{0} y_{2} y_{3}^{2} + \\frac{1}{30} \\, \\sqrt{5} \\sqrt{3} y_{0} y_{1}^{3} - \\frac{1}{20} \\, \\sqrt{5} \\sqrt{3} y_{0} y_{1} y_{2}^{2} - \\frac{1}{20} \\, \\sqrt{5} \\sqrt{3} y_{0} y_{1} y_{3}^{2} + \\frac{1}{12} \\, \\sqrt{2} y_{1} y_{2}^{3} - \\frac{1}{4} \\, \\sqrt{2} y_{1} y_{2} y_{3}^{2} - \\frac{3}{80} \\, y_{0}^{4} + \\frac{7}{40} \\, y_{0}^{2} y_{1}^{2} - \\frac{1}{48} \\, y_{1}^{4} + \\frac{7}{40} \\, y_{0}^{2} y_{2}^{2} + \\frac{1}{8} \\, y_{1}^{2} y_{2}^{2} + \\frac{7}{40} \\, y_{0}^{2} y_{3}^{2} + \\frac{1}{8} \\, y_{1}^{2} y_{3}^{2}</script></html>"
      ],
      "text/plain": [
       "1/60*sqrt(5)*sqrt(3)*sqrt(2)*y0*y2^3 - 1/20*sqrt(5)*sqrt(3)*sqrt(2)*y0*y2*y3^2 + 1/30*sqrt(5)*sqrt(3)*y0*y1^3 - 1/20*sqrt(5)*sqrt(3)*y0*y1*y2^2 - 1/20*sqrt(5)*sqrt(3)*y0*y1*y3^2 + 1/12*sqrt(2)*y1*y2^3 - 1/4*sqrt(2)*y1*y2*y3^2 - 3/80*y0^4 + 7/40*y0^2*y1^2 - 1/48*y1^4 + 7/40*y0^2*y2^2 + 1/8*y1^2*y2^2 + 7/40*y0^2*y3^2 + 1/8*y1^2*y3^2"
      ]
     },
     "metadata": {},
     "output_type": "display_data"
    },
    {
     "data": {
      "text/html": [
       "<html><script type=\"math/tex; mode=display\">\\newcommand{\\Bold}[1]{\\mathbf{#1}}-\\frac{1}{90} \\, \\sqrt{3} \\sqrt{2} y_{0}^{2} y_{2}^{3} + \\frac{1}{30} \\, \\sqrt{5} \\sqrt{2} y_{0} y_{1} y_{2}^{3} + \\frac{1}{30} \\, \\sqrt{3} \\sqrt{2} y_{0}^{2} y_{2} y_{3}^{2} - \\frac{1}{10} \\, \\sqrt{5} \\sqrt{2} y_{0} y_{1} y_{2} y_{3}^{2} + \\frac{1}{1000} \\, \\sqrt{5} y_{0}^{5} - \\frac{1}{100} \\, \\sqrt{5} y_{0}^{3} y_{1}^{2} - \\frac{1}{45} \\, \\sqrt{3} y_{0}^{2} y_{1}^{3} - \\frac{1}{120} \\, \\sqrt{5} y_{0} y_{1}^{4} - \\frac{1}{100} \\, \\sqrt{5} y_{0}^{3} y_{2}^{2} + \\frac{1}{30} \\, \\sqrt{3} y_{0}^{2} y_{1} y_{2}^{2} + \\frac{1}{20} \\, \\sqrt{5} y_{0} y_{1}^{2} y_{2}^{2} - \\frac{1}{100} \\, \\sqrt{5} y_{0}^{3} y_{3}^{2} + \\frac{1}{30} \\, \\sqrt{3} y_{0}^{2} y_{1} y_{3}^{2} + \\frac{1}{20} \\, \\sqrt{5} y_{0} y_{1}^{2} y_{3}^{2}</script></html>"
      ],
      "text/plain": [
       "-1/90*sqrt(3)*sqrt(2)*y0^2*y2^3 + 1/30*sqrt(5)*sqrt(2)*y0*y1*y2^3 + 1/30*sqrt(3)*sqrt(2)*y0^2*y2*y3^2 - 1/10*sqrt(5)*sqrt(2)*y0*y1*y2*y3^2 + 1/1000*sqrt(5)*y0^5 - 1/100*sqrt(5)*y0^3*y1^2 - 1/45*sqrt(3)*y0^2*y1^3 - 1/120*sqrt(5)*y0*y1^4 - 1/100*sqrt(5)*y0^3*y2^2 + 1/30*sqrt(3)*y0^2*y1*y2^2 + 1/20*sqrt(5)*y0*y1^2*y2^2 - 1/100*sqrt(5)*y0^3*y3^2 + 1/30*sqrt(3)*y0^2*y1*y3^2 + 1/20*sqrt(5)*y0*y1^2*y3^2"
      ]
     },
     "metadata": {},
     "output_type": "display_data"
    }
   ],
   "source": [
    "f1 = e1(*(Pm*Qm*vector(ys))).simplify_full().expand()\n",
    "f2 = e2(*(Pm*Qm*vector(ys))).simplify_full().expand()\n",
    "f3 = e3(*(Pm*Qm*vector(ys))).simplify_full().expand()\n",
    "f4 = e4(*(Pm*Qm*vector(ys))).simplify_full().expand()\n",
    "f5 = e5(*(Pm*Qm*vector(ys))).simplify_full().expand()\n",
    "\n",
    "pretty_print(f1)\n",
    "pretty_print(f2)\n",
    "pretty_print(f3)\n",
    "pretty_print(f4)\n",
    "pretty_print(f5)"
   ]
  },
  {
   "cell_type": "code",
   "execution_count": 54,
   "metadata": {},
   "outputs": [],
   "source": [
    "def kelvin_transform(f, vrs):\n",
    "    vr_vec = vector(vrs)\n",
    "    sphere_inverted = vr_vec/vr_vec.norm()**2\n",
    "    return f(**dict(zip(map(str,vrs),sphere_inverted)))*vr_vec.norm()**(2-len(vrs))"
   ]
  },
  {
   "cell_type": "code",
   "execution_count": 83,
   "metadata": {},
   "outputs": [],
   "source": [
    "sym_gens5 = [\n",
    "    matrix([[0,1,0,0,0],\n",
    "            [1,0,0,0,0],\n",
    "            [0,0,1,0,0],\n",
    "            [0,0,0,1,0],\n",
    "            [0,0,0,0,1]]),\n",
    "    matrix([[0,1,0,0,0],\n",
    "            [0,0,1,0,0],\n",
    "            [1,0,0,0,0],\n",
    "            [0,0,0,1,0],\n",
    "            [0,0,0,0,1]]),\n",
    "    matrix([[0,1,0,0,0],\n",
    "            [0,0,1,0,0],\n",
    "            [0,0,0,1,0],\n",
    "            [1,0,0,0,0],\n",
    "            [0,0,0,0,1]]),\n",
    "    matrix([[0,1,0,0,0],\n",
    "            [0,0,1,0,0],\n",
    "            [0,0,0,1,0],\n",
    "            [0,0,0,0,1],\n",
    "            [1,0,0,0,0]]),\n",
    "]\n",
    "\n",
    "sym_gens4 = [ (Qm.transpose()*Pm.transpose()*M*Pm*Qm).expand() for M in sym_gens5 ]"
   ]
  },
  {
   "cell_type": "code",
   "execution_count": 125,
   "metadata": {},
   "outputs": [],
   "source": [
    "#def symmetrize(f, vrs):\n",
    "#    if len(vrs) <= 1:\n",
    "#        return f\n",
    "#    other_vrs = vrs[1:]\n",
    "#    sym_f = f\n",
    "#    for vr in other_vrs:\n",
    "#        perm = dict(zip(map(str,vrs),vrs))\n",
    "#        perm[str(vrs[0])] = vr\n",
    "#        perm[str(vr)] = vrs[0]\n",
    "#        sym_f += f(**perm)\n",
    "#    return f/len(vrs)\n",
    "\n",
    "def symmetrize(f):\n",
    "    sym = (sym_gens4[0]^i*sym_gens4[1]^j*sym_gens4[2]^k*sym_gens4[3]^l \n",
    "           for i, j, k, l in itertools.product(range(2), range(3), range(4), range(5)) )\n",
    "    return sum([ f(**dict(zip(map(str,ys), M*vector(ys)))) for M in sym]).expand().simplify()/factorial(5)"
   ]
  },
  {
   "cell_type": "code",
   "execution_count": 131,
   "metadata": {},
   "outputs": [],
   "source": [
    "def fourier_trans(f, degree):\n",
    "    return vector([integrate(f*cos(t*n)/(2*pi), (t,0,2*pi)) for n in range(-degree,degree+1)])"
   ]
  },
  {
   "cell_type": "code",
   "execution_count": 132,
   "metadata": {},
   "outputs": [],
   "source": [
    "def multi_index_gen(n, degree):\n",
    "    for multi_index in multi_index_gen_helper(n, degree, degree):\n",
    "        yield multi_index\n",
    "\n",
    "def multi_index_gen_helper(n, degree, max_degree):\n",
    "    if degree == 0:\n",
    "        yield (0,)*n\n",
    "    elif degree < 0:\n",
    "        pass\n",
    "    elif n == 1:\n",
    "        if 0 <= degree <= max_degree:\n",
    "            yield (degree,)\n",
    "        else:\n",
    "            pass\n",
    "    else:\n",
    "        for idx1 in range(max_degree,(degree//n)-1,-1):\n",
    "            for multi_idx in multi_index_gen_helper(n-1,degree-idx1,idx1):\n",
    "                yield (idx1,) + multi_idx"
   ]
  },
  {
   "cell_type": "code",
   "execution_count": 133,
   "metadata": {},
   "outputs": [],
   "source": [
    "tbc_a, tbc_b = three_body_4d[0]\n",
    "\n",
    "tbc = cos(t)*vector(SR,tbc_a) + sin(t)*vector(SR,tbc_b)"
   ]
  },
  {
   "cell_type": "code",
   "execution_count": 134,
   "metadata": {},
   "outputs": [],
   "source": [
    "def ft_from_multi_index(n, degree, multi_index):\n",
    "    har_fn = vector(ys).norm()**(2-n)\n",
    "    \n",
    "    for vr, idx in zip(ys, multi_index):\n",
    "        har_fn = diff(har_fn, vr, idx)\n",
    "\n",
    "    har_fn = kelvin_transform(har_fn, ys)\n",
    "\n",
    "    har_fn = symmetrize(har_fn) #, ys)\n",
    "    \n",
    "    #plot( har_fn(*tbc).simplify_trig().reduce_trig(), (t,0,2*pi)).show()\n",
    "    return fourier_trans(har_fn(**dict(zip(map(str,ys),tbc))).simplify_trig().reduce_trig(), degree)"
   ]
  },
  {
   "cell_type": "code",
   "execution_count": 135,
   "metadata": {},
   "outputs": [],
   "source": [
    "n = 5\n",
    "degree = 3\n",
    "\n",
    "@parallel(ncpus=11)\n",
    "def parallel_fts(a,b,c,d,e):\n",
    "    multi_index = (a,b,c,d,e)\n",
    "    return ft_from_multi_index(n, degree, multi_index)\n",
    "\n",
    "mindices = list(multi_index_gen(n, degree))\n",
    "\n",
    "fts = parallel_fts(mindices)"
   ]
  },
  {
   "cell_type": "code",
   "execution_count": 136,
   "metadata": {},
   "outputs": [],
   "source": [
    "ft_matrix = list(fts)"
   ]
  },
  {
   "cell_type": "code",
   "execution_count": 151,
   "metadata": {},
   "outputs": [
    {
     "data": {
      "text/html": [
       "<html><script type=\"math/tex; mode=display\">\\newcommand{\\Bold}[1]{\\mathbf{#1}}\\left[\\left(\\left(\\left(1, 1, 1, 0, 0\\right), \\left\\{\\right\\}\\right), \\left(0,\\,0,\\,0,\\,0,\\,0,\\,0,\\,0\\right)\\right), \\left(\\left(\\left(2, 1, 0, 0, 0\\right), \\left\\{\\right\\}\\right), \\left(0,\\,0,\\,0,\\,0,\\,0,\\,0,\\,0\\right)\\right), \\left(\\left(\\left(3, 0, 0, 0, 0\\right), \\left\\{\\right\\}\\right), \\left(-\\frac{35}{16} \\, \\sqrt{6},\\,0,\\,\\frac{105}{32} \\, \\sqrt{6},\\,0,\\,\\frac{105}{32} \\, \\sqrt{6},\\,0,\\,-\\frac{35}{16} \\, \\sqrt{6}\\right)\\right)\\right]</script></html>"
      ],
      "text/plain": [
       "[(((1, 1, 1, 0, 0), {}), (0, 0, 0, 0, 0, 0, 0)),\n",
       " (((2, 1, 0, 0, 0), {}), (0, 0, 0, 0, 0, 0, 0)),\n",
       " (((3, 0, 0, 0, 0), {}),\n",
       "  (-35/16*sqrt(6), 0, 105/32*sqrt(6), 0, 105/32*sqrt(6), 0, -35/16*sqrt(6)))]"
      ]
     },
     "execution_count": 151,
     "metadata": {},
     "output_type": "execute_result"
    }
   ],
   "source": [
    "ft_matrix = sorted(ft_matrix)\n",
    "ft_matrix"
   ]
  },
  {
   "cell_type": "code",
   "execution_count": 150,
   "metadata": {},
   "outputs": [
    {
     "data": {
      "text/html": [
       "<html><script type=\"math/tex; mode=display\">\\newcommand{\\Bold}[1]{\\mathbf{#1}}\\left(\\begin{array}{rrrrrrr}\n",
       "0 & 0 & 0 & 0 & 0 & 0 & 0 \\\\\n",
       "0 & 0 & 0 & 0 & 0 & 0 & 0 \\\\\n",
       "-\\frac{35}{16} \\, \\sqrt{6} & 0 & \\frac{105}{32} \\, \\sqrt{6} & 0 & \\frac{105}{32} \\, \\sqrt{6} & 0 & -\\frac{35}{16} \\, \\sqrt{6}\n",
       "\\end{array}\\right)</script></html>"
      ],
      "text/plain": [
       "[             0              0              0              0              0              0              0]\n",
       "[             0              0              0              0              0              0              0]\n",
       "[-35/16*sqrt(6)              0 105/32*sqrt(6)              0 105/32*sqrt(6)              0 -35/16*sqrt(6)]"
      ]
     },
     "execution_count": 150,
     "metadata": {},
     "output_type": "execute_result"
    }
   ],
   "source": [
    "matrix(map(lambda l: l[1], ft_matrix))"
   ]
  },
  {
   "cell_type": "code",
   "execution_count": 143,
   "metadata": {},
   "outputs": [
    {
     "data": {
      "text/html": [
       "<html><script type=\"math/tex; mode=display\">\\newcommand{\\Bold}[1]{\\mathbf{#1}}\\left(\\begin{array}{rrr}\n",
       "0 & 1 & 0 \\\\\n",
       "0 & 0 & 1\n",
       "\\end{array}\\right)</script></html>"
      ],
      "text/plain": [
       "[0 1 0]\n",
       "[0 0 1]"
      ]
     },
     "execution_count": 143,
     "metadata": {},
     "output_type": "execute_result"
    }
   ],
   "source": [
    "v = matrix(map(lambda l: l[1], ft_matrix)).kernel().basis_matrix()\n",
    "\n",
    "v"
   ]
  },
  {
   "cell_type": "code",
   "execution_count": 146,
   "metadata": {},
   "outputs": [],
   "source": [
    "def func_from_multi_index(n, degree, multi_index):\n",
    "    har_fn = vector(ys).norm()**(2-n)\n",
    "    \n",
    "    for vr, idx in zip(ys, multi_index):\n",
    "        har_fn = diff(har_fn, vr, idx)\n",
    "\n",
    "    har_fn = kelvin_transform(har_fn, ys)\n",
    "\n",
    "    har_fn = symmetrize(har_fn)#, ys)\n",
    "    \n",
    "    return har_fn"
   ]
  },
  {
   "cell_type": "code",
   "execution_count": 152,
   "metadata": {},
   "outputs": [
    {
     "data": {
      "text/html": [
       "<html><script type=\"math/tex; mode=display\">\\newcommand{\\Bold}[1]{\\mathbf{#1}}0</script></html>"
      ],
      "text/plain": [
       "0"
      ]
     },
     "execution_count": 152,
     "metadata": {},
     "output_type": "execute_result"
    }
   ],
   "source": [
    "func_from_multi_index(5,3,(2,1,0,0,0)).simplify_full()"
   ]
  },
  {
   "cell_type": "code",
   "execution_count": null,
   "metadata": {},
   "outputs": [],
   "source": []
  }
 ],
 "metadata": {
  "kernelspec": {
   "display_name": "SageMath 8.8",
   "language": "sage",
   "name": "sagemath"
  },
  "language_info": {
   "codemirror_mode": {
    "name": "ipython",
    "version": 2
   },
   "file_extension": ".py",
   "mimetype": "text/x-python",
   "name": "python",
   "nbconvert_exporter": "python",
   "pygments_lexer": "ipython2",
   "version": "2.7.15"
  }
 },
 "nbformat": 4,
 "nbformat_minor": 4
}
