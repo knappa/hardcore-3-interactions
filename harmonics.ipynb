{
 "cells": [
  {
   "cell_type": "code",
   "execution_count": 1,
   "metadata": {},
   "outputs": [],
   "source": [
    "%display plain\n",
    "#%display latex"
   ]
  },
  {
   "cell_type": "code",
   "execution_count": 2,
   "metadata": {},
   "outputs": [],
   "source": [
    "from matplotlib import cm\n",
    "import numpy as np\n",
    "import itertools\n",
    "from itertools import combinations\n",
    "from __future__ import print_function"
   ]
  },
  {
   "cell_type": "code",
   "execution_count": 3,
   "metadata": {},
   "outputs": [],
   "source": [
    "real_vars = var('r,t,theta,phi,x,y,z')\n",
    "for rv in real_vars:\n",
    "    assume(rv, 'real')"
   ]
  },
  {
   "cell_type": "code",
   "execution_count": 4,
   "metadata": {},
   "outputs": [
    {
     "data": {
      "text/plain": [
       "((x0, x1, x2, x3), (y0, y1, y2))"
      ]
     },
     "execution_count": 4,
     "metadata": {},
     "output_type": "execute_result"
    }
   ],
   "source": [
    "xs = var(['x{}'.format(n) for n in range(4)])\n",
    "for xi in xs: assume(xi,'real')\n",
    "\n",
    "ys = var(['y{}'.format(n) for n in range(3)])\n",
    "for yi in ys: assume(yi,'real')\n",
    "    \n",
    "xs, ys"
   ]
  },
  {
   "cell_type": "code",
   "execution_count": 5,
   "metadata": {},
   "outputs": [
    {
     "data": {
      "text/plain": [
       "(x0 + x1 + x2 + x3,\n",
       " x0^2 + x1^2 + x2^2 + x3^2,\n",
       " x0^3 + x1^3 + x2^3 + x3^3,\n",
       " x0^4 + x1^4 + x2^4 + x3^4)"
      ]
     },
     "execution_count": 5,
     "metadata": {},
     "output_type": "execute_result"
    }
   ],
   "source": [
    "p1 = sum([xi   for xi in xs])\n",
    "p2 = sum([xi^2 for xi in xs])\n",
    "p3 = sum([xi^3 for xi in xs])\n",
    "p4 = sum([xi^4 for xi in xs])\n",
    "\n",
    "p1, p2, p3, p4"
   ]
  },
  {
   "cell_type": "code",
   "execution_count": 6,
   "metadata": {},
   "outputs": [
    {
     "data": {
      "text/plain": [
       "(x0 + x1 + x2 + x3,\n",
       " x0*x1 + x0*x2 + x1*x2 + x0*x3 + x1*x3 + x2*x3,\n",
       " x0*x1*x2 + x0*x1*x3 + x0*x2*x3 + x1*x2*x3,\n",
       " x0*x1*x2*x3)"
      ]
     },
     "execution_count": 6,
     "metadata": {},
     "output_type": "execute_result"
    }
   ],
   "source": [
    "e1 = sum([ xi          for (xi,        ) in combinations(xs,1)])\n",
    "e2 = sum([ xi*xj       for (xi,xj      ) in combinations(xs,2)])\n",
    "e3 = sum([ xi*xj*xk    for (xi,xj,xk   ) in combinations(xs,3)])\n",
    "e4 = sum([ xi*xj*xk*xl for (xi,xj,xk,xl) in combinations(xs,4)])\n",
    "\n",
    "e1, e2, e3, e4"
   ]
  },
  {
   "cell_type": "code",
   "execution_count": 7,
   "metadata": {},
   "outputs": [],
   "source": [
    "def inner_product(f,g,vrs):\n",
    "    ip = (f.conjugate()*g).expand()*exp(-sum([vi^2 for vi in vrs]))/(2*pi)^len(vrs)\n",
    "    # odd parts will integrate out, so remove them. makes this go quite a bit faster\n",
    "    for vi in vrs:\n",
    "        ip = ((ip+ip(vi=-vi))/2).simplify_full()\n",
    "    for vi in vrs:\n",
    "        ip = integrate(ip,vi,-oo,oo)\n",
    "    return ip"
   ]
  },
  {
   "cell_type": "code",
   "execution_count": 8,
   "metadata": {},
   "outputs": [],
   "source": [
    "com = vector([1,1,1,1])/sqrt(4) # center of mass\n",
    "\n",
    "j1 = vector(QQ,[1,0,0,0])\n",
    "j2 = vector(QQ,[0,1,0,0])\n",
    "j3 = vector(QQ,[0,0,1,0])\n",
    "\n",
    "j1 = j1 - (j1*com)*com/com.norm()^2\n",
    "j2 = j2 - (j2*com)*com/com.norm()^2\n",
    "j3 = j3 - (j3*com)*com/com.norm()^2\n",
    "\n",
    "j2 = j2 - (j2*j1)*j1/j1.norm()^2\n",
    "j3 = j3 - (j3*j1)*j1/j1.norm()^2\n",
    "\n",
    "j3 = j3 - (j3*j2)*j2/j2.norm()^2\n",
    "\n",
    "j1 = j1/j1.norm()\n",
    "j2 = j2/j2.norm()\n",
    "j3 = j3/j3.norm()"
   ]
  },
  {
   "cell_type": "code",
   "execution_count": 9,
   "metadata": {},
   "outputs": [],
   "source": [
    "Pm = matrix([com,j1,j2,j3]).transpose()\n",
    "\n",
    "Qm = matrix([[0,0,0],\n",
    "             [1,0,0],\n",
    "             [0,1,0],\n",
    "             [0,0,1]])"
   ]
  },
  {
   "cell_type": "code",
   "execution_count": 10,
   "metadata": {},
   "outputs": [],
   "source": [
    "M1 = matrix([[1,1,1,1],[1,-1,0,0],[0,1,-1,0]])\n",
    "M2 = matrix([[1,1,1,1],[1,-1,0,0],[0,1,0,-1]])\n",
    "M3 = matrix([[1,1,1,1],[1,0,-1,0],[0,0,1,-1]])\n",
    "M4 = matrix([[1,1,1,1],[0,1,-1,0],[0,0,1,-1]])\n",
    "\n",
    "Pl = matrix([j1,j2,j3]).transpose()\n",
    "\n",
    "# the (4 choose 3) 3-body interations in 3 dimensions\n",
    "\n",
    "tbi3_1 = (M1*Pl).right_kernel().basis_matrix()[0]\n",
    "tbi3_2 = (M2*Pl).right_kernel().basis_matrix()[0]\n",
    "tbi3_3 = (M3*Pl).right_kernel().basis_matrix()[0]\n",
    "tbi3_4 = (M4*Pl).right_kernel().basis_matrix()[0]\n",
    "\n",
    "tbi3_1 = (tbi3_1/tbi3_1.norm()).simplify_full()\n",
    "tbi3_2 = (tbi3_2/tbi3_2.norm()).simplify_full()\n",
    "tbi3_3 = (tbi3_3/tbi3_3.norm()).simplify_full()\n",
    "tbi3_4 = (tbi3_4/tbi3_4.norm()).simplify_full()\n",
    "\n",
    "tbi3s = tbi3_1, tbi3_2, tbi3_3, tbi3_4\n",
    "signed_tbi3s = (tbi3_1, -tbi3_1,\n",
    "                tbi3_2, -tbi3_2,\n",
    "                tbi3_3, -tbi3_3,\n",
    "                tbi3_4, -tbi3_4)\n",
    "sym_tbi3s = tbi3_1, tbi3_2, tbi3_3, -tbi3_4"
   ]
  },
  {
   "cell_type": "code",
   "execution_count": 11,
   "metadata": {},
   "outputs": [],
   "source": [
    "# the (4 choose 3) 3-body interations in 4 dimensions\n",
    "\n",
    "tbi4_1 = M1.right_kernel().basis_matrix()[0]\n",
    "tbi4_2 = M2.right_kernel().basis_matrix()[0]\n",
    "tbi4_3 = M3.right_kernel().basis_matrix()[0]\n",
    "tbi4_4 = M4.right_kernel().basis_matrix()[0]\n",
    "\n",
    "tbi4_1 = (tbi4_1/tbi4_1.norm()).simplify_full()\n",
    "tbi4_2 = (tbi4_2/tbi4_2.norm()).simplify_full()\n",
    "tbi4_3 = (tbi4_3/tbi4_3.norm()).simplify_full()\n",
    "tbi4_4 = (tbi4_4/tbi4_4.norm()).simplify_full()\n",
    "\n",
    "for (tbi3, tbi4) in zip([tbi3_1, tbi3_2, tbi3_3, tbi3_4], [tbi4_1, tbi4_2, tbi4_3, tbi4_4]):\n",
    "    assert tbi4 == (Pm*Qm*tbi3).simplify()\n",
    "\n",
    "tbi4s = tbi4_1, tbi4_2, tbi4_3, tbi4_4\n",
    "signed_tbi4s = (tbi4_1, -tbi4_1,\n",
    "                tbi4_2, -tbi4_2,\n",
    "                tbi4_3, -tbi4_3,\n",
    "                tbi4_4, -tbi4_4)\n",
    "sym_tbi4s = tbi4_1, tbi4_2, tbi4_3, -tbi4_4"
   ]
  },
  {
   "cell_type": "code",
   "execution_count": 12,
   "metadata": {},
   "outputs": [
    {
     "data": {
      "text/plain": [
       "(0,\n",
       " -1/2*y0^2 - 1/2*y1^2 - 1/2*y2^2,\n",
       " 1/18*sqrt(3)*(sqrt(2)*y1^3 + 2*y0^3 - 3*y0*y1^2 - 3*(sqrt(2)*y1 + y0)*y2^2),\n",
       " -1/96*sqrt(2)*(sqrt(2)*y0^4 - 6*sqrt(2)*y0^2*y1^2 - 8*y0*y1^3 - 6*(sqrt(2)*y0^2 - 4*y0*y1)*y2^2))"
      ]
     },
     "execution_count": 12,
     "metadata": {},
     "output_type": "execute_result"
    }
   ],
   "source": [
    "f1 = e1(*(Pm*Qm*vector(ys))).simplify_full()\n",
    "f2 = e2(*(Pm*Qm*vector(ys))).simplify_full()\n",
    "f3 = e3(*(Pm*Qm*vector(ys))).simplify_full()\n",
    "f4 = e4(*(Pm*Qm*vector(ys))).simplify_full()\n",
    "\n",
    "f1, f2, f3, f4"
   ]
  },
  {
   "cell_type": "code",
   "execution_count": 13,
   "metadata": {},
   "outputs": [],
   "source": [
    "P_threecurves = Graphics()\n",
    "\n",
    "for (wi, wj) in [(-tbi3_1,-tbi3_2), \n",
    "                 (-tbi3_1,-tbi3_3),\n",
    "                 (-tbi3_1, tbi3_4),\n",
    "                 (-tbi3_2,-tbi3_3),\n",
    "                 (-tbi3_2, tbi3_4),\n",
    "                 (-tbi3_3, tbi3_4)]:\n",
    "    three_curve = cos(t)*wi+sin(t)*wj\n",
    "    three_curve = three_curve/three_curve.norm()\n",
    "    P_threecurves += parametric_plot3d(three_curve,\n",
    "                         (t,0,pi/2),\n",
    "                         thickness=4,\n",
    "                         color=rainbow(3)[0])\n",
    "        \n",
    "    P_threecurves += parametric_plot3d(three_curve,\n",
    "                         (t,pi/2,pi),\n",
    "                         thickness=4,\n",
    "                         color=rainbow(3)[1])\n",
    "        \n",
    "    P_threecurves += parametric_plot3d(three_curve,\n",
    "                         (t,pi,3*pi/2),\n",
    "                         thickness=4,\n",
    "                         color=rainbow(3)[2])\n",
    "    \n",
    "    P_threecurves += parametric_plot3d(three_curve,\n",
    "                         (t,3*pi/2, 2*pi),\n",
    "                         thickness=4,\n",
    "                         color=rainbow(3)[1])\n",
    "    \n",
    "#P.show()"
   ]
  },
  {
   "cell_type": "code",
   "execution_count": 14,
   "metadata": {},
   "outputs": [],
   "source": [
    "def stereographic_proj(v):\n",
    "    \"\"\" Standard Stereographic projection with possible pre-rotation about X, Y and Z axis\"\"\"\n",
    "    w = vector(v)\n",
    "    return (w[0]/(1-w[2]),w[1]/(1-w[2]))\n",
    "\n",
    "def to_iso_spherical_coords(v):\n",
    "    x, y, z = v\n",
    "    r = sqrt(x^2+y^2+z^2)\n",
    "    theta = arccos(z/r)\n",
    "    phi = atan2(y,x)\n",
    "    return (r,theta,phi)\n",
    "\n",
    "def to_iso_sphere_coords(v):\n",
    "    r, theta, phi = to_iso_spherical_coords(v)\n",
    "    return (phi, theta) #(theta, phi)"
   ]
  },
  {
   "cell_type": "code",
   "execution_count": 15,
   "metadata": {},
   "outputs": [],
   "source": [
    "P_twocurves = Graphics()\n",
    "\n",
    "var('t')\n",
    "\n",
    "# the 2-interations\n",
    "for (wi, wj) in [(-tbi3_1,-tbi3_2), \n",
    "                 (-tbi3_1,-tbi3_3),\n",
    "                 (-tbi3_1, tbi3_4),\n",
    "                 (-tbi3_2,-tbi3_3),\n",
    "                 (-tbi3_2, tbi3_4),\n",
    "                 (-tbi3_3, tbi3_4)]:\n",
    "    three_curve = cos(t)*wi+sin(t)*wj\n",
    "    three_curve = three_curve/three_curve.norm()\n",
    "    #two_curve = vector(stereographic_proj(three_curve)).simplify()\n",
    "    two_curve = vector(to_iso_sphere_coords(three_curve)).simplify()\n",
    "    if (wi == -tbi3_1 or wi == -tbi3_2) and wj == -tbi3_3:\n",
    "        P_twocurves += parametric_plot(two_curve,\n",
    "                             (t,0,arctan(1/2)-1e-2),\n",
    "                             thickness=2,\n",
    "                             color=rainbow(3)[0])\n",
    "        P_twocurves += parametric_plot(two_curve,\n",
    "                             (t,arctan(1/2)+1e-2,pi/2),\n",
    "                             thickness=2,\n",
    "                             color=rainbow(3)[0])\n",
    "    else:\n",
    "        P_twocurves += parametric_plot(two_curve,\n",
    "                             (t,0,pi/2),\n",
    "                             thickness=2,\n",
    "                             color=rainbow(3)[0])\n",
    "        \n",
    "    if not( wi == -tbi3_1 and wj == -tbi3_2 ):\n",
    "        P_twocurves += parametric_plot(two_curve,\n",
    "                             (t,pi/2,pi),\n",
    "                             thickness=2,\n",
    "                             color=rainbow(3)[1])\n",
    "    else:\n",
    "        P_twocurves += parametric_plot(two_curve,\n",
    "                             (t,pi/2,3*pi/4-1e-2),\n",
    "                             thickness=2,\n",
    "                             color=rainbow(3)[1])\n",
    "        P_twocurves += parametric_plot(two_curve,\n",
    "                             (t,3*pi/4+1e-2,pi),\n",
    "                             thickness=2,\n",
    "                             color=rainbow(3)[1])\n",
    "        \n",
    "    P_twocurves += parametric_plot(two_curve,\n",
    "                         (t,pi,3*pi/2),\n",
    "                         thickness=2,\n",
    "                         color=rainbow(3)[2])\n",
    "    if not( wi == -tbi3_1 and wj == -tbi3_2 ):\n",
    "        P_twocurves += parametric_plot(two_curve,\n",
    "                             (t,3*pi/2+1e-3,2*pi-1e-3),\n",
    "                             thickness=2,\n",
    "                             color=rainbow(3)[1])\n",
    "    else:\n",
    "        P_twocurves += parametric_plot(two_curve,\n",
    "                             (t,3*pi/2, 7*pi/4-1e-4),\n",
    "                             thickness=2,\n",
    "                             color=rainbow(3)[1])\n",
    "        P_twocurves += parametric_plot(two_curve,\n",
    "                             (t,7*pi/4+1e-4,2*pi),\n",
    "                             thickness=2,\n",
    "                             color=rainbow(3)[1])\n",
    "    \n",
    "\n",
    "for tbi3 in signed_tbi3s:   \n",
    "    P_twocurves += point(to_iso_sphere_coords( tbi3), size=100, color='black')\n",
    "    P_twocurves[-1].set_zorder(10)\n",
    "    \n",
    "#P_twocurves.show(aspect_ratio=1,axes=False)"
   ]
  },
  {
   "cell_type": "code",
   "execution_count": 16,
   "metadata": {},
   "outputs": [],
   "source": [
    "def legendre_poly(n):\n",
    "    return diff( (x^2-1)^n, x, n)/(2^n*factorial(n))\n",
    "\n",
    "def assoc_legendre_poly(m,l):\n",
    "    if m >= 0:\n",
    "        return (-1)^m * (1-x^2)^(m/2) *diff(legendre_poly(l),x,m)\n",
    "    else:\n",
    "        return (-1)^m * factorial(l-m) /factorial(l+m) * assoc_legendre_poly(-m,l)\n",
    "\n",
    "def real_sh(m,l):\n",
    "    return r^(l)*cos(m*phi)*assoc_legendre_poly(m,l)(x=cos(theta))\n",
    "\n",
    "def imag_sh(m,l):\n",
    "    return r^(l)*sin(m*phi)*assoc_legendre_poly(m,l)(x=cos(theta))\n",
    "\n",
    "def polar_to_euclid(f):\n",
    "    return ( f(theta=arccos(y2/r)) )(r=sqrt(y0^2+y1^2+y2^2), phi=atan2(y1,y0))\n",
    "\n",
    "def euclid_real(m,l):\n",
    "    return polar_to_euclid(real_sh(m,l)).simplify()\n",
    "\n",
    "def euclid_imag(m,l):\n",
    "    return polar_to_euclid(imag_sh(m,l)).simplify()\n",
    "\n",
    "def euclid_to_sphere(f):\n",
    "    return f(y0=r*sin(theta)*cos(phi),y1=r*sin(theta)*sin(phi),y2=r*cos(theta))"
   ]
  },
  {
   "cell_type": "code",
   "execution_count": 73,
   "metadata": {},
   "outputs": [
    {
     "data": {
      "text/plain": [
       "-8/3*sqrt(3)*x0^3 + 8/3*sqrt(3)*x0^2*x1 + 8/3*sqrt(3)*x0*x1^2 - 8/3*sqrt(3)*x1^3 + 8/3*sqrt(3)*x0^2*x2 - 16/3*sqrt(3)*x0*x1*x2 + 8/3*sqrt(3)*x1^2*x2 + 8/3*sqrt(3)*x0*x2^2 + 8/3*sqrt(3)*x1*x2^2 - 8/3*sqrt(3)*x2^3 + 8/3*sqrt(3)*x0^2*x3 - 16/3*sqrt(3)*x0*x1*x3 + 8/3*sqrt(3)*x1^2*x3 - 16/3*sqrt(3)*x0*x2*x3 - 16/3*sqrt(3)*x1*x2*x3 + 8/3*sqrt(3)*x2^2*x3 + 8/3*sqrt(3)*x0*x3^2 + 8/3*sqrt(3)*x1*x3^2 + 8/3*sqrt(3)*x2*x3^2 - 8/3*sqrt(3)*x3^3"
      ]
     },
     "execution_count": 73,
     "metadata": {},
     "output_type": "execute_result"
    }
   ],
   "source": [
    "# a harmonic symmetric function of degree 3 in 4 variables\n",
    "sym_fn_3 = 0\n",
    "ell = 3\n",
    "for tbi4 in sym_tbi4s:\n",
    "    sym_fn_3 += (r^ell*gegenbauer(ell,4/2-1,\n",
    "                                  (tbi4/norm(tbi4))*(vector(xs)/norm(vector(xs)))))\\\n",
    "    (r=sqrt(sum([xi^2 for xi in xs]))).simplify_full()\n",
    "\n",
    "# check symmetry\n",
    "assert (sym_fn_3(x0=x1,x1=x0)-sym_fn_3).expand() == 0\n",
    "assert (sym_fn_3(x0=x2,x2=x0)-sym_fn_3).expand() == 0\n",
    "assert (sym_fn_3(x0=x3,x3=x0)-sym_fn_3).expand() == 0\n",
    "\n",
    "sym_fn_3.expand()"
   ]
  },
  {
   "cell_type": "code",
   "execution_count": 74,
   "metadata": {},
   "outputs": [
    {
     "data": {
      "text/plain": [
       "64/9*t^3"
      ]
     },
     "metadata": {},
     "output_type": "display_data"
    },
    {
     "data": {
      "text/plain": [
       "-64/9*t^3"
      ]
     },
     "metadata": {},
     "output_type": "display_data"
    },
    {
     "data": {
      "text/plain": [
       "64/9*t^3"
      ]
     },
     "metadata": {},
     "output_type": "display_data"
    },
    {
     "data": {
      "text/plain": [
       "-64/9*t^3"
      ]
     },
     "metadata": {},
     "output_type": "display_data"
    },
    {
     "data": {
      "text/plain": [
       "64/9*t^3"
      ]
     },
     "metadata": {},
     "output_type": "display_data"
    },
    {
     "data": {
      "text/plain": [
       "-64/9*t^3"
      ]
     },
     "metadata": {},
     "output_type": "display_data"
    },
    {
     "data": {
      "text/plain": [
       "-64/9*t^3"
      ]
     },
     "metadata": {},
     "output_type": "display_data"
    },
    {
     "data": {
      "text/plain": [
       "64/9*t^3"
      ]
     },
     "metadata": {},
     "output_type": "display_data"
    }
   ],
   "source": [
    "# does not vanish at the 3 body coincidences\n",
    "for tbi4 in signed_tbi4s:\n",
    "    pretty_print( sym_fn_3(x0=t*tbi4[0],x1=t*tbi4[1],x2=t*tbi4[2],x3=t*tbi4[3]) )"
   ]
  },
  {
   "cell_type": "code",
   "execution_count": 75,
   "metadata": {},
   "outputs": [
    {
     "data": {
      "text/plain": [
       "4/3*x0^4 - 40/9*x0^3*x1 - 8/3*x0^2*x1^2 - 40/9*x0*x1^3 + 4/3*x1^4 - 40/9*x0^3*x2 + 40/3*x0^2*x1*x2 + 40/3*x0*x1^2*x2 - 40/9*x1^3*x2 - 8/3*x0^2*x2^2 + 40/3*x0*x1*x2^2 - 8/3*x1^2*x2^2 - 40/9*x0*x2^3 - 40/9*x1*x2^3 + 4/3*x2^4 - 40/9*x0^3*x3 + 40/3*x0^2*x1*x3 + 40/3*x0*x1^2*x3 - 40/9*x1^3*x3 + 40/3*x0^2*x2*x3 - 32*x0*x1*x2*x3 + 40/3*x1^2*x2*x3 + 40/3*x0*x2^2*x3 + 40/3*x1*x2^2*x3 - 40/9*x2^3*x3 - 8/3*x0^2*x3^2 + 40/3*x0*x1*x3^2 - 8/3*x1^2*x3^2 + 40/3*x0*x2*x3^2 + 40/3*x1*x2*x3^2 - 8/3*x2^2*x3^2 - 40/9*x0*x3^3 - 40/9*x1*x3^3 - 40/9*x2*x3^3 + 4/3*x3^4"
      ]
     },
     "execution_count": 75,
     "metadata": {},
     "output_type": "execute_result"
    }
   ],
   "source": [
    "# a harmonic symmetric function of degree 4 in 4 variables\n",
    "sym_fn_4 = 0\n",
    "ell = 4\n",
    "for tbi4 in sym_tbi4s:\n",
    "    sym_fn_4 += (r^ell*gegenbauer(ell,4/2-1,\n",
    "                                  (tbi4/norm(tbi4))*(vector(xs)/norm(vector(xs)))))\\\n",
    "    (r=sqrt(sum([xi^2 for xi in xs]))).simplify_full()\n",
    "    \n",
    "# check symmetry\n",
    "assert (sym_fn_4(x0=x1,x1=x0)-sym_fn_4).expand() == 0\n",
    "assert (sym_fn_4(x0=x2,x2=x0)-sym_fn_4).expand() == 0\n",
    "assert (sym_fn_4(x0=x3,x3=x0)-sym_fn_4).expand() == 0\n",
    "\n",
    "sym_fn_4.expand()"
   ]
  },
  {
   "cell_type": "code",
   "execution_count": 76,
   "metadata": {},
   "outputs": [
    {
     "data": {
      "text/plain": [
       "124/27*t^4"
      ]
     },
     "metadata": {},
     "output_type": "display_data"
    },
    {
     "data": {
      "text/plain": [
       "124/27*t^4"
      ]
     },
     "metadata": {},
     "output_type": "display_data"
    },
    {
     "data": {
      "text/plain": [
       "124/27*t^4"
      ]
     },
     "metadata": {},
     "output_type": "display_data"
    },
    {
     "data": {
      "text/plain": [
       "124/27*t^4"
      ]
     },
     "metadata": {},
     "output_type": "display_data"
    },
    {
     "data": {
      "text/plain": [
       "124/27*t^4"
      ]
     },
     "metadata": {},
     "output_type": "display_data"
    },
    {
     "data": {
      "text/plain": [
       "124/27*t^4"
      ]
     },
     "metadata": {},
     "output_type": "display_data"
    },
    {
     "data": {
      "text/plain": [
       "124/27*t^4"
      ]
     },
     "metadata": {},
     "output_type": "display_data"
    },
    {
     "data": {
      "text/plain": [
       "124/27*t^4"
      ]
     },
     "metadata": {},
     "output_type": "display_data"
    }
   ],
   "source": [
    "# does not vanish at the 3 body coincidences\n",
    "for tbi4 in signed_tbi4s:\n",
    "    pretty_print( sym_fn_4(x0=t*tbi4[0],x1=t*tbi4[1],x2=t*tbi4[2],x3=t*tbi4[3]) )"
   ]
  },
  {
   "cell_type": "code",
   "execution_count": 77,
   "metadata": {},
   "outputs": [],
   "source": [
    "sym_fn_12 = 0\n",
    "ell = 12\n",
    "for tbi4 in sym_tbi4s:\n",
    "    sym_fn_12 += (r^ell*gegenbauer(ell,4/2-1,\n",
    "                                   (tbi4/norm(tbi4))*(vector(xs)/norm(vector(xs)))))\\\n",
    "    (r=sqrt(sum([xi^2 for xi in xs]))).simplify_full()\n",
    "    \n",
    "# check symmetry    \n",
    "assert (sym_fn_12(x0=x1,x1=x0)-sym_fn_12).expand() == 0\n",
    "assert (sym_fn_12(x0=x2,x2=x0)-sym_fn_12).expand() == 0\n",
    "assert (sym_fn_12(x0=x3,x3=x0)-sym_fn_12).expand() == 0\n",
    "\n",
    "\n",
    "#sym_fn_12.expand()"
   ]
  },
  {
   "cell_type": "code",
   "execution_count": 78,
   "metadata": {},
   "outputs": [
    {
     "data": {
      "text/plain": [
       "2139292/177147*t^12"
      ]
     },
     "metadata": {},
     "output_type": "display_data"
    },
    {
     "data": {
      "text/plain": [
       "2139292/177147*t^12"
      ]
     },
     "metadata": {},
     "output_type": "display_data"
    },
    {
     "data": {
      "text/plain": [
       "2139292/177147*t^12"
      ]
     },
     "metadata": {},
     "output_type": "display_data"
    },
    {
     "data": {
      "text/plain": [
       "2139292/177147*t^12"
      ]
     },
     "metadata": {},
     "output_type": "display_data"
    },
    {
     "data": {
      "text/plain": [
       "2139292/177147*t^12"
      ]
     },
     "metadata": {},
     "output_type": "display_data"
    },
    {
     "data": {
      "text/plain": [
       "2139292/177147*t^12"
      ]
     },
     "metadata": {},
     "output_type": "display_data"
    },
    {
     "data": {
      "text/plain": [
       "2139292/177147*t^12"
      ]
     },
     "metadata": {},
     "output_type": "display_data"
    },
    {
     "data": {
      "text/plain": [
       "2139292/177147*t^12"
      ]
     },
     "metadata": {},
     "output_type": "display_data"
    }
   ],
   "source": [
    "# does not vanish at the 3 body coincidences\n",
    "for tbi4 in signed_tbi4s:\n",
    "    pretty_print( sym_fn_12(x0=t*tbi4[0],x1=t*tbi4[1],x2=t*tbi4[2],x3=t*tbi4[3]), end='  ' )"
   ]
  },
  {
   "cell_type": "code",
   "execution_count": 27,
   "metadata": {},
   "outputs": [],
   "source": [
    "def lap(f,vrs):\n",
    "    \"\"\" laplacian \"\"\"\n",
    "    return sum([diff(f,vi,2) for vi in vrs])\n",
    "\n",
    "def rep_lap(f,k,vrs):\n",
    "    \"\"\" repeated laplacian  \"\"\"\n",
    "    if k <= 0:\n",
    "        return f\n",
    "    elif k == 1:\n",
    "        return lap(f,vrs)\n",
    "    else:\n",
    "        return lap(rep_lap(f,k-1,vrs),vrs)\n",
    "    \n",
    "def semi_factorial(n):\n",
    "    \"\"\" product: n*(n-2)*(n-4)*...*1 \"\"\"\n",
    "    if n <= 1:\n",
    "        return 1\n",
    "    else:\n",
    "        return n*semi_factorial(n-2)\n",
    "    \n",
    "def harmonic_leading_term(f,n,vrs):\n",
    "    \"\"\" as in (1-33), pg 8 of Avery's Hyperspherical Harmonics, Applications in Quantu Theory \"\"\"\n",
    "    r_sq = sum([vi^2 for vi in vrs])\n",
    "    d = len(vrs)\n",
    "    return sum([ ((-1)^k)*semi_factorial(d+2*n-2*k-4) \\\n",
    "                / ( semi_factorial(2*k) * semi_factorial(d+2*n-4) ) \\\n",
    "                * (r_sq^k) * rep_lap(f,k,vrs) for k in range(floor(n/2)+1)])"
   ]
  },
  {
   "cell_type": "code",
   "execution_count": 79,
   "metadata": {},
   "outputs": [],
   "source": [
    "# two more degree 12 harmonic polynomials, corresponding to the harmonic degree 3 and 4 polys to the 4th and 3rd, respectively\n",
    "\n",
    "sym_fn_3_4 = harmonic_leading_term(sym_fn_3^4,12,xs).simplify().expand()\n",
    "\n",
    "assert lap(sym_fn_3_4, xs).simplify_full() == 0\n",
    "\n",
    "sym_fn_4_3 = harmonic_leading_term(sym_fn_4^3,12,xs).simplify().expand()\n",
    "\n",
    "assert lap(sym_fn_4_3, xs).simplify_full() == 0"
   ]
  },
  {
   "cell_type": "code",
   "execution_count": 31,
   "metadata": {},
   "outputs": [],
   "source": [
    "# a symmetric, harmonic polynomial of degree 12 which vanishes at the 3 body coincidences\n",
    "\n",
    "sym_fn_12p = (((sym_fn_3_4)/(sym_fn_3_4)(x0=tbi4_1[0],x1=tbi4_1[1],x2=tbi4_1[2],x3=tbi4_1[3])) - \\\n",
    "              (sym_fn_4_3)/(sym_fn_4_3)(x0=tbi4_1[0],x1=tbi4_1[1],x2=tbi4_1[2],x3=tbi4_1[3])).expand()\n",
    "\n",
    "for tbi4 in signed_tbi4s:\n",
    "    assert sym_fn_12p(x0=t*tbi4[0],x1=t*tbi4[1],x2=t*tbi4[2],x3=t*tbi4[3]) == 0\n",
    "    \n",
    "assert lap(sym_fn_12p,xs).simplify() == 0"
   ]
  },
  {
   "cell_type": "code",
   "execution_count": 91,
   "metadata": {},
   "outputs": [],
   "source": [
    "# in spherical coordinates\n",
    "sphere_wv = euclid_to_sphere(wv).simplify_full()(r=1).simplify_full()\n",
    "\n",
    "# normalized\n",
    "sphere_wv = sphere_wv/sqrt(integrate(integrate(sphere_wv^2,phi,-pi,pi)*sin(theta),theta,0,pi))"
   ]
  },
  {
   "cell_type": "code",
   "execution_count": 102,
   "metadata": {},
   "outputs": [],
   "source": [
    "R.<x0p,x1p,x2p,x3p> = PolynomialRing(AA)\n",
    "a_e1 = R(e1(x0=x0p,x1=x1p,x2=x2p,x3=x3p))\n",
    "a_e2 = R(e2(x0=x0p,x1=x1p,x2=x2p,x3=x3p))\n",
    "a_e3 = R(e3(x0=x0p,x1=x1p,x2=x2p,x3=x3p))\n",
    "a_e4 = R(e4(x0=x0p,x1=x1p,x2=x2p,x3=x3p))\n",
    "a_p1 = R(p1(x0=x0p,x1=x1p,x2=x2p,x3=x3p))\n",
    "a_p2 = R(p2(x0=x0p,x1=x1p,x2=x2p,x3=x3p))\n",
    "a_p3 = R(p3(x0=x0p,x1=x1p,x2=x2p,x3=x3p))\n",
    "a_p4 = R(p4(x0=x0p,x1=x1p,x2=x2p,x3=x3p))"
   ]
  },
  {
   "cell_type": "code",
   "execution_count": 165,
   "metadata": {},
   "outputs": [],
   "source": [
    "poly_degree = 8\n",
    "\n",
    "def get_monomials(degree=12):\n",
    "    powers = [(exp1,exp2,exp3,exp4)\n",
    "              for exp1, exp2, exp3, exp4 in itertools.product(range(0,degree+1),repeat=4)\n",
    "              if 1*exp1 + 2*exp2 + 3*exp3 + 4*exp4 == degree]\n",
    "    monomials = set()\n",
    "    for (exp1,exp2,exp3,exp4) in powers:\n",
    "        monomials = monomials.union((a_e1^exp1 * a_e2^exp2 * a_e3^exp3 * a_e4^exp4).dict().keys())\n",
    "    monomials = list(monomials)\n",
    "    monomials.sort()\n",
    "    basis_dict = { mon: n for n, mon in enumerate(monomials)}\n",
    "    rev_basis_dict = { n: mon for n, mon in enumerate(monomials)}\n",
    "    return basis_dict, rev_basis_dict\n",
    "    \n",
    "basis_dict, rev_basis_dict = get_monomials(degree=poly_degree)\n",
    "\n",
    "def poly_to_vec(p):\n",
    "    dp = p.dict()\n",
    "    return vector([ dp[monomial] if monomial in dp else 0 for monomial in basis_dict.keys()])\n",
    "        \n",
    "def get_sym_matrix(degree=12):\n",
    "    powers = [(exp1,exp2,exp3,exp4) \n",
    "              for exp1, exp2, exp3, exp4 in itertools.product(range(0,degree+1),repeat=4)\n",
    "              if 1*exp1 + 2*exp2 + 3*exp3 + 4*exp4 == degree]\n",
    "    return matrix([poly_to_vec(a_e1^exp1 * a_e2^exp2 * a_e3^exp3 * a_e4^exp4) \n",
    "                   for (exp1,exp2,exp3,exp4) in powers ])\n",
    "\n",
    "rows, cols = get_sym_matrix(degree=poly_degree).dimensions()\n",
    "\n",
    "mat = get_sym_matrix(degree=poly_degree)"
   ]
  },
  {
   "cell_type": "code",
   "execution_count": 166,
   "metadata": {},
   "outputs": [],
   "source": [
    "efs = var(['ef{}'.format(n) for n in range(rows)])\n",
    "\n",
    "vefs = vector(efs)"
   ]
  },
  {
   "cell_type": "code",
   "execution_count": 173,
   "metadata": {},
   "outputs": [],
   "source": [
    "a_wavef4 = R(g_8_harm(x0=x0p,x1=x1p,x2=x2p,x3=x3p))\n",
    "v_wavef4 = poly_to_vec(a_wavef4)"
   ]
  },
  {
   "cell_type": "code",
   "execution_count": 174,
   "metadata": {},
   "outputs": [
    {
     "data": {
      "text/plain": [
       "[[ef0 == 16, ef1 == 3, ef2 == -4, ef3 == (3/10), ef4 == -8, ef5 == -2, ef6 == (5/2), ef7 == 5, ef8 == (2/5), ef9 == -2, ef10 == (-1/2), ef11 == (1/5), ef12 == (1/2), ef13 == (-3/20), ef14 == (3/160)]]"
      ]
     },
     "execution_count": 174,
     "metadata": {},
     "output_type": "execute_result"
    }
   ],
   "source": [
    "solve(list(vefs*mat - v_wavef4), list(efs))"
   ]
  },
  {
   "cell_type": "code",
   "execution_count": 175,
   "metadata": {},
   "outputs": [
    {
     "name": "stdout",
     "output_type": "stream",
     "text": [
      "ef0 == 16 (0, 0, 0, 2)\n",
      "ef1 == 3 (0, 1, 2, 0)\n",
      "ef2 == -4 (0, 2, 0, 1)\n",
      "ef3 == (3/10) (0, 4, 0, 0)\n",
      "ef4 == -8 (1, 0, 1, 1)\n",
      "ef5 == -2 (1, 2, 1, 0)\n",
      "ef6 == (5/2) (2, 0, 2, 0)\n",
      "ef7 == 5 (2, 1, 0, 1)\n",
      "ef8 == (2/5) (2, 3, 0, 0)\n",
      "ef9 == -2 (3, 1, 1, 0)\n",
      "ef10 == (-1/2) (4, 0, 0, 1)\n",
      "ef11 == (1/5) (4, 2, 0, 0)\n",
      "ef12 == (1/2) (5, 0, 1, 0)\n",
      "ef13 == (-3/20) (6, 1, 0, 0)\n",
      "ef14 == (3/160) (8, 0, 0, 0)\n"
     ]
    }
   ],
   "source": [
    "import itertools\n",
    "for eqn in zip(solve(list(vefs*mat - v_wavef4), list(efs))[0], \n",
    "               [(exp1,exp2,exp3,exp4) \n",
    "                for exp1, exp2, exp3, exp4 in itertools.product(range(0,poly_degree+1),repeat=4)\n",
    "                if 1*exp1 + 2*exp2 + 3*exp3 + 4*exp4 == poly_degree]):\n",
    "    print(*eqn)"
   ]
  },
  {
   "cell_type": "code",
   "execution_count": null,
   "metadata": {},
   "outputs": [],
   "source": []
  },
  {
   "cell_type": "code",
   "execution_count": 172,
   "metadata": {},
   "outputs": [
    {
     "data": {
      "text/plain": [
       "3/160*x0^8 - 7/40*x0^6*x1^2 + 49/80*x0^4*x1^4 - 7/40*x0^2*x1^6 + 3/160*x1^8 - 7/40*x0^6*x2^2 - 21/40*x0^4*x1^2*x2^2 - 21/40*x0^2*x1^4*x2^2 - 7/40*x1^6*x2^2 + 49/80*x0^4*x2^4 - 21/40*x0^2*x1^2*x2^4 + 49/80*x1^4*x2^4 - 7/40*x0^2*x2^6 - 7/40*x1^2*x2^6 + 3/160*x2^8 - 7/40*x0^6*x3^2 - 21/40*x0^4*x1^2*x3^2 - 21/40*x0^2*x1^4*x3^2 - 7/40*x1^6*x3^2 - 21/40*x0^4*x2^2*x3^2 + 189/20*x0^2*x1^2*x2^2*x3^2 - 21/40*x1^4*x2^2*x3^2 - 21/40*x0^2*x2^4*x3^2 - 21/40*x1^2*x2^4*x3^2 - 7/40*x2^6*x3^2 + 49/80*x0^4*x3^4 - 21/40*x0^2*x1^2*x3^4 + 49/80*x1^4*x3^4 - 21/40*x0^2*x2^2*x3^4 - 21/40*x1^2*x2^2*x3^4 + 49/80*x2^4*x3^4 - 7/40*x0^2*x3^6 - 7/40*x1^2*x3^6 - 7/40*x2^2*x3^6 + 3/160*x3^8"
      ]
     },
     "execution_count": 172,
     "metadata": {},
     "output_type": "execute_result"
    }
   ],
   "source": [
    "g_8 = product(xs[i]^2+xs[j]^2+xs[k]^2-xs[i]*xs[j]-xs[i]*xs[k]-xs[j]*xs[k] for i, j, k in combinations(range(4),3) )\n",
    "\n",
    "g_8_harm = harmonic_leading_term(g_8,8,xs).simplify().expand()\n",
    "\n",
    "g_8_harm"
   ]
  },
  {
   "cell_type": "code",
   "execution_count": null,
   "metadata": {},
   "outputs": [],
   "source": []
  },
  {
   "cell_type": "code",
   "execution_count": 183,
   "metadata": {},
   "outputs": [
    {
     "data": {
      "text/plain": [
       "-13/1440*t^8"
      ]
     },
     "metadata": {},
     "output_type": "display_data"
    },
    {
     "data": {
      "text/plain": [
       "-13/1440*t^8"
      ]
     },
     "metadata": {},
     "output_type": "display_data"
    },
    {
     "data": {
      "text/plain": [
       "-13/1440*t^8"
      ]
     },
     "metadata": {},
     "output_type": "display_data"
    },
    {
     "data": {
      "text/plain": [
       "-13/1440*t^8"
      ]
     },
     "metadata": {},
     "output_type": "display_data"
    },
    {
     "data": {
      "text/plain": [
       "-13/1440*t^8"
      ]
     },
     "metadata": {},
     "output_type": "display_data"
    },
    {
     "data": {
      "text/plain": [
       "-13/1440*t^8"
      ]
     },
     "metadata": {},
     "output_type": "display_data"
    },
    {
     "data": {
      "text/plain": [
       "-13/1440*t^8"
      ]
     },
     "metadata": {},
     "output_type": "display_data"
    },
    {
     "data": {
      "text/plain": [
       "-13/1440*t^8"
      ]
     },
     "metadata": {},
     "output_type": "display_data"
    },
    {
     "data": {
      "text/plain": [
       "1/2880*sqrt(2)*(10*(17*sqrt(2)*cos(phi)^8 + 288*sqrt(2)*cos(phi)^6 - 768*sqrt(2)*cos(phi)^4 + 512*sqrt(2)*cos(phi)^2 + 112*(cos(phi)^7 - 4*cos(phi)^5)*sin(phi))*sin(theta)^8 - 20*(161*sqrt(2)*cos(phi)^6 - 462*sqrt(2)*cos(phi)^4 + 336*sqrt(2)*cos(phi)^2 - 28*(5*cos(phi)^5 + 4*cos(phi)^3)*sin(phi) + 32*sqrt(2))*sin(theta)^6 - 30*(49*sqrt(2)*cos(phi)^4 + 56*cos(phi)^3*sin(phi) - 56*sqrt(2)*cos(phi)^2 - 32*sqrt(2))*sin(theta)^4 - 360*sqrt(2)*sin(theta)^2 + 27*sqrt(2))"
      ]
     },
     "execution_count": 183,
     "metadata": {},
     "output_type": "execute_result"
    }
   ],
   "source": [
    "wv = g_8_harm(*(Pm*Qm*vector(ys))).simplify_full().expand()\n",
    "\n",
    "for tbi3 in signed_tbi3s:\n",
    "    pretty_print( wv(y0=t*tbi3[0],y1=t*tbi3[1],y2=t*tbi3[2]) )\n",
    "\n",
    "sphere_wv = euclid_to_sphere(wv).simplify_full()(r=1).simplify_full()\n",
    "\n",
    "sphere_wv"
   ]
  },
  {
   "cell_type": "code",
   "execution_count": 184,
   "metadata": {},
   "outputs": [
    {
     "data": {
      "image/png": "[encoded data removed]",
      "text/plain": [
       "Graphics object consisting of 37 graphics primitives"
      ]
     },
     "execution_count": 184,
     "metadata": {},
     "output_type": "execute_result"
    }
   ],
   "source": [
    "Pmag = density_plot(abs(sphere_wv)^2, (phi,-pi,pi), (theta,0,pi), cmap=cm.viridis,\n",
    "                    plot_points=200,aspect_ratio=1,axes=False)\n",
    "\n",
    "Pmag + P_twocurves"
   ]
  },
  {
   "cell_type": "code",
   "execution_count": null,
   "metadata": {},
   "outputs": [],
   "source": []
  }
 ],
 "metadata": {
  "kernelspec": {
   "display_name": "SageMath 8.7",
   "language": "",
   "name": "sagemath"
  },
  "language_info": {
   "codemirror_mode": {
    "name": "ipython",
    "version": 2
   },
   "file_extension": ".py",
   "mimetype": "text/x-python",
   "name": "python",
   "nbconvert_exporter": "python",
   "pygments_lexer": "ipython2",
   "version": "2.7.15"
  }
 },
 "nbformat": 4,
 "nbformat_minor": 2
}
