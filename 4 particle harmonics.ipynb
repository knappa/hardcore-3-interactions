{
 "cells": [
  {
   "cell_type": "code",
   "execution_count": 1,
   "metadata": {},
   "outputs": [],
   "source": [
    "%display plain\n",
    "#%display latex"
   ]
  },
  {
   "cell_type": "code",
   "execution_count": 2,
   "metadata": {},
   "outputs": [],
   "source": [
    "from matplotlib import cm\n",
    "import numpy as np\n",
    "import itertools\n",
    "from itertools import combinations\n",
    "from __future__ import print_function"
   ]
  },
  {
   "cell_type": "code",
   "execution_count": 3,
   "metadata": {},
   "outputs": [],
   "source": [
    "real_vars = var('r,s,t,theta,phi,x,y,z')\n",
    "for rv in real_vars:\n",
    "    assume(rv, 'real')"
   ]
  },
  {
   "cell_type": "code",
   "execution_count": 4,
   "metadata": {},
   "outputs": [
    {
     "data": {
      "text/plain": [
       "((x0, x1, x2, x3), (y0, y1, y2))"
      ]
     },
     "execution_count": 4,
     "metadata": {},
     "output_type": "execute_result"
    }
   ],
   "source": [
    "xs = var(['x{}'.format(n) for n in range(4)])\n",
    "for xi in xs: assume(xi,'real')\n",
    "\n",
    "ys = var(['y{}'.format(n) for n in range(3)])\n",
    "for yi in ys: assume(yi,'real')\n",
    "\n",
    "xs, ys"
   ]
  },
  {
   "cell_type": "code",
   "execution_count": 5,
   "metadata": {},
   "outputs": [
    {
     "data": {
      "text/plain": [
       "(x0 + x1 + x2 + x3,\n",
       " x0^2 + x1^2 + x2^2 + x3^2,\n",
       " x0^3 + x1^3 + x2^3 + x3^3,\n",
       " x0^4 + x1^4 + x2^4 + x3^4,\n",
       " x0^5 + x1^5 + x2^5 + x3^5)"
      ]
     },
     "execution_count": 5,
     "metadata": {},
     "output_type": "execute_result"
    }
   ],
   "source": [
    "p1 = sum([xi   for xi in xs])\n",
    "p2 = sum([xi^2 for xi in xs])\n",
    "p3 = sum([xi^3 for xi in xs])\n",
    "p4 = sum([xi^4 for xi in xs])\n",
    "p5 = sum([xi^5 for xi in xs])\n",
    "\n",
    "p1, p2, p3, p4, p5"
   ]
  },
  {
   "cell_type": "code",
   "execution_count": 6,
   "metadata": {},
   "outputs": [
    {
     "data": {
      "text/plain": [
       "(x0 + x1 + x2 + x3,\n",
       " x0*x1 + x0*x2 + x1*x2 + x0*x3 + x1*x3 + x2*x3,\n",
       " x0*x1*x2 + x0*x1*x3 + x0*x2*x3 + x1*x2*x3,\n",
       " x0*x1*x2*x3)"
      ]
     },
     "execution_count": 6,
     "metadata": {},
     "output_type": "execute_result"
    }
   ],
   "source": [
    "e1 = sum([ xi             for (xi,           ) in combinations(xs,1)])\n",
    "e2 = sum([ xi*xj          for (xi,xj         ) in combinations(xs,2)])\n",
    "e3 = sum([ xi*xj*xk       for (xi,xj,xk      ) in combinations(xs,3)])\n",
    "e4 = sum([ xi*xj*xk*xl    for (xi,xj,xk,xl   ) in combinations(xs,4)])\n",
    "\n",
    "e1, e2, e3, e4"
   ]
  },
  {
   "cell_type": "code",
   "execution_count": 7,
   "metadata": {},
   "outputs": [],
   "source": [
    "def inner_product(f,g,vrs):\n",
    "    ip = (f.conjugate()*g).expand()*exp(-sum([vi^2 for vi in vrs]))/(2*pi)^len(vrs)\n",
    "    # odd parts will integrate out, so remove them. makes this go quite a bit faster\n",
    "    for vi in vrs:\n",
    "        ip = ((ip+ip(vi=-vi))/2).simplify_full()\n",
    "    for vi in vrs:\n",
    "        ip = integrate(ip,vi,-oo,oo)\n",
    "    return ip"
   ]
  },
  {
   "cell_type": "code",
   "execution_count": 8,
   "metadata": {},
   "outputs": [],
   "source": [
    "com = vector([1,1,1,1])/sqrt(4) # center of mass\n",
    "\n",
    "j1 = vector(QQ,[1,0,0,0])\n",
    "j2 = vector(QQ,[0,1,0,0])\n",
    "j3 = vector(QQ,[0,0,1,0])\n",
    "\n",
    "j1 = j1 - (j1*com)*com/com.norm()^2\n",
    "j2 = j2 - (j2*com)*com/com.norm()^2\n",
    "j3 = j3 - (j3*com)*com/com.norm()^2\n",
    "\n",
    "j2 = j2 - (j2*j1)*j1/j1.norm()^2\n",
    "j3 = j3 - (j3*j1)*j1/j1.norm()^2\n",
    "\n",
    "j3 = j3 - (j3*j2)*j2/j2.norm()^2\n",
    "\n",
    "j1 = j1/j1.norm()\n",
    "j2 = j2/j2.norm()\n",
    "j3 = j3/j3.norm()"
   ]
  },
  {
   "cell_type": "code",
   "execution_count": 9,
   "metadata": {},
   "outputs": [],
   "source": [
    "Pm = matrix([com,j1,j2,j3]).transpose()\n",
    "Pl = matrix([j1,j2,j3]).transpose()\n",
    "\n",
    "Qm = matrix([[0,0,0],\n",
    "             [1,0,0],\n",
    "             [0,1,0],\n",
    "             [0,0,1]])\n",
    "\n",
    "jacobi_projection = (Pl*Qm.transpose()*Pm^-1)"
   ]
  },
  {
   "cell_type": "code",
   "execution_count": 10,
   "metadata": {},
   "outputs": [],
   "source": [
    "threebody_mats = [\n",
    "    # 012\n",
    "    matrix([[1, 1, 1, 1],\n",
    "            [1,-1, 0, 0],\n",
    "            [0, 1,-1, 0]]),\n",
    "    # 013\n",
    "    matrix([[1, 1, 1, 1],\n",
    "            [1,-1, 0, 0],\n",
    "            [0, 1, 0,-1]]),\n",
    "    # 023\n",
    "    matrix([[1, 1, 1, 1],\n",
    "            [1, 0,-1, 0],\n",
    "            [0, 0, 1,-1]]),\n",
    "    # 123\n",
    "    matrix([[1, 1, 1, 1],\n",
    "            [0, 1,-1, 0],\n",
    "            [0, 0, 1,-1]])\n",
    "]\n",
    "\n",
    "\n",
    "def orthogonalize_rows(M):\n",
    "    rows = list(M)\n",
    "    for idx in range(len(rows)):\n",
    "        rows[idx] = (rows[idx]/rows[idx].norm()).simplify_full()\n",
    "        for idx2 in range(idx+1,len(rows)):\n",
    "            rows[idx2] = rows[idx2] - (rows[idx2]*rows[idx])*rows[idx]\n",
    "    return matrix(rows)\n",
    "    \n",
    "# the (4 choose 3) 3-body interations in 4 dimensions\n",
    "tbi4s = [ M.right_kernel().basis_matrix() for M in threebody_mats ]\n",
    "tbi4s = [ orthogonalize_rows(M)[0] for M in tbi4s]\n",
    "\n",
    "# the (4 choose 3) 3-body interations in 3 dimensions\n",
    "tbi3s = [ (M*Pl).right_kernel().basis_matrix() for M in threebody_mats ]\n",
    "tbi3s = [ orthogonalize_rows(M)[0] for M in tbi3s]"
   ]
  },
  {
   "cell_type": "code",
   "execution_count": 11,
   "metadata": {},
   "outputs": [
    {
     "data": {
      "text/plain": [
       "(0,\n",
       " -1/2*y0^2 - 1/2*y1^2 - 1/2*y2^2,\n",
       " 1/18*sqrt(3)*sqrt(2)*y1^3 - 1/6*sqrt(3)*sqrt(2)*y1*y2^2 + 1/9*sqrt(3)*y0^3 - 1/6*sqrt(3)*y0*y1^2 - 1/6*sqrt(3)*y0*y2^2,\n",
       " 1/12*sqrt(2)*y0*y1^3 - 1/4*sqrt(2)*y0*y1*y2^2 - 1/48*y0^4 + 1/8*y0^2*y1^2 + 1/8*y0^2*y2^2)"
      ]
     },
     "execution_count": 11,
     "metadata": {},
     "output_type": "execute_result"
    }
   ],
   "source": [
    "f1 = e1(*(Pm*Qm*vector(ys))).simplify_full().expand()\n",
    "f2 = e2(*(Pm*Qm*vector(ys))).simplify_full().expand()\n",
    "f3 = e3(*(Pm*Qm*vector(ys))).simplify_full().expand()\n",
    "f4 = e4(*(Pm*Qm*vector(ys))).simplify_full().expand()\n",
    "\n",
    "f1, f2, f3, f4"
   ]
  },
  {
   "cell_type": "code",
   "execution_count": 12,
   "metadata": {},
   "outputs": [],
   "source": [
    "def stereographic_proj(v):\n",
    "    \"\"\" Standard Stereographic projection with possible pre-rotation about X, Y and Z axis\"\"\"\n",
    "    w = vector(v)\n",
    "    return (w[0]/(1-w[2]),w[1]/(1-w[2]))\n",
    "\n",
    "def to_iso_spherical_coords(v):\n",
    "    if type(v) == sage.matrix.matrix_symbolic_dense.Matrix_symbolic_dense:\n",
    "        v = vector(v)\n",
    "    x, y, z = list(v)\n",
    "    r = sqrt(x^2+y^2+z^2)\n",
    "    theta = arccos(z/r)\n",
    "    phi = atan2(y,x)\n",
    "    return (r,theta,phi)\n",
    "\n",
    "def to_iso_sphere_coords(v):\n",
    "    r, theta, phi = to_iso_spherical_coords(v)\n",
    "    return (phi, theta) #(theta, phi)"
   ]
  },
  {
   "cell_type": "code",
   "execution_count": 13,
   "metadata": {},
   "outputs": [],
   "source": [
    "def legendre_poly(n):\n",
    "    return diff( (x^2-1)^n, x, n)/(2^n*factorial(n))\n",
    "\n",
    "def assoc_legendre_poly(m,l):\n",
    "    if m >= 0:\n",
    "        return (-1)^m * (1-x^2)^(m/2) *diff(legendre_poly(l),x,m)\n",
    "    else:\n",
    "        return (-1)^m * factorial(l-m) /factorial(l+m) * assoc_legendre_poly(-m,l)\n",
    "\n",
    "def real_sh(m,l):\n",
    "    return r^(l)*cos(m*phi)*assoc_legendre_poly(m,l)(x=cos(theta))\n",
    "\n",
    "def imag_sh(m,l):\n",
    "    return r^(l)*sin(m*phi)*assoc_legendre_poly(m,l)(x=cos(theta))\n",
    "\n",
    "def polar_to_euclid(f):\n",
    "    return ( f(theta=arccos(y2/r)) )(r=sqrt(y0^2+y1^2+y2^2), phi=atan2(y1,y0))\n",
    "\n",
    "def euclid_real(m,l):\n",
    "    return polar_to_euclid(real_sh(m,l)).simplify()\n",
    "\n",
    "def euclid_imag(m,l):\n",
    "    return polar_to_euclid(imag_sh(m,l)).simplify()\n",
    "\n",
    "def euclid_to_sphere(f):\n",
    "    return f(y0=r*sin(theta)*cos(phi),y1=r*sin(theta)*sin(phi),y2=r*cos(theta))\n",
    "\n",
    "def rotation_matrix(theta):\n",
    "    return matrix([[cos(theta), -sin(theta)],\n",
    "                   [sin(theta),  cos(theta)]])"
   ]
  },
  {
   "cell_type": "code",
   "execution_count": 14,
   "metadata": {},
   "outputs": [],
   "source": [
    "def lap(f,vrs):\n",
    "    \"\"\" laplacian \"\"\"\n",
    "    return sum([diff(f,vi,2) for vi in vrs])\n",
    "\n",
    "def grad(f,vrs):\n",
    "    return vector([diff(f,vr) for vr in vrs])\n",
    "\n",
    "def rep_lap(f,k,vrs):\n",
    "    \"\"\" repeated laplacian  \"\"\"\n",
    "    if k <= 0:\n",
    "        return f\n",
    "    elif k == 1:\n",
    "        return lap(f,vrs)\n",
    "    else:\n",
    "        return lap(rep_lap(f,k-1,vrs),vrs)\n",
    "    \n",
    "def semi_factorial(n):\n",
    "    \"\"\" product: n*(n-2)*(n-4)*...*1 \"\"\"\n",
    "    if n <= 1:\n",
    "        return 1\n",
    "    else:\n",
    "        return n*semi_factorial(n-2)\n",
    "    \n",
    "def harmonic_leading_term(f,n,vrs):\n",
    "    \"\"\" as in (1-33), pg 8 of Avery's Hyperspherical Harmonics, Applications in Quantum Theory \"\"\"\n",
    "    r_sq = sum([vi^2 for vi in vrs])\n",
    "    d = len(vrs)\n",
    "    return sum([ ((-1)^k)*semi_factorial(d+2*n-2*k-4) \\\n",
    "                / ( semi_factorial(2*k) * semi_factorial(d+2*n-4) ) \\\n",
    "                * (r_sq^k) * rep_lap(f,k,vrs) for k in range(floor(n/2)+1)])"
   ]
  },
  {
   "cell_type": "code",
   "execution_count": 15,
   "metadata": {},
   "outputs": [
    {
     "data": {
      "text/plain": [
       "x0 + x1 + x2 + x3"
      ]
     },
     "execution_count": 15,
     "metadata": {},
     "output_type": "execute_result"
    }
   ],
   "source": [
    "# a harmonic symmetric function of degree 1 in 4 variables\n",
    "sym_fn_1 = 0\n",
    "ell = 1\n",
    "\n",
    "for vec in [vector([1,1,1,1])]: #jacobi_projection:\n",
    "    sym_fn_1 += (r^ell*gegenbauer(ell,4/2-1,\n",
    "                                  (vec/norm(vec))*(vector(xs)/norm(vector(xs)))))\\\n",
    "    (r=sqrt(sum([xi^2 for xi in xs]))).simplify_full()\n",
    "\n",
    "# check symmetry\n",
    "assert (sym_fn_1(x0=x1,x1=x0)-sym_fn_1).expand() == 0\n",
    "assert (sym_fn_1(x0=x2,x2=x0)-sym_fn_1).expand() == 0\n",
    "assert (sym_fn_1(x0=x3,x3=x0)-sym_fn_1).expand() == 0\n",
    "\n",
    "# is harmonic\n",
    "assert lap(sym_fn_1,xs).simplify_full() == 0\n",
    "\n",
    "sym_fn_1.expand()"
   ]
  },
  {
   "cell_type": "code",
   "execution_count": 16,
   "metadata": {},
   "outputs": [
    {
     "data": {
      "text/plain": [
       "-8/3*x0*x1 - 8/3*x0*x2 - 8/3*x1*x2 - 8/3*x0*x3 - 8/3*x1*x3 - 8/3*x2*x3"
      ]
     },
     "execution_count": 16,
     "metadata": {},
     "output_type": "execute_result"
    }
   ],
   "source": [
    "# a harmonic symmetric function of degree 2 in 4 variables\n",
    "sym_fn_2 = 0\n",
    "ell = 2\n",
    "# when we use (1,1,1,1) for the vector, we get 2*e_2\n",
    "# when we use the jacobi coords, -8/3*e_2\n",
    "for vec in jacobi_projection:\n",
    "    sym_fn_2 += (r^ell*gegenbauer(ell,4/2-1,\n",
    "                                  (vec/norm(vec))*(vector(xs)/norm(vector(xs)))))\\\n",
    "    (r=sqrt(sum([xi^2 for xi in xs]))).simplify_full()\n",
    "\n",
    "# check symmetry\n",
    "assert (sym_fn_2(x0=x1,x1=x0)-sym_fn_2).expand() == 0\n",
    "assert (sym_fn_2(x0=x2,x2=x0)-sym_fn_2).expand() == 0\n",
    "assert (sym_fn_2(x0=x3,x3=x0)-sym_fn_2).expand() == 0\n",
    "\n",
    "# is harmonic\n",
    "assert lap(sym_fn_2,xs).simplify_full() == 0\n",
    "\n",
    "sym_fn_2.expand()"
   ]
  },
  {
   "cell_type": "code",
   "execution_count": 17,
   "metadata": {},
   "outputs": [
    {
     "data": {
      "text/plain": [
       "x0^2 - 2/3*x0*x1 + x1^2 - 2/3*x0*x2 - 2/3*x1*x2 + x2^2 - 2/3*x0*x3 - 2/3*x1*x3 - 2/3*x2*x3 + x3^2"
      ]
     },
     "execution_count": 17,
     "metadata": {},
     "output_type": "execute_result"
    }
   ],
   "source": [
    "(sym_fn_2+sym_fn_1^2).expand()"
   ]
  },
  {
   "cell_type": "code",
   "execution_count": 18,
   "metadata": {},
   "outputs": [
    {
     "data": {
      "text/plain": [
       "4*x0^3 - 4*x0^2*x1 - 4*x0*x1^2 + 4*x1^3 - 4*x0^2*x2 - 4*x1^2*x2 - 4*x0*x2^2 - 4*x1*x2^2 + 4*x2^3 - 4*x0^2*x3 - 4*x1^2*x3 - 4*x2^2*x3 - 4*x0*x3^2 - 4*x1*x3^2 - 4*x2*x3^2 + 4*x3^3"
      ]
     },
     "execution_count": 18,
     "metadata": {},
     "output_type": "execute_result"
    }
   ],
   "source": [
    "# a harmonic symmetric function of degree 3 in 4 variables\n",
    "sym_fn_3A = 0\n",
    "ell = 3\n",
    "for vec in list(identity_matrix(4)):\n",
    "    sym_fn_3A += (r^ell*gegenbauer(ell,4/2-1,\n",
    "                                  (vec/norm(vec))*(vector(xs)/norm(vector(xs)))))\\\n",
    "    (r=sqrt(sum([xi^2 for xi in xs]))).simplify_full()\n",
    "\n",
    "# check symmetry\n",
    "assert (sym_fn_3A(x0=x1,x1=x0)-sym_fn_3A).expand() == 0\n",
    "assert (sym_fn_3A(x0=x2,x2=x0)-sym_fn_3A).expand() == 0\n",
    "assert (sym_fn_3A(x0=x3,x3=x0)-sym_fn_3A).expand() == 0\n",
    "\n",
    "# is harmonic\n",
    "assert lap(sym_fn_3A,xs).simplify_full() == 0\n",
    "\n",
    "sym_fn_3A.expand()"
   ]
  },
  {
   "cell_type": "code",
   "execution_count": 19,
   "metadata": {},
   "outputs": [
    {
     "data": {
      "text/plain": [
       "8/3*sqrt(3)*x0^3 - 8/3*sqrt(3)*x0^2*x1 - 8/3*sqrt(3)*x0*x1^2 + 8/3*sqrt(3)*x1^3 - 8/3*sqrt(3)*x0^2*x2 + 16/3*sqrt(3)*x0*x1*x2 - 8/3*sqrt(3)*x1^2*x2 - 8/3*sqrt(3)*x0*x2^2 - 8/3*sqrt(3)*x1*x2^2 + 8/3*sqrt(3)*x2^3 - 8/3*sqrt(3)*x0^2*x3 + 16/3*sqrt(3)*x0*x1*x3 - 8/3*sqrt(3)*x1^2*x3 + 16/3*sqrt(3)*x0*x2*x3 + 16/3*sqrt(3)*x1*x2*x3 - 8/3*sqrt(3)*x2^2*x3 - 8/3*sqrt(3)*x0*x3^2 - 8/3*sqrt(3)*x1*x3^2 - 8/3*sqrt(3)*x2*x3^2 + 8/3*sqrt(3)*x3^3"
      ]
     },
     "execution_count": 19,
     "metadata": {},
     "output_type": "execute_result"
    }
   ],
   "source": [
    "# a harmonic symmetric function of degree 3 in 4 variables\n",
    "sym_fn_3B = 0\n",
    "ell = 3\n",
    "for vec in jacobi_projection:\n",
    "    sym_fn_3B += (r^ell*gegenbauer(ell,4/2-1,\n",
    "                                  (vec/norm(vec))*(vector(xs)/norm(vector(xs)))))\\\n",
    "    (r=sqrt(sum([xi^2 for xi in xs]))).simplify_full()\n",
    "\n",
    "# check symmetry\n",
    "assert (sym_fn_3B(x0=x1,x1=x0)-sym_fn_3B).expand() == 0\n",
    "assert (sym_fn_3B(x0=x2,x2=x0)-sym_fn_3B).expand() == 0\n",
    "assert (sym_fn_3B(x0=x3,x3=x0)-sym_fn_3B).expand() == 0\n",
    "\n",
    "# is harmonic\n",
    "assert lap(sym_fn_3B,xs).simplify_full() == 0\n",
    "\n",
    "sym_fn_3B.expand()"
   ]
  },
  {
   "cell_type": "code",
   "execution_count": 20,
   "metadata": {},
   "outputs": [
    {
     "data": {
      "text/plain": [
       "-x0^3 + x0^2*x1 + x0*x1^2 - x1^3 + x0^2*x2 + 6*x0*x1*x2 + x1^2*x2 + x0*x2^2 + x1*x2^2 - x2^3 + x0^2*x3 + 6*x0*x1*x3 + x1^2*x3 + 6*x0*x2*x3 + 6*x1*x2*x3 + x2^2*x3 + x0*x3^2 + x1*x3^2 + x2*x3^2 - x3^3"
      ]
     },
     "execution_count": 20,
     "metadata": {},
     "output_type": "execute_result"
    }
   ],
   "source": [
    "# a harmonic symmetric function of degree 3 in 4 variables\n",
    "sym_fn_3C = 0\n",
    "ell = 3\n",
    "for vec in [vector([1,1,1,1])]:\n",
    "    sym_fn_3C += (r^ell*gegenbauer(ell,4/2-1,\n",
    "                                  (vec/norm(vec))*(vector(xs)/norm(vector(xs)))))\\\n",
    "    (r=sqrt(sum([xi^2 for xi in xs]))).simplify_full()\n",
    "\n",
    "# check symmetry\n",
    "assert (sym_fn_3C(x0=x1,x1=x0)-sym_fn_3C).expand() == 0\n",
    "assert (sym_fn_3C(x0=x2,x2=x0)-sym_fn_3C).expand() == 0\n",
    "assert (sym_fn_3C(x0=x3,x3=x0)-sym_fn_3C).expand() == 0\n",
    "\n",
    "# is harmonic\n",
    "assert lap(sym_fn_3C,xs).simplify_full() == 0\n",
    "\n",
    "sym_fn_3C.expand()"
   ]
  },
  {
   "cell_type": "code",
   "execution_count": 21,
   "metadata": {},
   "outputs": [
    {
     "data": {
      "text/plain": [
       "(-4*t^3, 0, 4*t^3)"
      ]
     },
     "execution_count": 21,
     "metadata": {},
     "output_type": "execute_result"
    }
   ],
   "source": [
    "# looks like the jacobi coordinates are the way to go\n",
    "sym_fn_3A(*(t*com)), sym_fn_3B(*(t*com)), sym_fn_3C(*(t*com))"
   ]
  },
  {
   "cell_type": "code",
   "execution_count": 22,
   "metadata": {},
   "outputs": [
    {
     "data": {
      "text/plain": [
       "(-2*x0*x1*x2 - 2*x0*x1*x3 - 2*x0*x2*x3 - 2*x1*x2*x3,\n",
       " 6*x0*x1*x2 + 6*x0*x1*x3 + 6*x0*x2*x3 + 6*x1*x2*x3,\n",
       " 8*x0*x1*x2 + 8*x0*x1*x3 + 8*x0*x2*x3 + 8*x1*x2*x3)"
      ]
     },
     "execution_count": 22,
     "metadata": {},
     "output_type": "execute_result"
    }
   ],
   "source": [
    "# All differ by a multiple of e_3\n",
    "(sym_fn_3A/4-sym_fn_3B/(8/sqrt(3))).expand(), (sym_fn_3A/4-sym_fn_3C/(-1)).expand(), (sym_fn_3B/(8/sqrt(3))-sym_fn_3C/(-1)).expand()"
   ]
  },
  {
   "cell_type": "code",
   "execution_count": 23,
   "metadata": {},
   "outputs": [
    {
     "data": {
      "text/plain": [
       "0"
      ]
     },
     "execution_count": 23,
     "metadata": {},
     "output_type": "execute_result"
    }
   ],
   "source": [
    "# killing the center of mass term in A/C gives a multiple of B\n",
    "((sym_fn_3A + sym_fn_3C)/3).expand() - (sym_fn_3B/(8/sqrt(3))).expand()"
   ]
  },
  {
   "cell_type": "code",
   "execution_count": null,
   "metadata": {},
   "outputs": [],
   "source": []
  },
  {
   "cell_type": "code",
   "execution_count": null,
   "metadata": {},
   "outputs": [],
   "source": []
  },
  {
   "cell_type": "code",
   "execution_count": null,
   "metadata": {},
   "outputs": [],
   "source": []
  },
  {
   "cell_type": "code",
   "execution_count": null,
   "metadata": {},
   "outputs": [],
   "source": []
  },
  {
   "cell_type": "code",
   "execution_count": null,
   "metadata": {},
   "outputs": [],
   "source": []
  },
  {
   "cell_type": "code",
   "execution_count": null,
   "metadata": {},
   "outputs": [],
   "source": []
  },
  {
   "cell_type": "code",
   "execution_count": null,
   "metadata": {},
   "outputs": [],
   "source": []
  },
  {
   "cell_type": "code",
   "execution_count": null,
   "metadata": {},
   "outputs": [],
   "source": []
  },
  {
   "cell_type": "code",
   "execution_count": null,
   "metadata": {},
   "outputs": [],
   "source": []
  },
  {
   "cell_type": "code",
   "execution_count": null,
   "metadata": {},
   "outputs": [],
   "source": []
  },
  {
   "cell_type": "code",
   "execution_count": null,
   "metadata": {},
   "outputs": [],
   "source": []
  },
  {
   "cell_type": "code",
   "execution_count": 24,
   "metadata": {},
   "outputs": [
    {
     "data": {
      "text/plain": [
       "x0^4 - 4/3*x0^3*x1 - 2*x0^2*x1^2 - 4/3*x0*x1^3 + x1^4 - 4/3*x0^3*x2 + 4*x0^2*x1*x2 + 4*x0*x1^2*x2 - 4/3*x1^3*x2 - 2*x0^2*x2^2 + 4*x0*x1*x2^2 - 2*x1^2*x2^2 - 4/3*x0*x2^3 - 4/3*x1*x2^3 + x2^4 - 4/3*x0^3*x3 + 4*x0^2*x1*x3 + 4*x0*x1^2*x3 - 4/3*x1^3*x3 + 4*x0^2*x2*x3 - 24*x0*x1*x2*x3 + 4*x1^2*x2*x3 + 4*x0*x2^2*x3 + 4*x1*x2^2*x3 - 4/3*x2^3*x3 - 2*x0^2*x3^2 + 4*x0*x1*x3^2 - 2*x1^2*x3^2 + 4*x0*x2*x3^2 + 4*x1*x2*x3^2 - 2*x2^2*x3^2 - 4/3*x0*x3^3 - 4/3*x1*x3^3 - 4/3*x2*x3^3 + x3^4"
      ]
     },
     "execution_count": 24,
     "metadata": {},
     "output_type": "execute_result"
    }
   ],
   "source": [
    "# a harmonic symmetric function of degree 4 in 4 variables\n",
    "sym_fn_4 = 0\n",
    "ell = 4\n",
    "for vec in jacobi_projection:\n",
    "    sym_fn_4 += (r^ell*gegenbauer(ell,4/2-1,\n",
    "                                  (vec/norm(vec))*(vector(xs)/norm(vector(xs)))))\\\n",
    "    (r=sqrt(sum([xi^2 for xi in xs]))).simplify_full()\n",
    "\n",
    "\n",
    "sym_fn_4 -= (r^ell*gegenbauer(ell,4/2-1,\n",
    "                              (vector([1,1,1,1])/2)*(vector(xs)/norm(vector(xs)))))\\\n",
    "    (r=sqrt(sum([xi^2 for xi in xs]))).simplify_full()/5*4\n",
    "\n",
    "sym_fn_4 *= 15/32\n",
    "    \n",
    "# check symmetry\n",
    "assert (sym_fn_4(x0=x1,x1=x0)-sym_fn_4).expand() == 0\n",
    "assert (sym_fn_4(x0=x2,x2=x0)-sym_fn_4).expand() == 0\n",
    "assert (sym_fn_4(x0=x3,x3=x0)-sym_fn_4).expand() == 0\n",
    "\n",
    "# is harmonic\n",
    "assert lap(sym_fn_4,xs).simplify_full() == 0\n",
    "\n",
    "sym_fn_4 = sym_fn_4.expand()\n",
    "\n",
    "sym_fn_4"
   ]
  },
  {
   "cell_type": "code",
   "execution_count": 25,
   "metadata": {},
   "outputs": [
    {
     "data": {
      "text/plain": [
       "0"
      ]
     },
     "execution_count": 25,
     "metadata": {},
     "output_type": "execute_result"
    }
   ],
   "source": [
    "sym_fn_4(*(t*com))"
   ]
  },
  {
   "cell_type": "code",
   "execution_count": null,
   "metadata": {},
   "outputs": [],
   "source": []
  },
  {
   "cell_type": "code",
   "execution_count": 70,
   "metadata": {},
   "outputs": [
    {
     "name": "stdout",
     "output_type": "stream",
     "text": [
      "0 \t 1 \t 1\n",
      "1 \t 1 \t 1\n",
      "2 \t 2 \t 2\n",
      "3 \t 2 \t 3\n",
      "4 \t 3 \t 5\n",
      "5 \t 3 \t 6\n",
      "6 \t 4 \t 9\n",
      "7 \t 5 \t 11\n",
      "8 \t 6 \t 15\n",
      "9 \t 7 \t 18\n",
      "10 \t 8 \t 23\n",
      "11 \t 9 \t 27\n",
      "12 \t 11 \t 34\n"
     ]
    }
   ],
   "source": [
    "def num_partitions(n,coins):\n",
    "    counts = [0]*(n+1)\n",
    "    vec_coins = vector(coins)\n",
    "    for v in itertools.product(range(n+1),repeat=len(coins)):\n",
    "        value = vector(v) * vec_coins\n",
    "        if value <= n:\n",
    "            counts[value] += 1\n",
    "    return counts\n",
    "\n",
    "partitions = num_partitions(12,coins=[1,2,3,4])\n",
    "\n",
    "harmonic_count = [ partitions[n] - partitions[n-2] if n>2 else partitions[n] for n in range(len(partitions))]\n",
    "\n",
    "for n, count in enumerate(harmonic_count):\n",
    "    print(n, '\\t', count, '\\t', partitions[n])"
   ]
  },
  {
   "cell_type": "code",
   "execution_count": null,
   "metadata": {},
   "outputs": [],
   "source": []
  },
  {
   "cell_type": "code",
   "execution_count": null,
   "metadata": {},
   "outputs": [],
   "source": []
  },
  {
   "cell_type": "code",
   "execution_count": null,
   "metadata": {},
   "outputs": [],
   "source": []
  },
  {
   "cell_type": "code",
   "execution_count": 26,
   "metadata": {},
   "outputs": [],
   "source": [
    "# a harmonic symmetric function of degree 12 in 4 variables\n",
    "sym_fn_12 = 0\n",
    "ell = 12\n",
    "for vec in jacobi_projection:\n",
    "    sym_fn_12 += (r^ell*gegenbauer(ell,4/2-1,\n",
    "                                  (vec/norm(vec))*(vector(xs)/norm(vector(xs)))))\\\n",
    "    (r=sqrt(sum([xi^2 for xi in xs]))).simplify_full()\n",
    "\n",
    "sym_fn_12 -= (r^ell*gegenbauer(ell,4/2-1,\n",
    "                               (vector([1,1,1,1])/2)*(vector(xs)/norm(vector(xs)))))\\\n",
    "    (r=sqrt(sum([xi^2 for xi in xs]))).simplify_full()/13*4\n",
    "    \n",
    "# check symmetry\n",
    "assert (sym_fn_12(x0=x1,x1=x0)-sym_fn_12).expand() == 0\n",
    "assert (sym_fn_12(x0=x2,x2=x0)-sym_fn_12).expand() == 0\n",
    "assert (sym_fn_12(x0=x3,x3=x0)-sym_fn_12).expand() == 0\n",
    "\n",
    "# is harmonic\n",
    "assert lap(sym_fn_12,xs).simplify_full() == 0"
   ]
  },
  {
   "cell_type": "code",
   "execution_count": 27,
   "metadata": {},
   "outputs": [
    {
     "data": {
      "text/plain": [
       "0"
      ]
     },
     "execution_count": 27,
     "metadata": {},
     "output_type": "execute_result"
    }
   ],
   "source": [
    "sym_fn_12(*(t*com))"
   ]
  },
  {
   "cell_type": "code",
   "execution_count": 43,
   "metadata": {},
   "outputs": [
    {
     "data": {
      "text/plain": [
       "4096/3465*t^12"
      ]
     },
     "execution_count": 43,
     "metadata": {},
     "output_type": "execute_result"
    }
   ],
   "source": []
  },
  {
   "cell_type": "code",
   "execution_count": 49,
   "metadata": {},
   "outputs": [],
   "source": [
    "sym_com_12 = (r^ell*gegenbauer(ell,4/2-1,\n",
    "                               (vector([1,1,1,1])/2)*(vector(xs)/norm(vector(xs)))))\\\n",
    "    (r=sqrt(sum([xi^2 for xi in xs]))).simplify_full()/13*(4096/3465)\n",
    "\n",
    "sym_com_12 /= sym_com_12(*com)"
   ]
  },
  {
   "cell_type": "code",
   "execution_count": 51,
   "metadata": {},
   "outputs": [
    {
     "data": {
      "text/plain": [
       "0"
      ]
     },
     "execution_count": 51,
     "metadata": {},
     "output_type": "execute_result"
    }
   ],
   "source": [
    "harm3_4 = harmonic_leading_term( sym_fn_3B^4, 12, xs ) #harmonic_leading_term( e3^4, 12, xs )\n",
    "\n",
    "harm3_4 -= sym_com_12*harm3_4(*com)\n",
    "\n",
    "harm3_4(*(t*com))"
   ]
  },
  {
   "cell_type": "code",
   "execution_count": 52,
   "metadata": {},
   "outputs": [
    {
     "data": {
      "text/plain": [
       "0"
      ]
     },
     "execution_count": 52,
     "metadata": {},
     "output_type": "execute_result"
    }
   ],
   "source": [
    "harm4_3 = harmonic_leading_term( sym_fn_4^3, 12, xs ) #harmonic_leading_term( e4^3, 12, xs )\n",
    "\n",
    "harm4_3 -= sym_com_12*harm4_3(*com)\n",
    "\n",
    "harm4_3(*(t*com))"
   ]
  },
  {
   "cell_type": "code",
   "execution_count": 62,
   "metadata": {},
   "outputs": [
    {
     "data": {
      "text/plain": [
       "0"
      ]
     },
     "execution_count": 62,
     "metadata": {},
     "output_type": "execute_result"
    }
   ],
   "source": [
    "# degree 12 harmonic functions\n",
    "#harm1_12 = harmonic_leading_term( e1^12, 12, xs )\n",
    "harm1_12 = sym_fn_12\n",
    "harm1_12(*(t*com))"
   ]
  },
  {
   "cell_type": "code",
   "execution_count": 59,
   "metadata": {},
   "outputs": [
    {
     "name": "stdout",
     "output_type": "stream",
     "text": [
      "[                  0    27102208/2302911]\n",
      "[                  0 4447535104/32837805]\n",
      "[                  0       106528/729729]\n",
      "[c0 == -808947/65214688*r3 - 117268992/10189795*r4, c1 == r4, c2 == r3]\n"
     ]
    }
   ],
   "source": [
    "coeffs = var([\"c{}\".format(n) for n in range(3)])\n",
    "\n",
    "print(matrix([[harm1_12(*com), harm1_12(*tbi4s[0])],\n",
    "              [ harm3_4(*com),  harm3_4(*tbi4s[0])],\n",
    "              [ harm4_3(*com),  harm4_3(*tbi4s[0])]]))\n",
    "\n",
    "solns = solve(list(vector(coeffs)*matrix([[harm1_12(*com), harm1_12(*tbi4s[0])],\n",
    "                                         [ harm3_4(*com),  harm3_4(*tbi4s[0])],\n",
    "                                         [ harm4_3(*com),  harm4_3(*tbi4s[0])]])),coeffs)[0]\n",
    "\n",
    "print(solns)\n",
    "\n",
    "free_vr = list(set().union(*[ soln.rhs().variables() for soln in solns ]))[0]\n",
    "\n",
    "coeffs = [soln.rhs()({free_vr: 1}) for soln in solns]\n",
    "\n",
    "wv4d = (harm1_12*coeffs[0] + harm3_4*coeffs[1] + harm4_3*coeffs[2]).expand().simplify_full()\n",
    "\n",
    "#wv4d"
   ]
  },
  {
   "cell_type": "code",
   "execution_count": 60,
   "metadata": {},
   "outputs": [
    {
     "data": {
      "text/plain": [
       "1849473413948/601697204955*sqrt(3)*s^13 + 572497203736/5730449571*sqrt(3)*s^11*t^2 - 1281169462508/2025916515*sqrt(3)*s^9*t^4 + 9217074628624/7428360555*sqrt(3)*s^7*t^6 - 6824784792412/7428360555*sqrt(3)*s^5*t^8 + 13838495320/70746291*sqrt(3)*s^3*t^10 - 9544884/10189795*sqrt(3)*s*t^12 + 8630392180/13371048999*s^12*t + 121971863000/1910149857*s^10*t^3 - 5396901186844/22285081665*s^8*t^5 + 129721447888/495224037*s^6*t^7 + 2823270284/353731455*s^4*t^9 - 16371882344/275124465*s^2*t^11 + 9544884/10189795*t^13 - 30640810075957/61613793787392*sqrt(3)*s^11*t + 84028803914807/20537931262464*sqrt(3)*s^9*t^3 - 6494428296997/3422988543744*sqrt(3)*s^7*t^5 - 1671742189165/1140996181248*sqrt(3)*s^5*t^7 + 1827197545/3292918272*sqrt(3)*s^3*t^9 - 4235311/1043435008*sqrt(3)*s*t^11 - 7799381099225/22405015922688*s^12 + 4239905452471/2161887501312*s^10*t^2 - 55410440090351/9127969449984*s^8*t^4 + 13151772741827/2281992362496*s^6*t^6 - 9195692677/6899447808*s^4*t^8 - 127145123/1149907968*s^2*t^10 + 12705933/4173740032*t^12"
      ]
     },
     "execution_count": 60,
     "metadata": {},
     "output_type": "execute_result"
    }
   ],
   "source": [
    "wv4d(*(t*com + s*tbi4s[0])).expand()"
   ]
  },
  {
   "cell_type": "code",
   "execution_count": null,
   "metadata": {},
   "outputs": [],
   "source": []
  },
  {
   "cell_type": "code",
   "execution_count": null,
   "metadata": {},
   "outputs": [],
   "source": [
    "# symmetry\n",
    "assert wv4d(x0=x1,x1=x0)-wv4d == 0\n",
    "assert wv4d(x0=x2,x2=x0)-wv4d == 0\n",
    "assert wv4d(x0=x3,x3=x0)-wv4d == 0"
   ]
  },
  {
   "cell_type": "code",
   "execution_count": null,
   "metadata": {},
   "outputs": [],
   "source": [
    "# harmonic\n",
    "lap(wv4d,xs).expand()"
   ]
  },
  {
   "cell_type": "code",
   "execution_count": null,
   "metadata": {},
   "outputs": [],
   "source": [
    "# vanishes on three body interations\n",
    "print(wv4d(*com))\n",
    "\n",
    "for v in tbi4s:\n",
    "    print(wv4d(*(t*v)))"
   ]
  },
  {
   "cell_type": "code",
   "execution_count": null,
   "metadata": {},
   "outputs": [],
   "source": [
    "wv3d = (wv4d(*(Pm*Qm*vector(ys)))).simplify_full().expand()\n",
    "\n",
    "wv3d"
   ]
  },
  {
   "cell_type": "code",
   "execution_count": null,
   "metadata": {},
   "outputs": [],
   "source": [
    "for tbi in tbi3s:\n",
    "    print(wv3d(*(t*tbi)))"
   ]
  },
  {
   "cell_type": "code",
   "execution_count": null,
   "metadata": {},
   "outputs": [],
   "source": [
    "wvS2 = euclid_to_sphere(wv3d)(r=1).trig_reduce()"
   ]
  },
  {
   "cell_type": "code",
   "execution_count": null,
   "metadata": {},
   "outputs": [],
   "source": [
    "wvS2 = wvS2 / integrate(integrate(euclid_to_sphere(wv3d^2)(r=1)*sin(theta),(theta,0,pi)), (phi,0,2*pi))"
   ]
  },
  {
   "cell_type": "code",
   "execution_count": null,
   "metadata": {},
   "outputs": [],
   "source": [
    "Pmag = density_plot(abs(wvS2)^2, (phi,-pi,pi), (theta,0,pi), cmap=cm.viridis,\n",
    "                    plot_points=200,aspect_ratio=1,axes=False)\n",
    "\n",
    "Pmag.show(axes_pad=0,aspect_ratio=1)"
   ]
  },
  {
   "cell_type": "code",
   "execution_count": null,
   "metadata": {},
   "outputs": [],
   "source": [
    "P_curves = Graphics()\n",
    "\n",
    "var('t')\n",
    "\n",
    "# the 2-interations\n",
    "for (wi, wj) in [(-tbi3s[0],-tbi3s[1]), (-tbi3s[0],-tbi3s[2]), (-tbi3s[0],tbi3s[3]), (-tbi3s[1],-tbi3s[2]), (-tbi3s[1],tbi3s[3]), (-tbi3s[2],tbi3s[3])]:\n",
    "    three_curve = vector(cos(t)*wi+sin(t)*wj)\n",
    "    three_curve = three_curve/three_curve.norm()\n",
    "    #two_curve = vector(stereographic_proj(three_curve)).simplify()\n",
    "    two_curve = vector(to_iso_sphere_coords(three_curve)).simplify()\n",
    "    if (wi == -tbi3s[0] or wi == -tbi3s[1]) and wj == -tbi3s[2]:\n",
    "        P_curves += parametric_plot(two_curve,\n",
    "                             (t,0,arctan(1/2)-1e-2),\n",
    "                             thickness=2,\n",
    "                             color=rainbow(3)[0])\n",
    "        P_curves += parametric_plot(two_curve,\n",
    "                             (t,arctan(1/2)+1e-2,pi/2),\n",
    "                             thickness=2,\n",
    "                             color=rainbow(3)[0])\n",
    "    else:\n",
    "        P_curves += parametric_plot(two_curve,\n",
    "                             (t,0,pi/2),\n",
    "                             thickness=2,\n",
    "                             color=rainbow(3)[0])\n",
    "        \n",
    "    if not( wi == -tbi3s[0] and wj == -tbi3s[1] ):\n",
    "        P_curves += parametric_plot(two_curve,\n",
    "                             (t,pi/2,pi),\n",
    "                             thickness=2,\n",
    "                             color=rainbow(3)[1])\n",
    "    else:\n",
    "        P_curves += parametric_plot(two_curve,\n",
    "                             (t,pi/2,3*pi/4-1e-2),\n",
    "                             thickness=2,\n",
    "                             color=rainbow(3)[1])\n",
    "        P_curves += parametric_plot(two_curve,\n",
    "                             (t,3*pi/4+1e-2,pi),\n",
    "                             thickness=2,\n",
    "                             color=rainbow(3)[1])\n",
    "        \n",
    "    P_curves += parametric_plot(two_curve,\n",
    "                         (t,pi,3*pi/2),\n",
    "                         thickness=2,\n",
    "                         color=rainbow(3)[2])\n",
    "    if not( wi == -tbi3s[0] and wj == -tbi3s[1] ):\n",
    "        P_curves += parametric_plot(two_curve,\n",
    "                             (t,3*pi/2+1e-3,2*pi-1e-3),\n",
    "                             thickness=2,\n",
    "                             color=rainbow(3)[1])\n",
    "    else:\n",
    "        P_curves += parametric_plot(two_curve,\n",
    "                             (t,3*pi/2, 7*pi/4-1e-4),\n",
    "                             thickness=2,\n",
    "                             color=rainbow(3)[1])\n",
    "        P_curves += parametric_plot(two_curve,\n",
    "                             (t,7*pi/4+1e-4,2*pi),\n",
    "                             thickness=2,\n",
    "                             color=rainbow(3)[1])\n",
    "    \n",
    "\n",
    "for wi in tbi3s:\n",
    "    P_curves += point(to_iso_sphere_coords( wi), size=120, color='black')\n",
    "    P_curves[-1].set_zorder(10)\n",
    "    P_curves += point(to_iso_sphere_coords(-wi), size=120, color='black')\n",
    "    P_curves[-1].set_zorder(10)\n",
    "\n",
    "#P.show(aspect_ratio=1,axes=False, fig_tight=True)"
   ]
  },
  {
   "cell_type": "code",
   "execution_count": null,
   "metadata": {},
   "outputs": [],
   "source": [
    "(P_curves+Pmag).show(axes_pad=0, aspect_ratio=1, figsize=12)"
   ]
  },
  {
   "cell_type": "code",
   "execution_count": null,
   "metadata": {},
   "outputs": [],
   "source": []
  },
  {
   "cell_type": "code",
   "execution_count": null,
   "metadata": {},
   "outputs": [],
   "source": []
  }
 ],
 "metadata": {
  "kernelspec": {
   "display_name": "SageMath 8.7",
   "language": "",
   "name": "sagemath"
  },
  "language_info": {
   "codemirror_mode": {
    "name": "ipython",
    "version": 2
   },
   "file_extension": ".py",
   "mimetype": "text/x-python",
   "name": "python",
   "nbconvert_exporter": "python",
   "pygments_lexer": "ipython2",
   "version": "2.7.15"
  }
 },
 "nbformat": 4,
 "nbformat_minor": 2
}
